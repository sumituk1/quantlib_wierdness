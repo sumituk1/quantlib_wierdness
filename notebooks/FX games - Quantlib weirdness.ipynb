{
 "cells": [
  {
   "cell_type": "code",
   "execution_count": 1,
   "metadata": {
    "collapsed": true
   },
   "outputs": [],
   "source": [
    "# require at least Python 3.5 for async/await to work\n",
    "import sys\n",
    "ver=sys.version_info\n",
    "assert (ver[0]>=3 and ver[1]>=5)\n",
    "sys.path.append('../../quant_container/src')\n",
    "sys.path.append('../../quant-container/src')\n",
    "sys.path.append('../src')\n",
    "%load_ext autoreload\n",
    "%autoreload 2\n",
    "from mosaicsmartdata.core.fx import FXPricingContextGenerator\n",
    "from mosaicsmartdata.common import qc_csv_helper\n",
    "from mosaicsmartdata.core.quote import Quote\n",
    "import csv, copy\n",
    "import pickle, cloudpickle"
   ]
  },
  {
   "cell_type": "code",
   "execution_count": 166,
   "metadata": {
    "collapsed": true,
    "scrolled": true
   },
   "outputs": [],
   "source": [
    "try:\n",
    "    with open('data.pickle', 'rb') as f:\n",
    "        # Pickle the 'data' dictionary using the highest protocol available.\n",
    "        quote_dict = pickle.load(f)\n",
    "except:\n",
    "#if True:\n",
    "    file_path ='../resources/fx/'\n",
    "    filenames = ['OIS-N156898469.csv','EUR_JPY_GBP_till_SN.csv','EUR_JPY_GBP_from_SW_till_1Y.csv']\n",
    "    quote_dict_0 = qc_csv_helper.get_ric_quotes(file_path+filenames[0])\n",
    "    print(len(quote_dict_0), quote_dict_0.keys())\n",
    "    quote_dict_1 = qc_csv_helper.get_ric_quotes(file_path+filenames[1])\n",
    "    print(len(quote_dict_1), quote_dict_1.keys())\n",
    "    quote_dict_2 = qc_csv_helper.get_ric_quotes(file_path+filenames[2])\n",
    "    print(len(quote_dict_2), quote_dict_2.keys())\n",
    "    quote_dict = dict(quote_dict_0,**quote_dict_1)\n",
    "    quote_dict = dict(quote_dict,**quote_dict_2)\n",
    "    with open('data.pickle', 'wb') as f:\n",
    "        pickle.dump(quote_dict, f)"
   ]
  },
  {
   "cell_type": "code",
   "execution_count": 2,
   "metadata": {
    "collapsed": true
   },
   "outputs": [],
   "source": [
    "from aiostreams import run\n",
    "import aiostreams.operators as op\n",
    "from mosaicsmartdata.core.markout import MarkoutCalculator\n",
    "import logging"
   ]
  },
  {
   "cell_type": "code",
   "execution_count": 170,
   "metadata": {},
   "outputs": [
    {
     "name": "stdout",
     "output_type": "stream",
     "text": [
      "[('JPY=', 111.24000000000001, ('USD', 'JPY'), 'SPOT'), ('GBP=', 1.2744499999999999, ('GBP', 'USD'), 'SPOT'), ('EUR1M=', 19.21, ('EUR', 'USD'), '1M'), ('USD6MOIS=', 1.185, 'USD', '6M'), ('EURSN=', 0.546, ('EUR', 'USD'), 'SN'), ('EUR1Y=', 231.8, ('EUR', 'USD'), '1Y'), ('EUR6M=', 111.515, ('EUR', 'USD'), '6M'), ('GBP3M=', 36.41, ('GBP', 'USD'), '3M'), ('JPY1M=', -16.13, ('USD', 'JPY'), '1M'), ('GBPSW=', 4.62, ('GBP', 'USD'), 'SW'), ('GBP1M=', 13.84, ('GBP', 'USD'), '1M'), ('USD3MOIS=', 1.158, 'USD', '3M'), ('USDSWOIS=', 1.1225, 'USD', 'SW'), ('GBPTN=', 0.405, ('GBP', 'USD'), 'TN'), ('USD1MOIS=', 1.151, 'USD', '1M'), ('USD1YOIS=', 1.2505, 'USD', '1Y'), ('EUR=', 1.11995, ('EUR', 'USD'), 'SPOT'), ('JPY3M=', -45.32, ('USD', 'JPY'), '3M'), ('GBPON=', 0.392, ('GBP', 'USD'), 'ON'), ('JPYON=', -0.4695, ('USD', 'JPY'), 'ON'), ('JPY6M=', -92.8, ('USD', 'JPY'), '6M'), ('GBP6M=', 70.87, ('GBP', 'USD'), '6M'), ('EURON=', 0.54, ('EUR', 'USD'), 'ON'), ('JPYSN=', -0.4495, ('USD', 'JPY'), 'SN'), ('JPY1Y=', -200.78, ('USD', 'JPY'), '1Y'), ('GBP1Y=', 143.12, ('GBP', 'USD'), '1Y'), ('EURSW=', 5.9399999999999995, ('EUR', 'USD'), 'SW'), ('EURTN=', 0.5449999999999999, ('EUR', 'USD'), 'TN'), ('JPYSW=', -5.48, ('USD', 'JPY'), 'SW'), ('JPYTN=', -0.44999999999999996, ('USD', 'JPY'), 'TN'), ('GBPSN=', 0.40700000000000003, ('GBP', 'USD'), 'SN'), ('EUR3M=', 55.269999999999996, ('EUR', 'USD'), '3M')]\n"
     ]
    }
   ],
   "source": [
    "# extract just the first quote from every stream\n",
    "tiny_quote_dict = {key:[quotes[0]] for key, quotes in quote_dict.items()}\n",
    "print([(key,quotes[0].mid, quotes[0].instrument.ccy, quotes[0].instrument.tenor) for key, quotes in tiny_quote_dict.items()])\n",
    "with open('../resources/fx/data.pickle', 'wb') as f:\n",
    "    pickle.dump(tiny_quote_dict, f)\n"
   ]
  },
  {
   "cell_type": "code",
   "execution_count": null,
   "metadata": {
    "collapsed": true
   },
   "outputs": [],
   "source": [
    "# import datetime\n",
    "# a = datetime.date(2107,1,1)\n",
    "# b = datetime.date(2107,1,2)\n",
    "# from mosaicsmartdata.common.quantlib.bond.fixed_bond import pydate_to_qldate\n",
    "# pydate_to_qldate(b)< pydate_to_qldate(a)\n"
   ]
  },
  {
   "cell_type": "code",
   "execution_count": 135,
   "metadata": {
    "scrolled": true
   },
   "outputs": [],
   "source": [
    "from datetime import timedelta\n",
    "from random import shuffle\n",
    "\n",
    "with open('../resources/fx/data.pickle', 'rb') as f:\n",
    "        tiny_quote_dict = pickle.load(f)\n",
    "\n",
    "# that one quote happens to have the wrong date\n",
    "tiny_quote_dict['USDSWOIS='][0].timestamp -= timedelta(days=1)\n",
    "tiny_quote_dict['USDSWOIS='][0].instrument.spot_settle_date -= timedelta(days=1)\n",
    "tiny_quote_dict['USDSWOIS='][0].instrument.maturity_date -= timedelta(days=1)\n",
    "\n",
    "tiny_quotes_list =[quotes for key, quotes in tiny_quote_dict.items()]\n",
    "#print(tiny_quotes_list)\n",
    "gbpsn = [q[0] for q in tiny_quotes_list if q[0].sym == 'GBPSN='][0]\n",
    "tiny_quotes_list += [[gbpsn]]\n",
    "#pc.extra\n",
    "#print([q[0].sym for q in tiny_quotes_list])"
   ]
  },
  {
   "cell_type": "code",
   "execution_count": 178,
   "metadata": {
    "scrolled": true
   },
   "outputs": [
    {
     "name": "stdout",
     "output_type": "stream",
     "text": [
      "GBPSN= 0.40700000000000003 0.35467990074 0.0523200992597 2017-06-26 2017-06-28 2017-06-29\n",
      "GBPON= 0.392 0.398493440044 0.00649344004361 2017-06-26 2017-06-26 2017-06-27\n",
      "JPYON= -0.4695 -0.45975891168 0.00974108832016 2017-06-26 2017-06-26 2017-06-27\n",
      "EURON= 0.54 0.542486475568 0.00248647556765 2017-06-26 2017-06-26 2017-06-27\n",
      "GBPSN= 0.40700000000000003 0.35467990074 0.0523200992597 2017-06-26 2017-06-28 2017-06-29\n"
     ]
    }
   ],
   "source": [
    "#print(tiny_quotes_list)\n",
    "my_quotes = [q[0] for q in tiny_quotes_list]\n",
    "\n",
    "#shuffle(my_quotes)\n",
    "\n",
    "#[print(q[0].instrument.sym, q[0].timestamp.date()) for q in tiny_quotes_list]\n",
    "# stream = op.merge_sorted(tiny_quotes_list, lambda x: x.timestamp) |\\\n",
    "#             op.flat_map(FXPricingContextGenerator()) > []\n",
    "\n",
    "stream = my_quotes |  op.flat_map(FXPricingContextGenerator()) > []\n",
    "    \n",
    "run(stream)\n",
    "pc = stream.sink[-1]\n",
    "    \n",
    "for quote in tiny_quotes_list:\n",
    "    #if 'OIS' not in sym: #and 'TN' not in sym:\n",
    "            mid = quote[0].mid\n",
    "            instr = quote[0].instrument\n",
    "            est = instr.price(pc)\n",
    "            if abs(mid-est) > 1e-6:\n",
    "                print(quote[0].sym, mid, est, abs(mid-est), \n",
    "                      quote[0].timestamp.date(), \n",
    "                      instr.settle_date, \n",
    "                      instr.maturity_date)"
   ]
  },
  {
   "cell_type": "code",
   "execution_count": 188,
   "metadata": {},
   "outputs": [
    {
     "name": "stdout",
     "output_type": "stream",
     "text": [
      "['GBPON=', 'GBPTN=', 'GBPSN=']\n",
      "0.797 (1.2743696506560092, 1.2744499999999999, 0.99993695371023528, 1.0)\n",
      "[(datetime.date(2017, 6, 26), datetime.date(2017, 6, 28), -0.01125697249402657, 'ONTN', 1.0000625406916654)]\n",
      "GBPON=\n",
      "((1.2744095000000135, 1.2744499999999999, 0.99996822158579279, 1.0), (1.2743696506560092, 1.2744499999999999, 0.99993695371023528, 1.0))\n",
      "GBPTN=\n",
      "(1.2744095000000135, 1.2744499999999999, 0.99996822158579279, 1.0)\n",
      "GBPSN=\n",
      "1.1163659523685254 0.996903786651\n",
      "(1.2744854679900739, 1.2744499999999999, 0.99693153052002792, 0.99690378665121415)\n"
     ]
    }
   ],
   "source": [
    "from mosaicsmartdata.core.curve_utils import construct_OIS_curve, discounting_factor, get_rate\n",
    "import datetime\n",
    "\n",
    "syms = ['GBPON=', 'GBPTN=', 'GBPSN=']\n",
    "min_quotes = []\n",
    "for sym in syms:\n",
    "    min_quotes.append([q[0] for q in tiny_quotes_list if q[0].sym == sym][0])\n",
    "print([q.sym for q in min_quotes])\n",
    "    \n",
    "ontn = min_quotes[0].mid + min_quotes[1].mid\n",
    "print(ontn,pc.fair_fwd_points_extended(instr.ccy, min_quotes[0].instrument.settle_date, min_quotes[1].instrument.maturity_date) )\n",
    "curvedata = pc.curve['GBP'].source_data\n",
    "print([q for q in curvedata if q[3] == 'ONTN'])\n",
    "\n",
    "for q in min_quotes:\n",
    "    #print(q)\n",
    "    instr =q.instrument \n",
    "    a1 = instr.settle_date\n",
    "    a2 = instr.maturity_date\n",
    "\n",
    "    my_curve = pc.curve['USD']\n",
    "    print(instr.sym)\n",
    "    # both these commands run fine\n",
    "    if q.sym == 'GBPSN=':\n",
    "        print(get_rate(my_curve, a1, a2), discounting_factor(my_curve, a1, a2))\n",
    "    print(pc.fair_fwd_points_extended(instr.ccy, a1, a2))\n",
    "\n",
    "# # I'm constructing another curve, nothing to do with ours! \n",
    "# ois_curve = construct_OIS_curve(my_curve.source_data)\n",
    "# # and the very same command now returns a different value, 1.1178 instead of 1.1163!\n",
    "# print(get_rate(my_curve, a1, a2), discounting_factor(my_curve, a1, a2))\n",
    "# # and this command now throws an error!\n",
    "# print(pc.fair_fwd_points_extended(instr.ccy, a1, a2))\n"
   ]
  },
  {
   "cell_type": "code",
   "execution_count": 146,
   "metadata": {},
   "outputs": [
    {
     "name": "stdout",
     "output_type": "stream",
     "text": [
      "[(datetime.date(2017, 6, 28), datetime.date(2017, 7, 5), 1.1225, 'SW'), (datetime.date(2017, 6, 28), datetime.date(2017, 7, 28), 1.151, '1M'), (datetime.date(2017, 6, 28), datetime.date(2017, 9, 28), 1.158, '3M'), (datetime.date(2017, 6, 28), datetime.date(2017, 12, 28), 1.185, '6M'), (datetime.date(2017, 6, 28), datetime.date(2018, 6, 28), 1.2505, '1Y')]\n",
      "1.1178438188697015\n",
      "1.1178438188697015 0.996899694185\n"
     ]
    },
    {
     "ename": "RuntimeError",
     "evalue": "more than one instrument with pillar June 29th, 2017",
     "output_type": "error",
     "traceback": [
      "\u001b[1;31m---------------------------------------------------------------------------\u001b[0m",
      "\u001b[1;31mRuntimeError\u001b[0m                              Traceback (most recent call last)",
      "\u001b[1;32m<ipython-input-146-0000634960dc>\u001b[0m in \u001b[0;36m<module>\u001b[1;34m()\u001b[0m\n\u001b[0;32m     15\u001b[0m \u001b[1;31m#other_curve = pc.curve['USD']\u001b[0m\u001b[1;33m\u001b[0m\u001b[1;33m\u001b[0m\u001b[0m\n\u001b[0;32m     16\u001b[0m \u001b[0mprint\u001b[0m\u001b[1;33m(\u001b[0m\u001b[0mget_rate\u001b[0m\u001b[1;33m(\u001b[0m\u001b[0mother_curve\u001b[0m\u001b[1;33m,\u001b[0m \u001b[0ma1\u001b[0m\u001b[1;33m,\u001b[0m \u001b[0mb\u001b[0m\u001b[1;33m)\u001b[0m\u001b[1;33m,\u001b[0m \u001b[0mdiscounting_factor\u001b[0m\u001b[1;33m(\u001b[0m\u001b[0mother_curve\u001b[0m\u001b[1;33m,\u001b[0m \u001b[0ma1\u001b[0m\u001b[1;33m,\u001b[0m \u001b[0mb\u001b[0m\u001b[1;33m)\u001b[0m\u001b[1;33m)\u001b[0m\u001b[1;33m\u001b[0m\u001b[0m\n\u001b[1;32m---> 17\u001b[1;33m \u001b[0mprint\u001b[0m\u001b[1;33m(\u001b[0m\u001b[0mpc\u001b[0m\u001b[1;33m.\u001b[0m\u001b[0mfair_fwd_points_extended\u001b[0m\u001b[1;33m(\u001b[0m\u001b[0minstr\u001b[0m\u001b[1;33m.\u001b[0m\u001b[0mccy\u001b[0m\u001b[1;33m,\u001b[0m \u001b[0minstr\u001b[0m\u001b[1;33m.\u001b[0m\u001b[0msettle_date\u001b[0m\u001b[1;33m,\u001b[0m \u001b[0minstr\u001b[0m\u001b[1;33m.\u001b[0m\u001b[0mmaturity_date\u001b[0m\u001b[1;33m)\u001b[0m\u001b[1;33m)\u001b[0m\u001b[1;33m\u001b[0m\u001b[0m\n\u001b[0m",
      "\u001b[1;32mC:\\Users\\egork\\Dropbox\\GitHub\\Mosaic\\msq-domain\\src\\mosaicsmartdata\\core\\instrument.py\u001b[0m in \u001b[0;36mfair_fwd_points_extended\u001b[1;34m(self, ccypair, start_date, end_date)\u001b[0m\n\u001b[0;32m     62\u001b[0m \u001b[1;33m\u001b[0m\u001b[0m\n\u001b[0;32m     63\u001b[0m     \u001b[1;32mdef\u001b[0m \u001b[0mfair_fwd_points_extended\u001b[0m\u001b[1;33m(\u001b[0m\u001b[0mself\u001b[0m\u001b[1;33m,\u001b[0m \u001b[0mccypair\u001b[0m\u001b[1;33m,\u001b[0m \u001b[0mstart_date\u001b[0m\u001b[1;33m,\u001b[0m \u001b[0mend_date\u001b[0m\u001b[1;33m)\u001b[0m\u001b[1;33m:\u001b[0m\u001b[1;33m\u001b[0m\u001b[0m\n\u001b[1;32m---> 64\u001b[1;33m         \u001b[0mbundle1\u001b[0m \u001b[1;33m=\u001b[0m \u001b[0mself\u001b[0m\u001b[1;33m.\u001b[0m\u001b[0mfair_forward_extended\u001b[0m\u001b[1;33m(\u001b[0m\u001b[0mccypair\u001b[0m\u001b[1;33m,\u001b[0m \u001b[0mend_date\u001b[0m\u001b[1;33m)\u001b[0m\u001b[1;33m\u001b[0m\u001b[0m\n\u001b[0m\u001b[0;32m     65\u001b[0m         \u001b[0mbundle2\u001b[0m \u001b[1;33m=\u001b[0m \u001b[0mself\u001b[0m\u001b[1;33m.\u001b[0m\u001b[0mfair_forward_extended\u001b[0m\u001b[1;33m(\u001b[0m\u001b[0mccypair\u001b[0m\u001b[1;33m,\u001b[0m \u001b[0mstart_date\u001b[0m\u001b[1;33m)\u001b[0m\u001b[1;33m\u001b[0m\u001b[0m\n\u001b[0;32m     66\u001b[0m         \u001b[1;32mif\u001b[0m \u001b[0mbundle2\u001b[0m\u001b[1;33m[\u001b[0m\u001b[1;36m2\u001b[0m\u001b[1;33m]\u001b[0m\u001b[1;33m==\u001b[0m\u001b[0mbundle2\u001b[0m\u001b[1;33m[\u001b[0m\u001b[1;36m3\u001b[0m\u001b[1;33m]\u001b[0m\u001b[1;33m:\u001b[0m\u001b[1;33m\u001b[0m\u001b[0m\n",
      "\u001b[1;32mC:\\Users\\egork\\Dropbox\\GitHub\\Mosaic\\msq-domain\\src\\mosaicsmartdata\\core\\instrument.py\u001b[0m in \u001b[0;36mfair_forward_extended\u001b[1;34m(self, ccypair, date)\u001b[0m\n\u001b[0;32m     47\u001b[0m                                 \u001b[0mspot_date\u001b[0m\u001b[1;33m,\u001b[0m\u001b[1;33m\u001b[0m\u001b[0m\n\u001b[0;32m     48\u001b[0m                                 \u001b[0mdate\u001b[0m\u001b[1;33m,\u001b[0m\u001b[1;33m\u001b[0m\u001b[0m\n\u001b[1;32m---> 49\u001b[1;33m                                 \u001b[0mone_pre_spot\u001b[0m \u001b[1;33m=\u001b[0m \u001b[1;32mTrue\u001b[0m \u001b[1;32mif\u001b[0m \u001b[0mccypair\u001b[0m\u001b[1;33m[\u001b[0m\u001b[1;36m0\u001b[0m\u001b[1;33m]\u001b[0m\u001b[1;33m==\u001b[0m\u001b[1;34m'USD'\u001b[0m \u001b[1;32melse\u001b[0m \u001b[1;32mFalse\u001b[0m\u001b[1;33m\u001b[0m\u001b[0m\n\u001b[0m\u001b[0;32m     50\u001b[0m                                 )\n\u001b[0;32m     51\u001b[0m         d2 = discounting_factor(self.curve[ccypair[1]],\n",
      "\u001b[1;32mC:\\Users\\egork\\Dropbox\\GitHub\\Mosaic\\msq-domain\\src\\mosaicsmartdata\\core\\curve_utils.py\u001b[0m in \u001b[0;36mdiscounting_factor\u001b[1;34m(ois_curve, date_1, date_2, one_pre_spot)\u001b[0m\n\u001b[0;32m    196\u001b[0m         \u001b[1;32mpass\u001b[0m\u001b[1;33m\u001b[0m\u001b[0m\n\u001b[0;32m    197\u001b[0m     \u001b[1;31m#print(valuation_date,end_date)\u001b[0m\u001b[1;33m\u001b[0m\u001b[1;33m\u001b[0m\u001b[0m\n\u001b[1;32m--> 198\u001b[1;33m     \u001b[0mdr\u001b[0m \u001b[1;33m=\u001b[0m \u001b[0mget_rate\u001b[0m\u001b[1;33m(\u001b[0m\u001b[0mois_curve\u001b[0m\u001b[1;33m,\u001b[0m \u001b[0mvaluation_date\u001b[0m\u001b[1;33m,\u001b[0m \u001b[0mend_date\u001b[0m\u001b[1;33m)\u001b[0m\u001b[1;33m\u001b[0m\u001b[0m\n\u001b[0m\u001b[0;32m    199\u001b[0m     \u001b[1;31m#print('*** success!!! ***')\u001b[0m\u001b[1;33m\u001b[0m\u001b[1;33m\u001b[0m\u001b[0m\n\u001b[0;32m    200\u001b[0m     \u001b[0mdf\u001b[0m \u001b[1;33m=\u001b[0m  \u001b[0mnp\u001b[0m\u001b[1;33m.\u001b[0m\u001b[0mexp\u001b[0m\u001b[1;33m(\u001b[0m\u001b[1;33m-\u001b[0m \u001b[0mdr\u001b[0m \u001b[1;33m*\u001b[0m \u001b[0mdt\u001b[0m\u001b[1;33m)\u001b[0m\u001b[1;33m\u001b[0m\u001b[0m\n",
      "\u001b[1;32mC:\\Users\\egork\\Dropbox\\GitHub\\Mosaic\\msq-domain\\src\\mosaicsmartdata\\core\\curve_utils.py\u001b[0m in \u001b[0;36mget_rate\u001b[1;34m(ois_curve, start_date, end_date, daycount)\u001b[0m\n\u001b[0;32m    161\u001b[0m     return ois_curve.ois_curve_c.forwardRate(pydate_to_qldate(start_date),\n\u001b[0;32m    162\u001b[0m                          \u001b[0mpydate_to_qldate\u001b[0m\u001b[1;33m(\u001b[0m\u001b[0mend_date\u001b[0m\u001b[1;33m)\u001b[0m\u001b[1;33m,\u001b[0m\u001b[1;33m\u001b[0m\u001b[0m\n\u001b[1;32m--> 163\u001b[1;33m                          daycount, Simple).rate()*100\n\u001b[0m\u001b[0;32m    164\u001b[0m \u001b[1;33m\u001b[0m\u001b[0m\n\u001b[0;32m    165\u001b[0m \u001b[1;32mdef\u001b[0m \u001b[0mdiscounting_factor\u001b[0m\u001b[1;33m(\u001b[0m\u001b[0mois_curve\u001b[0m\u001b[1;33m,\u001b[0m \u001b[0mdate_1\u001b[0m\u001b[1;33m,\u001b[0m \u001b[0mdate_2\u001b[0m \u001b[1;33m=\u001b[0m \u001b[1;32mNone\u001b[0m\u001b[1;33m,\u001b[0m \u001b[0mone_pre_spot\u001b[0m \u001b[1;33m=\u001b[0m \u001b[1;32mFalse\u001b[0m\u001b[1;33m)\u001b[0m\u001b[1;33m:\u001b[0m\u001b[1;33m\u001b[0m\u001b[0m\n",
      "\u001b[1;32mC:\\Users\\egork\\Anaconda3\\envs\\py35\\lib\\site-packages\\QuantLib\\QuantLib.py\u001b[0m in \u001b[0;36mforwardRate\u001b[1;34m(self, *args)\u001b[0m\n\u001b[0;32m   5476\u001b[0m \u001b[1;33m\u001b[0m\u001b[0m\n\u001b[0;32m   5477\u001b[0m     \u001b[1;32mdef\u001b[0m \u001b[0mforwardRate\u001b[0m\u001b[1;33m(\u001b[0m\u001b[0mself\u001b[0m\u001b[1;33m,\u001b[0m \u001b[1;33m*\u001b[0m\u001b[0margs\u001b[0m\u001b[1;33m)\u001b[0m\u001b[1;33m:\u001b[0m\u001b[1;33m\u001b[0m\u001b[0m\n\u001b[1;32m-> 5478\u001b[1;33m         \u001b[1;32mreturn\u001b[0m \u001b[0m_QuantLib\u001b[0m\u001b[1;33m.\u001b[0m\u001b[0mYieldTermStructure_forwardRate\u001b[0m\u001b[1;33m(\u001b[0m\u001b[0mself\u001b[0m\u001b[1;33m,\u001b[0m \u001b[1;33m*\u001b[0m\u001b[0margs\u001b[0m\u001b[1;33m)\u001b[0m\u001b[1;33m\u001b[0m\u001b[0m\n\u001b[0m\u001b[0;32m   5479\u001b[0m \u001b[1;33m\u001b[0m\u001b[0m\n\u001b[0;32m   5480\u001b[0m     \u001b[1;32mdef\u001b[0m \u001b[0menableExtrapolation\u001b[0m\u001b[1;33m(\u001b[0m\u001b[0mself\u001b[0m\u001b[1;33m)\u001b[0m\u001b[1;33m:\u001b[0m\u001b[1;33m\u001b[0m\u001b[0m\n",
      "\u001b[1;31mRuntimeError\u001b[0m: more than one instrument with pillar June 29th, 2017"
     ]
    }
   ],
   "source": [
    "with open('OIS_curve.pickle', 'rb') as f:\n",
    "        OIS_df = pickle.load(f)\n",
    "print(OIS_df)\n",
    "        \n",
    "ois_curve = construct_OIS_curve(OIS_df)\n",
    "\n",
    "print(get_rate(other_curve, a1, b), discounting_factor(other_curve, a1, b))\n",
    "print(pc.fair_fwd_points_extended(instr.ccy, instr.settle_date, instr.maturity_date))\n"
   ]
  },
  {
   "cell_type": "code",
   "execution_count": null,
   "metadata": {
    "collapsed": true
   },
   "outputs": [],
   "source": [
    "from mosaicsmartdata.core.curve_utils import construct_OIS_curve, discounting_factor\n",
    "import datetime\n",
    "\n",
    "with open('EUR_curve.pickle', 'rb') as f:\n",
    "        EUR_df = pickle.load(f)\n",
    "print(EUR_df)\n",
    "        \n",
    "eur_curve =  construct_OIS_curve(EUR_df)\n",
    "a1 = datetime.date(2017, 6, 26)\n",
    "a2 = datetime.date(2017, 6, 27)\n",
    "b = datetime.date(2017, 6, 28)\n",
    "df1 = discounting_factor(eur_curve, a1, b)\n",
    "df2 = discounting_factor(eur_curve, a2, b)\n",
    "print(df1, df2)"
   ]
  },
  {
   "cell_type": "code",
   "execution_count": 66,
   "metadata": {},
   "outputs": [
    {
     "name": "stdout",
     "output_type": "stream",
     "text": [
      "19.21 1M EUR1M=\n",
      "0.546 SN EURSN=\n",
      "231.8 1Y EUR1Y=\n",
      "111.515 6M EUR6M=\n",
      "0.54 ON EURON=\n",
      "1.11995 SPOT EUR=\n",
      "0.5449999999999999 TN EURTN=\n",
      "5.9399999999999995 SW EURSW=\n",
      "55.269999999999996 3M EUR3M=\n",
      "{datetime.date(2017, 7, 5): (0.7843678622524536, 'SW'), datetime.date(2017, 12, 28): (0.780313014762742, '6M'), datetime.date(2017, 9, 28): (0.7824169014569385, '3M'), datetime.date(2017, 6, 26): (0.7847012756025467, 'ONTN'), datetime.date(2017, 7, 28): (0.7838010274063868, '1M'), datetime.date(2017, 6, 27): (0.7846771387062009, 'TN'), datetime.date(2017, 6, 29): (0.7846271455727375, 'SN'), datetime.date(2018, 6, 28): (0.7759384587689582, '1Y')}\n"
     ]
    }
   ],
   "source": [
    "pc.extra['EUR']\n",
    "for sym, quote in tiny_quote_dict.items():\n",
    "    if 'EUR' in sym:\n",
    "        print(quote[0].mid, quote[0].instrument.tenor, quote[0].instrument.sym)\n",
    "print(pc.extra['GBP'])"
   ]
  },
  {
   "cell_type": "code",
   "execution_count": null,
   "metadata": {
    "collapsed": true
   },
   "outputs": [],
   "source": []
  }
 ],
 "metadata": {
  "anaconda-cloud": {},
  "kernelspec": {
   "display_name": "Python [conda env:py35]",
   "language": "python",
   "name": "conda-env-py35-py"
  },
  "language_info": {
   "codemirror_mode": {
    "name": "ipython",
    "version": 3
   },
   "file_extension": ".py",
   "mimetype": "text/x-python",
   "name": "python",
   "nbconvert_exporter": "python",
   "pygments_lexer": "ipython3",
   "version": "3.5.3"
  }
 },
 "nbformat": 4,
 "nbformat_minor": 1
}
