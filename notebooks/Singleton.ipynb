{
 "cells": [
  {
   "cell_type": "code",
   "execution_count": 18,
   "metadata": {
    "collapsed": false
   },
   "outputs": [
    {
     "name": "stdout",
     "output_type": "stream",
     "text": [
      "{'test': 1}\n",
      "{'test_2': 2, 'test': 1}\n"
     ]
    }
   ],
   "source": [
    "class Borg:\n",
    "    _shared = {}\n",
    "    def __init__(self):\n",
    "        self.__dict__ = self._shared\n",
    "\n",
    "class Singleton(Borg):\n",
    "    def __init__(self):\n",
    "        # this line plus the inheritance makes the magic happen\n",
    "        # any class using that pattern will be a singleton\n",
    "        super().__init__() \n",
    "        \n",
    "    def __call__(*args, **kwargs):\n",
    "        if 'data' not in self.__dict__:\n",
    "            pass # load data if not already loaded\n",
    "        \n",
    "        # now do whatever you need to and return result\n",
    "        return None\n",
    "   \n",
    "    def __str__(self): # just for the illustration below, could be anything else\n",
    "        return str(self.__dict__)\n",
    "    \n",
    "a = Singleton()\n",
    "a.test = 1\n",
    "\n",
    "b= Singleton()\n",
    "print(b)\n",
    "b.test_2 = 2\n",
    "\n",
    "c = Singleton()\n",
    "print(c)"
   ]
  }
 ],
 "metadata": {
  "anaconda-cloud": {},
  "kernelspec": {
   "display_name": "Python 3",
   "language": "python",
   "name": "python3"
  },
  "language_info": {
   "codemirror_mode": {
    "name": "ipython",
    "version": 3
   },
   "file_extension": ".py",
   "mimetype": "text/x-python",
   "name": "python",
   "nbconvert_exporter": "python",
   "pygments_lexer": "ipython3",
   "version": "3.5.1"
  }
 },
 "nbformat": 4,
 "nbformat_minor": 1
}
