{
 "cells": [
  {
   "cell_type": "code",
   "execution_count": 1,
   "metadata": {
    "collapsed": false
   },
   "outputs": [],
   "source": [
    "# require at least Python 3.5 for async/await to work\n",
    "import sys\n",
    "ver=sys.version_info\n",
    "assert (ver[0]>=3 and ver[1]>=5)\n",
    "sys.path.append('../../quant_container')\n",
    "sys.path.append('..')\n",
    "from aiostreams import run\n",
    "from mosaicsmartdata.common import qc_csv_helper\n",
    "from mosaicsmartdata.core.markout import GovtBondMarkoutCalculator\n",
    "from mosaicsmartdata.core.markout_basket_builder import *\n",
    "from mosaicsmartdata.core.hedger import *\n"
   ]
  },
  {
   "cell_type": "code",
   "execution_count": 2,
   "metadata": {
    "collapsed": false
   },
   "outputs": [
    {
     "name": "stdout",
     "output_type": "stream",
     "text": [
      "Automatic pdb calling has been turned ON\n"
     ]
    }
   ],
   "source": [
    "%pdb\n",
    "quotes_dict = dict()\n",
    "datapath = \"../resources/hedged_markout_tests/\"\n",
    "quote_files = [\"912828T91_quotes.csv\", \"US30YT_RR_quotes.csv\", \"US10YT_RR_quotes.csv\", \"US5YT_RR_quotes.csv\"]\n",
    "trade_files = \"trades_hedge_test.csv\"\n",
    "\n",
    "for x in quote_files:\n",
    "    sym, quote = qc_csv_helper.file_to_quote_list(datapath + x, MarkoutMode.Hedged)\n",
    "    quotes_dict[sym] = quote\n",
    "\n",
    "trades_list = qc_csv_helper.file_to_trade_list(datapath + trade_files)"
   ]
  },
  {
   "cell_type": "code",
   "execution_count": null,
   "metadata": {
    "collapsed": true
   },
   "outputs": [],
   "source": []
  }
 ],
 "metadata": {
  "anaconda-cloud": {},
  "kernelspec": {
   "display_name": "Python [default]",
   "language": "python",
   "name": "python3"
  },
  "language_info": {
   "codemirror_mode": {
    "name": "ipython",
    "version": 3
   },
   "file_extension": ".py",
   "mimetype": "text/x-python",
   "name": "python",
   "nbconvert_exporter": "python",
   "pygments_lexer": "ipython3",
   "version": "3.5.2"
  }
 },
 "nbformat": 4,
 "nbformat_minor": 0
}
