{
 "cells": [
  {
   "cell_type": "markdown",
   "metadata": {},
   "source": []
  },
  {
   "cell_type": "code",
   "execution_count": 1,
   "metadata": {
    "scrolled": true
   },
   "outputs": [
    {
     "name": "stdout",
     "output_type": "stream",
     "text": [
      "kafka:9092\n"
     ]
    }
   ],
   "source": [
    "# require at least Python 3.5 for async/await to work\n",
    "import sys\n",
    "ver=sys.version_info\n",
    "assert (ver[0]>=3 and ver[1]>=5)\n",
    "sys.path.append('../src')\n",
    "sys.path.append('../../msq-domain/src')\n",
    "sys.path.append('../../quant_container/src')\n",
    "\n",
    "import aiostreams.operators as op\n",
    "from aiostreams.config import QCConfigProvider\n",
    "# this is where AsyncKafkaSource, AsyncKafkaPublisher get the Kafka broker location\n",
    "QCConfigProvider().kafka_broker = 'kafka:9092'\n",
    "\n",
    "print(QCConfigProvider().kafka_broker)"
   ]
  },
  {
   "cell_type": "code",
   "execution_count": 2,
   "metadata": {
    "scrolled": true
   },
   "outputs": [
    {
     "data": {
      "text/plain": [
       "'test'"
      ]
     },
     "execution_count": 2,
     "metadata": {},
     "output_type": "execute_result"
    }
   ],
   "source": [
    "# try writing just one record to Kafka using the basic kafka library, \n",
    "# and reading back from it, to make sure Kafka is up, \n",
    "from kafka import KafkaProducer, KafkaConsumer\n",
    "import pickle\n",
    "\n",
    "topic='test_topic_2'\n",
    "kafka_host = QCConfigProvider().kafka_broker\n",
    "\n",
    "kprod=KafkaProducer(bootstrap_servers=kafka_host)\n",
    "kprod.send(topic,pickle.dumps('test'))\n",
    "\n",
    "consumer = KafkaConsumer(topic,bootstrap_servers=kafka_host,auto_offset_reset='earliest',\n",
    "                         group_id=None, value_deserializer=lambda x: pickle.loads(x))\n",
    "next(consumer).value"
   ]
  },
  {
   "cell_type": "code",
   "execution_count": 3,
   "metadata": {},
   "outputs": [
    {
     "name": "stdout",
     "output_type": "stream",
     "text": [
      "(<mosaicsmartdata.core.trade.FixedIncomeBondTrade object at 0x000002244DDCE898>, [<mosaicsmartdata.core.quote.Quote object at 0x000002244DE54D30>, <mosaicsmartdata.core.quote.Quote object at 0x000002244DE54DD8>, <mosaicsmartdata.core.quote.Quote object at 0x000002244DDCE160>, <mosaicsmartdata.core.quote.Quote object at 0x000002244DDCE940>, <mosaicsmartdata.core.quote.Quote object at 0x000002244DDCE7F0>, <mosaicsmartdata.core.quote.Quote object at 0x000002244DDD7F98>, <mosaicsmartdata.core.quote.Quote object at 0x000002244DDD7748>, <mosaicsmartdata.core.quote.Quote object at 0x000002244DDF3400>, <mosaicsmartdata.core.quote.Quote object at 0x000002244DE3D978>, <mosaicsmartdata.core.quote.Quote object at 0x000002244DE3D9B0>, <mosaicsmartdata.core.quote.Quote object at 0x000002244DE3D9E8>])\n"
     ]
    }
   ],
   "source": [
    "# let's check QC is actually getting data\n",
    "from aiostreams import AsyncKafkaSource, run\n",
    "import aiostreams.operators as op\n",
    "from mosaicsmartdata.common.json_convertor import *\n",
    "import json\n",
    "\n",
    "input_graph = AsyncKafkaSource('bond-trades-topic', \\\n",
    "                               value_deserializer =  lambda x: x.decode('utf-8'))| \\\n",
    "                                op.map(lambda x: json_to_domain(x.value, historical = True) )>[]#\n",
    "                               #op.map(lambda x: print(x.value) > print# #op.map(lambda x: json.loads(x.value) ) > []                            \n",
    "    # #op.map(lambda x: json.loads(x.value) ) > []\n",
    "                           #\n",
    "                            #\n",
    "                #\n",
    "                \n",
    "run(input_graph)\n",
    "print(input_graph.sink[0])\n",
    "\n",
    "# json_to_domain(input_graph.sink[0].value)"
   ]
  },
  {
   "cell_type": "code",
   "execution_count": 4,
   "metadata": {},
   "outputs": [
    {
     "name": "stdout",
     "output_type": "stream",
     "text": [
      "{\"negotiationId\": \"2\", \"legMarkout\": [{\"markoutPeriod\": {\"timeUnit\": \"SECONDS\", \"value\": \"-900\"}, \"evaluatedPricingSource\": \"INTERNAL\", \"markoutPrice\": [{\"value\": -840.2320000000003, \"priceType\": \"UNHEDGED_SPREAD_PRICE\"}, {\"value\": -94.08786343020628, \"priceType\": \"UNHEDGED_INITIAL_EDGE\"}]}], \"instrumentId\": \"912796KN8\", \"cashflowDirection\": \"+\", \"dateLocalDate\": \"2017-09-21\", \"venueName\": \"TRADEWEBUST_ASIA\"}\n",
      "{\"negotiationId\": \"2\", \"legMarkout\": [{\"markoutPeriod\": {\"timeUnit\": \"SECONDS\", \"value\": \"-60\"}, \"evaluatedPricingSource\": \"INTERNAL\", \"markoutPrice\": [{\"value\": -841.7950000000005, \"priceType\": \"UNHEDGED_SPREAD_PRICE\"}, {\"value\": -94.26288572231302, \"priceType\": \"UNHEDGED_INITIAL_EDGE\"}]}], \"instrumentId\": \"912796KN8\", \"cashflowDirection\": \"+\", \"dateLocalDate\": \"2017-09-21\", \"venueName\": \"TRADEWEBUST_ASIA\"}\n",
      "{\"negotiationId\": \"2\", \"legMarkout\": [{\"markoutPeriod\": {\"timeUnit\": \"SECONDS\", \"value\": \"0\"}, \"evaluatedPricingSource\": \"INTERNAL\", \"markoutPrice\": [{\"value\": -837.1070000000003, \"priceType\": \"UNHEDGED_SPREAD_PRICE\"}, {\"value\": -93.7379308244267, \"priceType\": \"UNHEDGED_INITIAL_EDGE\"}]}], \"instrumentId\": \"912796KN8\", \"cashflowDirection\": \"+\", \"dateLocalDate\": \"2017-09-21\", \"venueName\": \"TRADEWEBUST_ASIA\"}\n",
      "{\"negotiationId\": \"2\", \"legMarkout\": [{\"markoutPeriod\": {\"timeUnit\": \"SECONDS\", \"value\": \"60\"}, \"evaluatedPricingSource\": \"INTERNAL\", \"markoutPrice\": [{\"value\": -137.1070000000003, \"priceType\": \"UNHEDGED_SPREAD_PRICE\"}, {\"value\": -15.353027129799052, \"priceType\": \"UNHEDGED_INITIAL_EDGE\"}]}], \"instrumentId\": \"912796KN8\", \"cashflowDirection\": \"+\", \"dateLocalDate\": \"2017-09-21\", \"venueName\": \"TRADEWEBUST_ASIA\"}\n",
      "{\"negotiationId\": \"2\", \"legMarkout\": [{\"markoutPeriod\": {\"timeUnit\": \"SECONDS\", \"value\": \"300\"}, \"evaluatedPricingSource\": \"INTERNAL\", \"markoutPrice\": [{\"value\": -841.7900000000003, \"priceType\": \"UNHEDGED_SPREAD_PRICE\"}, {\"value\": -94.26232583014375, \"priceType\": \"UNHEDGED_INITIAL_EDGE\"}]}], \"instrumentId\": \"912796KN8\", \"cashflowDirection\": \"+\", \"dateLocalDate\": \"2017-09-21\", \"venueName\": \"TRADEWEBUST_ASIA\"}\n",
      "{\"negotiationId\": \"2\", \"legMarkout\": [{\"markoutPeriod\": {\"timeUnit\": \"SECONDS\", \"value\": \"3600\"}, \"evaluatedPricingSource\": \"INTERNAL\", \"markoutPrice\": [{\"value\": -838.6700000000005, \"priceType\": \"UNHEDGED_SPREAD_PRICE\"}, {\"value\": -93.91295311653343, \"priceType\": \"UNHEDGED_INITIAL_EDGE\"}]}], \"instrumentId\": \"912796KN8\", \"cashflowDirection\": \"+\", \"dateLocalDate\": \"2017-09-21\", \"venueName\": \"TRADEWEBUST_ASIA\"}\n",
      "{\"negotiationId\": \"2\", \"legMarkout\": [{\"markoutPeriod\": {\"timeUnit\": \"SECONDS\", \"value\": \"-900\"}, \"evaluatedPricingSource\": \"INTERNAL\", \"markoutPrice\": [{\"value\": -840.2320000000003, \"priceType\": \"UNHEDGED_SPREAD_PRICE\"}, {\"value\": -94.08786343020628, \"priceType\": \"UNHEDGED_INITIAL_EDGE\"}]}], \"instrumentId\": \"912796KN8\", \"cashflowDirection\": \"+\", \"dateLocalDate\": \"2017-09-21\", \"venueName\": \"TRADEWEBUST_ASIA\"}\n",
      "{\"negotiationId\": \"2\", \"legMarkout\": [{\"markoutPeriod\": {\"timeUnit\": \"SECONDS\", \"value\": \"-60\"}, \"evaluatedPricingSource\": \"INTERNAL\", \"markoutPrice\": [{\"value\": -841.7950000000005, \"priceType\": \"UNHEDGED_SPREAD_PRICE\"}, {\"value\": -94.26288572231302, \"priceType\": \"UNHEDGED_INITIAL_EDGE\"}]}], \"instrumentId\": \"912796KN8\", \"cashflowDirection\": \"+\", \"dateLocalDate\": \"2017-09-21\", \"venueName\": \"TRADEWEBUST_ASIA\"}\n",
      "{\"negotiationId\": \"2\", \"legMarkout\": [{\"markoutPeriod\": {\"timeUnit\": \"SECONDS\", \"value\": \"0\"}, \"evaluatedPricingSource\": \"INTERNAL\", \"markoutPrice\": [{\"value\": -837.1070000000003, \"priceType\": \"UNHEDGED_SPREAD_PRICE\"}, {\"value\": -93.7379308244267, \"priceType\": \"UNHEDGED_INITIAL_EDGE\"}]}], \"instrumentId\": \"912796KN8\", \"cashflowDirection\": \"+\", \"dateLocalDate\": \"2017-09-21\", \"venueName\": \"TRADEWEBUST_ASIA\"}\n",
      "{\"negotiationId\": \"2\", \"legMarkout\": [{\"markoutPeriod\": {\"timeUnit\": \"SECONDS\", \"value\": \"60\"}, \"evaluatedPricingSource\": \"INTERNAL\", \"markoutPrice\": [{\"value\": -137.1070000000003, \"priceType\": \"UNHEDGED_SPREAD_PRICE\"}, {\"value\": -15.353027129799052, \"priceType\": \"UNHEDGED_INITIAL_EDGE\"}]}], \"instrumentId\": \"912796KN8\", \"cashflowDirection\": \"+\", \"dateLocalDate\": \"2017-09-21\", \"venueName\": \"TRADEWEBUST_ASIA\"}\n",
      "{\"negotiationId\": \"2\", \"legMarkout\": [{\"markoutPeriod\": {\"timeUnit\": \"SECONDS\", \"value\": \"300\"}, \"evaluatedPricingSource\": \"INTERNAL\", \"markoutPrice\": [{\"value\": -841.7900000000003, \"priceType\": \"UNHEDGED_SPREAD_PRICE\"}, {\"value\": -94.26232583014375, \"priceType\": \"UNHEDGED_INITIAL_EDGE\"}]}], \"instrumentId\": \"912796KN8\", \"cashflowDirection\": \"+\", \"dateLocalDate\": \"2017-09-21\", \"venueName\": \"TRADEWEBUST_ASIA\"}\n",
      "{\"negotiationId\": \"2\", \"legMarkout\": [{\"markoutPeriod\": {\"timeUnit\": \"SECONDS\", \"value\": \"3600\"}, \"evaluatedPricingSource\": \"INTERNAL\", \"markoutPrice\": [{\"value\": -838.6700000000005, \"priceType\": \"UNHEDGED_SPREAD_PRICE\"}, {\"value\": -93.91295311653343, \"priceType\": \"UNHEDGED_INITIAL_EDGE\"}]}], \"instrumentId\": \"912796KN8\", \"cashflowDirection\": \"+\", \"dateLocalDate\": \"2017-09-21\", \"venueName\": \"TRADEWEBUST_ASIA\"}\n",
      "{\"negotiationId\": \"2\", \"legMarkout\": [{\"markoutPeriod\": {\"timeUnit\": \"SECONDS\", \"value\": \"-900\"}, \"evaluatedPricingSource\": \"INTERNAL\", \"markoutPrice\": [{\"value\": -840.2320000000003, \"priceType\": \"UNHEDGED_SPREAD_PRICE\"}, {\"value\": -94.08786343020628, \"priceType\": \"UNHEDGED_INITIAL_EDGE\"}]}], \"instrumentId\": \"912796KN8\", \"cashflowDirection\": \"+\", \"dateLocalDate\": \"2017-09-21\", \"venueName\": \"TRADEWEBUST_ASIA\"}\n",
      "{\"negotiationId\": \"2\", \"legMarkout\": [{\"markoutPeriod\": {\"timeUnit\": \"SECONDS\", \"value\": \"-60\"}, \"evaluatedPricingSource\": \"INTERNAL\", \"markoutPrice\": [{\"value\": -841.7950000000005, \"priceType\": \"UNHEDGED_SPREAD_PRICE\"}, {\"value\": -94.26288572231302, \"priceType\": \"UNHEDGED_INITIAL_EDGE\"}]}], \"instrumentId\": \"912796KN8\", \"cashflowDirection\": \"+\", \"dateLocalDate\": \"2017-09-21\", \"venueName\": \"TRADEWEBUST_ASIA\"}\n",
      "{\"negotiationId\": \"2\", \"legMarkout\": [{\"markoutPeriod\": {\"timeUnit\": \"SECONDS\", \"value\": \"0\"}, \"evaluatedPricingSource\": \"INTERNAL\", \"markoutPrice\": [{\"value\": -837.1070000000003, \"priceType\": \"UNHEDGED_SPREAD_PRICE\"}, {\"value\": -93.7379308244267, \"priceType\": \"UNHEDGED_INITIAL_EDGE\"}]}], \"instrumentId\": \"912796KN8\", \"cashflowDirection\": \"+\", \"dateLocalDate\": \"2017-09-21\", \"venueName\": \"TRADEWEBUST_ASIA\"}\n",
      "{\"negotiationId\": \"2\", \"legMarkout\": [{\"markoutPeriod\": {\"timeUnit\": \"SECONDS\", \"value\": \"60\"}, \"evaluatedPricingSource\": \"INTERNAL\", \"markoutPrice\": [{\"value\": -137.1070000000003, \"priceType\": \"UNHEDGED_SPREAD_PRICE\"}, {\"value\": -15.353027129799052, \"priceType\": \"UNHEDGED_INITIAL_EDGE\"}]}], \"instrumentId\": \"912796KN8\", \"cashflowDirection\": \"+\", \"dateLocalDate\": \"2017-09-21\", \"venueName\": \"TRADEWEBUST_ASIA\"}\n",
      "{\"negotiationId\": \"2\", \"legMarkout\": [{\"markoutPeriod\": {\"timeUnit\": \"SECONDS\", \"value\": \"300\"}, \"evaluatedPricingSource\": \"INTERNAL\", \"markoutPrice\": [{\"value\": -841.7900000000003, \"priceType\": \"UNHEDGED_SPREAD_PRICE\"}, {\"value\": -94.26232583014375, \"priceType\": \"UNHEDGED_INITIAL_EDGE\"}]}], \"instrumentId\": \"912796KN8\", \"cashflowDirection\": \"+\", \"dateLocalDate\": \"2017-09-21\", \"venueName\": \"TRADEWEBUST_ASIA\"}\n",
      "{\"negotiationId\": \"2\", \"legMarkout\": [{\"markoutPeriod\": {\"timeUnit\": \"SECONDS\", \"value\": \"3600\"}, \"evaluatedPricingSource\": \"INTERNAL\", \"markoutPrice\": [{\"value\": -838.6700000000005, \"priceType\": \"UNHEDGED_SPREAD_PRICE\"}, {\"value\": -93.91295311653343, \"priceType\": \"UNHEDGED_INITIAL_EDGE\"}]}], \"instrumentId\": \"912796KN8\", \"cashflowDirection\": \"+\", \"dateLocalDate\": \"2017-09-21\", \"venueName\": \"TRADEWEBUST_ASIA\"}\n",
      "{\"negotiationId\": \"2\", \"legMarkout\": [{\"markoutPeriod\": {\"timeUnit\": \"SECONDS\", \"value\": \"-900\"}, \"evaluatedPricingSource\": \"INTERNAL\", \"markoutPrice\": [{\"value\": -840.2320000000003, \"priceType\": \"UNHEDGED_SPREAD_PRICE\"}, {\"value\": -94.08786343020628, \"priceType\": \"UNHEDGED_INITIAL_EDGE\"}]}], \"instrumentId\": \"912796KN8\", \"cashflowDirection\": \"+\", \"dateLocalDate\": \"2017-09-21\", \"venueName\": \"TRADEWEBUST_ASIA\"}\n",
      "{\"negotiationId\": \"2\", \"legMarkout\": [{\"markoutPeriod\": {\"timeUnit\": \"SECONDS\", \"value\": \"-60\"}, \"evaluatedPricingSource\": \"INTERNAL\", \"markoutPrice\": [{\"value\": -841.7950000000005, \"priceType\": \"UNHEDGED_SPREAD_PRICE\"}, {\"value\": -94.26288572231302, \"priceType\": \"UNHEDGED_INITIAL_EDGE\"}]}], \"instrumentId\": \"912796KN8\", \"cashflowDirection\": \"+\", \"dateLocalDate\": \"2017-09-21\", \"venueName\": \"TRADEWEBUST_ASIA\"}\n",
      "{\"negotiationId\": \"2\", \"legMarkout\": [{\"markoutPeriod\": {\"timeUnit\": \"SECONDS\", \"value\": \"0\"}, \"evaluatedPricingSource\": \"INTERNAL\", \"markoutPrice\": [{\"value\": -837.1070000000003, \"priceType\": \"UNHEDGED_SPREAD_PRICE\"}, {\"value\": -93.7379308244267, \"priceType\": \"UNHEDGED_INITIAL_EDGE\"}]}], \"instrumentId\": \"912796KN8\", \"cashflowDirection\": \"+\", \"dateLocalDate\": \"2017-09-21\", \"venueName\": \"TRADEWEBUST_ASIA\"}\n",
      "{\"negotiationId\": \"2\", \"legMarkout\": [{\"markoutPeriod\": {\"timeUnit\": \"SECONDS\", \"value\": \"60\"}, \"evaluatedPricingSource\": \"INTERNAL\", \"markoutPrice\": [{\"value\": -137.1070000000003, \"priceType\": \"UNHEDGED_SPREAD_PRICE\"}, {\"value\": -15.353027129799052, \"priceType\": \"UNHEDGED_INITIAL_EDGE\"}]}], \"instrumentId\": \"912796KN8\", \"cashflowDirection\": \"+\", \"dateLocalDate\": \"2017-09-21\", \"venueName\": \"TRADEWEBUST_ASIA\"}\n",
      "{\"negotiationId\": \"2\", \"legMarkout\": [{\"markoutPeriod\": {\"timeUnit\": \"SECONDS\", \"value\": \"300\"}, \"evaluatedPricingSource\": \"INTERNAL\", \"markoutPrice\": [{\"value\": -841.7900000000003, \"priceType\": \"UNHEDGED_SPREAD_PRICE\"}, {\"value\": -94.26232583014375, \"priceType\": \"UNHEDGED_INITIAL_EDGE\"}]}], \"instrumentId\": \"912796KN8\", \"cashflowDirection\": \"+\", \"dateLocalDate\": \"2017-09-21\", \"venueName\": \"TRADEWEBUST_ASIA\"}\n",
      "{\"negotiationId\": \"2\", \"legMarkout\": [{\"markoutPeriod\": {\"timeUnit\": \"SECONDS\", \"value\": \"3600\"}, \"evaluatedPricingSource\": \"INTERNAL\", \"markoutPrice\": [{\"value\": -838.6700000000005, \"priceType\": \"UNHEDGED_SPREAD_PRICE\"}, {\"value\": -93.91295311653343, \"priceType\": \"UNHEDGED_INITIAL_EDGE\"}]}], \"instrumentId\": \"912796KN8\", \"cashflowDirection\": \"+\", \"dateLocalDate\": \"2017-09-21\", \"venueName\": \"TRADEWEBUST_ASIA\"}\n",
      "{\"negotiationId\": \"2\", \"legMarkout\": [{\"markoutPeriod\": {\"timeUnit\": \"SECONDS\", \"value\": \"-900\"}, \"evaluatedPricingSource\": \"INTERNAL\", \"markoutPrice\": [{\"value\": -840.2320000000003, \"priceType\": \"UNHEDGED_SPREAD_PRICE\"}, {\"value\": -94.08786343020628, \"priceType\": \"UNHEDGED_INITIAL_EDGE\"}]}], \"instrumentId\": \"912796KN8\", \"cashflowDirection\": \"+\", \"dateLocalDate\": \"2017-09-21\", \"venueName\": \"TRADEWEBUST_ASIA\"}\n",
      "{\"negotiationId\": \"2\", \"legMarkout\": [{\"markoutPeriod\": {\"timeUnit\": \"SECONDS\", \"value\": \"-60\"}, \"evaluatedPricingSource\": \"INTERNAL\", \"markoutPrice\": [{\"value\": -841.7950000000005, \"priceType\": \"UNHEDGED_SPREAD_PRICE\"}, {\"value\": -94.26288572231302, \"priceType\": \"UNHEDGED_INITIAL_EDGE\"}]}], \"instrumentId\": \"912796KN8\", \"cashflowDirection\": \"+\", \"dateLocalDate\": \"2017-09-21\", \"venueName\": \"TRADEWEBUST_ASIA\"}\n",
      "{\"negotiationId\": \"2\", \"legMarkout\": [{\"markoutPeriod\": {\"timeUnit\": \"SECONDS\", \"value\": \"0\"}, \"evaluatedPricingSource\": \"INTERNAL\", \"markoutPrice\": [{\"value\": -837.1070000000003, \"priceType\": \"UNHEDGED_SPREAD_PRICE\"}, {\"value\": -93.7379308244267, \"priceType\": \"UNHEDGED_INITIAL_EDGE\"}]}], \"instrumentId\": \"912796KN8\", \"cashflowDirection\": \"+\", \"dateLocalDate\": \"2017-09-21\", \"venueName\": \"TRADEWEBUST_ASIA\"}\n",
      "{\"negotiationId\": \"2\", \"legMarkout\": [{\"markoutPeriod\": {\"timeUnit\": \"SECONDS\", \"value\": \"60\"}, \"evaluatedPricingSource\": \"INTERNAL\", \"markoutPrice\": [{\"value\": -137.1070000000003, \"priceType\": \"UNHEDGED_SPREAD_PRICE\"}, {\"value\": -15.353027129799052, \"priceType\": \"UNHEDGED_INITIAL_EDGE\"}]}], \"instrumentId\": \"912796KN8\", \"cashflowDirection\": \"+\", \"dateLocalDate\": \"2017-09-21\", \"venueName\": \"TRADEWEBUST_ASIA\"}\n",
      "{\"negotiationId\": \"2\", \"legMarkout\": [{\"markoutPeriod\": {\"timeUnit\": \"SECONDS\", \"value\": \"300\"}, \"evaluatedPricingSource\": \"INTERNAL\", \"markoutPrice\": [{\"value\": -841.7900000000003, \"priceType\": \"UNHEDGED_SPREAD_PRICE\"}, {\"value\": -94.26232583014375, \"priceType\": \"UNHEDGED_INITIAL_EDGE\"}]}], \"instrumentId\": \"912796KN8\", \"cashflowDirection\": \"+\", \"dateLocalDate\": \"2017-09-21\", \"venueName\": \"TRADEWEBUST_ASIA\"}\n",
      "{\"negotiationId\": \"2\", \"legMarkout\": [{\"markoutPeriod\": {\"timeUnit\": \"SECONDS\", \"value\": \"3600\"}, \"evaluatedPricingSource\": \"INTERNAL\", \"markoutPrice\": [{\"value\": -838.6700000000005, \"priceType\": \"UNHEDGED_SPREAD_PRICE\"}, {\"value\": -93.91295311653343, \"priceType\": \"UNHEDGED_INITIAL_EDGE\"}]}], \"instrumentId\": \"912796KN8\", \"cashflowDirection\": \"+\", \"dateLocalDate\": \"2017-09-21\", \"venueName\": \"TRADEWEBUST_ASIA\"}\n",
      "{\"negotiationId\": \"2\", \"legMarkout\": [{\"markoutPeriod\": {\"timeUnit\": \"SECONDS\", \"value\": \"-900\"}, \"evaluatedPricingSource\": \"INTERNAL\", \"markoutPrice\": [{\"value\": -840.2320000000003, \"priceType\": \"UNHEDGED_SPREAD_PRICE\"}, {\"value\": -94.08786343020628, \"priceType\": \"UNHEDGED_INITIAL_EDGE\"}]}], \"instrumentId\": \"912796KN8\", \"cashflowDirection\": \"+\", \"dateLocalDate\": \"2017-09-21\", \"venueName\": \"TRADEWEBUST_ASIA\"}\n",
      "{\"negotiationId\": \"2\", \"legMarkout\": [{\"markoutPeriod\": {\"timeUnit\": \"SECONDS\", \"value\": \"-60\"}, \"evaluatedPricingSource\": \"INTERNAL\", \"markoutPrice\": [{\"value\": -841.7950000000005, \"priceType\": \"UNHEDGED_SPREAD_PRICE\"}, {\"value\": -94.26288572231302, \"priceType\": \"UNHEDGED_INITIAL_EDGE\"}]}], \"instrumentId\": \"912796KN8\", \"cashflowDirection\": \"+\", \"dateLocalDate\": \"2017-09-21\", \"venueName\": \"TRADEWEBUST_ASIA\"}\n",
      "{\"negotiationId\": \"2\", \"legMarkout\": [{\"markoutPeriod\": {\"timeUnit\": \"SECONDS\", \"value\": \"0\"}, \"evaluatedPricingSource\": \"INTERNAL\", \"markoutPrice\": [{\"value\": -837.1070000000003, \"priceType\": \"UNHEDGED_SPREAD_PRICE\"}, {\"value\": -93.7379308244267, \"priceType\": \"UNHEDGED_INITIAL_EDGE\"}]}], \"instrumentId\": \"912796KN8\", \"cashflowDirection\": \"+\", \"dateLocalDate\": \"2017-09-21\", \"venueName\": \"TRADEWEBUST_ASIA\"}\n",
      "{\"negotiationId\": \"2\", \"legMarkout\": [{\"markoutPeriod\": {\"timeUnit\": \"SECONDS\", \"value\": \"60\"}, \"evaluatedPricingSource\": \"INTERNAL\", \"markoutPrice\": [{\"value\": -137.1070000000003, \"priceType\": \"UNHEDGED_SPREAD_PRICE\"}, {\"value\": -15.353027129799052, \"priceType\": \"UNHEDGED_INITIAL_EDGE\"}]}], \"instrumentId\": \"912796KN8\", \"cashflowDirection\": \"+\", \"dateLocalDate\": \"2017-09-21\", \"venueName\": \"TRADEWEBUST_ASIA\"}\n",
      "{\"negotiationId\": \"2\", \"legMarkout\": [{\"markoutPeriod\": {\"timeUnit\": \"SECONDS\", \"value\": \"300\"}, \"evaluatedPricingSource\": \"INTERNAL\", \"markoutPrice\": [{\"value\": -841.7900000000003, \"priceType\": \"UNHEDGED_SPREAD_PRICE\"}, {\"value\": -94.26232583014375, \"priceType\": \"UNHEDGED_INITIAL_EDGE\"}]}], \"instrumentId\": \"912796KN8\", \"cashflowDirection\": \"+\", \"dateLocalDate\": \"2017-09-21\", \"venueName\": \"TRADEWEBUST_ASIA\"}\n",
      "{\"negotiationId\": \"2\", \"legMarkout\": [{\"markoutPeriod\": {\"timeUnit\": \"SECONDS\", \"value\": \"3600\"}, \"evaluatedPricingSource\": \"INTERNAL\", \"markoutPrice\": [{\"value\": -838.6700000000005, \"priceType\": \"UNHEDGED_SPREAD_PRICE\"}, {\"value\": -93.91295311653343, \"priceType\": \"UNHEDGED_INITIAL_EDGE\"}]}], \"instrumentId\": \"912796KN8\", \"cashflowDirection\": \"+\", \"dateLocalDate\": \"2017-09-21\", \"venueName\": \"TRADEWEBUST_ASIA\"}\n",
      "{\"negotiationId\": \"2\", \"legMarkout\": [{\"markoutPeriod\": {\"timeUnit\": \"SECONDS\", \"value\": \"-900\"}, \"evaluatedPricingSource\": \"INTERNAL\", \"markoutPrice\": [{\"value\": -840.2320000000003, \"priceType\": \"UNHEDGED_SPREAD_PRICE\"}, {\"value\": -94.08786343020628, \"priceType\": \"UNHEDGED_INITIAL_EDGE\"}]}], \"instrumentId\": \"912796KN8\", \"cashflowDirection\": \"+\", \"dateLocalDate\": \"2017-09-21\", \"venueName\": \"TRADEWEBUST_ASIA\"}\n",
      "{\"negotiationId\": \"2\", \"legMarkout\": [{\"markoutPeriod\": {\"timeUnit\": \"SECONDS\", \"value\": \"-60\"}, \"evaluatedPricingSource\": \"INTERNAL\", \"markoutPrice\": [{\"value\": -841.7950000000005, \"priceType\": \"UNHEDGED_SPREAD_PRICE\"}, {\"value\": -94.26288572231302, \"priceType\": \"UNHEDGED_INITIAL_EDGE\"}]}], \"instrumentId\": \"912796KN8\", \"cashflowDirection\": \"+\", \"dateLocalDate\": \"2017-09-21\", \"venueName\": \"TRADEWEBUST_ASIA\"}\n",
      "{\"negotiationId\": \"2\", \"legMarkout\": [{\"markoutPeriod\": {\"timeUnit\": \"SECONDS\", \"value\": \"0\"}, \"evaluatedPricingSource\": \"INTERNAL\", \"markoutPrice\": [{\"value\": -837.1070000000003, \"priceType\": \"UNHEDGED_SPREAD_PRICE\"}, {\"value\": -93.7379308244267, \"priceType\": \"UNHEDGED_INITIAL_EDGE\"}]}], \"instrumentId\": \"912796KN8\", \"cashflowDirection\": \"+\", \"dateLocalDate\": \"2017-09-21\", \"venueName\": \"TRADEWEBUST_ASIA\"}\n",
      "{\"negotiationId\": \"2\", \"legMarkout\": [{\"markoutPeriod\": {\"timeUnit\": \"SECONDS\", \"value\": \"60\"}, \"evaluatedPricingSource\": \"INTERNAL\", \"markoutPrice\": [{\"value\": -137.1070000000003, \"priceType\": \"UNHEDGED_SPREAD_PRICE\"}, {\"value\": -15.353027129799052, \"priceType\": \"UNHEDGED_INITIAL_EDGE\"}]}], \"instrumentId\": \"912796KN8\", \"cashflowDirection\": \"+\", \"dateLocalDate\": \"2017-09-21\", \"venueName\": \"TRADEWEBUST_ASIA\"}\n",
      "{\"negotiationId\": \"2\", \"legMarkout\": [{\"markoutPeriod\": {\"timeUnit\": \"SECONDS\", \"value\": \"300\"}, \"evaluatedPricingSource\": \"INTERNAL\", \"markoutPrice\": [{\"value\": -841.7900000000003, \"priceType\": \"UNHEDGED_SPREAD_PRICE\"}, {\"value\": -94.26232583014375, \"priceType\": \"UNHEDGED_INITIAL_EDGE\"}]}], \"instrumentId\": \"912796KN8\", \"cashflowDirection\": \"+\", \"dateLocalDate\": \"2017-09-21\", \"venueName\": \"TRADEWEBUST_ASIA\"}\n",
      "{\"negotiationId\": \"2\", \"legMarkout\": [{\"markoutPeriod\": {\"timeUnit\": \"SECONDS\", \"value\": \"3600\"}, \"evaluatedPricingSource\": \"INTERNAL\", \"markoutPrice\": [{\"value\": -838.6700000000005, \"priceType\": \"UNHEDGED_SPREAD_PRICE\"}, {\"value\": -93.91295311653343, \"priceType\": \"UNHEDGED_INITIAL_EDGE\"}]}], \"instrumentId\": \"912796KN8\", \"cashflowDirection\": \"+\", \"dateLocalDate\": \"2017-09-21\", \"venueName\": \"TRADEWEBUST_ASIA\"}\n",
      "{\"negotiationId\": \"2\", \"legMarkout\": [{\"markoutPeriod\": {\"timeUnit\": \"SECONDS\", \"value\": \"-900\"}, \"evaluatedPricingSource\": \"INTERNAL\", \"markoutPrice\": [{\"value\": -840.2320000000003, \"priceType\": \"UNHEDGED_SPREAD_PRICE\"}, {\"value\": -94.08786343020628, \"priceType\": \"UNHEDGED_INITIAL_EDGE\"}]}], \"instrumentId\": \"912796KN8\", \"cashflowDirection\": \"+\", \"dateLocalDate\": \"2017-09-21\", \"venueName\": \"TRADEWEBUST_ASIA\"}\n",
      "{\"negotiationId\": \"2\", \"legMarkout\": [{\"markoutPeriod\": {\"timeUnit\": \"SECONDS\", \"value\": \"-60\"}, \"evaluatedPricingSource\": \"INTERNAL\", \"markoutPrice\": [{\"value\": -841.7950000000005, \"priceType\": \"UNHEDGED_SPREAD_PRICE\"}, {\"value\": -94.26288572231302, \"priceType\": \"UNHEDGED_INITIAL_EDGE\"}]}], \"instrumentId\": \"912796KN8\", \"cashflowDirection\": \"+\", \"dateLocalDate\": \"2017-09-21\", \"venueName\": \"TRADEWEBUST_ASIA\"}\n",
      "{\"negotiationId\": \"2\", \"legMarkout\": [{\"markoutPeriod\": {\"timeUnit\": \"SECONDS\", \"value\": \"0\"}, \"evaluatedPricingSource\": \"INTERNAL\", \"markoutPrice\": [{\"value\": -837.1070000000003, \"priceType\": \"UNHEDGED_SPREAD_PRICE\"}, {\"value\": -93.7379308244267, \"priceType\": \"UNHEDGED_INITIAL_EDGE\"}]}], \"instrumentId\": \"912796KN8\", \"cashflowDirection\": \"+\", \"dateLocalDate\": \"2017-09-21\", \"venueName\": \"TRADEWEBUST_ASIA\"}\n",
      "{\"negotiationId\": \"2\", \"legMarkout\": [{\"markoutPeriod\": {\"timeUnit\": \"SECONDS\", \"value\": \"60\"}, \"evaluatedPricingSource\": \"INTERNAL\", \"markoutPrice\": [{\"value\": -137.1070000000003, \"priceType\": \"UNHEDGED_SPREAD_PRICE\"}, {\"value\": -15.353027129799052, \"priceType\": \"UNHEDGED_INITIAL_EDGE\"}]}], \"instrumentId\": \"912796KN8\", \"cashflowDirection\": \"+\", \"dateLocalDate\": \"2017-09-21\", \"venueName\": \"TRADEWEBUST_ASIA\"}\n",
      "{\"negotiationId\": \"2\", \"legMarkout\": [{\"markoutPeriod\": {\"timeUnit\": \"SECONDS\", \"value\": \"300\"}, \"evaluatedPricingSource\": \"INTERNAL\", \"markoutPrice\": [{\"value\": -841.7900000000003, \"priceType\": \"UNHEDGED_SPREAD_PRICE\"}, {\"value\": -94.26232583014375, \"priceType\": \"UNHEDGED_INITIAL_EDGE\"}]}], \"instrumentId\": \"912796KN8\", \"cashflowDirection\": \"+\", \"dateLocalDate\": \"2017-09-21\", \"venueName\": \"TRADEWEBUST_ASIA\"}\n",
      "{\"negotiationId\": \"2\", \"legMarkout\": [{\"markoutPeriod\": {\"timeUnit\": \"SECONDS\", \"value\": \"3600\"}, \"evaluatedPricingSource\": \"INTERNAL\", \"markoutPrice\": [{\"value\": -838.6700000000005, \"priceType\": \"UNHEDGED_SPREAD_PRICE\"}, {\"value\": -93.91295311653343, \"priceType\": \"UNHEDGED_INITIAL_EDGE\"}]}], \"instrumentId\": \"912796KN8\", \"cashflowDirection\": \"+\", \"dateLocalDate\": \"2017-09-21\", \"venueName\": \"TRADEWEBUST_ASIA\"}\n",
      "{\"negotiationId\": \"2\", \"legMarkout\": [{\"markoutPeriod\": {\"timeUnit\": \"SECONDS\", \"value\": \"-900\"}, \"evaluatedPricingSource\": \"INTERNAL\", \"markoutPrice\": [{\"value\": -840.2320000000003, \"priceType\": \"UNHEDGED_SPREAD_PRICE\"}, {\"value\": -94.08786343020628, \"priceType\": \"UNHEDGED_INITIAL_EDGE\"}]}], \"instrumentId\": \"912796KN8\", \"cashflowDirection\": \"+\", \"dateLocalDate\": \"2017-09-21\", \"venueName\": \"TRADEWEBUST_ASIA\"}\n",
      "{\"negotiationId\": \"2\", \"legMarkout\": [{\"markoutPeriod\": {\"timeUnit\": \"SECONDS\", \"value\": \"-60\"}, \"evaluatedPricingSource\": \"INTERNAL\", \"markoutPrice\": [{\"value\": -841.7950000000005, \"priceType\": \"UNHEDGED_SPREAD_PRICE\"}, {\"value\": -94.26288572231302, \"priceType\": \"UNHEDGED_INITIAL_EDGE\"}]}], \"instrumentId\": \"912796KN8\", \"cashflowDirection\": \"+\", \"dateLocalDate\": \"2017-09-21\", \"venueName\": \"TRADEWEBUST_ASIA\"}\n",
      "{\"negotiationId\": \"2\", \"legMarkout\": [{\"markoutPeriod\": {\"timeUnit\": \"SECONDS\", \"value\": \"0\"}, \"evaluatedPricingSource\": \"INTERNAL\", \"markoutPrice\": [{\"value\": -837.1070000000003, \"priceType\": \"UNHEDGED_SPREAD_PRICE\"}, {\"value\": -93.7379308244267, \"priceType\": \"UNHEDGED_INITIAL_EDGE\"}]}], \"instrumentId\": \"912796KN8\", \"cashflowDirection\": \"+\", \"dateLocalDate\": \"2017-09-21\", \"venueName\": \"TRADEWEBUST_ASIA\"}\n",
      "{\"negotiationId\": \"2\", \"legMarkout\": [{\"markoutPeriod\": {\"timeUnit\": \"SECONDS\", \"value\": \"60\"}, \"evaluatedPricingSource\": \"INTERNAL\", \"markoutPrice\": [{\"value\": -137.1070000000003, \"priceType\": \"UNHEDGED_SPREAD_PRICE\"}, {\"value\": -15.353027129799052, \"priceType\": \"UNHEDGED_INITIAL_EDGE\"}]}], \"instrumentId\": \"912796KN8\", \"cashflowDirection\": \"+\", \"dateLocalDate\": \"2017-09-21\", \"venueName\": \"TRADEWEBUST_ASIA\"}\n",
      "{\"negotiationId\": \"2\", \"legMarkout\": [{\"markoutPeriod\": {\"timeUnit\": \"SECONDS\", \"value\": \"300\"}, \"evaluatedPricingSource\": \"INTERNAL\", \"markoutPrice\": [{\"value\": -841.7900000000003, \"priceType\": \"UNHEDGED_SPREAD_PRICE\"}, {\"value\": -94.26232583014375, \"priceType\": \"UNHEDGED_INITIAL_EDGE\"}]}], \"instrumentId\": \"912796KN8\", \"cashflowDirection\": \"+\", \"dateLocalDate\": \"2017-09-21\", \"venueName\": \"TRADEWEBUST_ASIA\"}\n",
      "{\"negotiationId\": \"2\", \"legMarkout\": [{\"markoutPeriod\": {\"timeUnit\": \"SECONDS\", \"value\": \"3600\"}, \"evaluatedPricingSource\": \"INTERNAL\", \"markoutPrice\": [{\"value\": -838.6700000000005, \"priceType\": \"UNHEDGED_SPREAD_PRICE\"}, {\"value\": -93.91295311653343, \"priceType\": \"UNHEDGED_INITIAL_EDGE\"}]}], \"instrumentId\": \"912796KN8\", \"cashflowDirection\": \"+\", \"dateLocalDate\": \"2017-09-21\", \"venueName\": \"TRADEWEBUST_ASIA\"}\n",
      "{\"negotiationId\": \"2\", \"legMarkout\": [{\"markoutPeriod\": {\"timeUnit\": \"SECONDS\", \"value\": \"-900\"}, \"evaluatedPricingSource\": \"INTERNAL\", \"markoutPrice\": [{\"value\": -840.2320000000003, \"priceType\": \"UNHEDGED_SPREAD_PRICE\"}, {\"value\": -94.08786343020628, \"priceType\": \"UNHEDGED_INITIAL_EDGE\"}]}], \"instrumentId\": \"912796KN8\", \"cashflowDirection\": \"+\", \"dateLocalDate\": \"2017-09-21\", \"venueName\": \"TRADEWEBUST_ASIA\"}\n",
      "{\"negotiationId\": \"2\", \"legMarkout\": [{\"markoutPeriod\": {\"timeUnit\": \"SECONDS\", \"value\": \"-60\"}, \"evaluatedPricingSource\": \"INTERNAL\", \"markoutPrice\": [{\"value\": -841.7950000000005, \"priceType\": \"UNHEDGED_SPREAD_PRICE\"}, {\"value\": -94.26288572231302, \"priceType\": \"UNHEDGED_INITIAL_EDGE\"}]}], \"instrumentId\": \"912796KN8\", \"cashflowDirection\": \"+\", \"dateLocalDate\": \"2017-09-21\", \"venueName\": \"TRADEWEBUST_ASIA\"}\n",
      "{\"negotiationId\": \"2\", \"legMarkout\": [{\"markoutPeriod\": {\"timeUnit\": \"SECONDS\", \"value\": \"0\"}, \"evaluatedPricingSource\": \"INTERNAL\", \"markoutPrice\": [{\"value\": -837.1070000000003, \"priceType\": \"UNHEDGED_SPREAD_PRICE\"}, {\"value\": -93.7379308244267, \"priceType\": \"UNHEDGED_INITIAL_EDGE\"}]}], \"instrumentId\": \"912796KN8\", \"cashflowDirection\": \"+\", \"dateLocalDate\": \"2017-09-21\", \"venueName\": \"TRADEWEBUST_ASIA\"}\n",
      "{\"negotiationId\": \"2\", \"legMarkout\": [{\"markoutPeriod\": {\"timeUnit\": \"SECONDS\", \"value\": \"60\"}, \"evaluatedPricingSource\": \"INTERNAL\", \"markoutPrice\": [{\"value\": -137.1070000000003, \"priceType\": \"UNHEDGED_SPREAD_PRICE\"}, {\"value\": -15.353027129799052, \"priceType\": \"UNHEDGED_INITIAL_EDGE\"}]}], \"instrumentId\": \"912796KN8\", \"cashflowDirection\": \"+\", \"dateLocalDate\": \"2017-09-21\", \"venueName\": \"TRADEWEBUST_ASIA\"}\n",
      "{\"negotiationId\": \"2\", \"legMarkout\": [{\"markoutPeriod\": {\"timeUnit\": \"SECONDS\", \"value\": \"300\"}, \"evaluatedPricingSource\": \"INTERNAL\", \"markoutPrice\": [{\"value\": -841.7900000000003, \"priceType\": \"UNHEDGED_SPREAD_PRICE\"}, {\"value\": -94.26232583014375, \"priceType\": \"UNHEDGED_INITIAL_EDGE\"}]}], \"instrumentId\": \"912796KN8\", \"cashflowDirection\": \"+\", \"dateLocalDate\": \"2017-09-21\", \"venueName\": \"TRADEWEBUST_ASIA\"}\n",
      "{\"negotiationId\": \"2\", \"legMarkout\": [{\"markoutPeriod\": {\"timeUnit\": \"SECONDS\", \"value\": \"3600\"}, \"evaluatedPricingSource\": \"INTERNAL\", \"markoutPrice\": [{\"value\": -838.6700000000005, \"priceType\": \"UNHEDGED_SPREAD_PRICE\"}, {\"value\": -93.91295311653343, \"priceType\": \"UNHEDGED_INITIAL_EDGE\"}]}], \"instrumentId\": \"912796KN8\", \"cashflowDirection\": \"+\", \"dateLocalDate\": \"2017-09-21\", \"venueName\": \"TRADEWEBUST_ASIA\"}\n"
     ]
    }
   ],
   "source": [
    "# Look at what QC is outputting inside docker-compose\n",
    "from aiostreams import AsyncKafkaSource, run\n",
    "import aiostreams.operators as op\n",
    "from mosaicsmartdata.common.json_convertor import *\n",
    "import json\n",
    "\n",
    "input_graph = AsyncKafkaSource('output-topic',\\\n",
    "                               value_deserializer =  lambda x: x.decode('utf-8'))|\\\n",
    "                op.map(lambda x: x.value ) > print\n",
    "                #op.map(lambda x: json_to_domain(x.value)) > print\n",
    "                #op.map(lambda x: json.loads(x.value) ) > print\n",
    "                \n",
    "run(input_graph)"
   ]
  },
  {
   "cell_type": "code",
   "execution_count": 5,
   "metadata": {},
   "outputs": [
    {
     "name": "stdout",
     "output_type": "stream",
     "text": [
      "1\n"
     ]
    },
    {
     "ename": "KeyboardInterrupt",
     "evalue": "",
     "output_type": "error",
     "traceback": [
      "\u001b[1;31m---------------------------------------------------------------------------\u001b[0m",
      "\u001b[1;31mKeyboardInterrupt\u001b[0m                         Traceback (most recent call last)",
      "\u001b[1;32m<ipython-input-5-66984fde6f8b>\u001b[0m in \u001b[0;36m<module>\u001b[1;34m()\u001b[0m\n\u001b[0;32m     23\u001b[0m \u001b[0mreflated_graph\u001b[0m\u001b[1;33m.\u001b[0m\u001b[0msink\u001b[0m \u001b[1;33m=\u001b[0m \u001b[1;33m[\u001b[0m\u001b[1;33m]\u001b[0m \u001b[1;31m#so we don't pollute the original output topic\u001b[0m\u001b[1;33m\u001b[0m\u001b[0m\n\u001b[0;32m     24\u001b[0m \u001b[0mprint\u001b[0m\u001b[1;33m(\u001b[0m\u001b[0mreflated_graph\u001b[0m\u001b[1;33m.\u001b[0m\u001b[0mmessage_count\u001b[0m\u001b[1;33m)\u001b[0m\u001b[1;33m\u001b[0m\u001b[0m\n\u001b[1;32m---> 25\u001b[1;33m \u001b[0mrun\u001b[0m\u001b[1;33m(\u001b[0m\u001b[0mreflated_graph\u001b[0m\u001b[1;33m)\u001b[0m\u001b[1;33m\u001b[0m\u001b[0m\n\u001b[0m\u001b[0;32m     26\u001b[0m \u001b[1;31m#print(len(reflated_graph.sink))\u001b[0m\u001b[1;33m\u001b[0m\u001b[1;33m\u001b[0m\u001b[0m\n",
      "\u001b[1;32mC:\\Users\\egork\\Dropbox\\GitHub\\Mosaic\\quant_container\\src\\aiostreams\\runner.py\u001b[0m in \u001b[0;36mrun\u001b[1;34m(*args)\u001b[0m\n\u001b[0;32m     83\u001b[0m     \u001b[0mlogger\u001b[0m\u001b[1;33m.\u001b[0m\u001b[0minfo\u001b[0m\u001b[1;33m(\u001b[0m\u001b[1;34m'Attempting to run the graphs '\u001b[0m \u001b[1;33m+\u001b[0m \u001b[0mstr\u001b[0m\u001b[1;33m(\u001b[0m\u001b[1;33m[\u001b[0m\u001b[0mstr\u001b[0m\u001b[1;33m(\u001b[0m\u001b[0marg\u001b[0m\u001b[1;33m)\u001b[0m \u001b[1;33m+\u001b[0m \u001b[1;34m'; '\u001b[0m \u001b[1;32mfor\u001b[0m \u001b[0marg\u001b[0m \u001b[1;32min\u001b[0m \u001b[0margs\u001b[0m\u001b[1;33m]\u001b[0m\u001b[1;33m)\u001b[0m\u001b[1;33m)\u001b[0m\u001b[1;33m\u001b[0m\u001b[0m\n\u001b[0;32m     84\u001b[0m     \u001b[0m_run\u001b[0m\u001b[1;33m(\u001b[0m\u001b[1;33m)\u001b[0m \u001b[1;31m# run any async init methods there might be on freshly created objects, eg Kafka\u001b[0m\u001b[1;33m\u001b[0m\u001b[0m\n\u001b[1;32m---> 85\u001b[1;33m     \u001b[0m_run\u001b[0m\u001b[1;33m(\u001b[0m\u001b[1;33m*\u001b[0m\u001b[0margs\u001b[0m\u001b[1;33m)\u001b[0m \u001b[1;31m# run the actual tasks\u001b[0m\u001b[1;33m\u001b[0m\u001b[0m\n\u001b[0m\u001b[0;32m     86\u001b[0m     \u001b[1;32mdef\u001b[0m \u001b[0mto_message\u001b[0m\u001b[1;33m(\u001b[0m\u001b[0mx\u001b[0m\u001b[1;33m)\u001b[0m\u001b[1;33m:\u001b[0m\u001b[1;33m\u001b[0m\u001b[0m\n\u001b[0;32m     87\u001b[0m         \u001b[1;32mtry\u001b[0m\u001b[1;33m:\u001b[0m\u001b[1;33m\u001b[0m\u001b[0m\n",
      "\u001b[1;32mC:\\Users\\egork\\Dropbox\\GitHub\\Mosaic\\quant_container\\src\\aiostreams\\runner.py\u001b[0m in \u001b[0;36m_run\u001b[1;34m(*args)\u001b[0m\n\u001b[0;32m     99\u001b[0m     \u001b[1;31m# add the task to monitor for when we're done\u001b[0m\u001b[1;33m\u001b[0m\u001b[1;33m\u001b[0m\u001b[0m\n\u001b[0;32m    100\u001b[0m     \u001b[1;31m#asyncio.get_event_loop().create_task(t.check_tasks())\u001b[0m\u001b[1;33m\u001b[0m\u001b[1;33m\u001b[0m\u001b[0m\n\u001b[1;32m--> 101\u001b[1;33m     \u001b[0masyncio\u001b[0m\u001b[1;33m.\u001b[0m\u001b[0mget_event_loop\u001b[0m\u001b[1;33m(\u001b[0m\u001b[1;33m)\u001b[0m\u001b[1;33m.\u001b[0m\u001b[0mrun_forever\u001b[0m\u001b[1;33m(\u001b[0m\u001b[1;33m)\u001b[0m\u001b[1;33m\u001b[0m\u001b[0m\n\u001b[0m\u001b[0;32m    102\u001b[0m     \u001b[1;31m# convert each arg into a coroutine:\u001b[0m\u001b[1;33m\u001b[0m\u001b[1;33m\u001b[0m\u001b[0m\n\u001b[0;32m    103\u001b[0m     \u001b[1;31m#coros = []\u001b[0m\u001b[1;33m\u001b[0m\u001b[1;33m\u001b[0m\u001b[0m\n",
      "\u001b[1;32mC:\\Users\\egork\\Anaconda3\\envs\\py35\\lib\\asyncio\\base_events.py\u001b[0m in \u001b[0;36mrun_forever\u001b[1;34m(self)\u001b[0m\n\u001b[0;32m    419\u001b[0m             \u001b[0mevents\u001b[0m\u001b[1;33m.\u001b[0m\u001b[0m_set_running_loop\u001b[0m\u001b[1;33m(\u001b[0m\u001b[0mself\u001b[0m\u001b[1;33m)\u001b[0m\u001b[1;33m\u001b[0m\u001b[0m\n\u001b[0;32m    420\u001b[0m             \u001b[1;32mwhile\u001b[0m \u001b[1;32mTrue\u001b[0m\u001b[1;33m:\u001b[0m\u001b[1;33m\u001b[0m\u001b[0m\n\u001b[1;32m--> 421\u001b[1;33m                 \u001b[0mself\u001b[0m\u001b[1;33m.\u001b[0m\u001b[0m_run_once\u001b[0m\u001b[1;33m(\u001b[0m\u001b[1;33m)\u001b[0m\u001b[1;33m\u001b[0m\u001b[0m\n\u001b[0m\u001b[0;32m    422\u001b[0m                 \u001b[1;32mif\u001b[0m \u001b[0mself\u001b[0m\u001b[1;33m.\u001b[0m\u001b[0m_stopping\u001b[0m\u001b[1;33m:\u001b[0m\u001b[1;33m\u001b[0m\u001b[0m\n\u001b[0;32m    423\u001b[0m                     \u001b[1;32mbreak\u001b[0m\u001b[1;33m\u001b[0m\u001b[0m\n",
      "\u001b[1;32mC:\\Users\\egork\\Anaconda3\\envs\\py35\\lib\\asyncio\\base_events.py\u001b[0m in \u001b[0;36m_run_once\u001b[1;34m(self)\u001b[0m\n\u001b[0;32m   1386\u001b[0m                            timeout * 1e3, dt * 1e3)\n\u001b[0;32m   1387\u001b[0m         \u001b[1;32melse\u001b[0m\u001b[1;33m:\u001b[0m\u001b[1;33m\u001b[0m\u001b[0m\n\u001b[1;32m-> 1388\u001b[1;33m             \u001b[0mevent_list\u001b[0m \u001b[1;33m=\u001b[0m \u001b[0mself\u001b[0m\u001b[1;33m.\u001b[0m\u001b[0m_selector\u001b[0m\u001b[1;33m.\u001b[0m\u001b[0mselect\u001b[0m\u001b[1;33m(\u001b[0m\u001b[0mtimeout\u001b[0m\u001b[1;33m)\u001b[0m\u001b[1;33m\u001b[0m\u001b[0m\n\u001b[0m\u001b[0;32m   1389\u001b[0m         \u001b[0mself\u001b[0m\u001b[1;33m.\u001b[0m\u001b[0m_process_events\u001b[0m\u001b[1;33m(\u001b[0m\u001b[0mevent_list\u001b[0m\u001b[1;33m)\u001b[0m\u001b[1;33m\u001b[0m\u001b[0m\n\u001b[0;32m   1390\u001b[0m \u001b[1;33m\u001b[0m\u001b[0m\n",
      "\u001b[1;32mC:\\Users\\egork\\Anaconda3\\envs\\py35\\lib\\selectors.py\u001b[0m in \u001b[0;36mselect\u001b[1;34m(self, timeout)\u001b[0m\n\u001b[0;32m    321\u001b[0m         \u001b[0mready\u001b[0m \u001b[1;33m=\u001b[0m \u001b[1;33m[\u001b[0m\u001b[1;33m]\u001b[0m\u001b[1;33m\u001b[0m\u001b[0m\n\u001b[0;32m    322\u001b[0m         \u001b[1;32mtry\u001b[0m\u001b[1;33m:\u001b[0m\u001b[1;33m\u001b[0m\u001b[0m\n\u001b[1;32m--> 323\u001b[1;33m             \u001b[0mr\u001b[0m\u001b[1;33m,\u001b[0m \u001b[0mw\u001b[0m\u001b[1;33m,\u001b[0m \u001b[0m_\u001b[0m \u001b[1;33m=\u001b[0m \u001b[0mself\u001b[0m\u001b[1;33m.\u001b[0m\u001b[0m_select\u001b[0m\u001b[1;33m(\u001b[0m\u001b[0mself\u001b[0m\u001b[1;33m.\u001b[0m\u001b[0m_readers\u001b[0m\u001b[1;33m,\u001b[0m \u001b[0mself\u001b[0m\u001b[1;33m.\u001b[0m\u001b[0m_writers\u001b[0m\u001b[1;33m,\u001b[0m \u001b[1;33m[\u001b[0m\u001b[1;33m]\u001b[0m\u001b[1;33m,\u001b[0m \u001b[0mtimeout\u001b[0m\u001b[1;33m)\u001b[0m\u001b[1;33m\u001b[0m\u001b[0m\n\u001b[0m\u001b[0;32m    324\u001b[0m         \u001b[1;32mexcept\u001b[0m \u001b[0mInterruptedError\u001b[0m\u001b[1;33m:\u001b[0m\u001b[1;33m\u001b[0m\u001b[0m\n\u001b[0;32m    325\u001b[0m             \u001b[1;32mreturn\u001b[0m \u001b[0mready\u001b[0m\u001b[1;33m\u001b[0m\u001b[0m\n",
      "\u001b[1;32mC:\\Users\\egork\\Anaconda3\\envs\\py35\\lib\\selectors.py\u001b[0m in \u001b[0;36m_select\u001b[1;34m(self, r, w, _, timeout)\u001b[0m\n\u001b[0;32m    312\u001b[0m     \u001b[1;32mif\u001b[0m \u001b[0msys\u001b[0m\u001b[1;33m.\u001b[0m\u001b[0mplatform\u001b[0m \u001b[1;33m==\u001b[0m \u001b[1;34m'win32'\u001b[0m\u001b[1;33m:\u001b[0m\u001b[1;33m\u001b[0m\u001b[0m\n\u001b[0;32m    313\u001b[0m         \u001b[1;32mdef\u001b[0m \u001b[0m_select\u001b[0m\u001b[1;33m(\u001b[0m\u001b[0mself\u001b[0m\u001b[1;33m,\u001b[0m \u001b[0mr\u001b[0m\u001b[1;33m,\u001b[0m \u001b[0mw\u001b[0m\u001b[1;33m,\u001b[0m \u001b[0m_\u001b[0m\u001b[1;33m,\u001b[0m \u001b[0mtimeout\u001b[0m\u001b[1;33m=\u001b[0m\u001b[1;32mNone\u001b[0m\u001b[1;33m)\u001b[0m\u001b[1;33m:\u001b[0m\u001b[1;33m\u001b[0m\u001b[0m\n\u001b[1;32m--> 314\u001b[1;33m             \u001b[0mr\u001b[0m\u001b[1;33m,\u001b[0m \u001b[0mw\u001b[0m\u001b[1;33m,\u001b[0m \u001b[0mx\u001b[0m \u001b[1;33m=\u001b[0m \u001b[0mselect\u001b[0m\u001b[1;33m.\u001b[0m\u001b[0mselect\u001b[0m\u001b[1;33m(\u001b[0m\u001b[0mr\u001b[0m\u001b[1;33m,\u001b[0m \u001b[0mw\u001b[0m\u001b[1;33m,\u001b[0m \u001b[0mw\u001b[0m\u001b[1;33m,\u001b[0m \u001b[0mtimeout\u001b[0m\u001b[1;33m)\u001b[0m\u001b[1;33m\u001b[0m\u001b[0m\n\u001b[0m\u001b[0;32m    315\u001b[0m             \u001b[1;32mreturn\u001b[0m \u001b[0mr\u001b[0m\u001b[1;33m,\u001b[0m \u001b[0mw\u001b[0m \u001b[1;33m+\u001b[0m \u001b[0mx\u001b[0m\u001b[1;33m,\u001b[0m \u001b[1;33m[\u001b[0m\u001b[1;33m]\u001b[0m\u001b[1;33m\u001b[0m\u001b[0m\n\u001b[0;32m    316\u001b[0m     \u001b[1;32melse\u001b[0m\u001b[1;33m:\u001b[0m\u001b[1;33m\u001b[0m\u001b[0m\n",
      "\u001b[1;31mKeyboardInterrupt\u001b[0m: "
     ]
    }
   ],
   "source": [
    "# Let's load a snapshot of the graph locally and run against the same data\n",
    "from aiostreams import AsyncKafkaSource, AsyncKafkaPublisher, run\n",
    "import aiostreams.operators as op\n",
    "from aiostreams.persist import KafkaPersister\n",
    "from mosaicsmartdata.common.json_convertor import *\n",
    "import json\n",
    "\n",
    "graph_name = 'test_pid__markouts_unhedged' # got that name from the logs\n",
    "class GetFirst:\n",
    "    def __init__(self):\n",
    "        self.count = -1\n",
    "\n",
    "    def __call__(self, x):\n",
    "        self.count += 1\n",
    "        if not self.count:\n",
    "            return True\n",
    "        else:\n",
    "            return False\n",
    "        \n",
    "p = KafkaPersister()\n",
    "reflated_graph = p.load(graph_name, GetFirst())\n",
    "reflated_graph.persistence_policy = None # don't want to persist states when we re-run\n",
    "reflated_graph.sink = [] #so we don't pollute the original output topic\n",
    "print(reflated_graph.message_count) \n",
    "# as the graph is set to run 'forever' you want to manually interrupt it after a while\n",
    "run(reflated_graph)\n"
   ]
  },
  {
   "cell_type": "code",
   "execution_count": 6,
   "metadata": {},
   "outputs": [
    {
     "name": "stdout",
     "output_type": "stream",
     "text": [
      "59\n"
     ]
    }
   ],
   "source": [
    "print(len(reflated_graph.sink))"
   ]
  }
 ],
 "metadata": {
  "anaconda-cloud": {},
  "kernelspec": {
   "display_name": "Python [conda env:py35]",
   "language": "python",
   "name": "conda-env-py35-py"
  },
  "language_info": {
   "codemirror_mode": {
    "name": "ipython",
    "version": 3
   },
   "file_extension": ".py",
   "mimetype": "text/x-python",
   "name": "python",
   "nbconvert_exporter": "python",
   "pygments_lexer": "ipython3",
   "version": "3.5.3"
  }
 },
 "nbformat": 4,
 "nbformat_minor": 1
}
