{
 "cells": [
  {
   "cell_type": "markdown",
   "metadata": {},
   "source": [
    "# This will load play data into a Kafka instance. Only run once as otherwise the topics won't be ordered."
   ]
  },
  {
   "cell_type": "markdown",
   "metadata": {},
   "source": [
    "To start Kafka 9 in Docker (using image from https://hub.docker.com/r/flozano/kafka/) run the following in the Docker bash:\n",
    "\n",
    "```\n",
    "docker run -p 2181:2181 -p 9092:9092 --env _KAFKA_advertised_host_name=`docker-machine ip \\`docker-machine active\\`` --env _KAFKA_advertised_port=9092 --name=local_kafka flozano/kafka &\n",
    "```\n",
    "\n",
    "To kill it run  \n",
    "```\n",
    "docker kill local_kafka\n",
    "```\n",
    "then \n",
    "```\n",
    "docker rm local_kafka\n",
    "```"
   ]
  },
  {
   "cell_type": "code",
   "execution_count": 1,
   "metadata": {
    "collapsed": false,
    "scrolled": true
   },
   "outputs": [
    {
     "name": "stdout",
     "output_type": "stream",
     "text": [
      "kafka:9092\n"
     ]
    }
   ],
   "source": [
    "# require at least Python 3.5 for async/await to work\n",
    "import sys\n",
    "ver=sys.version_info\n",
    "assert (ver[0]>=3 and ver[1]>=5)\n",
    "sys.path.append('../src')\n",
    "sys.path.append('../../msq-domain/src')\n",
    "\n",
    "import aiostreams.operators as op\n",
    "from aiostreams.config import QCConfigProvider\n",
    "\n",
    "#QCConfigProvider().kafka_broker = '0.0.0.0:9092'\n",
    "kafka_host = QCConfigProvider().kafka_broker\n",
    "# !set _KAFKA_advertised_host_name=0.0.0.0\n",
    "# !set _KAFKA_advertised_port=9092\n",
    "print(kafka_host)"
   ]
  },
  {
   "cell_type": "code",
   "execution_count": 2,
   "metadata": {
    "collapsed": false,
    "scrolled": true
   },
   "outputs": [
    {
     "data": {
      "text/plain": [
       "'test'"
      ]
     },
     "execution_count": 2,
     "metadata": {},
     "output_type": "execute_result"
    }
   ],
   "source": [
    "# try writing just one record to Kafka using the basic kafka library, \n",
    "# and reading back from it, to make sure Kafka is up, \n",
    "from kafka import KafkaProducer, KafkaConsumer\n",
    "import pickle\n",
    "\n",
    "topic='test_topic_2'\n",
    "\n",
    "kprod=KafkaProducer(bootstrap_servers=kafka_host)\n",
    "kprod.send(topic,pickle.dumps('test'))\n",
    "\n",
    "consumer = KafkaConsumer(topic,bootstrap_servers=kafka_host,auto_offset_reset='earliest',\n",
    "                         group_id=None, value_deserializer=lambda x: pickle.loads(x))\n",
    "next(consumer).value"
   ]
  },
  {
   "cell_type": "code",
   "execution_count": 3,
   "metadata": {
    "collapsed": false
   },
   "outputs": [],
   "source": [
    "# let's check the dump was successful\n",
    "from aiostreams import AsyncKafkaSource, run\n",
    "import aiostreams.operators as op\n",
    "from mosaicsmartdata.common.json_convertor import *\n",
    "import json\n",
    "\n",
    "input_graph = AsyncKafkaSource('bond-trades-topic', bootstrap_servers=kafka_host ,\\\n",
    "                               value_deserializer =  lambda x: x.decode('utf-8'))|\\\n",
    "                            op.map(lambda x: json.loads(x.value) ) > print# op.map(lambda x: json_to_domain(x.value)) > print\n",
    "                #\n",
    "                \n",
    "run(input_graph)"
   ]
  },
  {
   "cell_type": "code",
   "execution_count": 22,
   "metadata": {
    "collapsed": false
   },
   "outputs": [
    {
     "name": "stdout",
     "output_type": "stream",
     "text": [
      "{\"orderId\":\"0\",\"marketDataSnapshotFullRefreshList\":[{\"key\":\"912796KN81504495801933\",\"securityId\":\"912796KN8\",\"timestamp\":1504495801933,\"marketDataEntryList\":[{\"entryId\":\"pxPre2hEntry_bid\",\"entryType\":\"BID\",\"entryPx\":{\"value\":\"92.71875\"},\"currencyCode\":{\"value\":\"USD\"},\"settlementCurrencyCode\":{\"value\":\"USD\"},\"entrySize\":{\"value\":\"10000000\"},\"quoteEntryId\":{\"value\":\"quoteEntryId\"}},{\"entryId\":\"pxPre2hEntry_mid\",\"entryType\":\"MID\",\"entryPx\":{\"value\":\"92.71875\"},\"currencyCode\":{\"value\":\"USD\"},\"settlementCurrencyCode\":{\"value\":\"USD\"},\"entrySize\":{\"value\":\"10000000\"},\"quoteEntryId\":{\"value\":\"quoteEntryId\"}},{\"entryId\":\"pxPre2hEntry_ask\",\"entryType\":\"OFFER\",\"entryPx\":{\"value\":\"92.71875\"},\"currencyCode\":{\"value\":\"USD\"},\"settlementCurrencyCode\":{\"value\":\"USD\"},\"entrySize\":{\"value\":\"10000000\"},\"quoteEntryId\":{\"value\":\"quoteEntryId\"}}]},{\"key\":\"912796KN81504499401933\",\"securityId\":\"912796KN8\",\"timestamp\":1504499401933,\"marketDataEntryList\":[{\"entryId\":\"pxPre1hEntry_bid\",\"entryType\":\"BID\",\"entryPx\":{\"value\":\"92.73438\"},\"currencyCode\":{\"value\":\"USD\"},\"settlementCurrencyCode\":{\"value\":\"USD\"},\"entrySize\":{\"value\":\"10000000\"},\"quoteEntryId\":{\"value\":\"quoteEntryId\"}},{\"entryId\":\"pxPre1hEntry_mid\",\"entryType\":\"MID\",\"entryPx\":{\"value\":\"92.73438\"},\"currencyCode\":{\"value\":\"USD\"},\"settlementCurrencyCode\":{\"value\":\"USD\"},\"entrySize\":{\"value\":\"10000000\"},\"quoteEntryId\":{\"value\":\"quoteEntryId\"}},{\"entryId\":\"pxPre1hEntry_ask\",\"entryType\":\"OFFER\",\"entryPx\":{\"value\":\"92.73438\"},\"currencyCode\":{\"value\":\"USD\"},\"settlementCurrencyCode\":{\"value\":\"USD\"},\"entrySize\":{\"value\":\"10000000\"},\"quoteEntryId\":{\"value\":\"quoteEntryId\"}}]},{\"key\":\"912796KN81504501201933\",\"securityId\":\"912796KN8\",\"timestamp\":1504501201933,\"marketDataEntryList\":[{\"entryId\":\"pxPre30mEntry_bid\",\"entryType\":\"BID\",\"entryPx\":{\"value\":\"92.73438\"},\"currencyCode\":{\"value\":\"USD\"},\"settlementCurrencyCode\":{\"value\":\"USD\"},\"entrySize\":{\"value\":\"10000000\"},\"quoteEntryId\":{\"value\":\"quoteEntryId\"}},{\"entryId\":\"pxPre30mEntry_mid\",\"entryType\":\"MID\",\"entryPx\":{\"value\":\"92.73438\"},\"currencyCode\":{\"value\":\"USD\"},\"settlementCurrencyCode\":{\"value\":\"USD\"},\"entrySize\":{\"value\":\"10000000\"},\"quoteEntryId\":{\"value\":\"quoteEntryId\"}},{\"entryId\":\"pxPre30mEntry_ask\",\"entryType\":\"OFFER\",\"entryPx\":{\"value\":\"92.73438\"},\"currencyCode\":{\"value\":\"USD\"},\"settlementCurrencyCode\":{\"value\":\"USD\"},\"entrySize\":{\"value\":\"10000000\"},\"quoteEntryId\":{\"value\":\"quoteEntryId\"}}]},{\"key\":\"912796KN81504502701933\",\"securityId\":\"912796KN8\",\"timestamp\":1504502701933,\"marketDataEntryList\":[{\"entryId\":\"pxPre5mEntry_bid\",\"entryType\":\"BID\",\"entryPx\":{\"value\":\"92.71875\"},\"currencyCode\":{\"value\":\"USD\"},\"settlementCurrencyCode\":{\"value\":\"USD\"},\"entrySize\":{\"value\":\"10000000\"},\"quoteEntryId\":{\"value\":\"quoteEntryId\"}},{\"entryId\":\"pxPre5mEntry_mid\",\"entryType\":\"MID\",\"entryPx\":{\"value\":\"92.71875\"},\"currencyCode\":{\"value\":\"USD\"},\"settlementCurrencyCode\":{\"value\":\"USD\"},\"entrySize\":{\"value\":\"10000000\"},\"quoteEntryId\":{\"value\":\"quoteEntryId\"}},{\"entryId\":\"pxPre5mEntry_offer\",\"entryType\":\"OFFER\",\"entryPx\":{\"value\":\"92.71875\"},\"currencyCode\":{\"value\":\"USD\"},\"settlementCurrencyCode\":{\"value\":\"USD\"},\"entrySize\":{\"value\":\"10000000\"},\"quoteEntryId\":{\"value\":\"quoteEntryId\"}}]},{\"key\":\"912796KN81504502971933\",\"securityId\":\"912796KN8\",\"timestamp\":1504502971933,\"marketDataEntryList\":[{\"entryId\":\"pxPre30sEntry_bid\",\"entryType\":\"BID\",\"entryPx\":{\"value\":\"99.716\"},\"currencyCode\":{\"value\":\"USD\"},\"settlementCurrencyCode\":{\"value\":\"USD\"},\"entrySize\":{\"value\":\"10000000\"},\"quoteEntryId\":{\"value\":\"quoteEntryId\"}},{\"entryId\":\"pxPre30sEntry_mid\",\"entryType\":\"MID\",\"entryPx\":{\"value\":\"99.716\"},\"currencyCode\":{\"value\":\"USD\"},\"settlementCurrencyCode\":{\"value\":\"USD\"},\"entrySize\":{\"value\":\"10000000\"},\"quoteEntryId\":{\"value\":\"quoteEntryId\"}},{\"entryId\":\"pxPre30sEntry_ask\",\"entryType\":\"OFFER\",\"entryPx\":{\"value\":\"99.716\"},\"currencyCode\":{\"value\":\"USD\"},\"settlementCurrencyCode\":{\"value\":\"USD\"},\"entrySize\":{\"value\":\"10000000\"},\"quoteEntryId\":{\"value\":\"quoteEntryId\"}}]},{\"key\":\"912796KN81504503001933\",\"securityId\":\"912796KN8\",\"timestamp\":1504503001933,\"marketDataEntryList\":[{\"entryId\":\"px0sEntry_bid\",\"entryType\":\"BID\",\"entryPx\":{\"value\":\"92.76563\"},\"currencyCode\":{\"value\":\"USD\"},\"settlementCurrencyCode\":{\"value\":\"USD\"},\"entrySize\":{\"value\":\"10000000\"},\"quoteEntryId\":{\"value\":\"quoteEntryId\"}},{\"entryId\":\"px0sEntry_mid\",\"entryType\":\"MID\",\"entryPx\":{\"value\":\"92.76563\"},\"currencyCode\":{\"value\":\"USD\"},\"settlementCurrencyCode\":{\"value\":\"USD\"},\"entrySize\":{\"value\":\"10000000\"},\"quoteEntryId\":{\"value\":\"quoteEntryId\"}},{\"entryId\":\"px0sEntry_ask\",\"entryType\":\"OFFER\",\"entryPx\":{\"value\":\"92.76563\"},\"currencyCode\":{\"value\":\"USD\"},\"settlementCurrencyCode\":{\"value\":\"USD\"},\"entrySize\":{\"value\":\"10000000\"},\"quoteEntryId\":{\"value\":\"quoteEntryId\"}}]},{\"key\":\"912796KN81504503031933\",\"securityId\":\"912796KN8\",\"timestamp\":1504503031933,\"marketDataEntryList\":[{\"entryId\":\"px30sEntry_bid\",\"entryType\":\"BID\",\"entryPx\":{\"value\":\"99.76563\"},\"currencyCode\":{\"value\":\"USD\"},\"settlementCurrencyCode\":{\"value\":\"USD\"},\"entrySize\":{\"value\":\"10000000\"},\"quoteEntryId\":{\"value\":\"quoteEntryId\"}},{\"entryId\":\"px30sEntry_mid\",\"entryType\":\"MID\",\"entryPx\":{\"value\":\"99.76563\"},\"currencyCode\":{\"value\":\"USD\"},\"settlementCurrencyCode\":{\"value\":\"USD\"},\"entrySize\":{\"value\":\"10000000\"},\"quoteEntryId\":{\"value\":\"quoteEntryId\"}},{\"entryId\":\"px30sEntry_ask\",\"entryType\":\"OFFER\",\"entryPx\":{\"value\":\"99.76563\"},\"currencyCode\":{\"value\":\"USD\"},\"settlementCurrencyCode\":{\"value\":\"USD\"},\"entrySize\":{\"value\":\"10000000\"},\"quoteEntryId\":{\"value\":\"quoteEntryId\"}}]},{\"key\":\"912796KN81504503301933\",\"securityId\":\"912796KN8\",\"timestamp\":1504503301933,\"marketDataEntryList\":[{\"entryId\":\"px5mEntry_bid\",\"entryType\":\"BID\",\"entryPx\":{\"value\":\"92.7188\"},\"currencyCode\":{\"value\":\"USD\"},\"settlementCurrencyCode\":{\"value\":\"USD\"},\"entrySize\":{\"value\":\"10000000\"},\"quoteEntryId\":{\"value\":\"quoteEntryId\"}},{\"entryId\":\"px5mEntry_mid\",\"entryType\":\"MID\",\"entryPx\":{\"value\":\"92.7188\"},\"currencyCode\":{\"value\":\"USD\"},\"settlementCurrencyCode\":{\"value\":\"USD\"},\"entrySize\":{\"value\":\"10000000\"},\"quoteEntryId\":{\"value\":\"quoteEntryId\"}},{\"entryId\":\"px5mEntry_ask\",\"entryType\":\"OFFER\",\"entryPx\":{\"value\":\"92.7188\"},\"currencyCode\":{\"value\":\"USD\"},\"settlementCurrencyCode\":{\"value\":\"USD\"},\"entrySize\":{\"value\":\"10000000\"},\"quoteEntryId\":{\"value\":\"quoteEntryId\"}}]},{\"key\":\"912796KN81504504801933\",\"securityId\":\"912796KN8\",\"timestamp\":1504504801933,\"marketDataEntryList\":[{\"entryId\":\"px30mEntry_bid\",\"entryType\":\"BID\",\"entryPx\":{\"value\":\"99.785\"},\"currencyCode\":{\"value\":\"USD\"},\"settlementCurrencyCode\":{\"value\":\"USD\"},\"entrySize\":{\"value\":\"10000000\"},\"quoteEntryId\":{\"value\":\"quoteEntryId\"}},{\"entryId\":\"px30mEntry_mid\",\"entryType\":\"MID\",\"entryPx\":{\"value\":\"99.785\"},\"currencyCode\":{\"value\":\"USD\"},\"settlementCurrencyCode\":{\"value\":\"USD\"},\"entrySize\":{\"value\":\"10000000\"},\"quoteEntryId\":{\"value\":\"quoteEntryId\"}},{\"entryId\":\"px30mEntry_ask\",\"entryType\":\"OFFER\",\"entryPx\":{\"value\":\"99.785\"},\"currencyCode\":{\"value\":\"USD\"},\"settlementCurrencyCode\":{\"value\":\"USD\"},\"entrySize\":{\"value\":\"10000000\"},\"quoteEntryId\":{\"value\":\"quoteEntryId\"}}]},{\"key\":\"912796KN81504506601933\",\"securityId\":\"912796KN8\",\"timestamp\":1504506601933,\"marketDataEntryList\":[{\"entryId\":\"px1hEntry_bid\",\"entryType\":\"BID\",\"entryPx\":{\"value\":\"92.75\"},\"currencyCode\":{\"value\":\"USD\"},\"settlementCurrencyCode\":{\"value\":\"USD\"},\"entrySize\":{\"value\":\"10000000\"},\"quoteEntryId\":{\"value\":\"quoteEntryId\"}},{\"entryId\":\"px1hEntry_mid\",\"entryType\":\"MID\",\"entryPx\":{\"value\":\"92.75\"},\"currencyCode\":{\"value\":\"USD\"},\"settlementCurrencyCode\":{\"value\":\"USD\"},\"entrySize\":{\"value\":\"10000000\"},\"quoteEntryId\":{\"value\":\"quoteEntryId\"}},{\"entryId\":\"px1hEntry_ask\",\"entryType\":\"OFFER\",\"entryPx\":{\"value\":\"92.75\"},\"currencyCode\":{\"value\":\"USD\"},\"settlementCurrencyCode\":{\"value\":\"USD\"},\"entrySize\":{\"value\":\"10000000\"},\"quoteEntryId\":{\"value\":\"quoteEntryId\"}}]},{\"key\":\"912796KN81504510201933\",\"securityId\":\"912796KN8\",\"timestamp\":1504510201933,\"marketDataEntryList\":[{\"entryId\":\"px2hEntry_bid\",\"entryType\":\"BID\",\"entryPx\":{\"value\":\"92.76563\"},\"currencyCode\":{\"value\":\"USD\"},\"settlementCurrencyCode\":{\"value\":\"USD\"},\"entrySize\":{\"value\":\"10000000\"},\"quoteEntryId\":{\"value\":\"quoteEntryId\"}},{\"entryId\":\"px2hEntry_mid\",\"entryType\":\"MID\",\"entryPx\":{\"value\":\"92.76563\"},\"currencyCode\":{\"value\":\"USD\"},\"settlementCurrencyCode\":{\"value\":\"USD\"},\"entrySize\":{\"value\":\"10000000\"},\"quoteEntryId\":{\"value\":\"quoteEntryId\"}},{\"entryId\":\"px2hEntry_ask\",\"entryType\":\"OFFER\",\"entryPx\":{\"value\":\"92.76563\"},\"currencyCode\":{\"value\":\"USD\"},\"settlementCurrencyCode\":{\"value\":\"USD\"},\"entrySize\":{\"value\":\"10000000\"},\"quoteEntryId\":{\"value\":\"quoteEntryId\"}}]}]}\n"
     ]
    },
    {
     "ename": "TypeError",
     "evalue": "float() argument must be a string or a number, not 'X'",
     "output_type": "error",
     "traceback": [
      "\u001b[0;31m---------------------------------------------------------------------------\u001b[0m",
      "\u001b[0;31mTypeError\u001b[0m                                 Traceback (most recent call last)",
      "\u001b[0;32m<ipython-input-22-ccd8eea33d92>\u001b[0m in \u001b[0;36m<module>\u001b[0;34m()\u001b[0m\n\u001b[1;32m     13\u001b[0m \u001b[0mrun\u001b[0m\u001b[0;34m(\u001b[0m\u001b[0minput_graph\u001b[0m\u001b[0;34m)\u001b[0m\u001b[0;34m\u001b[0m\u001b[0m\n\u001b[1;32m     14\u001b[0m \u001b[0mprint\u001b[0m\u001b[0;34m(\u001b[0m\u001b[0minput_graph\u001b[0m\u001b[0;34m.\u001b[0m\u001b[0msink\u001b[0m\u001b[0;34m[\u001b[0m\u001b[0;36m0\u001b[0m\u001b[0;34m]\u001b[0m\u001b[0;34m.\u001b[0m\u001b[0mvalue\u001b[0m\u001b[0;34m)\u001b[0m\u001b[0;34m\u001b[0m\u001b[0m\n\u001b[0;32m---> 15\u001b[0;31m \u001b[0mjson_to_domain\u001b[0m\u001b[0;34m(\u001b[0m\u001b[0minput_graph\u001b[0m\u001b[0;34m.\u001b[0m\u001b[0msink\u001b[0m\u001b[0;34m[\u001b[0m\u001b[0;36m0\u001b[0m\u001b[0;34m]\u001b[0m\u001b[0;34m.\u001b[0m\u001b[0mvalue\u001b[0m\u001b[0;34m)\u001b[0m\u001b[0;34m\u001b[0m\u001b[0m\n\u001b[0m",
      "\u001b[0;32m/opt/conda/lib/python3.5/site-packages/mosaicsmartdata/common/json_convertor.py\u001b[0m in \u001b[0;36mjson_to_domain\u001b[0;34m(json_message)\u001b[0m\n\u001b[1;32m    270\u001b[0m     \u001b[0;32melse\u001b[0m\u001b[0;34m:\u001b[0m\u001b[0;34m\u001b[0m\u001b[0m\n\u001b[1;32m    271\u001b[0m         \u001b[0;31m# convert to Quote object\u001b[0m\u001b[0;34m\u001b[0m\u001b[0;34m\u001b[0m\u001b[0m\n\u001b[0;32m--> 272\u001b[0;31m         \u001b[0;32mreturn\u001b[0m \u001b[0mjson_to_quote\u001b[0m\u001b[0;34m(\u001b[0m\u001b[0mjson_message\u001b[0m\u001b[0;34m=\u001b[0m\u001b[0mjson_message\u001b[0m\u001b[0;34m)\u001b[0m\u001b[0;34m\u001b[0m\u001b[0m\n\u001b[0m\u001b[1;32m    273\u001b[0m \u001b[0;34m\u001b[0m\u001b[0m\n\u001b[1;32m    274\u001b[0m \u001b[0;32mdef\u001b[0m \u001b[0mdomain_to_json\u001b[0m\u001b[0;34m(\u001b[0m\u001b[0mobj\u001b[0m\u001b[0;34m)\u001b[0m\u001b[0;34m:\u001b[0m\u001b[0;34m\u001b[0m\u001b[0m\n",
      "\u001b[0;32m/opt/conda/lib/python3.5/site-packages/mosaicsmartdata/common/json_convertor.py\u001b[0m in \u001b[0;36mjson_to_quote\u001b[0;34m(json_message)\u001b[0m\n\u001b[1;32m    156\u001b[0m     \u001b[0mrequest\u001b[0m \u001b[0;34m=\u001b[0m \u001b[0mjson\u001b[0m\u001b[0;34m.\u001b[0m\u001b[0mloads\u001b[0m\u001b[0;34m(\u001b[0m\u001b[0mjson_message\u001b[0m\u001b[0;34m,\u001b[0m \u001b[0mobject_hook\u001b[0m\u001b[0;34m=\u001b[0m\u001b[0;32mlambda\u001b[0m \u001b[0md\u001b[0m\u001b[0;34m:\u001b[0m \u001b[0mnamedtuple\u001b[0m\u001b[0;34m(\u001b[0m\u001b[0;34m'X'\u001b[0m\u001b[0;34m,\u001b[0m \u001b[0md\u001b[0m\u001b[0;34m.\u001b[0m\u001b[0mkeys\u001b[0m\u001b[0;34m(\u001b[0m\u001b[0;34m)\u001b[0m\u001b[0;34m)\u001b[0m\u001b[0;34m(\u001b[0m\u001b[0;34m*\u001b[0m\u001b[0md\u001b[0m\u001b[0;34m.\u001b[0m\u001b[0mvalues\u001b[0m\u001b[0;34m(\u001b[0m\u001b[0;34m)\u001b[0m\u001b[0;34m)\u001b[0m\u001b[0;34m)\u001b[0m\u001b[0;34m\u001b[0m\u001b[0m\n\u001b[1;32m    157\u001b[0m     \u001b[0;31m# calculate a vwap of bids\u001b[0m\u001b[0;34m\u001b[0m\u001b[0;34m\u001b[0m\u001b[0m\n\u001b[0;32m--> 158\u001b[0;31m     \u001b[0mzz\u001b[0m \u001b[0;34m=\u001b[0m \u001b[0;34m[\u001b[0m\u001b[0;34m[\u001b[0m\u001b[0mfloat\u001b[0m\u001b[0;34m(\u001b[0m\u001b[0mx\u001b[0m\u001b[0;34m.\u001b[0m\u001b[0mentrySize\u001b[0m\u001b[0;34m)\u001b[0m\u001b[0;34m,\u001b[0m \u001b[0mfloat\u001b[0m\u001b[0;34m(\u001b[0m\u001b[0mx\u001b[0m\u001b[0;34m.\u001b[0m\u001b[0mentryPx\u001b[0m\u001b[0;34m)\u001b[0m\u001b[0;34m]\u001b[0m \u001b[0;32mfor\u001b[0m \u001b[0mx\u001b[0m \u001b[0;32min\u001b[0m \u001b[0mrequest\u001b[0m\u001b[0;34m[\u001b[0m\u001b[0;36m0\u001b[0m\u001b[0;34m]\u001b[0m\u001b[0;34m[\u001b[0m\u001b[0;36m0\u001b[0m\u001b[0;34m]\u001b[0m\u001b[0;34m.\u001b[0m\u001b[0mmarketDataEntryList\u001b[0m \u001b[0;32mif\u001b[0m \u001b[0mstr\u001b[0m\u001b[0;34m.\u001b[0m\u001b[0mupper\u001b[0m\u001b[0;34m(\u001b[0m\u001b[0mx\u001b[0m\u001b[0;34m.\u001b[0m\u001b[0mentryType\u001b[0m\u001b[0;34m)\u001b[0m \u001b[0;34m==\u001b[0m \u001b[0;34m\"BID\"\u001b[0m\u001b[0;34m]\u001b[0m\u001b[0;34m\u001b[0m\u001b[0m\n\u001b[0m\u001b[1;32m    159\u001b[0m     \u001b[0mbid_close\u001b[0m \u001b[0;34m=\u001b[0m \u001b[0msum\u001b[0m\u001b[0;34m(\u001b[0m\u001b[0;34m[\u001b[0m\u001b[0mx\u001b[0m\u001b[0;34m[\u001b[0m\u001b[0;36m0\u001b[0m\u001b[0;34m]\u001b[0m \u001b[0;34m*\u001b[0m \u001b[0mx\u001b[0m\u001b[0;34m[\u001b[0m\u001b[0;36m1\u001b[0m\u001b[0;34m]\u001b[0m \u001b[0;32mfor\u001b[0m \u001b[0mx\u001b[0m \u001b[0;32min\u001b[0m \u001b[0mzz\u001b[0m\u001b[0;34m]\u001b[0m\u001b[0;34m)\u001b[0m \u001b[0;34m/\u001b[0m \u001b[0msum\u001b[0m\u001b[0;34m(\u001b[0m\u001b[0;34m[\u001b[0m\u001b[0mx\u001b[0m\u001b[0;34m[\u001b[0m\u001b[0;36m0\u001b[0m\u001b[0;34m]\u001b[0m \u001b[0;32mfor\u001b[0m \u001b[0mx\u001b[0m \u001b[0;32min\u001b[0m \u001b[0mzz\u001b[0m\u001b[0;34m]\u001b[0m\u001b[0;34m)\u001b[0m\u001b[0;34m\u001b[0m\u001b[0m\n\u001b[1;32m    160\u001b[0m     \u001b[0;31m# calculate a vwap of ask\u001b[0m\u001b[0;34m\u001b[0m\u001b[0;34m\u001b[0m\u001b[0m\n",
      "\u001b[0;32m/opt/conda/lib/python3.5/site-packages/mosaicsmartdata/common/json_convertor.py\u001b[0m in \u001b[0;36m<listcomp>\u001b[0;34m(.0)\u001b[0m\n\u001b[1;32m    156\u001b[0m     \u001b[0mrequest\u001b[0m \u001b[0;34m=\u001b[0m \u001b[0mjson\u001b[0m\u001b[0;34m.\u001b[0m\u001b[0mloads\u001b[0m\u001b[0;34m(\u001b[0m\u001b[0mjson_message\u001b[0m\u001b[0;34m,\u001b[0m \u001b[0mobject_hook\u001b[0m\u001b[0;34m=\u001b[0m\u001b[0;32mlambda\u001b[0m \u001b[0md\u001b[0m\u001b[0;34m:\u001b[0m \u001b[0mnamedtuple\u001b[0m\u001b[0;34m(\u001b[0m\u001b[0;34m'X'\u001b[0m\u001b[0;34m,\u001b[0m \u001b[0md\u001b[0m\u001b[0;34m.\u001b[0m\u001b[0mkeys\u001b[0m\u001b[0;34m(\u001b[0m\u001b[0;34m)\u001b[0m\u001b[0;34m)\u001b[0m\u001b[0;34m(\u001b[0m\u001b[0;34m*\u001b[0m\u001b[0md\u001b[0m\u001b[0;34m.\u001b[0m\u001b[0mvalues\u001b[0m\u001b[0;34m(\u001b[0m\u001b[0;34m)\u001b[0m\u001b[0;34m)\u001b[0m\u001b[0;34m)\u001b[0m\u001b[0;34m\u001b[0m\u001b[0m\n\u001b[1;32m    157\u001b[0m     \u001b[0;31m# calculate a vwap of bids\u001b[0m\u001b[0;34m\u001b[0m\u001b[0;34m\u001b[0m\u001b[0m\n\u001b[0;32m--> 158\u001b[0;31m     \u001b[0mzz\u001b[0m \u001b[0;34m=\u001b[0m \u001b[0;34m[\u001b[0m\u001b[0;34m[\u001b[0m\u001b[0mfloat\u001b[0m\u001b[0;34m(\u001b[0m\u001b[0mx\u001b[0m\u001b[0;34m.\u001b[0m\u001b[0mentrySize\u001b[0m\u001b[0;34m)\u001b[0m\u001b[0;34m,\u001b[0m \u001b[0mfloat\u001b[0m\u001b[0;34m(\u001b[0m\u001b[0mx\u001b[0m\u001b[0;34m.\u001b[0m\u001b[0mentryPx\u001b[0m\u001b[0;34m)\u001b[0m\u001b[0;34m]\u001b[0m \u001b[0;32mfor\u001b[0m \u001b[0mx\u001b[0m \u001b[0;32min\u001b[0m \u001b[0mrequest\u001b[0m\u001b[0;34m[\u001b[0m\u001b[0;36m0\u001b[0m\u001b[0;34m]\u001b[0m\u001b[0;34m[\u001b[0m\u001b[0;36m0\u001b[0m\u001b[0;34m]\u001b[0m\u001b[0;34m.\u001b[0m\u001b[0mmarketDataEntryList\u001b[0m \u001b[0;32mif\u001b[0m \u001b[0mstr\u001b[0m\u001b[0;34m.\u001b[0m\u001b[0mupper\u001b[0m\u001b[0;34m(\u001b[0m\u001b[0mx\u001b[0m\u001b[0;34m.\u001b[0m\u001b[0mentryType\u001b[0m\u001b[0;34m)\u001b[0m \u001b[0;34m==\u001b[0m \u001b[0;34m\"BID\"\u001b[0m\u001b[0;34m]\u001b[0m\u001b[0;34m\u001b[0m\u001b[0m\n\u001b[0m\u001b[1;32m    159\u001b[0m     \u001b[0mbid_close\u001b[0m \u001b[0;34m=\u001b[0m \u001b[0msum\u001b[0m\u001b[0;34m(\u001b[0m\u001b[0;34m[\u001b[0m\u001b[0mx\u001b[0m\u001b[0;34m[\u001b[0m\u001b[0;36m0\u001b[0m\u001b[0;34m]\u001b[0m \u001b[0;34m*\u001b[0m \u001b[0mx\u001b[0m\u001b[0;34m[\u001b[0m\u001b[0;36m1\u001b[0m\u001b[0;34m]\u001b[0m \u001b[0;32mfor\u001b[0m \u001b[0mx\u001b[0m \u001b[0;32min\u001b[0m \u001b[0mzz\u001b[0m\u001b[0;34m]\u001b[0m\u001b[0;34m)\u001b[0m \u001b[0;34m/\u001b[0m \u001b[0msum\u001b[0m\u001b[0;34m(\u001b[0m\u001b[0;34m[\u001b[0m\u001b[0mx\u001b[0m\u001b[0;34m[\u001b[0m\u001b[0;36m0\u001b[0m\u001b[0;34m]\u001b[0m \u001b[0;32mfor\u001b[0m \u001b[0mx\u001b[0m \u001b[0;32min\u001b[0m \u001b[0mzz\u001b[0m\u001b[0;34m]\u001b[0m\u001b[0;34m)\u001b[0m\u001b[0;34m\u001b[0m\u001b[0m\n\u001b[1;32m    160\u001b[0m     \u001b[0;31m# calculate a vwap of ask\u001b[0m\u001b[0;34m\u001b[0m\u001b[0;34m\u001b[0m\u001b[0m\n",
      "\u001b[0;31mTypeError\u001b[0m: float() argument must be a string or a number, not 'X'"
     ]
    }
   ],
   "source": [
    "# let's check the dump was successful\n",
    "from aiostreams import AsyncKafkaSource, run\n",
    "import aiostreams.operators as op\n",
    "from mosaicsmartdata.common.json_convertor import *\n",
    "import json\n",
    "\n",
    "input_graph = AsyncKafkaSource('bond-quotes-topic', bootstrap_servers=kafka_host,\\\n",
    "                               value_deserializer =  lambda x: x.decode('utf-8')) > []#| op.passthrough(print) |\\\n",
    "                                #op.map(lambda x: json_to_domain(x.value)) > print# #op.map(lambda x: json.loads(x.value) ) > []\n",
    "                           #\n",
    "                            #\n",
    "                #\n",
    "                \n",
    "run(input_graph)\n",
    "print(input_graph.sink[0].value)\n",
    "json_to_domain(input_graph.sink[0].value)"
   ]
  },
  {
   "cell_type": "code",
   "execution_count": 32,
   "metadata": {
    "collapsed": false
   },
   "outputs": [],
   "source": [
    "# let's check the dump was successful\n",
    "from aiostreams import AsyncKafkaSource, run\n",
    "import aiostreams.operators as op\n",
    "from mosaicsmartdata.common.json_convertor import *\n",
    "import json\n",
    "\n",
    "input_graph = AsyncKafkaSource('output-topic', bootstrap_servers=kafka_host,\\\n",
    "                               value_deserializer =  lambda x: x.decode('utf-8')) >print\n",
    "                #op.map(lambda x: json_to_domain(x.value)) > print\n",
    "                #op.map(lambda x: json.loads(x.value) ) > print\n",
    "                \n",
    "run(input_graph)"
   ]
  },
  {
   "cell_type": "code",
   "execution_count": null,
   "metadata": {
    "collapsed": true
   },
   "outputs": [],
   "source": [
    "# now let's feed that data into our nice Kafka wrapper: first eur quotes\n",
    "from aiostreams.kafka import AsyncKafkaPublisher\n",
    "\n",
    "print(len(eurquotes))\n",
    "\n",
    "pub1 = AsyncKafkaPublisher(bootstrap_servers=kafka_host, topic='eurquotes', value_serializer = 'json')\n",
    "#pub1.verbose=True\n",
    "to_async_iterable(eurquotes) > pub1\n"
   ]
  },
  {
   "cell_type": "code",
   "execution_count": null,
   "metadata": {
    "collapsed": true
   },
   "outputs": [],
   "source": [
    "# and then gbp quotes\n",
    "print(len(eurgbpquotes))\n",
    "\n",
    "pub1.topic='eurgbpquotes'\n",
    "to_async_iterable(eurgbpquotes) > pub1"
   ]
  },
  {
   "cell_type": "code",
   "execution_count": null,
   "metadata": {
    "collapsed": true
   },
   "outputs": [],
   "source": [
    "# and now let's publish trades to a joint topic, just for the fun of it\n",
    "\n",
    "eurtrades = to_async_iterable(eurtrades)\n",
    "eurgbptrades = to_async_iterable(eurgbptrades)\n",
    "joint_trade_stream = op.merge_sorted([eurgbptrades,eurtrades], lambda x: x.timestamp)\n",
    "\n",
    "pub1.topic = 'trades'\n",
    "joint_trade_stream > pub1"
   ]
  },
  {
   "cell_type": "code",
   "execution_count": null,
   "metadata": {
    "collapsed": true
   },
   "outputs": [],
   "source": []
  }
 ],
 "metadata": {
  "anaconda-cloud": {},
  "kernelspec": {
   "display_name": "Python [default]",
   "language": "python",
   "name": "python3"
  },
  "language_info": {
   "codemirror_mode": {
    "name": "ipython",
    "version": 3
   },
   "file_extension": ".py",
   "mimetype": "text/x-python",
   "name": "python",
   "nbconvert_exporter": "python",
   "pygments_lexer": "ipython3",
   "version": "3.5.2"
  }
 },
 "nbformat": 4,
 "nbformat_minor": 1
}
