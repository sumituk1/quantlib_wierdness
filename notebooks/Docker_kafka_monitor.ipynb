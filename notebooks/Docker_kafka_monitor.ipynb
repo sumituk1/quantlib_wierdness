{
 "cells": [
  {
   "cell_type": "markdown",
   "metadata": {},
   "source": [
    "# This will load play data into a Kafka instance. Only run once as otherwise the topics won't be ordered."
   ]
  },
  {
   "cell_type": "markdown",
   "metadata": {},
   "source": [
    "To start Kafka 9 in Docker (using image from https://hub.docker.com/r/flozano/kafka/) run the following in the Docker bash:\n",
    "\n",
    "```\n",
    "docker run -p 2181:2181 -p 9092:9092 --env _KAFKA_advertised_host_name=`docker-machine ip \\`docker-machine active\\`` --env _KAFKA_advertised_port=9092 --name=local_kafka flozano/kafka &\n",
    "```\n",
    "\n",
    "To kill it run  \n",
    "```\n",
    "docker kill local_kafka\n",
    "```\n",
    "then \n",
    "```\n",
    "docker rm local_kafka\n",
    "```"
   ]
  },
  {
   "cell_type": "code",
   "execution_count": 1,
   "metadata": {
    "collapsed": false,
    "scrolled": true
   },
   "outputs": [
    {
     "name": "stdout",
     "output_type": "stream",
     "text": [
      "kafka:9092\n"
     ]
    }
   ],
   "source": [
    "# require at least Python 3.5 for async/await to work\n",
    "import sys\n",
    "ver=sys.version_info\n",
    "assert (ver[0]>=3 and ver[1]>=5)\n",
    "sys.path.append('../src')\n",
    "sys.path.append('../../msq-domain/src')\n",
    "\n",
    "import aiostreams.operators as op\n",
    "from aiostreams.config import QCConfigProvider\n",
    "\n",
    "#QCConfigProvider().kafka_broker = '0.0.0.0:9092'\n",
    "kafka_host = QCConfigProvider().kafka_broker\n",
    "# !set _KAFKA_advertised_host_name=0.0.0.0\n",
    "# !set _KAFKA_advertised_port=9092\n",
    "print(kafka_host)"
   ]
  },
  {
   "cell_type": "code",
   "execution_count": 2,
   "metadata": {
    "collapsed": false,
    "scrolled": true
   },
   "outputs": [
    {
     "data": {
      "text/plain": [
       "'test'"
      ]
     },
     "execution_count": 2,
     "metadata": {},
     "output_type": "execute_result"
    }
   ],
   "source": [
    "# try writing just one record to Kafka using the basic kafka library, \n",
    "# and reading back from it, to make sure Kafka is up, \n",
    "from kafka import KafkaProducer, KafkaConsumer\n",
    "import pickle\n",
    "\n",
    "topic='test_topic_2'\n",
    "\n",
    "kprod=KafkaProducer(bootstrap_servers=kafka_host)\n",
    "kprod.send(topic,pickle.dumps('test'))\n",
    "\n",
    "consumer = KafkaConsumer(topic,bootstrap_servers=kafka_host,auto_offset_reset='earliest',\n",
    "                         group_id=None, value_deserializer=lambda x: pickle.loads(x))\n",
    "next(consumer).value"
   ]
  },
  {
   "cell_type": "code",
   "execution_count": 11,
   "metadata": {
    "collapsed": false
   },
   "outputs": [
    {
     "name": "stdout",
     "output_type": "stream",
     "text": [
      "<class 'mosaicsmartdata.core.quote.Quote'> :  ask = 92.71875, timestamp = 2017-09-05 03:30:01.933000, units = None, bid = 92.71875, instrument = None, duration = None, sym = 912796KN8\n",
      "<class 'mosaicsmartdata.core.quote.Quote'> :  ask = 92.73438, timestamp = 2017-09-05 04:30:01.933000, units = None, bid = 92.73438, instrument = None, duration = None, sym = 912796KN8\n",
      "<class 'mosaicsmartdata.core.quote.Quote'> :  ask = 92.73438, timestamp = 2017-09-05 05:00:01.933000, units = None, bid = 92.73438, instrument = None, duration = None, sym = 912796KN8\n",
      "<class 'mosaicsmartdata.core.quote.Quote'> :  ask = 92.71875, timestamp = 2017-09-05 05:25:01.933000, units = None, bid = 92.71875, instrument = None, duration = None, sym = 912796KN8\n",
      "<class 'mosaicsmartdata.core.quote.Quote'> :  ask = 99.716, timestamp = 2017-09-05 05:29:31.933000, units = None, bid = 99.716, instrument = None, duration = None, sym = 912796KN8\n",
      "<class 'mosaicsmartdata.core.quote.Quote'> :  ask = 92.76563, timestamp = 2017-09-05 05:30:01.933000, units = None, bid = 92.76563, instrument = None, duration = None, sym = 912796KN8\n",
      "<class 'mosaicsmartdata.core.quote.Quote'> :  ask = 99.76563, timestamp = 2017-09-05 05:30:31.933000, units = None, bid = 99.76563, instrument = None, duration = None, sym = 912796KN8\n",
      "<class 'mosaicsmartdata.core.quote.Quote'> :  ask = 92.7188, timestamp = 2017-09-05 05:35:01.933000, units = None, bid = 92.7188, instrument = None, duration = None, sym = 912796KN8\n",
      "<class 'mosaicsmartdata.core.quote.Quote'> :  ask = 99.785, timestamp = 2017-09-05 06:00:01.933000, units = None, bid = 99.785, instrument = None, duration = None, sym = 912796KN8\n",
      "<class 'mosaicsmartdata.core.quote.Quote'> :  ask = 92.75, timestamp = 2017-09-05 06:30:01.933000, units = None, bid = 92.75, instrument = None, duration = None, sym = 912796KN8\n",
      "<class 'mosaicsmartdata.core.quote.Quote'> :  ask = 92.76563, timestamp = 2017-09-05 07:30:01.933000, units = None, bid = 92.76563, instrument = None, duration = None, sym = 912796KN8\n",
      "<class 'mosaicsmartdata.core.quote.Quote'> :  ask = 92.71875, timestamp = 2017-09-05 03:30:01.933000, units = None, bid = 92.71875, instrument = None, duration = None, sym = 912796KN8\n",
      "<class 'mosaicsmartdata.core.quote.Quote'> :  ask = 92.73438, timestamp = 2017-09-05 04:30:01.933000, units = None, bid = 92.73438, instrument = None, duration = None, sym = 912796KN8\n",
      "<class 'mosaicsmartdata.core.quote.Quote'> :  ask = 92.73438, timestamp = 2017-09-05 05:00:01.933000, units = None, bid = 92.73438, instrument = None, duration = None, sym = 912796KN8\n",
      "<class 'mosaicsmartdata.core.quote.Quote'> :  ask = 92.71875, timestamp = 2017-09-05 05:25:01.933000, units = None, bid = 92.71875, instrument = None, duration = None, sym = 912796KN8\n",
      "<class 'mosaicsmartdata.core.quote.Quote'> :  ask = 99.716, timestamp = 2017-09-05 05:29:31.933000, units = None, bid = 99.716, instrument = None, duration = None, sym = 912796KN8\n",
      "<class 'mosaicsmartdata.core.quote.Quote'> :  ask = 92.76563, timestamp = 2017-09-05 05:30:01.933000, units = None, bid = 92.76563, instrument = None, duration = None, sym = 912796KN8\n",
      "<class 'mosaicsmartdata.core.quote.Quote'> :  ask = 99.76563, timestamp = 2017-09-05 05:30:31.933000, units = None, bid = 99.76563, instrument = None, duration = None, sym = 912796KN8\n",
      "<class 'mosaicsmartdata.core.quote.Quote'> :  ask = 92.7188, timestamp = 2017-09-05 05:35:01.933000, units = None, bid = 92.7188, instrument = None, duration = None, sym = 912796KN8\n",
      "<class 'mosaicsmartdata.core.quote.Quote'> :  ask = 99.785, timestamp = 2017-09-05 06:00:01.933000, units = None, bid = 99.785, instrument = None, duration = None, sym = 912796KN8\n",
      "<class 'mosaicsmartdata.core.quote.Quote'> :  ask = 92.75, timestamp = 2017-09-05 06:30:01.933000, units = None, bid = 92.75, instrument = None, duration = None, sym = 912796KN8\n",
      "<class 'mosaicsmartdata.core.quote.Quote'> :  ask = 92.76563, timestamp = 2017-09-05 07:30:01.933000, units = None, bid = 92.76563, instrument = None, duration = None, sym = 912796KN8\n",
      "<class 'mosaicsmartdata.core.quote.Quote'> :  ask = 92.71875, timestamp = 2017-09-05 03:30:01.933000, units = None, bid = 92.71875, instrument = None, duration = None, sym = 912796KN8\n",
      "<class 'mosaicsmartdata.core.quote.Quote'> :  ask = 92.73438, timestamp = 2017-09-05 04:30:01.933000, units = None, bid = 92.73438, instrument = None, duration = None, sym = 912796KN8\n",
      "<class 'mosaicsmartdata.core.quote.Quote'> :  ask = 92.73438, timestamp = 2017-09-05 05:00:01.933000, units = None, bid = 92.73438, instrument = None, duration = None, sym = 912796KN8\n",
      "<class 'mosaicsmartdata.core.quote.Quote'> :  ask = 92.71875, timestamp = 2017-09-05 05:25:01.933000, units = None, bid = 92.71875, instrument = None, duration = None, sym = 912796KN8\n",
      "<class 'mosaicsmartdata.core.quote.Quote'> :  ask = 99.716, timestamp = 2017-09-05 05:29:31.933000, units = None, bid = 99.716, instrument = None, duration = None, sym = 912796KN8\n",
      "<class 'mosaicsmartdata.core.quote.Quote'> :  ask = 92.76563, timestamp = 2017-09-05 05:30:01.933000, units = None, bid = 92.76563, instrument = None, duration = None, sym = 912796KN8\n",
      "<class 'mosaicsmartdata.core.quote.Quote'> :  ask = 99.76563, timestamp = 2017-09-05 05:30:31.933000, units = None, bid = 99.76563, instrument = None, duration = None, sym = 912796KN8\n",
      "<class 'mosaicsmartdata.core.quote.Quote'> :  ask = 92.7188, timestamp = 2017-09-05 05:35:01.933000, units = None, bid = 92.7188, instrument = None, duration = None, sym = 912796KN8\n",
      "<class 'mosaicsmartdata.core.quote.Quote'> :  ask = 99.785, timestamp = 2017-09-05 06:00:01.933000, units = None, bid = 99.785, instrument = None, duration = None, sym = 912796KN8\n",
      "<class 'mosaicsmartdata.core.quote.Quote'> :  ask = 92.75, timestamp = 2017-09-05 06:30:01.933000, units = None, bid = 92.75, instrument = None, duration = None, sym = 912796KN8\n",
      "<class 'mosaicsmartdata.core.quote.Quote'> :  ask = 92.76563, timestamp = 2017-09-05 07:30:01.933000, units = None, bid = 92.76563, instrument = None, duration = None, sym = 912796KN8\n",
      "<class 'mosaicsmartdata.core.quote.Quote'> :  ask = 92.71875, timestamp = 2017-09-05 03:30:01.933000, units = None, bid = 92.71875, instrument = None, duration = None, sym = 912796KN8\n",
      "<class 'mosaicsmartdata.core.quote.Quote'> :  ask = 92.73438, timestamp = 2017-09-05 04:30:01.933000, units = None, bid = 92.73438, instrument = None, duration = None, sym = 912796KN8\n",
      "<class 'mosaicsmartdata.core.quote.Quote'> :  ask = 92.73438, timestamp = 2017-09-05 05:00:01.933000, units = None, bid = 92.73438, instrument = None, duration = None, sym = 912796KN8\n",
      "<class 'mosaicsmartdata.core.quote.Quote'> :  ask = 92.71875, timestamp = 2017-09-05 05:25:01.933000, units = None, bid = 92.71875, instrument = None, duration = None, sym = 912796KN8\n",
      "<class 'mosaicsmartdata.core.quote.Quote'> :  ask = 99.716, timestamp = 2017-09-05 05:29:31.933000, units = None, bid = 99.716, instrument = None, duration = None, sym = 912796KN8\n",
      "<class 'mosaicsmartdata.core.quote.Quote'> :  ask = 92.76563, timestamp = 2017-09-05 05:30:01.933000, units = None, bid = 92.76563, instrument = None, duration = None, sym = 912796KN8\n",
      "<class 'mosaicsmartdata.core.quote.Quote'> :  ask = 99.76563, timestamp = 2017-09-05 05:30:31.933000, units = None, bid = 99.76563, instrument = None, duration = None, sym = 912796KN8\n",
      "<class 'mosaicsmartdata.core.quote.Quote'> :  ask = 92.7188, timestamp = 2017-09-05 05:35:01.933000, units = None, bid = 92.7188, instrument = None, duration = None, sym = 912796KN8\n",
      "<class 'mosaicsmartdata.core.quote.Quote'> :  ask = 99.785, timestamp = 2017-09-05 06:00:01.933000, units = None, bid = 99.785, instrument = None, duration = None, sym = 912796KN8\n",
      "<class 'mosaicsmartdata.core.quote.Quote'> :  ask = 92.75, timestamp = 2017-09-05 06:30:01.933000, units = None, bid = 92.75, instrument = None, duration = None, sym = 912796KN8\n",
      "<class 'mosaicsmartdata.core.quote.Quote'> :  ask = 92.76563, timestamp = 2017-09-05 07:30:01.933000, units = None, bid = 92.76563, instrument = None, duration = None, sym = 912796KN8\n",
      "<class 'mosaicsmartdata.core.quote.Quote'> :  ask = 92.71875, timestamp = 2017-09-05 03:30:01.933000, units = None, bid = 92.71875, instrument = None, duration = None, sym = 912796KN8\n",
      "<class 'mosaicsmartdata.core.quote.Quote'> :  ask = 92.73438, timestamp = 2017-09-05 04:30:01.933000, units = None, bid = 92.73438, instrument = None, duration = None, sym = 912796KN8\n",
      "<class 'mosaicsmartdata.core.quote.Quote'> :  ask = 92.73438, timestamp = 2017-09-05 05:00:01.933000, units = None, bid = 92.73438, instrument = None, duration = None, sym = 912796KN8\n",
      "<class 'mosaicsmartdata.core.quote.Quote'> :  ask = 92.71875, timestamp = 2017-09-05 05:25:01.933000, units = None, bid = 92.71875, instrument = None, duration = None, sym = 912796KN8\n",
      "<class 'mosaicsmartdata.core.quote.Quote'> :  ask = 99.716, timestamp = 2017-09-05 05:29:31.933000, units = None, bid = 99.716, instrument = None, duration = None, sym = 912796KN8\n",
      "<class 'mosaicsmartdata.core.quote.Quote'> :  ask = 92.76563, timestamp = 2017-09-05 05:30:01.933000, units = None, bid = 92.76563, instrument = None, duration = None, sym = 912796KN8\n",
      "<class 'mosaicsmartdata.core.quote.Quote'> :  ask = 99.76563, timestamp = 2017-09-05 05:30:31.933000, units = None, bid = 99.76563, instrument = None, duration = None, sym = 912796KN8\n",
      "<class 'mosaicsmartdata.core.quote.Quote'> :  ask = 92.7188, timestamp = 2017-09-05 05:35:01.933000, units = None, bid = 92.7188, instrument = None, duration = None, sym = 912796KN8\n",
      "<class 'mosaicsmartdata.core.quote.Quote'> :  ask = 99.785, timestamp = 2017-09-05 06:00:01.933000, units = None, bid = 99.785, instrument = None, duration = None, sym = 912796KN8\n",
      "<class 'mosaicsmartdata.core.quote.Quote'> :  ask = 92.75, timestamp = 2017-09-05 06:30:01.933000, units = None, bid = 92.75, instrument = None, duration = None, sym = 912796KN8\n",
      "<class 'mosaicsmartdata.core.quote.Quote'> :  ask = 92.76563, timestamp = 2017-09-05 07:30:01.933000, units = None, bid = 92.76563, instrument = None, duration = None, sym = 912796KN8\n",
      "<class 'mosaicsmartdata.core.quote.Quote'> :  ask = 92.71875, timestamp = 2017-09-05 03:30:01.933000, units = None, bid = 92.71875, instrument = None, duration = None, sym = 912796KN8\n",
      "<class 'mosaicsmartdata.core.quote.Quote'> :  ask = 92.73438, timestamp = 2017-09-05 04:30:01.933000, units = None, bid = 92.73438, instrument = None, duration = None, sym = 912796KN8\n",
      "<class 'mosaicsmartdata.core.quote.Quote'> :  ask = 92.73438, timestamp = 2017-09-05 05:00:01.933000, units = None, bid = 92.73438, instrument = None, duration = None, sym = 912796KN8\n",
      "<class 'mosaicsmartdata.core.quote.Quote'> :  ask = 92.71875, timestamp = 2017-09-05 05:25:01.933000, units = None, bid = 92.71875, instrument = None, duration = None, sym = 912796KN8\n",
      "<class 'mosaicsmartdata.core.quote.Quote'> :  ask = 99.716, timestamp = 2017-09-05 05:29:31.933000, units = None, bid = 99.716, instrument = None, duration = None, sym = 912796KN8\n",
      "<class 'mosaicsmartdata.core.quote.Quote'> :  ask = 92.76563, timestamp = 2017-09-05 05:30:01.933000, units = None, bid = 92.76563, instrument = None, duration = None, sym = 912796KN8\n",
      "<class 'mosaicsmartdata.core.quote.Quote'> :  ask = 99.76563, timestamp = 2017-09-05 05:30:31.933000, units = None, bid = 99.76563, instrument = None, duration = None, sym = 912796KN8\n",
      "<class 'mosaicsmartdata.core.quote.Quote'> :  ask = 92.7188, timestamp = 2017-09-05 05:35:01.933000, units = None, bid = 92.7188, instrument = None, duration = None, sym = 912796KN8\n",
      "<class 'mosaicsmartdata.core.quote.Quote'> :  ask = 99.785, timestamp = 2017-09-05 06:00:01.933000, units = None, bid = 99.785, instrument = None, duration = None, sym = 912796KN8\n",
      "<class 'mosaicsmartdata.core.quote.Quote'> :  ask = 92.75, timestamp = 2017-09-05 06:30:01.933000, units = None, bid = 92.75, instrument = None, duration = None, sym = 912796KN8\n",
      "<class 'mosaicsmartdata.core.quote.Quote'> :  ask = 92.76563, timestamp = 2017-09-05 07:30:01.933000, units = None, bid = 92.76563, instrument = None, duration = None, sym = 912796KN8\n",
      "<class 'mosaicsmartdata.core.quote.Quote'> :  ask = 92.71875, timestamp = 2017-09-05 03:30:01.933000, units = None, bid = 92.71875, instrument = None, duration = None, sym = 912796KN8\n",
      "<class 'mosaicsmartdata.core.quote.Quote'> :  ask = 92.73438, timestamp = 2017-09-05 04:30:01.933000, units = None, bid = 92.73438, instrument = None, duration = None, sym = 912796KN8\n",
      "<class 'mosaicsmartdata.core.quote.Quote'> :  ask = 92.73438, timestamp = 2017-09-05 05:00:01.933000, units = None, bid = 92.73438, instrument = None, duration = None, sym = 912796KN8\n",
      "<class 'mosaicsmartdata.core.quote.Quote'> :  ask = 92.71875, timestamp = 2017-09-05 05:25:01.933000, units = None, bid = 92.71875, instrument = None, duration = None, sym = 912796KN8\n",
      "<class 'mosaicsmartdata.core.quote.Quote'> :  ask = 99.716, timestamp = 2017-09-05 05:29:31.933000, units = None, bid = 99.716, instrument = None, duration = None, sym = 912796KN8\n",
      "<class 'mosaicsmartdata.core.quote.Quote'> :  ask = 92.76563, timestamp = 2017-09-05 05:30:01.933000, units = None, bid = 92.76563, instrument = None, duration = None, sym = 912796KN8\n",
      "<class 'mosaicsmartdata.core.quote.Quote'> :  ask = 99.76563, timestamp = 2017-09-05 05:30:31.933000, units = None, bid = 99.76563, instrument = None, duration = None, sym = 912796KN8\n",
      "<class 'mosaicsmartdata.core.quote.Quote'> :  ask = 92.7188, timestamp = 2017-09-05 05:35:01.933000, units = None, bid = 92.7188, instrument = None, duration = None, sym = 912796KN8\n",
      "<class 'mosaicsmartdata.core.quote.Quote'> :  ask = 99.785, timestamp = 2017-09-05 06:00:01.933000, units = None, bid = 99.785, instrument = None, duration = None, sym = 912796KN8\n",
      "<class 'mosaicsmartdata.core.quote.Quote'> :  ask = 92.75, timestamp = 2017-09-05 06:30:01.933000, units = None, bid = 92.75, instrument = None, duration = None, sym = 912796KN8\n",
      "<class 'mosaicsmartdata.core.quote.Quote'> :  ask = 92.76563, timestamp = 2017-09-05 07:30:01.933000, units = None, bid = 92.76563, instrument = None, duration = None, sym = 912796KN8\n",
      "<class 'mosaicsmartdata.core.quote.Quote'> :  ask = 92.71875, timestamp = 2017-09-05 03:30:01.933000, units = None, bid = 92.71875, instrument = None, duration = None, sym = 912796KN8\n",
      "<class 'mosaicsmartdata.core.quote.Quote'> :  ask = 92.73438, timestamp = 2017-09-05 04:30:01.933000, units = None, bid = 92.73438, instrument = None, duration = None, sym = 912796KN8\n",
      "<class 'mosaicsmartdata.core.quote.Quote'> :  ask = 92.73438, timestamp = 2017-09-05 05:00:01.933000, units = None, bid = 92.73438, instrument = None, duration = None, sym = 912796KN8\n",
      "<class 'mosaicsmartdata.core.quote.Quote'> :  ask = 92.71875, timestamp = 2017-09-05 05:25:01.933000, units = None, bid = 92.71875, instrument = None, duration = None, sym = 912796KN8\n",
      "<class 'mosaicsmartdata.core.quote.Quote'> :  ask = 99.716, timestamp = 2017-09-05 05:29:31.933000, units = None, bid = 99.716, instrument = None, duration = None, sym = 912796KN8\n",
      "<class 'mosaicsmartdata.core.quote.Quote'> :  ask = 92.76563, timestamp = 2017-09-05 05:30:01.933000, units = None, bid = 92.76563, instrument = None, duration = None, sym = 912796KN8\n",
      "<class 'mosaicsmartdata.core.quote.Quote'> :  ask = 99.76563, timestamp = 2017-09-05 05:30:31.933000, units = None, bid = 99.76563, instrument = None, duration = None, sym = 912796KN8\n",
      "<class 'mosaicsmartdata.core.quote.Quote'> :  ask = 92.7188, timestamp = 2017-09-05 05:35:01.933000, units = None, bid = 92.7188, instrument = None, duration = None, sym = 912796KN8\n",
      "<class 'mosaicsmartdata.core.quote.Quote'> :  ask = 99.785, timestamp = 2017-09-05 06:00:01.933000, units = None, bid = 99.785, instrument = None, duration = None, sym = 912796KN8\n",
      "<class 'mosaicsmartdata.core.quote.Quote'> :  ask = 92.75, timestamp = 2017-09-05 06:30:01.933000, units = None, bid = 92.75, instrument = None, duration = None, sym = 912796KN8\n",
      "<class 'mosaicsmartdata.core.quote.Quote'> :  ask = 92.76563, timestamp = 2017-09-05 07:30:01.933000, units = None, bid = 92.76563, instrument = None, duration = None, sym = 912796KN8\n",
      "<class 'mosaicsmartdata.core.quote.Quote'> :  ask = 92.71875, timestamp = 2017-09-05 03:30:01.933000, units = None, bid = 92.71875, instrument = None, duration = None, sym = 912796KN8\n",
      "<class 'mosaicsmartdata.core.quote.Quote'> :  ask = 92.73438, timestamp = 2017-09-05 04:30:01.933000, units = None, bid = 92.73438, instrument = None, duration = None, sym = 912796KN8\n",
      "<class 'mosaicsmartdata.core.quote.Quote'> :  ask = 92.73438, timestamp = 2017-09-05 05:00:01.933000, units = None, bid = 92.73438, instrument = None, duration = None, sym = 912796KN8\n",
      "<class 'mosaicsmartdata.core.quote.Quote'> :  ask = 92.71875, timestamp = 2017-09-05 05:25:01.933000, units = None, bid = 92.71875, instrument = None, duration = None, sym = 912796KN8\n",
      "<class 'mosaicsmartdata.core.quote.Quote'> :  ask = 99.716, timestamp = 2017-09-05 05:29:31.933000, units = None, bid = 99.716, instrument = None, duration = None, sym = 912796KN8\n",
      "<class 'mosaicsmartdata.core.quote.Quote'> :  ask = 92.76563, timestamp = 2017-09-05 05:30:01.933000, units = None, bid = 92.76563, instrument = None, duration = None, sym = 912796KN8\n",
      "<class 'mosaicsmartdata.core.quote.Quote'> :  ask = 99.76563, timestamp = 2017-09-05 05:30:31.933000, units = None, bid = 99.76563, instrument = None, duration = None, sym = 912796KN8\n",
      "<class 'mosaicsmartdata.core.quote.Quote'> :  ask = 92.7188, timestamp = 2017-09-05 05:35:01.933000, units = None, bid = 92.7188, instrument = None, duration = None, sym = 912796KN8\n",
      "<class 'mosaicsmartdata.core.quote.Quote'> :  ask = 99.785, timestamp = 2017-09-05 06:00:01.933000, units = None, bid = 99.785, instrument = None, duration = None, sym = 912796KN8\n",
      "<class 'mosaicsmartdata.core.quote.Quote'> :  ask = 92.75, timestamp = 2017-09-05 06:30:01.933000, units = None, bid = 92.75, instrument = None, duration = None, sym = 912796KN8\n",
      "<class 'mosaicsmartdata.core.quote.Quote'> :  ask = 92.76563, timestamp = 2017-09-05 07:30:01.933000, units = None, bid = 92.76563, instrument = None, duration = None, sym = 912796KN8\n",
      "<class 'mosaicsmartdata.core.quote.Quote'> :  ask = 92.71875, timestamp = 2017-09-05 03:30:01.933000, units = None, bid = 92.71875, instrument = None, duration = None, sym = 912796KN8\n",
      "<class 'mosaicsmartdata.core.quote.Quote'> :  ask = 92.73438, timestamp = 2017-09-05 04:30:01.933000, units = None, bid = 92.73438, instrument = None, duration = None, sym = 912796KN8\n",
      "<class 'mosaicsmartdata.core.quote.Quote'> :  ask = 92.73438, timestamp = 2017-09-05 05:00:01.933000, units = None, bid = 92.73438, instrument = None, duration = None, sym = 912796KN8\n",
      "<class 'mosaicsmartdata.core.quote.Quote'> :  ask = 92.71875, timestamp = 2017-09-05 05:25:01.933000, units = None, bid = 92.71875, instrument = None, duration = None, sym = 912796KN8\n",
      "<class 'mosaicsmartdata.core.quote.Quote'> :  ask = 99.716, timestamp = 2017-09-05 05:29:31.933000, units = None, bid = 99.716, instrument = None, duration = None, sym = 912796KN8\n",
      "<class 'mosaicsmartdata.core.quote.Quote'> :  ask = 92.76563, timestamp = 2017-09-05 05:30:01.933000, units = None, bid = 92.76563, instrument = None, duration = None, sym = 912796KN8\n",
      "<class 'mosaicsmartdata.core.quote.Quote'> :  ask = 99.76563, timestamp = 2017-09-05 05:30:31.933000, units = None, bid = 99.76563, instrument = None, duration = None, sym = 912796KN8\n",
      "<class 'mosaicsmartdata.core.quote.Quote'> :  ask = 92.7188, timestamp = 2017-09-05 05:35:01.933000, units = None, bid = 92.7188, instrument = None, duration = None, sym = 912796KN8\n",
      "<class 'mosaicsmartdata.core.quote.Quote'> :  ask = 99.785, timestamp = 2017-09-05 06:00:01.933000, units = None, bid = 99.785, instrument = None, duration = None, sym = 912796KN8\n",
      "<class 'mosaicsmartdata.core.quote.Quote'> :  ask = 92.75, timestamp = 2017-09-05 06:30:01.933000, units = None, bid = 92.75, instrument = None, duration = None, sym = 912796KN8\n",
      "<class 'mosaicsmartdata.core.quote.Quote'> :  ask = 92.76563, timestamp = 2017-09-05 07:30:01.933000, units = None, bid = 92.76563, instrument = None, duration = None, sym = 912796KN8\n",
      "<class 'mosaicsmartdata.core.quote.Quote'> :  ask = 92.71875, timestamp = 2017-09-05 03:30:01.933000, units = None, bid = 92.71875, instrument = None, duration = None, sym = 912796KN8\n",
      "<class 'mosaicsmartdata.core.quote.Quote'> :  ask = 92.73438, timestamp = 2017-09-05 04:30:01.933000, units = None, bid = 92.73438, instrument = None, duration = None, sym = 912796KN8\n",
      "<class 'mosaicsmartdata.core.quote.Quote'> :  ask = 92.73438, timestamp = 2017-09-05 05:00:01.933000, units = None, bid = 92.73438, instrument = None, duration = None, sym = 912796KN8\n",
      "<class 'mosaicsmartdata.core.quote.Quote'> :  ask = 92.71875, timestamp = 2017-09-05 05:25:01.933000, units = None, bid = 92.71875, instrument = None, duration = None, sym = 912796KN8\n",
      "<class 'mosaicsmartdata.core.quote.Quote'> :  ask = 99.716, timestamp = 2017-09-05 05:29:31.933000, units = None, bid = 99.716, instrument = None, duration = None, sym = 912796KN8\n",
      "<class 'mosaicsmartdata.core.quote.Quote'> :  ask = 92.76563, timestamp = 2017-09-05 05:30:01.933000, units = None, bid = 92.76563, instrument = None, duration = None, sym = 912796KN8\n",
      "<class 'mosaicsmartdata.core.quote.Quote'> :  ask = 99.76563, timestamp = 2017-09-05 05:30:31.933000, units = None, bid = 99.76563, instrument = None, duration = None, sym = 912796KN8\n",
      "<class 'mosaicsmartdata.core.quote.Quote'> :  ask = 92.7188, timestamp = 2017-09-05 05:35:01.933000, units = None, bid = 92.7188, instrument = None, duration = None, sym = 912796KN8\n",
      "<class 'mosaicsmartdata.core.quote.Quote'> :  ask = 99.785, timestamp = 2017-09-05 06:00:01.933000, units = None, bid = 99.785, instrument = None, duration = None, sym = 912796KN8\n",
      "<class 'mosaicsmartdata.core.quote.Quote'> :  ask = 92.75, timestamp = 2017-09-05 06:30:01.933000, units = None, bid = 92.75, instrument = None, duration = None, sym = 912796KN8\n",
      "<class 'mosaicsmartdata.core.quote.Quote'> :  ask = 92.76563, timestamp = 2017-09-05 07:30:01.933000, units = None, bid = 92.76563, instrument = None, duration = None, sym = 912796KN8\n",
      "<class 'mosaicsmartdata.core.quote.Quote'> :  ask = 92.71875, timestamp = 2017-09-05 03:30:01.933000, units = None, bid = 92.71875, instrument = None, duration = None, sym = 912796KN8\n",
      "<class 'mosaicsmartdata.core.quote.Quote'> :  ask = 92.73438, timestamp = 2017-09-05 04:30:01.933000, units = None, bid = 92.73438, instrument = None, duration = None, sym = 912796KN8\n",
      "<class 'mosaicsmartdata.core.quote.Quote'> :  ask = 92.73438, timestamp = 2017-09-05 05:00:01.933000, units = None, bid = 92.73438, instrument = None, duration = None, sym = 912796KN8\n",
      "<class 'mosaicsmartdata.core.quote.Quote'> :  ask = 92.71875, timestamp = 2017-09-05 05:25:01.933000, units = None, bid = 92.71875, instrument = None, duration = None, sym = 912796KN8\n",
      "<class 'mosaicsmartdata.core.quote.Quote'> :  ask = 99.716, timestamp = 2017-09-05 05:29:31.933000, units = None, bid = 99.716, instrument = None, duration = None, sym = 912796KN8\n",
      "<class 'mosaicsmartdata.core.quote.Quote'> :  ask = 92.76563, timestamp = 2017-09-05 05:30:01.933000, units = None, bid = 92.76563, instrument = None, duration = None, sym = 912796KN8\n",
      "<class 'mosaicsmartdata.core.quote.Quote'> :  ask = 99.76563, timestamp = 2017-09-05 05:30:31.933000, units = None, bid = 99.76563, instrument = None, duration = None, sym = 912796KN8\n",
      "<class 'mosaicsmartdata.core.quote.Quote'> :  ask = 92.7188, timestamp = 2017-09-05 05:35:01.933000, units = None, bid = 92.7188, instrument = None, duration = None, sym = 912796KN8\n",
      "<class 'mosaicsmartdata.core.quote.Quote'> :  ask = 99.785, timestamp = 2017-09-05 06:00:01.933000, units = None, bid = 99.785, instrument = None, duration = None, sym = 912796KN8\n",
      "<class 'mosaicsmartdata.core.quote.Quote'> :  ask = 92.75, timestamp = 2017-09-05 06:30:01.933000, units = None, bid = 92.75, instrument = None, duration = None, sym = 912796KN8\n",
      "<class 'mosaicsmartdata.core.quote.Quote'> :  ask = 92.76563, timestamp = 2017-09-05 07:30:01.933000, units = None, bid = 92.76563, instrument = None, duration = None, sym = 912796KN8\n",
      "<class 'mosaicsmartdata.core.quote.Quote'> :  ask = 92.71875, timestamp = 2017-09-05 03:30:01.933000, units = None, bid = 92.71875, instrument = None, duration = None, sym = 912796KN8\n",
      "<class 'mosaicsmartdata.core.quote.Quote'> :  ask = 92.73438, timestamp = 2017-09-05 04:30:01.933000, units = None, bid = 92.73438, instrument = None, duration = None, sym = 912796KN8\n",
      "<class 'mosaicsmartdata.core.quote.Quote'> :  ask = 92.73438, timestamp = 2017-09-05 05:00:01.933000, units = None, bid = 92.73438, instrument = None, duration = None, sym = 912796KN8\n",
      "<class 'mosaicsmartdata.core.quote.Quote'> :  ask = 92.71875, timestamp = 2017-09-05 05:25:01.933000, units = None, bid = 92.71875, instrument = None, duration = None, sym = 912796KN8\n",
      "<class 'mosaicsmartdata.core.quote.Quote'> :  ask = 99.716, timestamp = 2017-09-05 05:29:31.933000, units = None, bid = 99.716, instrument = None, duration = None, sym = 912796KN8\n",
      "<class 'mosaicsmartdata.core.quote.Quote'> :  ask = 92.76563, timestamp = 2017-09-05 05:30:01.933000, units = None, bid = 92.76563, instrument = None, duration = None, sym = 912796KN8\n",
      "<class 'mosaicsmartdata.core.quote.Quote'> :  ask = 99.76563, timestamp = 2017-09-05 05:30:31.933000, units = None, bid = 99.76563, instrument = None, duration = None, sym = 912796KN8\n",
      "<class 'mosaicsmartdata.core.quote.Quote'> :  ask = 92.7188, timestamp = 2017-09-05 05:35:01.933000, units = None, bid = 92.7188, instrument = None, duration = None, sym = 912796KN8\n",
      "<class 'mosaicsmartdata.core.quote.Quote'> :  ask = 99.785, timestamp = 2017-09-05 06:00:01.933000, units = None, bid = 99.785, instrument = None, duration = None, sym = 912796KN8\n",
      "<class 'mosaicsmartdata.core.quote.Quote'> :  ask = 92.75, timestamp = 2017-09-05 06:30:01.933000, units = None, bid = 92.75, instrument = None, duration = None, sym = 912796KN8\n",
      "<class 'mosaicsmartdata.core.quote.Quote'> :  ask = 92.76563, timestamp = 2017-09-05 07:30:01.933000, units = None, bid = 92.76563, instrument = None, duration = None, sym = 912796KN8\n",
      "<class 'mosaicsmartdata.core.quote.Quote'> :  ask = 92.71875, timestamp = 2017-09-05 03:30:01.933000, units = None, bid = 92.71875, instrument = None, duration = None, sym = 912796KN8\n",
      "<class 'mosaicsmartdata.core.quote.Quote'> :  ask = 92.73438, timestamp = 2017-09-05 04:30:01.933000, units = None, bid = 92.73438, instrument = None, duration = None, sym = 912796KN8\n",
      "<class 'mosaicsmartdata.core.quote.Quote'> :  ask = 92.73438, timestamp = 2017-09-05 05:00:01.933000, units = None, bid = 92.73438, instrument = None, duration = None, sym = 912796KN8\n",
      "<class 'mosaicsmartdata.core.quote.Quote'> :  ask = 92.71875, timestamp = 2017-09-05 05:25:01.933000, units = None, bid = 92.71875, instrument = None, duration = None, sym = 912796KN8\n",
      "<class 'mosaicsmartdata.core.quote.Quote'> :  ask = 99.716, timestamp = 2017-09-05 05:29:31.933000, units = None, bid = 99.716, instrument = None, duration = None, sym = 912796KN8\n",
      "<class 'mosaicsmartdata.core.quote.Quote'> :  ask = 92.76563, timestamp = 2017-09-05 05:30:01.933000, units = None, bid = 92.76563, instrument = None, duration = None, sym = 912796KN8\n",
      "<class 'mosaicsmartdata.core.quote.Quote'> :  ask = 99.76563, timestamp = 2017-09-05 05:30:31.933000, units = None, bid = 99.76563, instrument = None, duration = None, sym = 912796KN8\n",
      "<class 'mosaicsmartdata.core.quote.Quote'> :  ask = 92.7188, timestamp = 2017-09-05 05:35:01.933000, units = None, bid = 92.7188, instrument = None, duration = None, sym = 912796KN8\n",
      "<class 'mosaicsmartdata.core.quote.Quote'> :  ask = 99.785, timestamp = 2017-09-05 06:00:01.933000, units = None, bid = 99.785, instrument = None, duration = None, sym = 912796KN8\n",
      "<class 'mosaicsmartdata.core.quote.Quote'> :  ask = 92.75, timestamp = 2017-09-05 06:30:01.933000, units = None, bid = 92.75, instrument = None, duration = None, sym = 912796KN8\n",
      "<class 'mosaicsmartdata.core.quote.Quote'> :  ask = 92.76563, timestamp = 2017-09-05 07:30:01.933000, units = None, bid = 92.76563, instrument = None, duration = None, sym = 912796KN8\n",
      "<class 'mosaicsmartdata.core.quote.Quote'> :  ask = 92.71875, timestamp = 2017-09-05 03:30:01.933000, units = None, bid = 92.71875, instrument = None, duration = None, sym = 912796KN8\n",
      "<class 'mosaicsmartdata.core.quote.Quote'> :  ask = 92.73438, timestamp = 2017-09-05 04:30:01.933000, units = None, bid = 92.73438, instrument = None, duration = None, sym = 912796KN8\n",
      "<class 'mosaicsmartdata.core.quote.Quote'> :  ask = 92.73438, timestamp = 2017-09-05 05:00:01.933000, units = None, bid = 92.73438, instrument = None, duration = None, sym = 912796KN8\n",
      "<class 'mosaicsmartdata.core.quote.Quote'> :  ask = 92.71875, timestamp = 2017-09-05 05:25:01.933000, units = None, bid = 92.71875, instrument = None, duration = None, sym = 912796KN8\n",
      "<class 'mosaicsmartdata.core.quote.Quote'> :  ask = 99.716, timestamp = 2017-09-05 05:29:31.933000, units = None, bid = 99.716, instrument = None, duration = None, sym = 912796KN8\n",
      "<class 'mosaicsmartdata.core.quote.Quote'> :  ask = 92.76563, timestamp = 2017-09-05 05:30:01.933000, units = None, bid = 92.76563, instrument = None, duration = None, sym = 912796KN8\n",
      "<class 'mosaicsmartdata.core.quote.Quote'> :  ask = 99.76563, timestamp = 2017-09-05 05:30:31.933000, units = None, bid = 99.76563, instrument = None, duration = None, sym = 912796KN8\n",
      "<class 'mosaicsmartdata.core.quote.Quote'> :  ask = 92.7188, timestamp = 2017-09-05 05:35:01.933000, units = None, bid = 92.7188, instrument = None, duration = None, sym = 912796KN8\n",
      "<class 'mosaicsmartdata.core.quote.Quote'> :  ask = 99.785, timestamp = 2017-09-05 06:00:01.933000, units = None, bid = 99.785, instrument = None, duration = None, sym = 912796KN8\n",
      "<class 'mosaicsmartdata.core.quote.Quote'> :  ask = 92.75, timestamp = 2017-09-05 06:30:01.933000, units = None, bid = 92.75, instrument = None, duration = None, sym = 912796KN8\n",
      "<class 'mosaicsmartdata.core.quote.Quote'> :  ask = 92.76563, timestamp = 2017-09-05 07:30:01.933000, units = None, bid = 92.76563, instrument = None, duration = None, sym = 912796KN8\n",
      "<class 'mosaicsmartdata.core.quote.Quote'> :  ask = 92.71875, timestamp = 2017-09-05 03:30:01.933000, units = None, bid = 92.71875, instrument = None, duration = None, sym = 912796KN8\n",
      "<class 'mosaicsmartdata.core.quote.Quote'> :  ask = 92.73438, timestamp = 2017-09-05 04:30:01.933000, units = None, bid = 92.73438, instrument = None, duration = None, sym = 912796KN8\n",
      "<class 'mosaicsmartdata.core.quote.Quote'> :  ask = 92.73438, timestamp = 2017-09-05 05:00:01.933000, units = None, bid = 92.73438, instrument = None, duration = None, sym = 912796KN8\n",
      "<class 'mosaicsmartdata.core.quote.Quote'> :  ask = 92.71875, timestamp = 2017-09-05 05:25:01.933000, units = None, bid = 92.71875, instrument = None, duration = None, sym = 912796KN8\n",
      "<class 'mosaicsmartdata.core.quote.Quote'> :  ask = 99.716, timestamp = 2017-09-05 05:29:31.933000, units = None, bid = 99.716, instrument = None, duration = None, sym = 912796KN8\n",
      "<class 'mosaicsmartdata.core.quote.Quote'> :  ask = 92.76563, timestamp = 2017-09-05 05:30:01.933000, units = None, bid = 92.76563, instrument = None, duration = None, sym = 912796KN8\n",
      "<class 'mosaicsmartdata.core.quote.Quote'> :  ask = 99.76563, timestamp = 2017-09-05 05:30:31.933000, units = None, bid = 99.76563, instrument = None, duration = None, sym = 912796KN8\n",
      "<class 'mosaicsmartdata.core.quote.Quote'> :  ask = 92.7188, timestamp = 2017-09-05 05:35:01.933000, units = None, bid = 92.7188, instrument = None, duration = None, sym = 912796KN8\n",
      "<class 'mosaicsmartdata.core.quote.Quote'> :  ask = 99.785, timestamp = 2017-09-05 06:00:01.933000, units = None, bid = 99.785, instrument = None, duration = None, sym = 912796KN8\n",
      "<class 'mosaicsmartdata.core.quote.Quote'> :  ask = 92.75, timestamp = 2017-09-05 06:30:01.933000, units = None, bid = 92.75, instrument = None, duration = None, sym = 912796KN8\n",
      "<class 'mosaicsmartdata.core.quote.Quote'> :  ask = 92.76563, timestamp = 2017-09-05 07:30:01.933000, units = None, bid = 92.76563, instrument = None, duration = None, sym = 912796KN8\n",
      "<class 'mosaicsmartdata.core.quote.Quote'> :  ask = 92.71875, timestamp = 2017-09-05 03:30:01.933000, units = None, bid = 92.71875, instrument = None, duration = None, sym = 912796KN8\n",
      "<class 'mosaicsmartdata.core.quote.Quote'> :  ask = 92.73438, timestamp = 2017-09-05 04:30:01.933000, units = None, bid = 92.73438, instrument = None, duration = None, sym = 912796KN8\n",
      "<class 'mosaicsmartdata.core.quote.Quote'> :  ask = 92.73438, timestamp = 2017-09-05 05:00:01.933000, units = None, bid = 92.73438, instrument = None, duration = None, sym = 912796KN8\n",
      "<class 'mosaicsmartdata.core.quote.Quote'> :  ask = 92.71875, timestamp = 2017-09-05 05:25:01.933000, units = None, bid = 92.71875, instrument = None, duration = None, sym = 912796KN8\n",
      "<class 'mosaicsmartdata.core.quote.Quote'> :  ask = 99.716, timestamp = 2017-09-05 05:29:31.933000, units = None, bid = 99.716, instrument = None, duration = None, sym = 912796KN8\n",
      "<class 'mosaicsmartdata.core.quote.Quote'> :  ask = 92.76563, timestamp = 2017-09-05 05:30:01.933000, units = None, bid = 92.76563, instrument = None, duration = None, sym = 912796KN8\n",
      "<class 'mosaicsmartdata.core.quote.Quote'> :  ask = 99.76563, timestamp = 2017-09-05 05:30:31.933000, units = None, bid = 99.76563, instrument = None, duration = None, sym = 912796KN8\n",
      "<class 'mosaicsmartdata.core.quote.Quote'> :  ask = 92.7188, timestamp = 2017-09-05 05:35:01.933000, units = None, bid = 92.7188, instrument = None, duration = None, sym = 912796KN8\n",
      "<class 'mosaicsmartdata.core.quote.Quote'> :  ask = 99.785, timestamp = 2017-09-05 06:00:01.933000, units = None, bid = 99.785, instrument = None, duration = None, sym = 912796KN8\n",
      "<class 'mosaicsmartdata.core.quote.Quote'> :  ask = 92.75, timestamp = 2017-09-05 06:30:01.933000, units = None, bid = 92.75, instrument = None, duration = None, sym = 912796KN8\n",
      "<class 'mosaicsmartdata.core.quote.Quote'> :  ask = 92.76563, timestamp = 2017-09-05 07:30:01.933000, units = None, bid = 92.76563, instrument = None, duration = None, sym = 912796KN8\n",
      "<class 'mosaicsmartdata.core.quote.Quote'> :  ask = 92.71875, timestamp = 2017-09-05 03:30:01.933000, units = None, bid = 92.71875, instrument = None, duration = None, sym = 912796KN8\n",
      "<class 'mosaicsmartdata.core.quote.Quote'> :  ask = 92.73438, timestamp = 2017-09-05 04:30:01.933000, units = None, bid = 92.73438, instrument = None, duration = None, sym = 912796KN8\n",
      "<class 'mosaicsmartdata.core.quote.Quote'> :  ask = 92.73438, timestamp = 2017-09-05 05:00:01.933000, units = None, bid = 92.73438, instrument = None, duration = None, sym = 912796KN8\n",
      "<class 'mosaicsmartdata.core.quote.Quote'> :  ask = 92.71875, timestamp = 2017-09-05 05:25:01.933000, units = None, bid = 92.71875, instrument = None, duration = None, sym = 912796KN8\n",
      "<class 'mosaicsmartdata.core.quote.Quote'> :  ask = 99.716, timestamp = 2017-09-05 05:29:31.933000, units = None, bid = 99.716, instrument = None, duration = None, sym = 912796KN8\n",
      "<class 'mosaicsmartdata.core.quote.Quote'> :  ask = 92.76563, timestamp = 2017-09-05 05:30:01.933000, units = None, bid = 92.76563, instrument = None, duration = None, sym = 912796KN8\n",
      "<class 'mosaicsmartdata.core.quote.Quote'> :  ask = 99.76563, timestamp = 2017-09-05 05:30:31.933000, units = None, bid = 99.76563, instrument = None, duration = None, sym = 912796KN8\n",
      "<class 'mosaicsmartdata.core.quote.Quote'> :  ask = 92.7188, timestamp = 2017-09-05 05:35:01.933000, units = None, bid = 92.7188, instrument = None, duration = None, sym = 912796KN8\n",
      "<class 'mosaicsmartdata.core.quote.Quote'> :  ask = 99.785, timestamp = 2017-09-05 06:00:01.933000, units = None, bid = 99.785, instrument = None, duration = None, sym = 912796KN8\n",
      "<class 'mosaicsmartdata.core.quote.Quote'> :  ask = 92.75, timestamp = 2017-09-05 06:30:01.933000, units = None, bid = 92.75, instrument = None, duration = None, sym = 912796KN8\n",
      "<class 'mosaicsmartdata.core.quote.Quote'> :  ask = 92.76563, timestamp = 2017-09-05 07:30:01.933000, units = None, bid = 92.76563, instrument = None, duration = None, sym = 912796KN8\n"
     ]
    }
   ],
   "source": [
    "# let's check the dump was successful\n",
    "from aiostreams import AsyncKafkaSource, run\n",
    "import aiostreams.operators as op\n",
    "from mosaicsmartdata.common.json_convertor import *\n",
    "import json\n",
    "\n",
    "input_graph = AsyncKafkaSource('bond-quotes-topic', bootstrap_servers=kafka_host ,\\\n",
    "                               value_deserializer =  lambda x: x.decode('utf-8'))|\\\n",
    "                           op.map(lambda x: json_to_domain(x.value)) > print #op.map(lambda x: x.value ) > print\n",
    "                           #op.map(lambda x: json_to_domain(x.value)) > print # op.map(lambda x: json.loads(x.value) ) > print# \n",
    "                           #op.map(lambda x: json_to_domain(x.value).timestamp) > print # op.map(lambda x: json.loads(x.value) ) > print# \n",
    "                #\n",
    "run(input_graph)"
   ]
  },
  {
   "cell_type": "code",
   "execution_count": 3,
   "metadata": {
    "collapsed": false
   },
   "outputs": [],
   "source": [
    "# let's check the dump was successful\n",
    "from aiostreams import AsyncKafkaSource, run\n",
    "import aiostreams.operators as op\n",
    "from mosaicsmartdata.common.json_convertor import *\n",
    "import json\n",
    "\n",
    "input_graph = AsyncKafkaSource('bond-quotes-topic', bootstrap_servers=kafka_host, value_deserializer =  lambda x: x.decode('utf-8')) >print\n",
    "                               #op.map(lambda x: print(x.value) > print# #op.map(lambda x: json.loads(x.value) ) > []                            \n",
    "    #op.map(lambda x: json_to_domain(x.value)) > print# #op.map(lambda x: json.loads(x.value) ) > []\n",
    "                           #\n",
    "                            #\n",
    "                #\n",
    "                \n",
    "#run(input_graph)\n",
    "# print(input_graph.sink[0].value)\n",
    "# json_to_domain(input_graph.sink[0].value)"
   ]
  },
  {
   "cell_type": "code",
   "execution_count": 5,
   "metadata": {
    "collapsed": false
   },
   "outputs": [
    {
     "name": "stdout",
     "output_type": "stream",
     "text": [
      "{\"negotiationId\": \"0\", \"instrumentId\": \"912796KN8\", \"legMarkout\": [{\"markoutPrice\": [{\"priceType\": \"HEDGED_INITIAL_EDGE\", \"value\": NaN}, {\"priceType\": \"HEDGED_SPREAD_PRICE\", \"value\": NaN}], \"evaluatedPricingSource\": \"INTERNAL\", \"markoutPeriod\": {\"timeUnit\": \"SECONDS\", \"value\": \"-900\"}}], \"dateLocalDate\": \"2017-09-05\", \"venueName\": \"TRADEWEBUST_ASIA\", \"cashflowDirection\": \"+\"}\n",
      "{\"negotiationId\": \"0\", \"instrumentId\": \"912796KN8\", \"legMarkout\": [{\"markoutPrice\": [{\"priceType\": \"HEDGED_INITIAL_EDGE\", \"value\": NaN}, {\"priceType\": \"HEDGED_SPREAD_PRICE\", \"value\": NaN}], \"evaluatedPricingSource\": \"INTERNAL\", \"markoutPeriod\": {\"timeUnit\": \"SECONDS\", \"value\": \"-60\"}}], \"dateLocalDate\": \"2017-09-05\", \"venueName\": \"TRADEWEBUST_ASIA\", \"cashflowDirection\": \"+\"}\n",
      "{\"negotiationId\": \"1\", \"instrumentId\": \"912796KN8\", \"legMarkout\": [{\"markoutPrice\": [{\"priceType\": \"HEDGED_INITIAL_EDGE\", \"value\": NaN}, {\"priceType\": \"HEDGED_SPREAD_PRICE\", \"value\": NaN}], \"evaluatedPricingSource\": \"INTERNAL\", \"markoutPeriod\": {\"timeUnit\": \"SECONDS\", \"value\": \"-900\"}}], \"dateLocalDate\": \"2017-09-05\", \"venueName\": \"TRADEWEBUST_ASIA\", \"cashflowDirection\": \"+\"}\n",
      "{\"negotiationId\": \"1\", \"instrumentId\": \"912796KN8\", \"legMarkout\": [{\"markoutPrice\": [{\"priceType\": \"HEDGED_INITIAL_EDGE\", \"value\": NaN}, {\"priceType\": \"HEDGED_SPREAD_PRICE\", \"value\": NaN}], \"evaluatedPricingSource\": \"INTERNAL\", \"markoutPeriod\": {\"timeUnit\": \"SECONDS\", \"value\": \"-60\"}}], \"dateLocalDate\": \"2017-09-05\", \"venueName\": \"TRADEWEBUST_ASIA\", \"cashflowDirection\": \"+\"}\n",
      "{\"negotiationId\": \"2\", \"instrumentId\": \"912796KN8\", \"legMarkout\": [{\"markoutPrice\": [{\"priceType\": \"HEDGED_INITIAL_EDGE\", \"value\": NaN}, {\"priceType\": \"HEDGED_SPREAD_PRICE\", \"value\": NaN}], \"evaluatedPricingSource\": \"INTERNAL\", \"markoutPeriod\": {\"timeUnit\": \"SECONDS\", \"value\": \"-900\"}}], \"dateLocalDate\": \"2017-09-05\", \"venueName\": \"TRADEWEBUST_ASIA\", \"cashflowDirection\": \"+\"}\n",
      "{\"negotiationId\": \"2\", \"instrumentId\": \"912796KN8\", \"legMarkout\": [{\"markoutPrice\": [{\"priceType\": \"HEDGED_INITIAL_EDGE\", \"value\": NaN}, {\"priceType\": \"HEDGED_SPREAD_PRICE\", \"value\": NaN}], \"evaluatedPricingSource\": \"INTERNAL\", \"markoutPeriod\": {\"timeUnit\": \"SECONDS\", \"value\": \"-60\"}}], \"dateLocalDate\": \"2017-09-05\", \"venueName\": \"TRADEWEBUST_ASIA\", \"cashflowDirection\": \"+\"}\n",
      "{\"negotiationId\": \"3\", \"instrumentId\": \"912796KN8\", \"legMarkout\": [{\"markoutPrice\": [{\"priceType\": \"HEDGED_INITIAL_EDGE\", \"value\": NaN}, {\"priceType\": \"HEDGED_SPREAD_PRICE\", \"value\": NaN}], \"evaluatedPricingSource\": \"INTERNAL\", \"markoutPeriod\": {\"timeUnit\": \"SECONDS\", \"value\": \"-900\"}}], \"dateLocalDate\": \"2017-09-05\", \"venueName\": \"TRADEWEBUST_ASIA\", \"cashflowDirection\": \"+\"}\n",
      "{\"negotiationId\": \"3\", \"instrumentId\": \"912796KN8\", \"legMarkout\": [{\"markoutPrice\": [{\"priceType\": \"HEDGED_INITIAL_EDGE\", \"value\": NaN}, {\"priceType\": \"HEDGED_SPREAD_PRICE\", \"value\": NaN}], \"evaluatedPricingSource\": \"INTERNAL\", \"markoutPeriod\": {\"timeUnit\": \"SECONDS\", \"value\": \"-60\"}}], \"dateLocalDate\": \"2017-09-05\", \"venueName\": \"TRADEWEBUST_ASIA\", \"cashflowDirection\": \"+\"}\n",
      "{\"negotiationId\": \"4\", \"instrumentId\": \"912796KN8\", \"legMarkout\": [{\"markoutPrice\": [{\"priceType\": \"HEDGED_INITIAL_EDGE\", \"value\": NaN}, {\"priceType\": \"HEDGED_SPREAD_PRICE\", \"value\": NaN}], \"evaluatedPricingSource\": \"INTERNAL\", \"markoutPeriod\": {\"timeUnit\": \"SECONDS\", \"value\": \"-900\"}}], \"dateLocalDate\": \"2017-09-05\", \"venueName\": \"TRADEWEBUST_ASIA\", \"cashflowDirection\": \"+\"}\n",
      "{\"negotiationId\": \"4\", \"instrumentId\": \"912796KN8\", \"legMarkout\": [{\"markoutPrice\": [{\"priceType\": \"HEDGED_INITIAL_EDGE\", \"value\": NaN}, {\"priceType\": \"HEDGED_SPREAD_PRICE\", \"value\": NaN}], \"evaluatedPricingSource\": \"INTERNAL\", \"markoutPeriod\": {\"timeUnit\": \"SECONDS\", \"value\": \"-60\"}}], \"dateLocalDate\": \"2017-09-05\", \"venueName\": \"TRADEWEBUST_ASIA\", \"cashflowDirection\": \"+\"}\n",
      "{\"negotiationId\": \"5\", \"instrumentId\": \"912796KN8\", \"legMarkout\": [{\"markoutPrice\": [{\"priceType\": \"HEDGED_INITIAL_EDGE\", \"value\": NaN}, {\"priceType\": \"HEDGED_SPREAD_PRICE\", \"value\": NaN}], \"evaluatedPricingSource\": \"INTERNAL\", \"markoutPeriod\": {\"timeUnit\": \"SECONDS\", \"value\": \"-900\"}}], \"dateLocalDate\": \"2017-09-05\", \"venueName\": \"TRADEWEBUST_ASIA\", \"cashflowDirection\": \"+\"}\n",
      "{\"negotiationId\": \"5\", \"instrumentId\": \"912796KN8\", \"legMarkout\": [{\"markoutPrice\": [{\"priceType\": \"HEDGED_INITIAL_EDGE\", \"value\": NaN}, {\"priceType\": \"HEDGED_SPREAD_PRICE\", \"value\": NaN}], \"evaluatedPricingSource\": \"INTERNAL\", \"markoutPeriod\": {\"timeUnit\": \"SECONDS\", \"value\": \"-60\"}}], \"dateLocalDate\": \"2017-09-05\", \"venueName\": \"TRADEWEBUST_ASIA\", \"cashflowDirection\": \"+\"}\n",
      "{\"negotiationId\": \"6\", \"instrumentId\": \"912796KN8\", \"legMarkout\": [{\"markoutPrice\": [{\"priceType\": \"HEDGED_INITIAL_EDGE\", \"value\": NaN}, {\"priceType\": \"HEDGED_SPREAD_PRICE\", \"value\": NaN}], \"evaluatedPricingSource\": \"INTERNAL\", \"markoutPeriod\": {\"timeUnit\": \"SECONDS\", \"value\": \"-900\"}}], \"dateLocalDate\": \"2017-09-05\", \"venueName\": \"TRADEWEBUST_ASIA\", \"cashflowDirection\": \"+\"}\n",
      "{\"negotiationId\": \"6\", \"instrumentId\": \"912796KN8\", \"legMarkout\": [{\"markoutPrice\": [{\"priceType\": \"HEDGED_INITIAL_EDGE\", \"value\": NaN}, {\"priceType\": \"HEDGED_SPREAD_PRICE\", \"value\": NaN}], \"evaluatedPricingSource\": \"INTERNAL\", \"markoutPeriod\": {\"timeUnit\": \"SECONDS\", \"value\": \"-60\"}}], \"dateLocalDate\": \"2017-09-05\", \"venueName\": \"TRADEWEBUST_ASIA\", \"cashflowDirection\": \"+\"}\n"
     ]
    }
   ],
   "source": [
    "# let's check the dump was successful\n",
    "from aiostreams import AsyncKafkaSource, run\n",
    "import aiostreams.operators as op\n",
    "from mosaicsmartdata.common.json_convertor import *\n",
    "import json\n",
    "\n",
    "input_graph = AsyncKafkaSource('output-topic', bootstrap_servers=kafka_host,\\\n",
    "                               value_deserializer =  lambda x: x.decode('utf-8'))|\\\n",
    "                op.map(lambda x: x.value ) > print\n",
    "                #op.map(lambda x: json_to_domain(x.value)) > print\n",
    "                #op.map(lambda x: json.loads(x.value) ) > print\n",
    "                \n",
    "run(input_graph)"
   ]
  },
  {
   "cell_type": "code",
   "execution_count": null,
   "metadata": {
    "collapsed": true
   },
   "outputs": [],
   "source": [
    "# now let's feed that data into our nice Kafka wrapper: first eur quotes\n",
    "from aiostreams.kafka import AsyncKafkaPublisher\n",
    "\n",
    "print(len(eurquotes))\n",
    "\n",
    "pub1 = AsyncKafkaPublisher(bootstrap_servers=kafka_host, topic='eurquotes', value_serializer = 'json')\n",
    "#pub1.verbose=True\n",
    "to_async_iterable(eurquotes) > pub1\n"
   ]
  },
  {
   "cell_type": "code",
   "execution_count": null,
   "metadata": {
    "collapsed": true
   },
   "outputs": [],
   "source": [
    "# and then gbp quotes\n",
    "print(len(eurgbpquotes))\n",
    "\n",
    "pub1.topic='eurgbpquotes'\n",
    "to_async_iterable(eurgbpquotes) > pub1"
   ]
  },
  {
   "cell_type": "code",
   "execution_count": null,
   "metadata": {
    "collapsed": true
   },
   "outputs": [],
   "source": [
    "# and now let's publish trades to a joint topic, just for the fun of it\n",
    "\n",
    "eurtrades = to_async_iterable(eurtrades)\n",
    "eurgbptrades = to_async_iterable(eurgbptrades)\n",
    "joint_trade_stream = op.merge_sorted([eurgbptrades,eurtrades], lambda x: x.timestamp)\n",
    "\n",
    "pub1.topic = 'trades'\n",
    "joint_trade_stream > pub1"
   ]
  },
  {
   "cell_type": "code",
   "execution_count": null,
   "metadata": {
    "collapsed": true
   },
   "outputs": [],
   "source": []
  }
 ],
 "metadata": {
  "anaconda-cloud": {},
  "kernelspec": {
   "display_name": "Python [default]",
   "language": "python",
   "name": "python3"
  },
  "language_info": {
   "codemirror_mode": {
    "name": "ipython",
    "version": 3
   },
   "file_extension": ".py",
   "mimetype": "text/x-python",
   "name": "python",
   "nbconvert_exporter": "python",
   "pygments_lexer": "ipython3",
   "version": "3.5.2"
  }
 },
 "nbformat": 4,
 "nbformat_minor": 1
}
