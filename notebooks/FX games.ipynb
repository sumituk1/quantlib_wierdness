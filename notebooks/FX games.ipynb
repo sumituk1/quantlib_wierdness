{
 "cells": [
  {
   "cell_type": "code",
   "execution_count": 1,
   "metadata": {
    "collapsed": false
   },
   "outputs": [
    {
     "name": "stdout",
     "output_type": "stream",
     "text": [
      "C:\\Users\\Egor\\Dropbox\\GitHub\\Mosaic\\msq-domain\\notebooks\n"
     ]
    }
   ],
   "source": [
    "# require at least Python 3.5 for async/await to work\n",
    "import sys\n",
    "ver=sys.version_info\n",
    "!pwd\n",
    "assert (ver[0]>=3 and ver[1]>=5)\n",
    "sys.path.append('../../quant_container/src')\n",
    "sys.path.append('../src')\n",
    "\n",
    "\n",
    "\n",
    "from mosaicsmartdata.common import qc_csv_helper\n",
    "from mosaicsmartdata.core.quote import Quote\n",
    "import csv, copy"
   ]
  },
  {
   "cell_type": "code",
   "execution_count": 2,
   "metadata": {
    "collapsed": false,
    "scrolled": false
   },
   "outputs": [],
   "source": [
    "import pickle\n",
    "\n",
    "try:\n",
    "    with open('data.pickle', 'rb') as f:\n",
    "        # Pickle the 'data' dictionary using the highest protocol available.\n",
    "        quote_dict = pickle.load(f)\n",
    "except:\n",
    "#if True:\n",
    "    filename = '../resources/fx/EUR_JPY_GBP_till_SN.csv'\n",
    "    quote_dict = qc_csv_helper.get_fx_quotes(filename)\n",
    "    with open('data.pickle', 'wb') as f:\\\n",
    "        pickle.dump(quote_dict, f)"
   ]
  },
  {
   "cell_type": "code",
   "execution_count": 3,
   "metadata": {
    "collapsed": false
   },
   "outputs": [
    {
     "name": "stdout",
     "output_type": "stream",
     "text": [
      "<class 'mosaicsmartdata.core.instrument.FXForward'> :  pip_size = None, isDeliverable = True, sym = EUR=, holidayCities = None, venue = None, static = Instrument static singleton facade, ccy = ('EUR', 'USD'), tenor = SPOT, notionals = (100, -111.97999999999999), settle_date = 2017-06-26, date_calc = <mosaicsmartdata.core.date_calculator.DateCalculator object at 0x000001976349AEB8>\n",
      "*****\n",
      "<class 'mosaicsmartdata.core.trade.FXForwardTrade'> :  traded_px = 1.1198, package_id = 12345, leg_no = None, client_sys_key = None, side = None, sales = None, factor_risk = None, paper_trade = False, source_trade_id = None, orig_package_size = None, trade_rc = None, trade_id = 12345, trader = None, adj_traded_px = None, trade_date = None, notional = None, trade_settle_date = None, instrument = <class 'mosaicsmartdata.core.instrument.FXForward'> :  pip_size = None, isDeliverable = True, sym = EUR=, holidayCities = None, venue = None, static = Instrument static singleton facade, ccy = ('EUR', 'USD'), tenor = SPOT, notionals = (100, -111.97999999999999), settle_date = 2017-06-26, date_calc = <mosaicsmartdata.core.date_calculator.DateCalculator object at 0x000001976349AEB8>, delta = 1.0, timestamp = 2017-06-26 00:02:26.995000, package = None\n",
      "*******\n",
      "<class 'mosaicsmartdata.core.quote.Quote'> :  instrument = <class 'mosaicsmartdata.core.instrument.FXForward'> :  pip_size = None, venue = None, ccy = ('EUR', 'USD'), tenor = SPOT, notionals = None, date_calc = <mosaicsmartdata.core.date_calculator.DateCalculator object at 0x00000197216B6A58>, isDeliverable = True, sym = EUR=, holidayCities = None, static = Instrument static singleton facade, settle_date = 2017-06-26, sym = EUR=, bid = 1.1198, ask = 1.1199, units = outright, duration = None, timestamp = 2017-06-26 00:02:26.995000\n"
     ]
    }
   ],
   "source": [
    "# create a trade\n",
    "from mosaicsmartdata.core.instrument_utils import sym_to_fx_instrument\n",
    "from mosaicsmartdata.core.trade import Trade, FXForwardTrade\n",
    "\n",
    "spot_quotes = [quotes for sym, quotes in quote_dict.items() if len(sym)==4]\n",
    "my_quote = quote_dict['EUR='][100]\n",
    "my_instr = sym_to_fx_instrument()(my_quote.sym, my_quote.timestamp.date())\n",
    "my_instr.notionals = (100, -100*my_quote.bid)\n",
    "print(my_instr)\n",
    "print('*****')\n",
    "my_trade = FXForwardTrade(my_instr, \n",
    "                          trade_id = '12345',\n",
    "                        timestamp = my_quote.timestamp)\n",
    "print(my_trade)\n",
    "print('*******')\n",
    "print(my_quote)"
   ]
  },
  {
   "cell_type": "code",
   "execution_count": 4,
   "metadata": {
    "collapsed": true
   },
   "outputs": [],
   "source": [
    "from aiostreams import run\n",
    "import aiostreams.operators as op\n",
    "from mosaicsmartdata.core.markout import MarkoutCalculator\n",
    "import logging"
   ]
  },
  {
   "cell_type": "code",
   "execution_count": 5,
   "metadata": {
    "collapsed": false,
    "scrolled": false
   },
   "outputs": [
    {
     "name": "stdout",
     "output_type": "stream",
     "text": [
      " dt:0 final_price:1.11985 hedged_bps:None hedged_cents:None hedged_price:None initial_price:1.1198 next_timestamp:2017-06-26 00:02:26.995000 package:None price:5.0000000000105516e-05 PV:5.0000000000105516e-05 timestamp:2017-06-26 00:02:27.165000 package_id:12345 trade_id:12345 sym:EUR= timestamp:26/06/2017 00:02:26 delta:1.0 paper_trade:False client_sys_key:None notional:None traded_px:1.1198 ccy:('EUR', 'USD')\n",
      " dt:10 final_price:1.11985 hedged_bps:None hedged_cents:None hedged_price:None initial_price:1.1198 next_timestamp:2017-06-26 00:02:36.995000 package:None price:5.0000000000105516e-05 PV:5.0000000000105516e-05 timestamp:2017-06-26 00:02:37.244000 package_id:12345 trade_id:12345 sym:EUR= timestamp:26/06/2017 00:02:26 delta:1.0 paper_trade:False client_sys_key:None notional:None traded_px:1.1198 ccy:('EUR', 'USD')\n",
      " dt:100 final_price:1.12 hedged_bps:None hedged_cents:None hedged_price:None initial_price:1.1198 next_timestamp:2017-06-26 00:04:06.995000 package:None price:0.00020000000000020002 PV:0.00020000000000020002 timestamp:2017-06-26 00:04:07.082000 package_id:12345 trade_id:12345 sym:EUR= timestamp:26/06/2017 00:02:26 delta:1.0 paper_trade:False client_sys_key:None notional:None traded_px:1.1198 ccy:('EUR', 'USD')\n"
     ]
    }
   ],
   "source": [
    "# run markouts based on simple instrument ID\n",
    "# logging.getLogger().setLevel('INFO')\n",
    "# logging.info('starting command line test...')\n",
    "\n",
    "# run the markout calc\n",
    "trades = [my_trade]\n",
    "quotes = quote_dict['EUR=']\n",
    "stream = op.merge_sorted([quotes[:1000], trades], lambda x: x.timestamp) \\\n",
    "            | op.flat_map_by_group(lambda x: x.sym, MarkoutCalculator([0, 10, 100]))\\\n",
    "            > print\n",
    "        \n",
    "run(stream)"
   ]
  },
  {
   "cell_type": "code",
   "execution_count": 6,
   "metadata": {
    "collapsed": false
   },
   "outputs": [
    {
     "name": "stdout",
     "output_type": "stream",
     "text": [
      "553108 591602\n",
      "<class 'mosaicsmartdata.core.instrument.FXForward'> :  pip_size = None, isDeliverable = True, sym = EURJPY=, holidayCities = None, venue = None, static = Instrument static singleton facade, ccy = ('EUR', 'JPY'), tenor = SPOT, notionals = (100, -12459.4511), settle_date = 2017-06-26, date_calc = <mosaicsmartdata.core.date_calculator.DateCalculator object at 0x00000197675242E8>\n",
      "*****\n"
     ]
    }
   ],
   "source": [
    "# run markouts using PricingContext\n",
    "# run the markout calc\n",
    "%load_ext autoreload\n",
    "%autoreload 2\n",
    "from mosaicsmartdata.core.fx import FXPricingContextGenerator\n",
    "quotes_eur = quote_dict['EUR=']\n",
    "quotes_jpy = quote_dict['JPY=']\n",
    "print(len(quotes_jpy),len(quotes_eur))\n",
    "quotes_all = op.merge_sorted([quotes_eur[:1000],quotes_jpy[:1000]], lambda x: x.timestamp) >[]\n",
    "run(quotes_all)\n",
    "\n",
    "my_quote = quotes_all.sink[100]\n",
    "my_instr = sym_to_fx_instrument()('EURJPY=', my_quote.timestamp.date())\n",
    "my_instr.notionals = (100, -100*124.594511) # just picked a random quote\n",
    "print(my_instr) \n",
    "print('*****')\n",
    "my_trade = FXForwardTrade(my_instr, \n",
    "                          trade_id = '12346',\n",
    "                        timestamp = my_quote.timestamp)\n"
   ]
  },
  {
   "cell_type": "code",
   "execution_count": 7,
   "metadata": {
    "collapsed": false
   },
   "outputs": [
    {
     "data": {
      "text/plain": [
       "[\" dt:-10 final_price:124.59447449999999 hedged_bps:None hedged_cents:None hedged_price:None initial_price:124.594511 next_timestamp:2017-06-26 00:00:43.188000 package:None price:-3.650000000732234e-05 PV:-3.650000000732234e-05 timestamp:2017-06-26 00:00:53.188000 package_id:12346 trade_id:12346 sym:EURJPY= timestamp:26/06/2017 00:00:53 delta:1.0 paper_trade:False client_sys_key:None notional:None traded_px:124.594511 ccy:('EUR', 'JPY')\",\n",
       " \" dt:0 final_price:124.59447449999999 hedged_bps:None hedged_cents:None hedged_price:None initial_price:124.594511 next_timestamp:2017-06-26 00:00:53.188000 package:None price:-3.650000000732234e-05 PV:-3.650000000732234e-05 timestamp:2017-06-26 00:00:53.438000 package_id:12346 trade_id:12346 sym:EURJPY= timestamp:26/06/2017 00:00:53 delta:1.0 paper_trade:False client_sys_key:None notional:None traded_px:124.594511 ccy:('EUR', 'JPY')\",\n",
       " \" dt:10 final_price:124.594511 hedged_bps:None hedged_cents:None hedged_price:None initial_price:124.594511 next_timestamp:2017-06-26 00:01:03.188000 package:None price:0.0 PV:0.0 timestamp:2017-06-26 00:01:04.178000 package_id:12346 trade_id:12346 sym:EURJPY= timestamp:26/06/2017 00:00:53 delta:1.0 paper_trade:False client_sys_key:None notional:None traded_px:124.594511 ccy:('EUR', 'JPY')\",\n",
       " \" dt:100 final_price:124.58334899999998 hedged_bps:None hedged_cents:None hedged_price:None initial_price:124.594511 next_timestamp:2017-06-26 00:02:33.188000 package:None price:-0.011162000000012995 PV:-0.011162000000012995 timestamp:2017-06-26 00:02:33.725000 package_id:12346 trade_id:12346 sym:EURJPY= timestamp:26/06/2017 00:00:53 delta:1.0 paper_trade:False client_sys_key:None notional:None traded_px:124.594511 ccy:('EUR', 'JPY')\"]"
      ]
     },
     "execution_count": 7,
     "metadata": {},
     "output_type": "execute_result"
    }
   ],
   "source": [
    "# forward-looking markouts using PricingContext\n",
    "trades = [my_trade]\n",
    "quotes = quotes_all.sink\n",
    "\n",
    "prices =  quotes | op.map(FXPricingContextGenerator()) \n",
    "\n",
    "stream = op.merge_sorted([trades,prices], lambda x:x.timestamp)\\\n",
    "        | op.flat_map(MarkoutCalculator([-10, 0, 10, 100])) |op.map(lambda x:str(x))\\\n",
    "        > []\n",
    "run(stream)       \n",
    "\n",
    "stream.sink"
   ]
  }
 ],
 "metadata": {
  "anaconda-cloud": {},
  "kernelspec": {
   "display_name": "Python [default]",
   "language": "python",
   "name": "python3"
  },
  "language_info": {
   "codemirror_mode": {
    "name": "ipython",
    "version": 3
   },
   "file_extension": ".py",
   "mimetype": "text/x-python",
   "name": "python",
   "nbconvert_exporter": "python",
   "pygments_lexer": "ipython3",
   "version": "3.5.2"
  }
 },
 "nbformat": 4,
 "nbformat_minor": 0
}
