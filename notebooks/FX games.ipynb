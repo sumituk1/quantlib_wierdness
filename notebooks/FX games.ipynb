{
 "cells": [
  {
   "cell_type": "code",
   "execution_count": 37,
   "metadata": {},
   "outputs": [
    {
     "name": "stdout",
     "output_type": "stream",
     "text": [
      "The autoreload extension is already loaded. To reload it, use:\n",
      "  %reload_ext autoreload\n"
     ]
    }
   ],
   "source": [
    "# require at least Python 3.5 for async/await to work\n",
    "import sys\n",
    "ver=sys.version_info\n",
    "assert (ver[0]>=3 and ver[1]>=5)\n",
    "sys.path.append('../../quant_container/src')\n",
    "sys.path.append('../src')\n",
    "%load_ext autoreload\n",
    "%autoreload 2\n",
    "from mosaicsmartdata.core.fx import FXPricingContextGenerator\n",
    "from mosaicsmartdata.common import qc_csv_helper\n",
    "from mosaicsmartdata.core.quote import Quote\n",
    "import csv, copy\n",
    "import pickle, cloudpickle"
   ]
  },
  {
   "cell_type": "code",
   "execution_count": 2,
   "metadata": {
    "collapsed": true,
    "scrolled": true
   },
   "outputs": [],
   "source": [
    "try:\n",
    "    with open('data.pickle', 'rb') as f:\n",
    "        # Pickle the 'data' dictionary using the highest protocol available.\n",
    "        quote_dict = pickle.load(f)\n",
    "except:\n",
    "#if True:\n",
    "    file_path ='../resources/fx/'\n",
    "    filenames = ['OIS-N156898469.csv','EUR_JPY_GBP_till_SN.csv','EUR_JPY_GBP_from_SW_till_1Y.csv']\n",
    "    quote_dict_0 = qc_csv_helper.get_ric_quotes(file_path+filenames[0])\n",
    "    print(len(quote_dict_0), quote_dict_0.keys())\n",
    "    quote_dict_1 = qc_csv_helper.get_ric_quotes(file_path+filenames[1])\n",
    "    print(len(quote_dict_1), quote_dict_1.keys())\n",
    "    quote_dict_2 = qc_csv_helper.get_ric_quotes(file_path+filenames[2])\n",
    "    print(len(quote_dict_2), quote_dict_2.keys())\n",
    "    quote_dict = dict(quote_dict_0,**quote_dict_1)\n",
    "    quote_dict = dict(quote_dict,**quote_dict_2)\n",
    "    with open('data.pickle', 'wb') as f:\n",
    "        pickle.dump(quote_dict, f)"
   ]
  },
  {
   "cell_type": "code",
   "execution_count": 3,
   "metadata": {},
   "outputs": [
    {
     "data": {
      "text/plain": [
       "datetime.date(2017, 6, 28)"
      ]
     },
     "execution_count": 3,
     "metadata": {},
     "output_type": "execute_result"
    }
   ],
   "source": [
    "quote_dict['EURSN='][0].instrument.settle_date"
   ]
  },
  {
   "cell_type": "code",
   "execution_count": 4,
   "metadata": {},
   "outputs": [
    {
     "name": "stdout",
     "output_type": "stream",
     "text": [
      "<class 'mosaicsmartdata.core.instrument.FXForward'> :  notionals = (100, -111.97999999999999), pip_size = 0.0001, tenor = SPOT, static = Instrument static singleton facade, sym = EUR=, venue = None, maturity_date = 2017-06-28, isDeliverable = True, holidayCities = None, ccy = ('EUR', 'USD'), date_calc = <mosaicsmartdata.core.date_calculator.DateCalculator object at 0x0000021BAA72E048>, settle_date = 2017-06-28\n",
      "*****\n",
      "<class 'mosaicsmartdata.core.trade.FXForwardTrade'> :  trade_rc = None, factor_risk = None, timestamp = 2017-06-26 00:02:26.995000, orig_package_size = None, trader = None, source_trade_id = None, package_id = 12345, package = None, trade_id = 12345, instrument = <class 'mosaicsmartdata.core.instrument.FXForward'> :  notionals = (100, -111.97999999999999), pip_size = 0.0001, tenor = SPOT, static = Instrument static singleton facade, sym = EUR=, venue = None, maturity_date = 2017-06-28, isDeliverable = True, holidayCities = None, ccy = ('EUR', 'USD'), date_calc = <mosaicsmartdata.core.date_calculator.DateCalculator object at 0x0000021BAA72E048>, settle_date = 2017-06-28, leg_no = None, trade_date = None, paper_trade = False, side = None, delta = 1.0, trade_settle_date = None, notional = None, traded_px = 1.1198, sales = None, adj_traded_px = None, client_sys_key = None\n",
      "*******\n",
      "<class 'mosaicsmartdata.core.quote.Quote'> :  ask = 1.1199, bid = 1.1198, timestamp = 2017-06-26 00:02:26.995000, instrument = <class 'mosaicsmartdata.core.instrument.FXForward'> :  notionals = None, pip_size = 0.0001, tenor = SPOT, ccy = ('EUR', 'USD'), sym = EUR=, venue = None, maturity_date = 2017-06-28, holidayCities = None, isDeliverable = True, static = Instrument static singleton facade, date_calc = <mosaicsmartdata.core.date_calculator.DateCalculator object at 0x0000021C31E205C0>, settle_date = 2017-06-28, duration = None, sym = EUR=, units = outright\n"
     ]
    }
   ],
   "source": [
    "# create a trade\n",
    "from mosaicsmartdata.core.instrument_utils import sym_to_instrument\n",
    "from mosaicsmartdata.core.trade import Trade, FXForwardTrade\n",
    "\n",
    "#spot_quotes = [quotes for sym, quotes in quote_dict.items() if len(sym)==4]\n",
    "my_quote = quote_dict['EUR='][100]\n",
    "my_instr = sym_to_instrument()(my_quote.sym, my_quote.timestamp.date())\n",
    "my_instr.notionals = (100, -100*my_quote.bid)\n",
    "print(my_instr)\n",
    "print('*****')\n",
    "my_trade = FXForwardTrade(my_instr, \n",
    "                          trade_id = '12345',\n",
    "                        timestamp = my_quote.timestamp)\n",
    "print(my_trade)\n",
    "print('*******')\n",
    "print(my_quote)"
   ]
  },
  {
   "cell_type": "code",
   "execution_count": 5,
   "metadata": {
    "collapsed": true
   },
   "outputs": [],
   "source": [
    "from aiostreams import run\n",
    "import aiostreams.operators as op\n",
    "from mosaicsmartdata.core.markout import MarkoutCalculator\n",
    "import logging"
   ]
  },
  {
   "cell_type": "code",
   "execution_count": 6,
   "metadata": {
    "scrolled": false
   },
   "outputs": [
    {
     "name": "stdout",
     "output_type": "stream",
     "text": [
      " dt:-10 final_price:1.1199 hedged_bps:None hedged_cents:None hedged_price:None initial_price:1.1198 next_timestamp:2017-06-26 00:02:16.995000 package:None price:9.999999999998899e-05 PV:9.999999999998899e-05 timestamp:2017-06-26 00:02:26.995000 package_id:12345 trade_id:12345 sym:EUR= timestamp:26/06/2017 00:02:26 delta:1.0 paper_trade:False client_sys_key:None notional:None trade_maturity_date:28/06/2017 traded_px:1.1198 ccy:('EUR', 'USD')\n",
      " dt:0 final_price:1.11985 hedged_bps:None hedged_cents:None hedged_price:None initial_price:1.1198 next_timestamp:2017-06-26 00:02:26.995000 package:None price:5.0000000000105516e-05 PV:5.0000000000105516e-05 timestamp:2017-06-26 00:02:27.165000 package_id:12345 trade_id:12345 sym:EUR= timestamp:26/06/2017 00:02:26 delta:1.0 paper_trade:False client_sys_key:None notional:None trade_maturity_date:28/06/2017 traded_px:1.1198 ccy:('EUR', 'USD')\n",
      " dt:10 final_price:1.11985 hedged_bps:None hedged_cents:None hedged_price:None initial_price:1.1198 next_timestamp:2017-06-26 00:02:36.995000 package:None price:5.0000000000105516e-05 PV:5.0000000000105516e-05 timestamp:2017-06-26 00:02:37.244000 package_id:12345 trade_id:12345 sym:EUR= timestamp:26/06/2017 00:02:26 delta:1.0 paper_trade:False client_sys_key:None notional:None trade_maturity_date:28/06/2017 traded_px:1.1198 ccy:('EUR', 'USD')\n",
      " dt:100 final_price:1.12 hedged_bps:None hedged_cents:None hedged_price:None initial_price:1.1198 next_timestamp:2017-06-26 00:04:06.995000 package:None price:0.00020000000000020002 PV:0.00020000000000020002 timestamp:2017-06-26 00:04:07.082000 package_id:12345 trade_id:12345 sym:EUR= timestamp:26/06/2017 00:02:26 delta:1.0 paper_trade:False client_sys_key:None notional:None trade_maturity_date:28/06/2017 traded_px:1.1198 ccy:('EUR', 'USD')\n"
     ]
    }
   ],
   "source": [
    "# run markouts based on simple instrument ID, with no pricing context\n",
    "# logging.getLogger().setLevel('INFO')\n",
    "# logging.info('starting command line test...')\n",
    "\n",
    "# run the markout calc\n",
    "trades = [my_trade]\n",
    "quotes = quote_dict['EUR=']\n",
    "stream = op.merge_sorted([quotes[:1000], trades], lambda x: x.timestamp) \\\n",
    "            | op.flat_map_by_group(lambda x: x.sym, MarkoutCalculator([-10, 0, 10, 100]))\\\n",
    "            > print\n",
    "        \n",
    "run(stream)"
   ]
  },
  {
   "cell_type": "code",
   "execution_count": 7,
   "metadata": {},
   "outputs": [
    {
     "name": "stdout",
     "output_type": "stream",
     "text": [
      "553108 591602\n",
      "<class 'mosaicsmartdata.core.instrument.FXForward'> :  notionals = (100, -12459.4511), pip_size = 0.0001, tenor = SPOT, static = Instrument static singleton facade, sym = EURJPY=, venue = None, maturity_date = 2017-06-28, isDeliverable = True, holidayCities = None, ccy = ('EUR', 'JPY'), date_calc = <mosaicsmartdata.core.date_calculator.DateCalculator object at 0x0000021BAD14B908>, settle_date = 2017-06-28\n",
      "*****\n",
      "2017-06-26 00:00:53.188000\n"
     ]
    }
   ],
   "source": [
    "# run markouts using PricingContext\n",
    "# run the markout calc\n",
    "\n",
    "quotes_eur = quote_dict['EUR=']\n",
    "quotes_jpy = quote_dict['JPY=']\n",
    "print(len(quotes_jpy),len(quotes_eur))\n",
    "quotes_all = op.merge_sorted([quotes_eur[:1000],quotes_jpy[:1000]], lambda x: x.timestamp) > []\n",
    "             #|\\op.map(lambda x: (x.sym, x.timestamp)) > \n",
    "run(quotes_all)\n",
    "\n",
    "my_quote = quotes_all.sink[100]\n",
    "my_instr_2 = sym_to_instrument()('EURJPY=', my_quote.timestamp.date())\n",
    "my_instr_2.notionals = (100, -100*124.594511) # just picked a random quote\n",
    "print(my_instr_2) \n",
    "print('*****')\n",
    "my_trade_2 = FXForwardTrade(my_instr_2, \n",
    "                          trade_id = '12346',\n",
    "                        timestamp = my_quote.timestamp)\n",
    "print(my_trade_2.timestamp)\n"
   ]
  },
  {
   "cell_type": "code",
   "execution_count": 8,
   "metadata": {},
   "outputs": [
    {
     "name": "stderr",
     "output_type": "stream",
     "text": [
      "'list' object has no attribute 'timestamp'\n",
      "Traceback (most recent call last):\n",
      "  File \"../../quant_container/src\\aiostreams\\runner.py\", line 161, in check_tasks\n",
      "    t.result()\n",
      "  File \"C:\\Users\\egork\\Anaconda3\\envs\\py35\\lib\\asyncio\\futures.py\", line 293, in result\n",
      "    raise self._exception\n",
      "  File \"C:\\Users\\egork\\Anaconda3\\envs\\py35\\lib\\asyncio\\tasks.py\", line 239, in _step\n",
      "    result = coro.send(None)\n",
      "  File \"../../quant_container/src\\aiostreams\\runner.py\", line 58, in coro\n",
      "    async for msg in self.source:\n",
      "  File \"../../quant_container/src\\aiostreams\\operators\\map.py\", line 12, in __anext__\n",
      "    val = await self.aiter.__anext__()\n",
      "  File \"../../quant_container/src\\aiostreams\\operators\\flatten.py\", line 18, in __anext__\n",
      "    self.latest = await self.aiter.__anext__()\n",
      "  File \"../../quant_container/src\\aiostreams\\operators\\map.py\", line 12, in __anext__\n",
      "    val = await self.aiter.__anext__()\n",
      "  File \"../../quant_container/src\\aiostreams\\operators\\merge_sorted.py\", line 56, in __anext__\n",
      "    testval = self.sort_by(self.lastvals[ind])\n",
      "  File \"<ipython-input-8-3fbe8a154896>\", line 8, in <lambda>\n",
      "    stream = op.merge_sorted([trades,prices], lambda x:x.timestamp)        | op.flat_map(MarkoutCalculator([-10,0, 10, 100])) | op.map(lambda x:str(x))        > []\n",
      "AttributeError: 'list' object has no attribute 'timestamp'\n"
     ]
    },
    {
     "data": {
      "text/plain": [
       "[]"
      ]
     },
     "execution_count": 8,
     "metadata": {},
     "output_type": "execute_result"
    }
   ],
   "source": [
    "#markouts using PricingContext\n",
    "trades = [my_trade]\n",
    "quotes_2 = quotes_all.sink\n",
    "#print([quote.sym for quote in quotes_2][:100])\n",
    "\n",
    "prices =  quotes_2 | op.map(FXPricingContextGenerator()) \n",
    "#stream = prices | op.map(lambda x: x.timestamp) > print\n",
    "stream = op.merge_sorted([trades,prices], lambda x:x.timestamp)\\\n",
    "        | op.flat_map(MarkoutCalculator([-10,0, 10, 100])) | op.map(lambda x:str(x))\\\n",
    "        > []\n",
    "run(stream)       \n",
    "\n",
    "stream.sink"
   ]
  },
  {
   "cell_type": "code",
   "execution_count": 41,
   "metadata": {},
   "outputs": [
    {
     "name": "stdout",
     "output_type": "stream",
     "text": [
      "[('GBP1Y=', 141.19, ('GBP', 'USD')), ('GBP3M=', 36.12, ('GBP', 'USD')), ('EUR6M=', 110.79, ('EUR', 'USD')), ('USD1MOIS=', 1.141, 'USD'), ('JPY=', 111.22, ('USD', 'JPY')), ('GBP6M=', 70.3, ('GBP', 'USD')), ('EURSN=', 0.54, ('EUR', 'USD')), ('JPY1M=', -16.39, ('USD', 'JPY')), ('USD6MOIS=', 1.175, 'USD'), ('JPYSW=', -5.7, ('USD', 'JPY')), ('JPY6M=', -93.41, ('USD', 'JPY')), ('GBPTN=', 0.385, ('GBP', 'USD')), ('EUR1M=', 19.11, ('EUR', 'USD')), ('JPY3M=', -45.71, ('USD', 'JPY')), ('JPYTN=', -0.481, ('USD', 'JPY')), ('GBP1M=', 13.74, ('GBP', 'USD')), ('EURON=', 0.525, ('EUR', 'USD')), ('USD3MOIS=', 1.148, 'USD'), ('EUR1Y=', 230.8, ('EUR', 'USD')), ('GBPON=', 0.352, ('GBP', 'USD')), ('GBPSW=', 4.53, ('GBP', 'USD')), ('EUR3M=', 54.91, ('EUR', 'USD')), ('EUR=', 1.1198, ('EUR', 'USD')), ('JPYON=', -0.47, ('USD', 'JPY')), ('GBPSN=', 0.387, ('GBP', 'USD')), ('JPYSN=', -0.466, ('USD', 'JPY')), ('USDSWOIS=', 1.11, 'USD'), ('EURSW=', 5.84, ('EUR', 'USD')), ('JPY1Y=', -202.86, ('USD', 'JPY')), ('GBP=', 1.2744, ('GBP', 'USD')), ('EURTN=', 0.51, ('EUR', 'USD')), ('USD1YOIS=', 1.24, 'USD')]\n"
     ]
    }
   ],
   "source": [
    "# extract just the first quote from every stream\n",
    "tiny_quote_dict = {key:[quotes[0]] for key, quotes in quote_dict.items()}\n",
    "print([(key,quotes[0].bid, quotes[0].instrument.ccy) for key, quotes in tiny_quote_dict.items()])\n",
    "with open('../resources/fx/data.pickle', 'wb') as f:\n",
    "        pickle.dump(tiny_quote_dict, f)\n"
   ]
  },
  {
   "cell_type": "code",
   "execution_count": 10,
   "metadata": {},
   "outputs": [
    {
     "data": {
      "text/plain": [
       "False"
      ]
     },
     "execution_count": 10,
     "metadata": {},
     "output_type": "execute_result"
    }
   ],
   "source": [
    "import datetime\n",
    "a = datetime.date(2107,1,1)\n",
    "b = datetime.date(2107,1,2)\n",
    "from mosaicsmartdata.common.quantlib.bond.fixed_bond import pydate_to_qldate\n",
    "pydate_to_qldate(b)< pydate_to_qldate(a)\n"
   ]
  },
  {
   "cell_type": "code",
   "execution_count": 44,
   "metadata": {
    "scrolled": true
   },
   "outputs": [
    {
     "name": "stdout",
     "output_type": "stream",
     "text": [
      "['GBP1Y=', 'GBP3M=', 'EUR6M=', 'USD1MOIS=', 'JPY=', 'USD3MOIS=', 'EURSN=', 'JPY1M=', 'USD6MOIS=', 'JPYSW=', 'JPY6M=', 'GBPTN=', 'EUR1M=', 'JPY3M=', 'GBPSN=', 'GBP1M=', 'EURON=', 'GBP6M=', 'EUR1Y=', 'GBPON=', 'GBPSW=', 'EUR3M=', 'EUR=', 'JPYON=', 'JPYTN=', 'JPYSN=', 'USDSWOIS=', 'EURSW=', 'JPY1Y=', 'GBP=', 'EURTN=', 'USD1YOIS=']\n"
     ]
    },
    {
     "data": {
      "text/plain": [
       "{'EUR': {datetime.date(2017, 6, 26): 0.892983515970787,\n",
       "  datetime.date(2017, 6, 27): 0.8929404573908906,\n",
       "  datetime.date(2017, 6, 29): 0.8928534757803674,\n",
       "  datetime.date(2017, 7, 5): 0.8924236799268926,\n",
       "  datetime.date(2017, 7, 28): 0.891368080643853,\n",
       "  datetime.date(2017, 9, 28): 0.888512159733162,\n",
       "  datetime.date(2017, 12, 28): 0.8840939562011013,\n",
       "  datetime.date(2018, 6, 28): 0.8747911436144621},\n",
       " 'GBP': {datetime.date(2017, 6, 26): 0.7847012756025467,\n",
       "  datetime.date(2017, 6, 27): 0.7846771387062009,\n",
       "  datetime.date(2017, 6, 29): 0.7846271455727375,\n",
       "  datetime.date(2017, 7, 5): 0.7843678622524536,\n",
       "  datetime.date(2017, 7, 28): 0.7838010274063868,\n",
       "  datetime.date(2017, 9, 28): 0.7824169014569385,\n",
       "  datetime.date(2017, 12, 28): 0.780313014762742,\n",
       "  datetime.date(2018, 6, 28): 0.7759384587689582},\n",
       " 'JPY': {datetime.date(2017, 6, 26): 111.24919500000001,\n",
       "  datetime.date(2017, 6, 27): 111.2445,\n",
       "  datetime.date(2017, 6, 29): 111.235505,\n",
       "  datetime.date(2017, 7, 5): 111.18520000000001,\n",
       "  datetime.date(2017, 7, 28): 111.07870000000001,\n",
       "  datetime.date(2017, 9, 28): 110.78680000000001,\n",
       "  datetime.date(2017, 12, 28): 110.31200000000001,\n",
       "  datetime.date(2018, 6, 28): 109.2322}}"
      ]
     },
     "execution_count": 44,
     "metadata": {},
     "output_type": "execute_result"
    }
   ],
   "source": [
    "with open('../resources/fx/data.pickle', 'rb') as f:\n",
    "        tiny_quote_dict = pickle.load(f)\n",
    "\n",
    "        \n",
    "tiny_quotes_list = [quotes for key, quotes in tiny_quote_dict.items()]\n",
    "print([q[0].instrument.sym for q in tiny_quotes_list])\n",
    "stream = op.merge_sorted(tiny_quotes_list, lambda x: x.timestamp) |\\\n",
    "            op.flat_map(FXPricingContextGenerator()) > []\n",
    "run(stream)\n",
    "pc = stream.sink[-1]\n",
    "pc.extra\n"
   ]
  },
  {
   "cell_type": "code",
   "execution_count": 43,
   "metadata": {},
   "outputs": [
    {
     "name": "stdout",
     "output_type": "stream",
     "text": [
      "(datetime.date(2017, 6, 28), datetime.date(2017, 12, 28)) 1.15646526169 \n",
      "\n",
      "(datetime.date(2017, 6, 27), datetime.date(2017, 6, 28)) 1 \n",
      "\n",
      "(datetime.date(2017, 6, 26), datetime.date(2017, 6, 28)) -0.0174391232534 \n",
      "\n",
      "(datetime.date(2017, 6, 28), datetime.date(2018, 6, 28)) 1.22111758501 \n",
      "\n",
      "(datetime.date(2017, 6, 28), datetime.date(2017, 7, 5)) 1.10253256208 \n",
      "\n",
      "(datetime.date(2017, 6, 28), datetime.date(2017, 7, 28)) 1.12162081528 \n",
      "\n",
      "(datetime.date(2017, 6, 28), datetime.date(2017, 6, 29)) 1.13257537723 \n",
      "\n",
      "(datetime.date(2017, 6, 28), datetime.date(2017, 9, 28)) 1.13030866308 \n",
      "\n"
     ]
    },
    {
     "ename": "RuntimeError",
     "evalue": "negative time (-0.00273973) given",
     "output_type": "error",
     "traceback": [
      "\u001b[1;31m---------------------------------------------------------------------------\u001b[0m",
      "\u001b[1;31mRuntimeError\u001b[0m                              Traceback (most recent call last)",
      "\u001b[1;32m<ipython-input-43-b390449b0318>\u001b[0m in \u001b[0;36m<module>\u001b[1;34m()\u001b[0m\n\u001b[0;32m      8\u001b[0m \u001b[1;33m\u001b[0m\u001b[0m\n\u001b[0;32m      9\u001b[0m \u001b[0meur_curve\u001b[0m \u001b[1;33m=\u001b[0m  \u001b[0mconstruct_OIS_curve\u001b[0m\u001b[1;33m(\u001b[0m\u001b[0mEUR_df\u001b[0m\u001b[1;33m)\u001b[0m\u001b[1;33m\u001b[0m\u001b[0m\n\u001b[1;32m---> 10\u001b[1;33m \u001b[0mdf\u001b[0m \u001b[1;33m=\u001b[0m \u001b[0mdiscounting_factor\u001b[0m\u001b[1;33m(\u001b[0m\u001b[0meur_curve\u001b[0m\u001b[1;33m,\u001b[0m\u001b[0ma\u001b[0m\u001b[1;33m,\u001b[0m\u001b[0mb\u001b[0m\u001b[1;33m)\u001b[0m\u001b[1;33m\u001b[0m\u001b[0m\n\u001b[0m",
      "\u001b[1;32mC:\\Users\\egork\\Dropbox\\GitHub\\Mosaic\\msq-domain\\src\\mosaicsmartdata\\core\\curve_utils.py\u001b[0m in \u001b[0;36mdiscounting_factor\u001b[1;34m(ois_curve, date_1, date_2, one_pre_spot)\u001b[0m\n\u001b[0;32m    189\u001b[0m         \u001b[1;32mpass\u001b[0m\u001b[1;33m\u001b[0m\u001b[0m\n\u001b[0;32m    190\u001b[0m     \u001b[1;31m#print(valuation_date,end_date)\u001b[0m\u001b[1;33m\u001b[0m\u001b[1;33m\u001b[0m\u001b[0m\n\u001b[1;32m--> 191\u001b[1;33m     \u001b[0mdr\u001b[0m \u001b[1;33m=\u001b[0m \u001b[0mget_rate\u001b[0m\u001b[1;33m(\u001b[0m\u001b[0mois_curve\u001b[0m\u001b[1;33m,\u001b[0m \u001b[0mvaluation_date\u001b[0m\u001b[1;33m,\u001b[0m \u001b[0mend_date\u001b[0m\u001b[1;33m)\u001b[0m\u001b[1;33m\u001b[0m\u001b[0m\n\u001b[0m\u001b[0;32m    192\u001b[0m     \u001b[1;31m#print('*** success!!! ***')\u001b[0m\u001b[1;33m\u001b[0m\u001b[1;33m\u001b[0m\u001b[0m\n\u001b[0;32m    193\u001b[0m     \u001b[0mdf\u001b[0m \u001b[1;33m=\u001b[0m  \u001b[0mnp\u001b[0m\u001b[1;33m.\u001b[0m\u001b[0mexp\u001b[0m\u001b[1;33m(\u001b[0m\u001b[1;33m-\u001b[0m \u001b[0mdr\u001b[0m \u001b[1;33m*\u001b[0m \u001b[0mdt\u001b[0m\u001b[1;33m)\u001b[0m\u001b[1;33m\u001b[0m\u001b[0m\n",
      "\u001b[1;32mC:\\Users\\egork\\Dropbox\\GitHub\\Mosaic\\msq-domain\\src\\mosaicsmartdata\\core\\curve_utils.py\u001b[0m in \u001b[0;36mget_rate\u001b[1;34m(ois_curve, start_date, end_date, daycount)\u001b[0m\n\u001b[0;32m    154\u001b[0m     return ois_curve.ois_curve_c.forwardRate(pydate_to_qldate(start_date),\n\u001b[0;32m    155\u001b[0m                          \u001b[0mpydate_to_qldate\u001b[0m\u001b[1;33m(\u001b[0m\u001b[0mend_date\u001b[0m\u001b[1;33m)\u001b[0m\u001b[1;33m,\u001b[0m\u001b[1;33m\u001b[0m\u001b[0m\n\u001b[1;32m--> 156\u001b[1;33m                          daycount, Simple).rate()*100\n\u001b[0m\u001b[0;32m    157\u001b[0m \u001b[1;33m\u001b[0m\u001b[0m\n\u001b[0;32m    158\u001b[0m \u001b[1;32mdef\u001b[0m \u001b[0mdiscounting_factor\u001b[0m\u001b[1;33m(\u001b[0m\u001b[0mois_curve\u001b[0m\u001b[1;33m,\u001b[0m \u001b[0mdate_1\u001b[0m\u001b[1;33m,\u001b[0m \u001b[0mdate_2\u001b[0m \u001b[1;33m=\u001b[0m \u001b[1;32mNone\u001b[0m\u001b[1;33m,\u001b[0m \u001b[0mone_pre_spot\u001b[0m \u001b[1;33m=\u001b[0m \u001b[1;32mFalse\u001b[0m\u001b[1;33m)\u001b[0m\u001b[1;33m:\u001b[0m\u001b[1;33m\u001b[0m\u001b[0m\n",
      "\u001b[1;32mC:\\Users\\egork\\Anaconda3\\envs\\py35\\lib\\site-packages\\QuantLib\\QuantLib.py\u001b[0m in \u001b[0;36mforwardRate\u001b[1;34m(self, *args)\u001b[0m\n\u001b[0;32m   5476\u001b[0m \u001b[1;33m\u001b[0m\u001b[0m\n\u001b[0;32m   5477\u001b[0m     \u001b[1;32mdef\u001b[0m \u001b[0mforwardRate\u001b[0m\u001b[1;33m(\u001b[0m\u001b[0mself\u001b[0m\u001b[1;33m,\u001b[0m \u001b[1;33m*\u001b[0m\u001b[0margs\u001b[0m\u001b[1;33m)\u001b[0m\u001b[1;33m:\u001b[0m\u001b[1;33m\u001b[0m\u001b[0m\n\u001b[1;32m-> 5478\u001b[1;33m         \u001b[1;32mreturn\u001b[0m \u001b[0m_QuantLib\u001b[0m\u001b[1;33m.\u001b[0m\u001b[0mYieldTermStructure_forwardRate\u001b[0m\u001b[1;33m(\u001b[0m\u001b[0mself\u001b[0m\u001b[1;33m,\u001b[0m \u001b[1;33m*\u001b[0m\u001b[0margs\u001b[0m\u001b[1;33m)\u001b[0m\u001b[1;33m\u001b[0m\u001b[0m\n\u001b[0m\u001b[0;32m   5479\u001b[0m \u001b[1;33m\u001b[0m\u001b[0m\n\u001b[0;32m   5480\u001b[0m     \u001b[1;32mdef\u001b[0m \u001b[0menableExtrapolation\u001b[0m\u001b[1;33m(\u001b[0m\u001b[0mself\u001b[0m\u001b[1;33m)\u001b[0m\u001b[1;33m:\u001b[0m\u001b[1;33m\u001b[0m\u001b[0m\n",
      "\u001b[1;31mRuntimeError\u001b[0m: negative time (-0.00273973) given"
     ]
    }
   ],
   "source": [
    "from mosaicsmartdata.core.curve_utils import construct_OIS_curve, discounting_factor\n",
    "import datetime\n",
    "\n",
    "with open('EUR_curve.pickle', 'rb') as f:\n",
    "        EUR_df = pickle.load(f)\n",
    "EUR_df[(datetime.date(2017, 6, 27), datetime.date(2017, 6, 28))] = 1\n",
    "[print(key, value,'\\n') for key,value in EUR_df.items()]\n",
    "        \n",
    "eur_curve =  construct_OIS_curve(EUR_df)\n",
    "df = discounting_factor(eur_curve,a,b)"
   ]
  },
  {
   "cell_type": "code",
   "execution_count": 14,
   "metadata": {},
   "outputs": [
    {
     "name": "stdout",
     "output_type": "stream",
     "text": [
      "GBP1Y=\n",
      "143.12 143.12\n",
      "GBP3M=\n",
      "36.41 36.41\n",
      "EUR6M=\n",
      "111.515 111.515000016\n",
      "JPY=\n",
      "111.24000000000001 111.24000000000001\n",
      "EURSN=\n",
      "0.546 0.546000000037\n",
      "JPY1M=\n",
      "-16.13 -16.1299999999\n",
      "JPYSW=\n",
      "-5.48 -5.47999999992\n",
      "JPY6M=\n",
      "-92.8 -92.8000000144\n",
      "GBPTN=\n"
     ]
    },
    {
     "ename": "RuntimeError",
     "evalue": "negative time (-0.00273973) given",
     "output_type": "error",
     "traceback": [
      "\u001b[1;31m---------------------------------------------------------------------------\u001b[0m",
      "\u001b[1;31mRuntimeError\u001b[0m                              Traceback (most recent call last)",
      "\u001b[1;32m<ipython-input-14-7bfb9df62fa4>\u001b[0m in \u001b[0;36m<module>\u001b[1;34m()\u001b[0m\n\u001b[0;32m      2\u001b[0m     \u001b[1;32mif\u001b[0m \u001b[1;34m'OIS'\u001b[0m \u001b[1;32mnot\u001b[0m \u001b[1;32min\u001b[0m \u001b[0msym\u001b[0m \u001b[1;32mand\u001b[0m \u001b[1;34m'ON'\u001b[0m \u001b[1;32mnot\u001b[0m \u001b[1;32min\u001b[0m \u001b[0msym\u001b[0m\u001b[1;33m:\u001b[0m \u001b[1;31m#and 'TN' not in sym:\u001b[0m\u001b[1;33m\u001b[0m\u001b[0m\n\u001b[0;32m      3\u001b[0m             \u001b[0mprint\u001b[0m\u001b[1;33m(\u001b[0m\u001b[0msym\u001b[0m\u001b[1;33m)\u001b[0m\u001b[1;33m\u001b[0m\u001b[0m\n\u001b[1;32m----> 4\u001b[1;33m             \u001b[0mprint\u001b[0m\u001b[1;33m(\u001b[0m\u001b[0mquote\u001b[0m\u001b[1;33m[\u001b[0m\u001b[1;36m0\u001b[0m\u001b[1;33m]\u001b[0m\u001b[1;33m.\u001b[0m\u001b[0mmid\u001b[0m\u001b[1;33m,\u001b[0m \u001b[0mquote\u001b[0m\u001b[1;33m[\u001b[0m\u001b[1;36m0\u001b[0m\u001b[1;33m]\u001b[0m\u001b[1;33m.\u001b[0m\u001b[0minstrument\u001b[0m\u001b[1;33m.\u001b[0m\u001b[0mprice\u001b[0m\u001b[1;33m(\u001b[0m\u001b[0mpc\u001b[0m\u001b[1;33m)\u001b[0m\u001b[1;33m)\u001b[0m\u001b[1;33m\u001b[0m\u001b[0m\n\u001b[0m",
      "\u001b[1;32mC:\\Users\\egork\\Dropbox\\GitHub\\Mosaic\\msq-domain\\src\\mosaicsmartdata\\core\\instrument.py\u001b[0m in \u001b[0;36mprice\u001b[1;34m(self, pc)\u001b[0m\n\u001b[0;32m    154\u001b[0m \u001b[1;33m\u001b[0m\u001b[0m\n\u001b[0;32m    155\u001b[0m     \u001b[1;32mdef\u001b[0m \u001b[0mprice\u001b[0m\u001b[1;33m(\u001b[0m\u001b[0mself\u001b[0m\u001b[1;33m,\u001b[0m \u001b[0mpc\u001b[0m\u001b[1;33m:\u001b[0m \u001b[0mPricingContext\u001b[0m \u001b[1;33m)\u001b[0m\u001b[1;33m:\u001b[0m\u001b[1;33m\u001b[0m\u001b[0m\n\u001b[1;32m--> 156\u001b[1;33m         \u001b[1;32mreturn\u001b[0m \u001b[0mpc\u001b[0m\u001b[1;33m.\u001b[0m\u001b[0mfair_fwd_points\u001b[0m\u001b[1;33m(\u001b[0m\u001b[0mself\u001b[0m\u001b[1;33m.\u001b[0m\u001b[0mccy\u001b[0m\u001b[1;33m,\u001b[0m \u001b[0mself\u001b[0m\u001b[1;33m.\u001b[0m\u001b[0mlegs\u001b[0m\u001b[1;33m[\u001b[0m\u001b[1;36m0\u001b[0m\u001b[1;33m]\u001b[0m\u001b[1;33m.\u001b[0m\u001b[0msettle_date\u001b[0m\u001b[1;33m,\u001b[0m \u001b[0mself\u001b[0m\u001b[1;33m.\u001b[0m\u001b[0mlegs\u001b[0m\u001b[1;33m[\u001b[0m\u001b[1;36m1\u001b[0m\u001b[1;33m]\u001b[0m\u001b[1;33m.\u001b[0m\u001b[0msettle_date\u001b[0m\u001b[1;33m)\u001b[0m\u001b[1;33m\u001b[0m\u001b[0m\n\u001b[0m\u001b[0;32m    157\u001b[0m \u001b[1;33m\u001b[0m\u001b[0m\n\u001b[0;32m    158\u001b[0m     \u001b[1;32mdef\u001b[0m \u001b[0m__getattr__\u001b[0m\u001b[1;33m(\u001b[0m\u001b[0mself\u001b[0m\u001b[1;33m,\u001b[0m \u001b[0mitem\u001b[0m\u001b[1;33m)\u001b[0m\u001b[1;33m:\u001b[0m\u001b[1;33m\u001b[0m\u001b[0m\n",
      "\u001b[1;32mC:\\Users\\egork\\Dropbox\\GitHub\\Mosaic\\msq-domain\\src\\mosaicsmartdata\\core\\instrument.py\u001b[0m in \u001b[0;36mfair_fwd_points\u001b[1;34m(self, ccypair, start_date, end_date)\u001b[0m\n\u001b[0;32m     59\u001b[0m     \u001b[1;32mdef\u001b[0m \u001b[0mfair_fwd_points\u001b[0m\u001b[1;33m(\u001b[0m\u001b[0mself\u001b[0m\u001b[1;33m,\u001b[0m \u001b[0mccypair\u001b[0m\u001b[1;33m,\u001b[0m \u001b[0mstart_date\u001b[0m\u001b[1;33m,\u001b[0m \u001b[0mend_date\u001b[0m\u001b[1;33m)\u001b[0m\u001b[1;33m:\u001b[0m\u001b[1;33m\u001b[0m\u001b[0m\n\u001b[0;32m     60\u001b[0m         \u001b[0mpip_size\u001b[0m \u001b[1;33m=\u001b[0m \u001b[0mstatic\u001b[0m\u001b[1;33m.\u001b[0m\u001b[0mpip_size\u001b[0m\u001b[1;33m(\u001b[0m\u001b[0mccypair\u001b[0m\u001b[1;33m)\u001b[0m\u001b[1;33m\u001b[0m\u001b[0m\n\u001b[1;32m---> 61\u001b[1;33m         \u001b[0mfwd_diff\u001b[0m \u001b[1;33m=\u001b[0m \u001b[0mself\u001b[0m\u001b[1;33m.\u001b[0m\u001b[0mfair_forward\u001b[0m\u001b[1;33m(\u001b[0m\u001b[0mccypair\u001b[0m\u001b[1;33m,\u001b[0m \u001b[0mend_date\u001b[0m\u001b[1;33m)\u001b[0m \u001b[1;33m-\u001b[0m \u001b[0mself\u001b[0m\u001b[1;33m.\u001b[0m\u001b[0mfair_forward\u001b[0m\u001b[1;33m(\u001b[0m\u001b[0mccypair\u001b[0m\u001b[1;33m,\u001b[0m \u001b[0mstart_date\u001b[0m\u001b[1;33m)\u001b[0m\u001b[1;33m\u001b[0m\u001b[0m\n\u001b[0m\u001b[0;32m     62\u001b[0m         \u001b[1;32mreturn\u001b[0m \u001b[0mfwd_diff\u001b[0m \u001b[1;33m/\u001b[0m \u001b[0mpip_size\u001b[0m\u001b[1;33m\u001b[0m\u001b[0m\n\u001b[0;32m     63\u001b[0m \u001b[1;33m\u001b[0m\u001b[0m\n",
      "\u001b[1;32mC:\\Users\\egork\\Dropbox\\GitHub\\Mosaic\\msq-domain\\src\\mosaicsmartdata\\core\\instrument.py\u001b[0m in \u001b[0;36mfair_forward\u001b[1;34m(self, ccypair, date)\u001b[0m\n\u001b[0;32m     47\u001b[0m                                 \u001b[0mspot_date\u001b[0m\u001b[1;33m,\u001b[0m\u001b[1;33m\u001b[0m\u001b[0m\n\u001b[0;32m     48\u001b[0m                                 \u001b[0mdate\u001b[0m\u001b[1;33m,\u001b[0m\u001b[1;33m\u001b[0m\u001b[0m\n\u001b[1;32m---> 49\u001b[1;33m                                 \u001b[0mone_pre_spot\u001b[0m \u001b[1;33m=\u001b[0m \u001b[1;32mTrue\u001b[0m \u001b[1;32mif\u001b[0m \u001b[0mccypair\u001b[0m\u001b[1;33m[\u001b[0m\u001b[1;36m0\u001b[0m\u001b[1;33m]\u001b[0m\u001b[1;33m==\u001b[0m\u001b[1;34m'USD'\u001b[0m \u001b[1;32melse\u001b[0m \u001b[1;32mFalse\u001b[0m\u001b[1;33m\u001b[0m\u001b[0m\n\u001b[0m\u001b[0;32m     50\u001b[0m                                 )\n\u001b[0;32m     51\u001b[0m         d2 = discounting_factor(self.curve[ccypair[1]],\n",
      "\u001b[1;32mC:\\Users\\egork\\Dropbox\\GitHub\\Mosaic\\msq-domain\\src\\mosaicsmartdata\\core\\curve_utils.py\u001b[0m in \u001b[0;36mdiscounting_factor\u001b[1;34m(ois_curve, date_1, date_2, one_pre_spot)\u001b[0m\n\u001b[0;32m    188\u001b[0m         \u001b[1;32mpass\u001b[0m\u001b[1;33m\u001b[0m\u001b[0m\n\u001b[0;32m    189\u001b[0m     \u001b[1;31m#print(valuation_date,end_date)\u001b[0m\u001b[1;33m\u001b[0m\u001b[1;33m\u001b[0m\u001b[0m\n\u001b[1;32m--> 190\u001b[1;33m     \u001b[0mdr\u001b[0m \u001b[1;33m=\u001b[0m \u001b[0mget_rate\u001b[0m\u001b[1;33m(\u001b[0m\u001b[0mois_curve\u001b[0m\u001b[1;33m,\u001b[0m \u001b[0mvaluation_date\u001b[0m\u001b[1;33m,\u001b[0m \u001b[0mend_date\u001b[0m\u001b[1;33m)\u001b[0m\u001b[1;33m\u001b[0m\u001b[0m\n\u001b[0m\u001b[0;32m    191\u001b[0m     \u001b[1;31m#print('*** success!!! ***')\u001b[0m\u001b[1;33m\u001b[0m\u001b[1;33m\u001b[0m\u001b[0m\n\u001b[0;32m    192\u001b[0m     \u001b[0mdf\u001b[0m \u001b[1;33m=\u001b[0m  \u001b[0mnp\u001b[0m\u001b[1;33m.\u001b[0m\u001b[0mexp\u001b[0m\u001b[1;33m(\u001b[0m\u001b[1;33m-\u001b[0m \u001b[0mdr\u001b[0m \u001b[1;33m*\u001b[0m \u001b[0mdt\u001b[0m\u001b[1;33m)\u001b[0m\u001b[1;33m\u001b[0m\u001b[0m\n",
      "\u001b[1;32mC:\\Users\\egork\\Dropbox\\GitHub\\Mosaic\\msq-domain\\src\\mosaicsmartdata\\core\\curve_utils.py\u001b[0m in \u001b[0;36mget_rate\u001b[1;34m(ois_curve, start_date, end_date, daycount)\u001b[0m\n\u001b[0;32m    153\u001b[0m     return ois_curve.ois_curve_c.forwardRate(pydate_to_qldate(start_date),\n\u001b[0;32m    154\u001b[0m                          \u001b[0mpydate_to_qldate\u001b[0m\u001b[1;33m(\u001b[0m\u001b[0mend_date\u001b[0m\u001b[1;33m)\u001b[0m\u001b[1;33m,\u001b[0m\u001b[1;33m\u001b[0m\u001b[0m\n\u001b[1;32m--> 155\u001b[1;33m                          daycount, Simple).rate()*100\n\u001b[0m\u001b[0;32m    156\u001b[0m \u001b[1;33m\u001b[0m\u001b[0m\n\u001b[0;32m    157\u001b[0m \u001b[1;32mdef\u001b[0m \u001b[0mdiscounting_factor\u001b[0m\u001b[1;33m(\u001b[0m\u001b[0mois_curve\u001b[0m\u001b[1;33m,\u001b[0m \u001b[0mdate_1\u001b[0m\u001b[1;33m,\u001b[0m \u001b[0mdate_2\u001b[0m \u001b[1;33m=\u001b[0m \u001b[1;32mNone\u001b[0m\u001b[1;33m,\u001b[0m \u001b[0mone_pre_spot\u001b[0m \u001b[1;33m=\u001b[0m \u001b[1;32mFalse\u001b[0m\u001b[1;33m)\u001b[0m\u001b[1;33m:\u001b[0m\u001b[1;33m\u001b[0m\u001b[0m\n",
      "\u001b[1;32mC:\\Users\\egork\\Anaconda3\\envs\\py35\\lib\\site-packages\\QuantLib\\QuantLib.py\u001b[0m in \u001b[0;36mforwardRate\u001b[1;34m(self, *args)\u001b[0m\n\u001b[0;32m   5476\u001b[0m \u001b[1;33m\u001b[0m\u001b[0m\n\u001b[0;32m   5477\u001b[0m     \u001b[1;32mdef\u001b[0m \u001b[0mforwardRate\u001b[0m\u001b[1;33m(\u001b[0m\u001b[0mself\u001b[0m\u001b[1;33m,\u001b[0m \u001b[1;33m*\u001b[0m\u001b[0margs\u001b[0m\u001b[1;33m)\u001b[0m\u001b[1;33m:\u001b[0m\u001b[1;33m\u001b[0m\u001b[0m\n\u001b[1;32m-> 5478\u001b[1;33m         \u001b[1;32mreturn\u001b[0m \u001b[0m_QuantLib\u001b[0m\u001b[1;33m.\u001b[0m\u001b[0mYieldTermStructure_forwardRate\u001b[0m\u001b[1;33m(\u001b[0m\u001b[0mself\u001b[0m\u001b[1;33m,\u001b[0m \u001b[1;33m*\u001b[0m\u001b[0margs\u001b[0m\u001b[1;33m)\u001b[0m\u001b[1;33m\u001b[0m\u001b[0m\n\u001b[0m\u001b[0;32m   5479\u001b[0m \u001b[1;33m\u001b[0m\u001b[0m\n\u001b[0;32m   5480\u001b[0m     \u001b[1;32mdef\u001b[0m \u001b[0menableExtrapolation\u001b[0m\u001b[1;33m(\u001b[0m\u001b[0mself\u001b[0m\u001b[1;33m)\u001b[0m\u001b[1;33m:\u001b[0m\u001b[1;33m\u001b[0m\u001b[0m\n",
      "\u001b[1;31mRuntimeError\u001b[0m: negative time (-0.00273973) given"
     ]
    }
   ],
   "source": [
    "for sym, quote in tiny_quote_dict.items():\n",
    "    if 'OIS' not in sym and 'ON' not in sym: #and 'TN' not in sym:\n",
    "            print(sym)\n",
    "            print(quote[0].mid, quote[0].instrument.price(pc))\n"
   ]
  },
  {
   "cell_type": "code",
   "execution_count": 15,
   "metadata": {},
   "outputs": [
    {
     "name": "stdout",
     "output_type": "stream",
     "text": [
      "111.515 6M EUR6M=\n",
      "0.546 1b EURSN=\n",
      "19.21 1M EUR1M=\n",
      "0.54 ON EURON=\n",
      "231.8 1Y EUR1Y=\n",
      "55.269999999999996 3M EUR3M=\n",
      "1.11995 SPOT EUR=\n",
      "5.9399999999999995 1w EURSW=\n",
      "0.5449999999999999 TN EURTN=\n",
      "{datetime.date(2017, 9, 28): 0.7824169014569385, datetime.date(2018, 6, 28): 0.7759384587689582, datetime.date(2017, 7, 28): 0.7838010274063868, datetime.date(2017, 7, 5): 0.7843678622524536, datetime.date(2017, 6, 29): 0.7846271455727375, datetime.date(2017, 12, 28): 0.780313014762742, datetime.date(2017, 6, 27): 0.7846771387062009}\n"
     ]
    }
   ],
   "source": [
    "pc.extra['EUR']\n",
    "for sym, quote in tiny_quote_dict.items():\n",
    "    if 'EUR' in sym:\n",
    "        print(quote[0].mid, quote[0].instrument.tenor, quote[0].instrument.sym)\n",
    "print(pc.extra['GBP'])"
   ]
  },
  {
   "cell_type": "code",
   "execution_count": null,
   "metadata": {
    "collapsed": true
   },
   "outputs": [],
   "source": []
  }
 ],
 "metadata": {
  "anaconda-cloud": {},
  "kernelspec": {
   "display_name": "Python [conda env:py35]",
   "language": "python",
   "name": "conda-env-py35-py"
  },
  "language_info": {
   "codemirror_mode": {
    "name": "ipython",
    "version": 3
   },
   "file_extension": ".py",
   "mimetype": "text/x-python",
   "name": "python",
   "nbconvert_exporter": "python",
   "pygments_lexer": "ipython3",
   "version": "3.5.3"
  }
 },
 "nbformat": 4,
 "nbformat_minor": 1
}
