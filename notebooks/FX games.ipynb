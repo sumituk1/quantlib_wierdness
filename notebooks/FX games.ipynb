{
 "cells": [
  {
   "cell_type": "code",
   "execution_count": 1,
   "metadata": {
    "collapsed": false
   },
   "outputs": [],
   "source": [
    "# require at least Python 3.5 for async/await to work\n",
    "import sys\n",
    "ver=sys.version_info\n",
    "assert (ver[0]>=3 and ver[1]>=5)\n",
    "sys.path.append('../../quant_container/src')\n",
    "sys.path.append('../src')\n",
    "from aiostreams import run\n",
    "import aiostreams.operators as op\n",
    "from mosaicsmartdata.common import qc_csv_helper\n",
    "from mosaicsmartdata.core.quote import Quote\n",
    "import csv\n"
   ]
  },
  {
   "cell_type": "code",
   "execution_count": 2,
   "metadata": {
    "collapsed": false
   },
   "outputs": [
    {
     "name": "stdout",
     "output_type": "stream",
     "text": [
      "100000 <class 'mosaicsmartdata.core.quote.Quote'> :  duration = None, ask = 1.119, bid = 1.1189, sym = EUR=, timestamp = 2017-06-27 03:11:19.399000, instr = <class 'mosaicsmartdata.core.instrument.FXForward'> :  tenor = SPOT, ccy = ('EUR', 'USD'), notionals = None, venue = None, static = Instrument static singleton facade, holidayCities = None, sym = EUR=, settle_date = 2017-06-27, isDeliverable = True, date_calc = <mosaicsmartdata.core.date_calculator.DateCalculator object at 0x0000027C35615860>\n",
      "200000 <class 'mosaicsmartdata.core.quote.Quote'> :  duration = None, ask = 1.1348, bid = 1.1345, sym = EUR=, timestamp = 2017-06-27 20:16:40.312000, instr = <class 'mosaicsmartdata.core.instrument.FXForward'> :  tenor = SPOT, ccy = ('EUR', 'USD'), notionals = None, venue = None, static = Instrument static singleton facade, holidayCities = None, sym = EUR=, settle_date = 2017-06-27, isDeliverable = True, date_calc = <mosaicsmartdata.core.date_calculator.DateCalculator object at 0x0000027C35615860>\n",
      "300000 <class 'mosaicsmartdata.core.quote.Quote'> :  duration = None, ask = 1.1365, bid = 1.1364, sym = EUR=, timestamp = 2017-06-28 13:55:12.249000, instr = <class 'mosaicsmartdata.core.instrument.FXForward'> :  tenor = SPOT, ccy = ('EUR', 'USD'), notionals = None, venue = None, static = Instrument static singleton facade, holidayCities = None, sym = EUR=, settle_date = 2017-06-28, isDeliverable = True, date_calc = <mosaicsmartdata.core.date_calculator.DateCalculator object at 0x0000027C387DA0F0>\n",
      "400000 <class 'mosaicsmartdata.core.quote.Quote'> :  duration = None, ask = 1.1419, bid = 1.1418, sym = EUR=, timestamp = 2017-06-29 09:25:46.442000, instr = <class 'mosaicsmartdata.core.instrument.FXForward'> :  tenor = SPOT, ccy = ('EUR', 'USD'), notionals = None, venue = None, static = Instrument static singleton facade, holidayCities = None, sym = EUR=, settle_date = 2017-06-29, isDeliverable = True, date_calc = <mosaicsmartdata.core.date_calculator.DateCalculator object at 0x0000027C3CBA8128>\n",
      "500000 <class 'mosaicsmartdata.core.quote.Quote'> :  duration = None, ask = 1.1434, bid = 1.143, sym = EUR=, timestamp = 2017-06-30 05:46:53.843000, instr = <class 'mosaicsmartdata.core.instrument.FXForward'> :  tenor = SPOT, ccy = ('EUR', 'USD'), notionals = None, venue = None, static = Instrument static singleton facade, holidayCities = None, sym = EUR=, settle_date = 2017-06-30, isDeliverable = True, date_calc = <mosaicsmartdata.core.date_calculator.DateCalculator object at 0x0000027C3DF9A080>\n",
      "600000 <class 'mosaicsmartdata.core.quote.Quote'> :  duration = None, ask = 0.567, bid = 0.505, sym = EURON=, timestamp = 2017-06-28 12:37:05.004000, instr = <class 'mosaicsmartdata.core.instrument.FXSwap'> :  tenor = ON, ccy = None, pip_size = None, venue = None, first_leg = <class 'mosaicsmartdata.core.instrument.FXForward'> :  tenor = O, ccy = ('EUR', 'USD'), notionals = None, venue = None, static = Instrument static singleton facade, holidayCities = None, sym = EURON=, settle_date = 2017-06-28, isDeliverable = True, date_calc = <mosaicsmartdata.core.date_calculator.DateCalculator object at 0x0000027C42CE1B38>, sym = None, holidayCities = None, legs = [<mosaicsmartdata.core.instrument.FXForward object at 0x0000027C42CE17F0>, <mosaicsmartdata.core.instrument.FXForward object at 0x0000027C42CE1780>]\n",
      "700000 <class 'mosaicsmartdata.core.quote.Quote'> :  duration = None, ask = 111.7, bid = 111.68, sym = JPY=, timestamp = 2017-06-26 12:02:02.949000, instr = <class 'mosaicsmartdata.core.instrument.FXForward'> :  tenor = SPOT, ccy = ('USD', 'JPY'), notionals = None, venue = None, static = Instrument static singleton facade, holidayCities = None, sym = JPY=, settle_date = 2017-06-26, isDeliverable = True, date_calc = <mosaicsmartdata.core.date_calculator.DateCalculator object at 0x0000027C43BFFA58>\n",
      "800000 <class 'mosaicsmartdata.core.quote.Quote'> :  duration = None, ask = 111.87, bid = 111.83, sym = JPY=, timestamp = 2017-06-27 11:23:45.884000, instr = <class 'mosaicsmartdata.core.instrument.FXForward'> :  tenor = SPOT, ccy = ('USD', 'JPY'), notionals = None, venue = None, static = Instrument static singleton facade, holidayCities = None, sym = JPY=, settle_date = 2017-06-27, isDeliverable = True, date_calc = <mosaicsmartdata.core.date_calculator.DateCalculator object at 0x0000027C4629C0F0>\n",
      "900000 <class 'mosaicsmartdata.core.quote.Quote'> :  duration = None, ask = 111.94, bid = 111.9, sym = JPY=, timestamp = 2017-06-28 08:13:30.674000, instr = <class 'mosaicsmartdata.core.instrument.FXForward'> :  tenor = SPOT, ccy = ('USD', 'JPY'), notionals = None, venue = None, static = Instrument static singleton facade, holidayCities = None, sym = JPY=, settle_date = 2017-06-28, isDeliverable = True, date_calc = <mosaicsmartdata.core.date_calculator.DateCalculator object at 0x0000027C49224DD8>\n",
      "1000000 <class 'mosaicsmartdata.core.quote.Quote'> :  duration = None, ask = 112.21, bid = 112.2, sym = JPY=, timestamp = 2017-06-29 06:00:09.262000, instr = <class 'mosaicsmartdata.core.instrument.FXForward'> :  tenor = SPOT, ccy = ('USD', 'JPY'), notionals = None, venue = None, static = Instrument static singleton facade, holidayCities = None, sym = JPY=, settle_date = 2017-06-29, isDeliverable = True, date_calc = <mosaicsmartdata.core.date_calculator.DateCalculator object at 0x0000027C4C0D6B70>\n",
      "1100000 <class 'mosaicsmartdata.core.quote.Quote'> :  duration = None, ask = 112.02, bid = 111.97, sym = JPY=, timestamp = 2017-06-29 23:57:06.763000, instr = <class 'mosaicsmartdata.core.instrument.FXForward'> :  tenor = SPOT, ccy = ('USD', 'JPY'), notionals = None, venue = None, static = Instrument static singleton facade, holidayCities = None, sym = JPY=, settle_date = 2017-06-29, isDeliverable = True, date_calc = <mosaicsmartdata.core.date_calculator.DateCalculator object at 0x0000027C4C0D6B70>\n",
      "1200000 <class 'mosaicsmartdata.core.quote.Quote'> :  duration = None, ask = 112.56, bid = 112.51, sym = JPY=, timestamp = 2017-06-30 18:51:20.792000, instr = <class 'mosaicsmartdata.core.instrument.FXForward'> :  tenor = SPOT, ccy = ('USD', 'JPY'), notionals = None, venue = None, static = Instrument static singleton facade, holidayCities = None, sym = JPY=, settle_date = 2017-06-30, isDeliverable = True, date_calc = <mosaicsmartdata.core.date_calculator.DateCalculator object at 0x0000027C501246A0>\n",
      "1300000 <class 'mosaicsmartdata.core.quote.Quote'> :  duration = None, ask = 1.2739, bid = 1.2735, sym = GBP=, timestamp = 2017-06-26 11:54:30.316000, instr = <class 'mosaicsmartdata.core.instrument.FXForward'> :  tenor = SPOT, ccy = ('GBP', 'USD'), notionals = None, venue = None, static = Instrument static singleton facade, holidayCities = None, sym = GBP=, settle_date = 2017-06-26, isDeliverable = True, date_calc = <mosaicsmartdata.core.date_calculator.DateCalculator object at 0x0000027C53A10198>\n",
      "1400000 <class 'mosaicsmartdata.core.quote.Quote'> :  duration = None, ask = 1.2745, bid = 1.2742, sym = GBP=, timestamp = 2017-06-27 10:49:00.947000, instr = <class 'mosaicsmartdata.core.instrument.FXForward'> :  tenor = SPOT, ccy = ('GBP', 'USD'), notionals = None, venue = None, static = Instrument static singleton facade, holidayCities = None, sym = GBP=, settle_date = 2017-06-27, isDeliverable = True, date_calc = <mosaicsmartdata.core.date_calculator.DateCalculator object at 0x0000027C56299198>\n",
      "1500000 <class 'mosaicsmartdata.core.quote.Quote'> :  duration = None, ask = 1.2813, bid = 1.2812, sym = GBP=, timestamp = 2017-06-28 06:01:26.157000, instr = <class 'mosaicsmartdata.core.instrument.FXForward'> :  tenor = SPOT, ccy = ('GBP', 'USD'), notionals = None, venue = None, static = Instrument static singleton facade, holidayCities = None, sym = GBP=, settle_date = 2017-06-28, isDeliverable = True, date_calc = <mosaicsmartdata.core.date_calculator.DateCalculator object at 0x0000027C59397978>\n",
      "1600000 <class 'mosaicsmartdata.core.quote.Quote'> :  duration = None, ask = 1.2931, bid = 1.2928, sym = GBP=, timestamp = 2017-06-28 22:13:11.734000, instr = <class 'mosaicsmartdata.core.instrument.FXForward'> :  tenor = SPOT, ccy = ('GBP', 'USD'), notionals = None, venue = None, static = Instrument static singleton facade, holidayCities = None, sym = GBP=, settle_date = 2017-06-28, isDeliverable = True, date_calc = <mosaicsmartdata.core.date_calculator.DateCalculator object at 0x0000027C59397978>\n",
      "1700000 <class 'mosaicsmartdata.core.quote.Quote'> :  duration = None, ask = 1.2982, bid = 1.2981, sym = GBP=, timestamp = 2017-06-29 16:10:33.461000, instr = <class 'mosaicsmartdata.core.instrument.FXForward'> :  tenor = SPOT, ccy = ('GBP', 'USD'), notionals = None, venue = None, static = Instrument static singleton facade, holidayCities = None, sym = GBP=, settle_date = 2017-06-29, isDeliverable = True, date_calc = <mosaicsmartdata.core.date_calculator.DateCalculator object at 0x0000027C5C6892E8>\n",
      "1800000 <class 'mosaicsmartdata.core.quote.Quote'> :  duration = None, ask = 1.2966, bid = 1.2965, sym = GBP=, timestamp = 2017-06-30 12:52:01.030000, instr = <class 'mosaicsmartdata.core.instrument.FXForward'> :  tenor = SPOT, ccy = ('GBP', 'USD'), notionals = None, venue = None, static = Instrument static singleton facade, holidayCities = None, sym = GBP=, settle_date = 2017-06-30, isDeliverable = True, date_calc = <mosaicsmartdata.core.date_calculator.DateCalculator object at 0x0000027C5E9AACF8>\n",
      "1900000 <class 'mosaicsmartdata.core.quote.Quote'> :  duration = None, ask = 0.982, bid = 0.834, sym = GBPSN=, timestamp = 2017-06-29 01:18:56.969000, instr = <class 'mosaicsmartdata.core.instrument.FXSwap'> :  tenor = SN, ccy = None, pip_size = None, venue = None, first_leg = <class 'mosaicsmartdata.core.instrument.FXForward'> :  tenor = SPOT, ccy = ('GBP', 'USD'), notionals = None, venue = None, static = Instrument static singleton facade, holidayCities = None, sym = GBPSN=, settle_date = 2017-06-29, isDeliverable = True, date_calc = <mosaicsmartdata.core.date_calculator.DateCalculator object at 0x0000027C64422160>, sym = None, holidayCities = None, legs = [<mosaicsmartdata.core.instrument.FXForward object at 0x0000027C64422208>, <mosaicsmartdata.core.instrument.FXForward object at 0x0000027C64422320>]\n"
     ]
    }
   ],
   "source": [
    "filename = '../resources/fx/EUR_JPY_GBP_till_SN.csv'\n",
    "quote_dict = qc_csv_helper.get_fx_quotes(filename)\n",
    "#         i+=1\n",
    "#         if i > 5:\n",
    "#             break"
   ]
  },
  {
   "cell_type": "code",
   "execution_count": 5,
   "metadata": {
    "collapsed": false
   },
   "outputs": [
    {
     "data": {
      "text/plain": [
       "3"
      ]
     },
     "execution_count": 5,
     "metadata": {},
     "output_type": "execute_result"
    }
   ],
   "source": [
    "spot_quotes = [quotes for sym, quotes in quote_dict.items() if len(sym)==4]\n",
    "len(spot_quotes)"
   ]
  }
 ],
 "metadata": {
  "anaconda-cloud": {},
  "kernelspec": {
   "display_name": "Python [default]",
   "language": "python",
   "name": "python3"
  },
  "language_info": {
   "codemirror_mode": {
    "name": "ipython",
    "version": 3
   },
   "file_extension": ".py",
   "mimetype": "text/x-python",
   "name": "python",
   "nbconvert_exporter": "python",
   "pygments_lexer": "ipython3",
   "version": "3.5.2"
  }
 },
 "nbformat": 4,
 "nbformat_minor": 0
}
