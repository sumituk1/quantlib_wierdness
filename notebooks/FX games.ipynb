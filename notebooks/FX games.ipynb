{
 "cells": [
  {
   "cell_type": "code",
   "execution_count": 1,
   "metadata": {
    "collapsed": false
   },
   "outputs": [
    {
     "name": "stdout",
     "output_type": "stream",
     "text": [
      "C:\\Users\\Egor\\Dropbox\\GitHub\\Mosaic\\msq-domain\\notebooks\n"
     ]
    }
   ],
   "source": [
    "# require at least Python 3.5 for async/await to work\n",
    "import sys\n",
    "ver=sys.version_info\n",
    "!pwd\n",
    "assert (ver[0]>=3 and ver[1]>=5)\n",
    "sys.path.append('../../quant_container/src')\n",
    "sys.path.append('../src')\n",
    "# %load_ext autoreload\n",
    "# %autoreload 2\n",
    "\n",
    "\n",
    "from mosaicsmartdata.common import qc_csv_helper\n",
    "from mosaicsmartdata.core.quote import Quote\n",
    "import csv"
   ]
  },
  {
   "cell_type": "code",
   "execution_count": 2,
   "metadata": {
    "collapsed": false,
    "scrolled": false
   },
   "outputs": [],
   "source": [
    "import pickle\n",
    "\n",
    "try:\n",
    "    with open('data.pickle', 'rb') as f:\n",
    "        # Pickle the 'data' dictionary using the highest protocol available.\n",
    "        quote_dict = pickle.load(f)\n",
    "except:\n",
    "    filename = '../resources/fx/EUR_JPY_GBP_till_SN.csv'\n",
    "    quote_dict = qc_csv_helper.get_fx_quotes(filename)\n",
    "    with open('data.pickle', 'wb') as f:\\\n",
    "        pickle.dump(quote_dict, f)"
   ]
  },
  {
   "cell_type": "code",
   "execution_count": 4,
   "metadata": {
    "collapsed": false
   },
   "outputs": [
    {
     "name": "stdout",
     "output_type": "stream",
     "text": [
      "<class 'mosaicsmartdata.core.instrument.FXForward'> :  venue = None, notionals = (100, -111.97999999999999), static = Instrument static singleton facade, sym = EUR=, ccy = ('EUR', 'USD'), date_calc = <mosaicsmartdata.core.date_calculator.DateCalculator object at 0x000001E50621DF28>, settle_date = 2017-06-26, isDeliverable = True, tenor = SPOT, holidayCities = None\n",
      "<class 'mosaicsmartdata.core.trade.FXForwardTrade'> :  factor_risk = None, adj_traded_px = None, timestamp = 2017-06-26 00:02:26.995000, package = None, trade_id = 12345, leg_no = None, source_trade_id = None, trade_settle_date = None, instrument = <class 'mosaicsmartdata.core.instrument.FXForward'> :  venue = None, notionals = (100, -111.97999999999999), static = Instrument static singleton facade, sym = EUR=, ccy = ('EUR', 'USD'), date_calc = <mosaicsmartdata.core.date_calculator.DateCalculator object at 0x000001E50621DF28>, settle_date = 2017-06-26, isDeliverable = True, tenor = SPOT, holidayCities = None, paper_trade = False, client_sys_key = None, delta = 1.0, package_id = 12345, sales = None, traded_px = 1.1198, notional = None, side = None, trade_date = None, orig_package_size = None, trade_rc = None, trader = None\n"
     ]
    }
   ],
   "source": [
    "# create a trade\n",
    "from mosaicsmartdata.core.instrument_utils import sym_to_fx_instrument\n",
    "from mosaicsmartdata.core.trade import Trade, FXForwardTrade\n",
    "\n",
    "spot_quotes = [quotes for sym, quotes in quote_dict.items() if len(sym)==4]\n",
    "my_quote = quote_dict['EUR='][100]\n",
    "my_instr = sym_to_fx_instrument()(my_quote.sym, my_quote.timestamp.date())\n",
    "my_instr.notionals = (100, -100*my_quote.bid)\n",
    "print(my_instr)\n",
    "\n",
    "my_trade = FXForwardTrade(my_instr, \n",
    "                          trade_id = '12345',\n",
    "                        timestamp = my_quote.timestamp)\n",
    "print(my_trade)"
   ]
  },
  {
   "cell_type": "code",
   "execution_count": 5,
   "metadata": {
    "collapsed": true
   },
   "outputs": [],
   "source": [
    "from aiostreams import run\n",
    "import aiostreams.operators as op\n",
    "from mosaicsmartdata.core.markout import MarkoutCalculator\n",
    "import logging"
   ]
  },
  {
   "cell_type": "code",
   "execution_count": 6,
   "metadata": {
    "collapsed": false,
    "scrolled": false
   },
   "outputs": [
    {
     "name": "stderr",
     "output_type": "stream",
     "text": [
      "INFO:root:starting command line test...\n",
      "INFO:aiostreams.runner:Creating a runnable graph with source <aiostreams.operators.flatten.Flatten object at 0x000001E5073350F0> and sink <built-in function print>\n",
      "INFO:aiostreams.runner:Attempting to run the graphs [\"{'ignore_heartbeats': True, 'source': <aiostreams.operators.flatten.Flatten object at 0x000001E5073350F0>, 'persistence_policy': None, 'persister_factory': <class 'aiostreams.persist.KafkaPersister'>, 'log_level': 10, 'sink': <built-in function print>, 'id': 'pipe_994160', 'message_count': 0, 'logger': <logging.Logger object at 0x000001E507333E10>, 'persister': None}; \"]\n",
      "INFO:aiostreams.runner:Graph pipe_994160 creating a coroutine for the event loop\n"
     ]
    },
    {
     "name": "stdout",
     "output_type": "stream",
     "text": [
      " dt:0 final_price:1.11985 hedged_bps:None hedged_cents:None hedged_price:None initial_price:1.1198 next_timestamp:2017-06-26 00:02:26.995000 package:None PV:5.0000000000105516e-05 price:5.0000000000105516e-05 timestamp:2017-06-26 00:02:27.165000 package_id:12345 trade_id:12345 sym:EUR= timestamp:26/06/2017 00:02:26 delta:1.0 paper_trade:False client_sys_key:None notional:None traded_px:1.1198 ccy:('EUR', 'USD')\n",
      " dt:10 final_price:1.11985 hedged_bps:None hedged_cents:None hedged_price:None initial_price:1.1198 next_timestamp:2017-06-26 00:02:36.995000 package:None PV:5.0000000000105516e-05 price:5.0000000000105516e-05 timestamp:2017-06-26 00:02:37.244000 package_id:12345 trade_id:12345 sym:EUR= timestamp:26/06/2017 00:02:26 delta:1.0 paper_trade:False client_sys_key:None notional:None traded_px:1.1198 ccy:('EUR', 'USD')\n",
      " dt:100 final_price:1.12 hedged_bps:None hedged_cents:None hedged_price:None initial_price:1.1198 next_timestamp:2017-06-26 00:04:06.995000 package:None PV:0.00020000000000020002 price:0.00020000000000020002 timestamp:2017-06-26 00:04:07.082000 package_id:12345 trade_id:12345 sym:EUR= timestamp:26/06/2017 00:02:26 delta:1.0 paper_trade:False client_sys_key:None notional:None traded_px:1.1198 ccy:('EUR', 'USD')\n"
     ]
    },
    {
     "name": "stderr",
     "output_type": "stream",
     "text": [
      "INFO:aiostreams.runner:Finished running graphs [\"{'ignore_heartbeats': True, 'source': <aiostreams.operators.flatten.Flatten object at 0x000001E5073350F0>, 'persistence_policy': None, 'persister_factory': <class 'aiostreams.persist.KafkaPersister'>, 'last_msg': <mosaicsmartdata.core.markout_msg.MarkoutMessage2 object at 0x000001E507335978>, 'log_level': 10, 'sink': <built-in function print>, 'id': 'pipe_994160', 'message_count': 3, 'logger': <logging.Logger object at 0x000001E507333E10>, 'persister': None} producing 3 messages; \"]\n"
     ]
    }
   ],
   "source": [
    "\n",
    "logging.getLogger().setLevel('INFO')\n",
    "logging.info('starting command line test...')\n",
    "\n",
    "# run the markout calc\n",
    "trades = [my_trade]\n",
    "quotes = quote_dict['EUR=']\n",
    "stream = op.merge_sorted([quotes, trades], lambda x: x.timestamp) \\\n",
    "            | op.flat_map_by_group(lambda x: x.sym, MarkoutCalculator([0, 10, 100]))\\\n",
    "            > print\n",
    "        \n",
    "run(stream)\n",
    "\n"
   ]
  }
 ],
 "metadata": {
  "anaconda-cloud": {},
  "kernelspec": {
   "display_name": "Python [default]",
   "language": "python",
   "name": "python3"
  },
  "language_info": {
   "codemirror_mode": {
    "name": "ipython",
    "version": 3
   },
   "file_extension": ".py",
   "mimetype": "text/x-python",
   "name": "python",
   "nbconvert_exporter": "python",
   "pygments_lexer": "ipython3",
   "version": "3.5.2"
  }
 },
 "nbformat": 4,
 "nbformat_minor": 0
}
