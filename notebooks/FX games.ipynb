{
 "cells": [
  {
   "cell_type": "code",
   "execution_count": 2,
   "metadata": {},
   "outputs": [],
   "source": [
    "# require at least Python 3.5 for async/await to work\n",
    "import sys\n",
    "ver=sys.version_info\n",
    "assert (ver[0]>=3 and ver[1]>=5)\n",
    "sys.path.append('../../quant_container/src')\n",
    "sys.path.append('../src')\n",
    "%load_ext autoreload\n",
    "%autoreload 2\n",
    "from mosaicsmartdata.core.fx import FXPricingContextGenerator\n",
    "from mosaicsmartdata.common import qc_csv_helper\n",
    "from mosaicsmartdata.core.quote import Quote\n",
    "import csv, copy\n",
    "import pickle, cloudpickle"
   ]
  },
  {
   "cell_type": "code",
   "execution_count": 7,
   "metadata": {
    "scrolled": true
   },
   "outputs": [
    {
     "name": "stdout",
     "output_type": "stream",
     "text": [
      "6410 <class 'mosaicsmartdata.core.quote.Quote'> :  bid = 1.276, duration = None, timestamp = 2017-06-30 20:50:34.174000, ask = 1.296, instrument = <class 'mosaicsmartdata.core.instrument.OIS'> :  country_of_risk = (236,), issue_date = None, sym = USD1YOIS=, ccy = USD, par_value = 100, spot_settle_date = 2017-07-05, holidayCities = None, coupon = None, price_type = None, float_coupon_frequency = None, tenor = None, venue = None, duration = None, day_count = None, maturity_date = 2018-07-05, coupon_frequency = None, units = percent, sym = USD1YOIS=\n",
      "5 dict_keys(['USD1MOIS=', 'USDSWOIS=', 'USD3MOIS=', 'USD6MOIS=', 'USD1YOIS='])\n",
      "100000 <class 'mosaicsmartdata.core.quote.Quote'> :  bid = 1.1189, duration = None, timestamp = 2017-06-27 03:11:19.399000, ask = 1.119, instrument = <class 'mosaicsmartdata.core.instrument.FXForward'> :  date_calc = <mosaicsmartdata.core.date_calculator.DateCalculator object at 0x000002077144B240>, ccy = ('EUR', 'USD'), isDeliverable = True, sym = EUR=, holidayCities = None, venue = None, tenor = SPOT, static = Instrument static singleton facade, maturity_date = 2017-06-29, pip_size = 0.0001, settle_date = 2017-06-29, notionals = None, units = outright, sym = EUR=\n",
      "200000 <class 'mosaicsmartdata.core.quote.Quote'> :  bid = 1.1345, duration = None, timestamp = 2017-06-27 20:16:40.312000, ask = 1.1348, instrument = <class 'mosaicsmartdata.core.instrument.FXForward'> :  date_calc = <mosaicsmartdata.core.date_calculator.DateCalculator object at 0x000002077144B240>, ccy = ('EUR', 'USD'), isDeliverable = True, sym = EUR=, holidayCities = None, venue = None, tenor = SPOT, static = Instrument static singleton facade, maturity_date = 2017-06-29, pip_size = 0.0001, settle_date = 2017-06-29, notionals = None, units = outright, sym = EUR=\n",
      "300000 <class 'mosaicsmartdata.core.quote.Quote'> :  bid = 1.1364, duration = None, timestamp = 2017-06-28 13:55:12.249000, ask = 1.1365, instrument = <class 'mosaicsmartdata.core.instrument.FXForward'> :  date_calc = <mosaicsmartdata.core.date_calculator.DateCalculator object at 0x000002077461A9B0>, ccy = ('EUR', 'USD'), isDeliverable = True, sym = EUR=, holidayCities = None, venue = None, tenor = SPOT, static = Instrument static singleton facade, maturity_date = 2017-06-30, pip_size = 0.0001, settle_date = 2017-06-30, notionals = None, units = outright, sym = EUR=\n",
      "400000 <class 'mosaicsmartdata.core.quote.Quote'> :  bid = 1.1418, duration = None, timestamp = 2017-06-29 09:25:46.442000, ask = 1.1419, instrument = <class 'mosaicsmartdata.core.instrument.FXForward'> :  date_calc = <mosaicsmartdata.core.date_calculator.DateCalculator object at 0x0000020777A1AB70>, ccy = ('EUR', 'USD'), isDeliverable = True, sym = EUR=, holidayCities = None, venue = None, tenor = SPOT, static = Instrument static singleton facade, maturity_date = 2017-07-03, pip_size = 0.0001, settle_date = 2017-07-03, notionals = None, units = outright, sym = EUR=\n",
      "500000 <class 'mosaicsmartdata.core.quote.Quote'> :  bid = 1.143, duration = None, timestamp = 2017-06-30 05:46:53.843000, ask = 1.1434, instrument = <class 'mosaicsmartdata.core.instrument.FXForward'> :  date_calc = <mosaicsmartdata.core.date_calculator.DateCalculator object at 0x0000020779DCC860>, ccy = ('EUR', 'USD'), isDeliverable = True, sym = EUR=, holidayCities = None, venue = None, tenor = SPOT, static = Instrument static singleton facade, maturity_date = 2017-07-05, pip_size = 0.0001, settle_date = 2017-07-05, notionals = None, units = outright, sym = EUR=\n",
      "600000 <class 'mosaicsmartdata.core.quote.Quote'> :  bid = 0.505, duration = None, timestamp = 2017-06-28 12:37:05.004000, ask = 0.567, instrument = <class 'mosaicsmartdata.core.instrument.FXSwap'> :  holidayCities = None, venue = None, tenor = ON, ccy = ('EUR', 'USD'), maturity_date = 2017-06-29, legs = [<mosaicsmartdata.core.instrument.FXForward object at 0x000002077DB4A470>, <mosaicsmartdata.core.instrument.FXForward object at 0x000002077DB5B390>], settle_date = 2017-06-28, sym = EURON=, units = pips, sym = EURON=\n",
      "700000 <class 'mosaicsmartdata.core.quote.Quote'> :  bid = 111.68, duration = None, timestamp = 2017-06-26 12:02:02.949000, ask = 111.7, instrument = <class 'mosaicsmartdata.core.instrument.FXForward'> :  date_calc = <mosaicsmartdata.core.date_calculator.DateCalculator object at 0x000002077FA4E358>, ccy = ('USD', 'JPY'), isDeliverable = True, sym = JPY=, holidayCities = None, venue = None, tenor = SPOT, static = Instrument static singleton facade, maturity_date = 2017-06-28, pip_size = 0.01, settle_date = 2017-06-28, notionals = None, units = outright, sym = JPY=\n",
      "800000 <class 'mosaicsmartdata.core.quote.Quote'> :  bid = 111.83, duration = None, timestamp = 2017-06-27 11:23:45.884000, ask = 111.87, instrument = <class 'mosaicsmartdata.core.instrument.FXForward'> :  date_calc = <mosaicsmartdata.core.date_calculator.DateCalculator object at 0x00000207020E7908>, ccy = ('USD', 'JPY'), isDeliverable = True, sym = JPY=, holidayCities = None, venue = None, tenor = SPOT, static = Instrument static singleton facade, maturity_date = 2017-06-29, pip_size = 0.01, settle_date = 2017-06-29, notionals = None, units = outright, sym = JPY=\n",
      "900000 <class 'mosaicsmartdata.core.quote.Quote'> :  bid = 111.9, duration = None, timestamp = 2017-06-28 08:13:30.674000, ask = 111.94, instrument = <class 'mosaicsmartdata.core.instrument.FXForward'> :  date_calc = <mosaicsmartdata.core.date_calculator.DateCalculator object at 0x00000207050617F0>, ccy = ('USD', 'JPY'), isDeliverable = True, sym = JPY=, holidayCities = None, venue = None, tenor = SPOT, static = Instrument static singleton facade, maturity_date = 2017-06-30, pip_size = 0.01, settle_date = 2017-06-30, notionals = None, units = outright, sym = JPY=\n",
      "1000000 <class 'mosaicsmartdata.core.quote.Quote'> :  bid = 112.2, duration = None, timestamp = 2017-06-29 06:00:09.262000, ask = 112.21, instrument = <class 'mosaicsmartdata.core.instrument.FXForward'> :  date_calc = <mosaicsmartdata.core.date_calculator.DateCalculator object at 0x0000020707F23668>, ccy = ('USD', 'JPY'), isDeliverable = True, sym = JPY=, holidayCities = None, venue = None, tenor = SPOT, static = Instrument static singleton facade, maturity_date = 2017-07-03, pip_size = 0.01, settle_date = 2017-07-03, notionals = None, units = outright, sym = JPY=\n",
      "1100000 <class 'mosaicsmartdata.core.quote.Quote'> :  bid = 111.97, duration = None, timestamp = 2017-06-29 23:57:06.763000, ask = 112.02, instrument = <class 'mosaicsmartdata.core.instrument.FXForward'> :  date_calc = <mosaicsmartdata.core.date_calculator.DateCalculator object at 0x0000020707F23668>, ccy = ('USD', 'JPY'), isDeliverable = True, sym = JPY=, holidayCities = None, venue = None, tenor = SPOT, static = Instrument static singleton facade, maturity_date = 2017-07-03, pip_size = 0.01, settle_date = 2017-07-03, notionals = None, units = outright, sym = JPY=\n",
      "1200000 <class 'mosaicsmartdata.core.quote.Quote'> :  bid = 112.51, duration = None, timestamp = 2017-06-30 18:51:20.792000, ask = 112.56, instrument = <class 'mosaicsmartdata.core.instrument.FXForward'> :  date_calc = <mosaicsmartdata.core.date_calculator.DateCalculator object at 0x000002070AFA2198>, ccy = ('USD', 'JPY'), isDeliverable = True, sym = JPY=, holidayCities = None, venue = None, tenor = SPOT, static = Instrument static singleton facade, maturity_date = 2017-07-05, pip_size = 0.01, settle_date = 2017-07-05, notionals = None, units = outright, sym = JPY=\n",
      "1300000 <class 'mosaicsmartdata.core.quote.Quote'> :  bid = 1.2735, duration = None, timestamp = 2017-06-26 11:54:30.316000, ask = 1.2739, instrument = <class 'mosaicsmartdata.core.instrument.FXForward'> :  date_calc = <mosaicsmartdata.core.date_calculator.DateCalculator object at 0x000002070E8A0A90>, ccy = ('GBP', 'USD'), isDeliverable = True, sym = GBP=, holidayCities = None, venue = None, tenor = SPOT, static = Instrument static singleton facade, maturity_date = 2017-06-28, pip_size = 0.0001, settle_date = 2017-06-28, notionals = None, units = outright, sym = GBP=\n",
      "1400000 <class 'mosaicsmartdata.core.quote.Quote'> :  bid = 1.2742, duration = None, timestamp = 2017-06-27 10:49:00.947000, ask = 1.2745, instrument = <class 'mosaicsmartdata.core.instrument.FXForward'> :  date_calc = <mosaicsmartdata.core.date_calculator.DateCalculator object at 0x0000020711127C88>, ccy = ('GBP', 'USD'), isDeliverable = True, sym = GBP=, holidayCities = None, venue = None, tenor = SPOT, static = Instrument static singleton facade, maturity_date = 2017-06-29, pip_size = 0.0001, settle_date = 2017-06-29, notionals = None, units = outright, sym = GBP=\n"
     ]
    },
    {
     "name": "stdout",
     "output_type": "stream",
     "text": [
      "1500000 <class 'mosaicsmartdata.core.quote.Quote'> :  bid = 1.2812, duration = None, timestamp = 2017-06-28 06:01:26.157000, ask = 1.2813, instrument = <class 'mosaicsmartdata.core.instrument.FXForward'> :  date_calc = <mosaicsmartdata.core.date_calculator.DateCalculator object at 0x0000020714248320>, ccy = ('GBP', 'USD'), isDeliverable = True, sym = GBP=, holidayCities = None, venue = None, tenor = SPOT, static = Instrument static singleton facade, maturity_date = 2017-06-30, pip_size = 0.0001, settle_date = 2017-06-30, notionals = None, units = outright, sym = GBP=\n",
      "1600000 <class 'mosaicsmartdata.core.quote.Quote'> :  bid = 1.2928, duration = None, timestamp = 2017-06-28 22:13:11.734000, ask = 1.2931, instrument = <class 'mosaicsmartdata.core.instrument.FXForward'> :  date_calc = <mosaicsmartdata.core.date_calculator.DateCalculator object at 0x0000020714248320>, ccy = ('GBP', 'USD'), isDeliverable = True, sym = GBP=, holidayCities = None, venue = None, tenor = SPOT, static = Instrument static singleton facade, maturity_date = 2017-06-30, pip_size = 0.0001, settle_date = 2017-06-30, notionals = None, units = outright, sym = GBP=\n",
      "1700000 <class 'mosaicsmartdata.core.quote.Quote'> :  bid = 1.2981, duration = None, timestamp = 2017-06-29 16:10:33.461000, ask = 1.2982, instrument = <class 'mosaicsmartdata.core.instrument.FXForward'> :  date_calc = <mosaicsmartdata.core.date_calculator.DateCalculator object at 0x00000207184F8CC0>, ccy = ('GBP', 'USD'), isDeliverable = True, sym = GBP=, holidayCities = None, venue = None, tenor = SPOT, static = Instrument static singleton facade, maturity_date = 2017-07-03, pip_size = 0.0001, settle_date = 2017-07-03, notionals = None, units = outright, sym = GBP=\n",
      "1800000 <class 'mosaicsmartdata.core.quote.Quote'> :  bid = 1.2965, duration = None, timestamp = 2017-06-30 12:52:01.030000, ask = 1.2966, instrument = <class 'mosaicsmartdata.core.instrument.FXForward'> :  date_calc = <mosaicsmartdata.core.date_calculator.DateCalculator object at 0x000002071980A710>, ccy = ('GBP', 'USD'), isDeliverable = True, sym = GBP=, holidayCities = None, venue = None, tenor = SPOT, static = Instrument static singleton facade, maturity_date = 2017-07-05, pip_size = 0.0001, settle_date = 2017-07-05, notionals = None, units = outright, sym = GBP=\n",
      "1900000 <class 'mosaicsmartdata.core.quote.Quote'> :  bid = 0.834, duration = None, timestamp = 2017-06-29 01:18:56.969000, ask = 0.982, instrument = <class 'mosaicsmartdata.core.instrument.FXSwap'> :  holidayCities = None, venue = None, tenor = SN, ccy = ('GBP', 'USD'), maturity_date = 2017-07-05, legs = [<mosaicsmartdata.core.instrument.FXForward object at 0x000002071F29C978>, <mosaicsmartdata.core.instrument.FXForward object at 0x000002071F29CBE0>], settle_date = 2017-07-03, sym = GBPSN=, units = pips, sym = GBPSN=\n",
      "1907554 <class 'mosaicsmartdata.core.quote.Quote'> :  bid = 0.397, duration = None, timestamp = 2017-06-30 23:59:02.787000, ask = 0.427, instrument = <class 'mosaicsmartdata.core.instrument.FXSwap'> :  holidayCities = None, venue = None, tenor = SN, ccy = ('GBP', 'USD'), maturity_date = 2017-07-06, legs = [<mosaicsmartdata.core.instrument.FXForward object at 0x000002071F3F3630>, <mosaicsmartdata.core.instrument.FXForward object at 0x000002071F3F3860>], settle_date = 2017-07-05, sym = GBPSN=, units = pips, sym = GBPSN=\n",
      "12 dict_keys(['GBP=', 'GBPSN=', 'JPY=', 'EURTN=', 'EURSN=', 'JPYTN=', 'GBPTN=', 'EURON=', 'EUR=', 'JPYSN=', 'JPYON=', 'GBPON='])\n",
      "100000 <class 'mosaicsmartdata.core.quote.Quote'> :  bid = 55.01, duration = None, timestamp = 2017-06-26 01:19:58.016000, ask = 55.39, instrument = <class 'mosaicsmartdata.core.instrument.FXSwap'> :  holidayCities = None, venue = None, tenor = 3M, ccy = ('EUR', 'USD'), maturity_date = 2017-09-28, legs = [<mosaicsmartdata.core.instrument.FXForward object at 0x0000020721E6C860>, <mosaicsmartdata.core.instrument.FXForward object at 0x0000020721E6CAC8>], settle_date = 2017-06-28, sym = EUR3M=, units = pips, sym = EUR3M=\n",
      "200000 <class 'mosaicsmartdata.core.quote.Quote'> :  bid = 56.16, duration = None, timestamp = 2017-06-29 10:42:35.922000, ask = 56.3, instrument = <class 'mosaicsmartdata.core.instrument.FXSwap'> :  holidayCities = None, venue = None, tenor = 3M, ccy = ('EUR', 'USD'), maturity_date = 2017-10-03, legs = [<mosaicsmartdata.core.instrument.FXForward object at 0x00000207244B1EF0>, <mosaicsmartdata.core.instrument.FXForward object at 0x00000207244B1160>], settle_date = 2017-07-03, sym = EUR3M=, units = pips, sym = EUR3M=\n",
      "300000 <class 'mosaicsmartdata.core.quote.Quote'> :  bid = 111.72, duration = None, timestamp = 2017-06-27 09:34:57.386000, ask = 113.25, instrument = <class 'mosaicsmartdata.core.instrument.FXSwap'> :  holidayCities = None, venue = None, tenor = 6M, ccy = ('EUR', 'USD'), maturity_date = 2017-12-29, legs = [<mosaicsmartdata.core.instrument.FXForward object at 0x0000020726E2DF60>, <mosaicsmartdata.core.instrument.FXForward object at 0x0000020726E2D1D0>], settle_date = 2017-06-29, sym = EUR6M=, units = pips, sym = EUR6M=\n",
      "400000 <class 'mosaicsmartdata.core.quote.Quote'> :  bid = 115.28, duration = None, timestamp = 2017-06-29 01:53:21.730000, ask = 116.58, instrument = <class 'mosaicsmartdata.core.instrument.FXSwap'> :  holidayCities = None, venue = None, tenor = 6M, ccy = ('EUR', 'USD'), maturity_date = 2018-01-03, legs = [<mosaicsmartdata.core.instrument.FXForward object at 0x0000020729AAA160>, <mosaicsmartdata.core.instrument.FXForward object at 0x0000020729AAD470>], settle_date = 2017-07-03, sym = EUR6M=, units = pips, sym = EUR6M=\n",
      "500000 <class 'mosaicsmartdata.core.quote.Quote'> :  bid = 229.3, duration = None, timestamp = 2017-06-26 03:21:58.963000, ask = 233.8, instrument = <class 'mosaicsmartdata.core.instrument.FXSwap'> :  holidayCities = None, venue = None, tenor = 1Y, ccy = ('EUR', 'USD'), maturity_date = 2018-06-28, legs = [<mosaicsmartdata.core.instrument.FXForward object at 0x000002072C572358>, <mosaicsmartdata.core.instrument.FXForward object at 0x000002072C5725C0>], settle_date = 2017-06-28, sym = EUR1Y=, units = pips, sym = EUR1Y=\n",
      "600000 <class 'mosaicsmartdata.core.quote.Quote'> :  bid = 231.61, duration = None, timestamp = 2017-06-28 08:51:44.163000, ask = 234.72, instrument = <class 'mosaicsmartdata.core.instrument.FXSwap'> :  holidayCities = None, venue = None, tenor = 1Y, ccy = ('EUR', 'USD'), maturity_date = 2018-07-02, legs = [<mosaicsmartdata.core.instrument.FXForward object at 0x000002072EA7F0B8>, <mosaicsmartdata.core.instrument.FXForward object at 0x000002072EA812E8>], settle_date = 2017-06-30, sym = EUR1Y=, units = pips, sym = EUR1Y=\n",
      "700000 <class 'mosaicsmartdata.core.quote.Quote'> :  bid = 233.78, duration = None, timestamp = 2017-06-29 16:16:32.503000, ask = 236.03, instrument = <class 'mosaicsmartdata.core.instrument.FXSwap'> :  holidayCities = None, venue = None, tenor = 1Y, ccy = ('EUR', 'USD'), maturity_date = 2018-07-03, legs = [<mosaicsmartdata.core.instrument.FXForward object at 0x0000020730C00C50>, <mosaicsmartdata.core.instrument.FXForward object at 0x000002076EA17208>], settle_date = 2017-07-03, sym = EUR1Y=, units = pips, sym = EUR1Y=\n",
      "800000 <class 'mosaicsmartdata.core.quote.Quote'> :  bid = -4.55, duration = None, timestamp = 2017-06-28 05:47:40.134000, ask = -4.15, instrument = <class 'mosaicsmartdata.core.instrument.FXSwap'> :  holidayCities = None, venue = None, tenor = SW, ccy = ('USD', 'JPY'), maturity_date = 2017-07-07, legs = [<mosaicsmartdata.core.instrument.FXForward object at 0x00000207345C4F60>, <mosaicsmartdata.core.instrument.FXForward object at 0x00000207345C41D0>], settle_date = 2017-06-30, sym = JPYSW=, units = pips, sym = JPYSW=\n",
      "900000 <class 'mosaicsmartdata.core.quote.Quote'> :  bid = -45.67, duration = None, timestamp = 2017-06-27 13:01:28.407000, ask = -44.16, instrument = <class 'mosaicsmartdata.core.instrument.FXSwap'> :  holidayCities = None, venue = None, tenor = 3M, ccy = ('USD', 'JPY'), maturity_date = 2017-09-29, legs = [<mosaicsmartdata.core.instrument.FXForward object at 0x0000020736D9B630>, <mosaicsmartdata.core.instrument.FXForward object at 0x0000020736D9B898>], settle_date = 2017-06-29, sym = JPY3M=, units = pips, sym = JPY3M=\n",
      "1000000 <class 'mosaicsmartdata.core.quote.Quote'> :  bid = -93.7, duration = None, timestamp = 2017-06-27 23:00:27.324000, ask = -92.1, instrument = <class 'mosaicsmartdata.core.instrument.FXSwap'> :  holidayCities = None, venue = None, tenor = 6M, ccy = ('USD', 'JPY'), maturity_date = 2017-12-29, legs = [<mosaicsmartdata.core.instrument.FXForward object at 0x000002073931DCF8>, <mosaicsmartdata.core.instrument.FXForward object at 0x000002073931DF98>], settle_date = 2017-06-29, sym = JPY6M=, units = pips, sym = JPY6M=\n"
     ]
    },
    {
     "name": "stdout",
     "output_type": "stream",
     "text": [
      "1100000 <class 'mosaicsmartdata.core.quote.Quote'> :  bid = -203.85, duration = None, timestamp = 2017-06-26 16:21:37.741000, ask = -199.23, instrument = <class 'mosaicsmartdata.core.instrument.FXSwap'> :  holidayCities = None, venue = None, tenor = 1Y, ccy = ('USD', 'JPY'), maturity_date = 2018-06-28, legs = [<mosaicsmartdata.core.instrument.FXForward object at 0x000002073BAD0EB8>, <mosaicsmartdata.core.instrument.FXForward object at 0x000002073BAD0160>], settle_date = 2017-06-28, sym = JPY1Y=, units = pips, sym = JPY1Y=\n",
      "1200000 <class 'mosaicsmartdata.core.quote.Quote'> :  bid = -206.26, duration = None, timestamp = 2017-06-29 14:42:54.747000, ask = -202.75, instrument = <class 'mosaicsmartdata.core.instrument.FXSwap'> :  holidayCities = None, venue = None, tenor = 1Y, ccy = ('USD', 'JPY'), maturity_date = 2018-07-03, legs = [<mosaicsmartdata.core.instrument.FXForward object at 0x000002073E5279E8>, <mosaicsmartdata.core.instrument.FXForward object at 0x000002073E527C50>], settle_date = 2017-07-03, sym = JPY1Y=, units = pips, sym = JPY1Y=\n",
      "1300000 <class 'mosaicsmartdata.core.quote.Quote'> :  bid = 13.77, duration = None, timestamp = 2017-06-28 14:46:21.799000, ask = 14.15, instrument = <class 'mosaicsmartdata.core.instrument.FXSwap'> :  holidayCities = None, venue = None, tenor = 1M, ccy = ('GBP', 'USD'), maturity_date = 2017-07-31, legs = [<mosaicsmartdata.core.instrument.FXForward object at 0x000002074148DD30>, <mosaicsmartdata.core.instrument.FXForward object at 0x000002074148DF98>], settle_date = 2017-06-30, sym = GBP1M=, units = pips, sym = GBP1M=\n",
      "1400000 <class 'mosaicsmartdata.core.quote.Quote'> :  bid = 36.26, duration = None, timestamp = 2017-06-30 03:00:31.498000, ask = 37.2, instrument = <class 'mosaicsmartdata.core.instrument.FXSwap'> :  holidayCities = None, venue = None, tenor = 3M, ccy = ('GBP', 'USD'), maturity_date = 2017-10-05, legs = [<mosaicsmartdata.core.instrument.FXForward object at 0x00000207440410B8>, <mosaicsmartdata.core.instrument.FXForward object at 0x00000207440443C8>], settle_date = 2017-07-05, sym = GBP3M=, units = pips, sym = GBP3M=\n",
      "1500000 <class 'mosaicsmartdata.core.quote.Quote'> :  bid = 69.73, duration = None, timestamp = 2017-06-28 14:12:30.200000, ask = 72.13, instrument = <class 'mosaicsmartdata.core.instrument.FXSwap'> :  holidayCities = None, venue = None, tenor = 6M, ccy = ('GBP', 'USD'), maturity_date = 2018-01-02, legs = [<mosaicsmartdata.core.instrument.FXForward object at 0x00000207464662E8>, <mosaicsmartdata.core.instrument.FXForward object at 0x0000020746466550>], settle_date = 2017-06-30, sym = GBP6M=, units = pips, sym = GBP6M=\n",
      "1600000 <class 'mosaicsmartdata.core.quote.Quote'> :  bid = 142.85, duration = None, timestamp = 2017-06-26 14:29:19.699000, ask = 146.35, instrument = <class 'mosaicsmartdata.core.instrument.FXSwap'> :  holidayCities = None, venue = None, tenor = 1Y, ccy = ('GBP', 'USD'), maturity_date = 2018-06-28, legs = [<mosaicsmartdata.core.instrument.FXForward object at 0x00000207491AB5F8>, <mosaicsmartdata.core.instrument.FXForward object at 0x00000207491AB860>], settle_date = 2017-06-28, sym = GBP1Y=, units = pips, sym = GBP1Y=\n",
      "1700000 <class 'mosaicsmartdata.core.quote.Quote'> :  bid = 140.3, duration = None, timestamp = 2017-06-29 10:10:03.550000, ask = 143.3, instrument = <class 'mosaicsmartdata.core.instrument.FXSwap'> :  holidayCities = None, venue = None, tenor = 1Y, ccy = ('GBP', 'USD'), maturity_date = 2018-07-03, legs = [<mosaicsmartdata.core.instrument.FXForward object at 0x000002074B9F4208>, <mosaicsmartdata.core.instrument.FXForward object at 0x000002074B9F4470>], settle_date = 2017-07-03, sym = GBP1Y=, units = pips, sym = GBP1Y=\n",
      "1764704 <class 'mosaicsmartdata.core.quote.Quote'> :  bid = 141.98, duration = None, timestamp = 2017-06-30 23:56:25.002000, ask = 143.85, instrument = <class 'mosaicsmartdata.core.instrument.FXSwap'> :  holidayCities = None, venue = None, tenor = 1Y, ccy = ('GBP', 'USD'), maturity_date = 2018-07-05, legs = [<mosaicsmartdata.core.instrument.FXForward object at 0x000002074C414E80>, <mosaicsmartdata.core.instrument.FXForward object at 0x000002074C414128>], settle_date = 2017-07-05, sym = GBP1Y=, units = pips, sym = GBP1Y=\n",
      "15 dict_keys(['EUR1M=', 'GBP6M=', 'GBP1Y=', 'JPY6M=', 'EUR6M=', 'JPYSW=', 'GBPSW=', 'JPY3M=', 'JPY1Y=', 'EURSW=', 'EUR3M=', 'JPY1M=', 'EUR1Y=', 'GBP1M=', 'GBP3M='])\n"
     ]
    }
   ],
   "source": [
    "# try:\n",
    "#     with open('data.pickle', 'rb') as f:\n",
    "#         # Pickle the 'data' dictionary using the highest protocol available.\n",
    "#         quote_dict = pickle.load(f)\n",
    "# except:\n",
    "if True:\n",
    "    file_path ='../resources/fx/'\n",
    "    filenames = ['OIS-N156898469.csv','EUR_JPY_GBP_till_SN.csv','EUR_JPY_GBP_from_SW_till_1Y.csv']\n",
    "    quote_dict_0 = qc_csv_helper.get_ric_quotes(file_path+filenames[0])\n",
    "    print(len(quote_dict_0), quote_dict_0.keys())\n",
    "    quote_dict_1 = qc_csv_helper.get_ric_quotes(file_path+filenames[1])\n",
    "    print(len(quote_dict_1), quote_dict_1.keys())\n",
    "    quote_dict_2 = qc_csv_helper.get_ric_quotes(file_path+filenames[2])\n",
    "    print(len(quote_dict_2), quote_dict_2.keys())\n",
    "    quote_dict = dict(quote_dict_0,**quote_dict_1)\n",
    "    quote_dict = dict(quote_dict,**quote_dict_2)\n",
    "    with open('data.pickle', 'wb') as f:\n",
    "        pickle.dump(quote_dict, f)"
   ]
  },
  {
   "cell_type": "code",
   "execution_count": 3,
   "metadata": {},
   "outputs": [
    {
     "data": {
      "text/plain": [
       "datetime.date(2017, 6, 28)"
      ]
     },
     "execution_count": 3,
     "metadata": {},
     "output_type": "execute_result"
    }
   ],
   "source": [
    "quote_dict['EURSN='][0].instrument.settle_date"
   ]
  },
  {
   "cell_type": "code",
   "execution_count": 4,
   "metadata": {},
   "outputs": [
    {
     "name": "stdout",
     "output_type": "stream",
     "text": [
      "<class 'mosaicsmartdata.core.instrument.FXForward'> :  notionals = (100, -111.97999999999999), pip_size = 0.0001, tenor = SPOT, static = Instrument static singleton facade, sym = EUR=, venue = None, maturity_date = 2017-06-28, isDeliverable = True, holidayCities = None, ccy = ('EUR', 'USD'), date_calc = <mosaicsmartdata.core.date_calculator.DateCalculator object at 0x0000021BAA72E048>, settle_date = 2017-06-28\n",
      "*****\n",
      "<class 'mosaicsmartdata.core.trade.FXForwardTrade'> :  trade_rc = None, factor_risk = None, timestamp = 2017-06-26 00:02:26.995000, orig_package_size = None, trader = None, source_trade_id = None, package_id = 12345, package = None, trade_id = 12345, instrument = <class 'mosaicsmartdata.core.instrument.FXForward'> :  notionals = (100, -111.97999999999999), pip_size = 0.0001, tenor = SPOT, static = Instrument static singleton facade, sym = EUR=, venue = None, maturity_date = 2017-06-28, isDeliverable = True, holidayCities = None, ccy = ('EUR', 'USD'), date_calc = <mosaicsmartdata.core.date_calculator.DateCalculator object at 0x0000021BAA72E048>, settle_date = 2017-06-28, leg_no = None, trade_date = None, paper_trade = False, side = None, delta = 1.0, trade_settle_date = None, notional = None, traded_px = 1.1198, sales = None, adj_traded_px = None, client_sys_key = None\n",
      "*******\n",
      "<class 'mosaicsmartdata.core.quote.Quote'> :  ask = 1.1199, bid = 1.1198, timestamp = 2017-06-26 00:02:26.995000, instrument = <class 'mosaicsmartdata.core.instrument.FXForward'> :  notionals = None, pip_size = 0.0001, tenor = SPOT, ccy = ('EUR', 'USD'), sym = EUR=, venue = None, maturity_date = 2017-06-28, holidayCities = None, isDeliverable = True, static = Instrument static singleton facade, date_calc = <mosaicsmartdata.core.date_calculator.DateCalculator object at 0x0000021C31E205C0>, settle_date = 2017-06-28, duration = None, sym = EUR=, units = outright\n"
     ]
    }
   ],
   "source": [
    "# create a trade\n",
    "from mosaicsmartdata.core.instrument_utils import sym_to_instrument\n",
    "from mosaicsmartdata.core.trade import Trade, FXForwardTrade\n",
    "\n",
    "#spot_quotes = [quotes for sym, quotes in quote_dict.items() if len(sym)==4]\n",
    "my_quote = quote_dict['EUR='][100]\n",
    "my_instr = sym_to_instrument()(my_quote.sym, my_quote.timestamp.date())\n",
    "my_instr.notionals = (100, -100*my_quote.bid)\n",
    "print(my_instr)\n",
    "print('*****')\n",
    "my_trade = FXForwardTrade(my_instr, \n",
    "                          trade_id = '12345',\n",
    "                        timestamp = my_quote.timestamp)\n",
    "print(my_trade)\n",
    "print('*******')\n",
    "print(my_quote)"
   ]
  },
  {
   "cell_type": "code",
   "execution_count": 4,
   "metadata": {
    "collapsed": true
   },
   "outputs": [],
   "source": [
    "from aiostreams import run\n",
    "import aiostreams.operators as op\n",
    "from mosaicsmartdata.core.markout import MarkoutCalculator\n",
    "import logging"
   ]
  },
  {
   "cell_type": "code",
   "execution_count": 6,
   "metadata": {
    "scrolled": false
   },
   "outputs": [
    {
     "name": "stdout",
     "output_type": "stream",
     "text": [
      " dt:-10 final_price:1.1199 hedged_bps:None hedged_cents:None hedged_price:None initial_price:1.1198 next_timestamp:2017-06-26 00:02:16.995000 package:None price:9.999999999998899e-05 PV:9.999999999998899e-05 timestamp:2017-06-26 00:02:26.995000 package_id:12345 trade_id:12345 sym:EUR= timestamp:26/06/2017 00:02:26 delta:1.0 paper_trade:False client_sys_key:None notional:None trade_maturity_date:28/06/2017 traded_px:1.1198 ccy:('EUR', 'USD')\n",
      " dt:0 final_price:1.11985 hedged_bps:None hedged_cents:None hedged_price:None initial_price:1.1198 next_timestamp:2017-06-26 00:02:26.995000 package:None price:5.0000000000105516e-05 PV:5.0000000000105516e-05 timestamp:2017-06-26 00:02:27.165000 package_id:12345 trade_id:12345 sym:EUR= timestamp:26/06/2017 00:02:26 delta:1.0 paper_trade:False client_sys_key:None notional:None trade_maturity_date:28/06/2017 traded_px:1.1198 ccy:('EUR', 'USD')\n",
      " dt:10 final_price:1.11985 hedged_bps:None hedged_cents:None hedged_price:None initial_price:1.1198 next_timestamp:2017-06-26 00:02:36.995000 package:None price:5.0000000000105516e-05 PV:5.0000000000105516e-05 timestamp:2017-06-26 00:02:37.244000 package_id:12345 trade_id:12345 sym:EUR= timestamp:26/06/2017 00:02:26 delta:1.0 paper_trade:False client_sys_key:None notional:None trade_maturity_date:28/06/2017 traded_px:1.1198 ccy:('EUR', 'USD')\n",
      " dt:100 final_price:1.12 hedged_bps:None hedged_cents:None hedged_price:None initial_price:1.1198 next_timestamp:2017-06-26 00:04:06.995000 package:None price:0.00020000000000020002 PV:0.00020000000000020002 timestamp:2017-06-26 00:04:07.082000 package_id:12345 trade_id:12345 sym:EUR= timestamp:26/06/2017 00:02:26 delta:1.0 paper_trade:False client_sys_key:None notional:None trade_maturity_date:28/06/2017 traded_px:1.1198 ccy:('EUR', 'USD')\n"
     ]
    }
   ],
   "source": [
    "# run markouts based on simple instrument ID, with no pricing context\n",
    "# logging.getLogger().setLevel('INFO')\n",
    "# logging.info('starting command line test...')\n",
    "\n",
    "# run the markout calc\n",
    "trades = [my_trade]\n",
    "quotes = quote_dict['EUR=']\n",
    "stream = op.merge_sorted([quotes[:1000], trades], lambda x: x.timestamp) \\\n",
    "            | op.flat_map_by_group(lambda x: x.sym, MarkoutCalculator([-10, 0, 10, 100]))\\\n",
    "            > print\n",
    "        \n",
    "run(stream)"
   ]
  },
  {
   "cell_type": "code",
   "execution_count": 7,
   "metadata": {},
   "outputs": [
    {
     "name": "stdout",
     "output_type": "stream",
     "text": [
      "553108 591602\n",
      "<class 'mosaicsmartdata.core.instrument.FXForward'> :  notionals = (100, -12459.4511), pip_size = 0.0001, tenor = SPOT, static = Instrument static singleton facade, sym = EURJPY=, venue = None, maturity_date = 2017-06-28, isDeliverable = True, holidayCities = None, ccy = ('EUR', 'JPY'), date_calc = <mosaicsmartdata.core.date_calculator.DateCalculator object at 0x0000021BAD14B908>, settle_date = 2017-06-28\n",
      "*****\n",
      "2017-06-26 00:00:53.188000\n"
     ]
    }
   ],
   "source": [
    "# run markouts using PricingContext\n",
    "# run the markout calc\n",
    "\n",
    "quotes_eur = quote_dict['EUR=']\n",
    "quotes_jpy = quote_dict['JPY=']\n",
    "print(len(quotes_jpy),len(quotes_eur))\n",
    "quotes_all = op.merge_sorted([quotes_eur[:1000],quotes_jpy[:1000]], lambda x: x.timestamp) > []\n",
    "             #|\\op.map(lambda x: (x.sym, x.timestamp)) > \n",
    "run(quotes_all)\n",
    "\n",
    "my_quote = quotes_all.sink[100]\n",
    "my_instr_2 = sym_to_instrument()('EURJPY=', my_quote.timestamp.date())\n",
    "my_instr_2.notionals = (100, -100*124.594511) # just picked a random quote\n",
    "print(my_instr_2) \n",
    "print('*****')\n",
    "my_trade_2 = FXForwardTrade(my_instr_2, \n",
    "                          trade_id = '12346',\n",
    "                        timestamp = my_quote.timestamp)\n",
    "print(my_trade_2.timestamp)\n"
   ]
  },
  {
   "cell_type": "code",
   "execution_count": 8,
   "metadata": {},
   "outputs": [
    {
     "name": "stderr",
     "output_type": "stream",
     "text": [
      "'list' object has no attribute 'timestamp'\n",
      "Traceback (most recent call last):\n",
      "  File \"../../quant_container/src\\aiostreams\\runner.py\", line 161, in check_tasks\n",
      "    t.result()\n",
      "  File \"C:\\Users\\egork\\Anaconda3\\envs\\py35\\lib\\asyncio\\futures.py\", line 293, in result\n",
      "    raise self._exception\n",
      "  File \"C:\\Users\\egork\\Anaconda3\\envs\\py35\\lib\\asyncio\\tasks.py\", line 239, in _step\n",
      "    result = coro.send(None)\n",
      "  File \"../../quant_container/src\\aiostreams\\runner.py\", line 58, in coro\n",
      "    async for msg in self.source:\n",
      "  File \"../../quant_container/src\\aiostreams\\operators\\map.py\", line 12, in __anext__\n",
      "    val = await self.aiter.__anext__()\n",
      "  File \"../../quant_container/src\\aiostreams\\operators\\flatten.py\", line 18, in __anext__\n",
      "    self.latest = await self.aiter.__anext__()\n",
      "  File \"../../quant_container/src\\aiostreams\\operators\\map.py\", line 12, in __anext__\n",
      "    val = await self.aiter.__anext__()\n",
      "  File \"../../quant_container/src\\aiostreams\\operators\\merge_sorted.py\", line 56, in __anext__\n",
      "    testval = self.sort_by(self.lastvals[ind])\n",
      "  File \"<ipython-input-8-3fbe8a154896>\", line 8, in <lambda>\n",
      "    stream = op.merge_sorted([trades,prices], lambda x:x.timestamp)        | op.flat_map(MarkoutCalculator([-10,0, 10, 100])) | op.map(lambda x:str(x))        > []\n",
      "AttributeError: 'list' object has no attribute 'timestamp'\n"
     ]
    },
    {
     "data": {
      "text/plain": [
       "[]"
      ]
     },
     "execution_count": 8,
     "metadata": {},
     "output_type": "execute_result"
    }
   ],
   "source": [
    "#markouts using PricingContext\n",
    "trades = [my_trade]\n",
    "quotes_2 = quotes_all.sink\n",
    "#print([quote.sym for quote in quotes_2][:100])\n",
    "\n",
    "prices =  quotes_2 | op.map(FXPricingContextGenerator()) \n",
    "#stream = prices | op.map(lambda x: x.timestamp) > print\n",
    "stream = op.merge_sorted([trades,prices], lambda x:x.timestamp)\\\n",
    "        | op.flat_map(MarkoutCalculator([-10,0, 10, 100])) | op.map(lambda x:str(x))\\\n",
    "        > []\n",
    "run(stream)       \n",
    "\n",
    "stream.sink"
   ]
  },
  {
   "cell_type": "code",
   "execution_count": 8,
   "metadata": {},
   "outputs": [
    {
     "name": "stdout",
     "output_type": "stream",
     "text": [
      "[('JPYSN=', -0.466, ('USD', 'JPY')), ('EUR1M=', 19.11, ('EUR', 'USD')), ('EUR=', 1.1198, ('EUR', 'USD')), ('EUR6M=', 110.79, ('EUR', 'USD')), ('JPY3M=', -45.71, ('USD', 'JPY')), ('USD3MOIS=', 1.148, 'USD'), ('USD6MOIS=', 1.175, 'USD'), ('GBPSW=', 4.53, ('GBP', 'USD')), ('EUR3M=', 54.91, ('EUR', 'USD')), ('JPYTN=', -0.481, ('USD', 'JPY')), ('GBP=', 1.2744, ('GBP', 'USD')), ('GBPTN=', 0.385, ('GBP', 'USD')), ('JPY1M=', -16.39, ('USD', 'JPY')), ('USD1MOIS=', 1.141, 'USD'), ('GBP6M=', 70.3, ('GBP', 'USD')), ('GBP1M=', 13.74, ('GBP', 'USD')), ('JPYON=', -0.47, ('USD', 'JPY')), ('USD1YOIS=', 1.24, 'USD'), ('GBP1Y=', 141.19, ('GBP', 'USD')), ('GBPSN=', 0.387, ('GBP', 'USD')), ('JPY6M=', -93.41, ('USD', 'JPY')), ('JPY=', 111.22, ('USD', 'JPY')), ('EURSN=', 0.54, ('EUR', 'USD')), ('EURTN=', 0.51, ('EUR', 'USD')), ('GBP3M=', 36.12, ('GBP', 'USD')), ('JPY1Y=', -202.86, ('USD', 'JPY')), ('EURON=', 0.525, ('EUR', 'USD')), ('EURSW=', 5.84, ('EUR', 'USD')), ('GBPON=', 0.352, ('GBP', 'USD')), ('JPYSW=', -5.7, ('USD', 'JPY')), ('EUR1Y=', 230.8, ('EUR', 'USD')), ('USDSWOIS=', 1.11, 'USD')]\n"
     ]
    }
   ],
   "source": [
    "# extract just the first quote from every stream\n",
    "tiny_quote_dict = {key:[quotes[0]] for key, quotes in quote_dict.items()}\n",
    "print([(key,quotes[0].bid, quotes[0].instrument.ccy) for key, quotes in tiny_quote_dict.items()])\n",
    "with open('../resources/fx/data.pickle', 'wb') as f:\n",
    "        pickle.dump(tiny_quote_dict, f)\n"
   ]
  },
  {
   "cell_type": "code",
   "execution_count": 10,
   "metadata": {},
   "outputs": [
    {
     "data": {
      "text/plain": [
       "False"
      ]
     },
     "execution_count": 10,
     "metadata": {},
     "output_type": "execute_result"
    }
   ],
   "source": [
    "import datetime\n",
    "a = datetime.date(2107,1,1)\n",
    "b = datetime.date(2107,1,2)\n",
    "from mosaicsmartdata.common.quantlib.bond.fixed_bond import pydate_to_qldate\n",
    "pydate_to_qldate(b)< pydate_to_qldate(a)\n"
   ]
  },
  {
   "cell_type": "code",
   "execution_count": 12,
   "metadata": {
    "scrolled": true
   },
   "outputs": [
    {
     "name": "stdout",
     "output_type": "stream",
     "text": [
      "['EUR1M=', 'EUR6M=', 'JPYSN=', 'USD3MOIS=', 'USD6MOIS=', 'GBPSW=', 'JPY1M=', 'JPYTN=', 'GBP=', 'USD1MOIS=', 'GBP6M=', 'GBP3M=', 'JPYON=', 'USD1YOIS=', 'JPY3M=', 'EURTN=', 'USDSWOIS=', 'GBP1Y=', 'GBPSN=', 'JPY6M=', 'JPY=', 'EURSN=', 'GBPTN=', 'GBP1M=', 'JPY1Y=', 'EURON=', 'EUR=', 'GBPON=', 'EURSW=', 'EUR3M=', 'EUR1Y=', 'JPYSW=']\n",
      "[(datetime.date(2017, 6, 26), datetime.date(2017, 6, 28), -0.017439123253441189, 'ONTN'), (datetime.date(2017, 6, 27), datetime.date(2017, 6, 28), -0.017519065492592873, 'TN'), (datetime.date(2017, 6, 28), datetime.date(2017, 7, 5), 1.094229627718285, 'SW'), (datetime.date(2017, 6, 28), datetime.date(2017, 7, 28), 1.1144529731479595, '1M'), (datetime.date(2017, 6, 28), datetime.date(2017, 9, 28), 1.1303086630777746, '3M'), (datetime.date(2017, 6, 28), datetime.date(2017, 12, 28), 1.1649147520133778, '6M'), (datetime.date(2017, 6, 28), datetime.date(2018, 6, 28), 1.2211175850080658, '1Y')]\n",
      "[(datetime.date(2017, 6, 26), datetime.date(2017, 6, 28), -0.014878025882949118, 'ONTN'), (datetime.date(2017, 6, 27), datetime.date(2017, 6, 28), -0.014562812242805952, 'TN'), (datetime.date(2017, 6, 28), datetime.date(2017, 6, 29), 1.1272128568668816, 'SN'), (datetime.date(2017, 6, 28), datetime.date(2017, 7, 5), 1.0976037534751029, 'SW'), (datetime.date(2017, 6, 28), datetime.date(2017, 7, 28), 1.1189566674788505, '1M'), (datetime.date(2017, 6, 28), datetime.date(2017, 9, 28), 1.13503652404778, '3M'), (datetime.date(2017, 6, 28), datetime.date(2017, 12, 28), 1.1693228236153448, '6M'), (datetime.date(2017, 6, 28), datetime.date(2018, 6, 28), 1.224376137125734, '1Y')]\n",
      "[(datetime.date(2017, 6, 26), datetime.date(2017, 6, 28), -0.01125697249402657, 'ONTN'), (datetime.date(2017, 6, 27), datetime.date(2017, 6, 28), -0.011440410898458028, 'TN'), (datetime.date(2017, 6, 28), datetime.date(2017, 6, 29), 1.1302635358430626, 'SN'), (datetime.date(2017, 6, 28), datetime.date(2017, 7, 5), 1.1093313209317339, 'SW'), (datetime.date(2017, 6, 28), datetime.date(2017, 7, 28), 1.1252258249123268, '1M'), (datetime.date(2017, 6, 28), datetime.date(2017, 9, 28), 1.1419527444223387, '3M'), (datetime.date(2017, 6, 28), datetime.date(2017, 12, 28), 1.177478663933798, '6M'), (datetime.date(2017, 6, 28), datetime.date(2018, 6, 28), 1.2344830769810782, '1Y')]\n",
      "[(datetime.date(2017, 6, 26), datetime.date(2017, 6, 28), -0.017439123253441189, 'ONTN'), (datetime.date(2017, 6, 27), datetime.date(2017, 6, 28), -0.017519065492592873, 'TN'), (datetime.date(2017, 6, 28), datetime.date(2017, 6, 29), 1.1242097206366031, 'SN'), (datetime.date(2017, 6, 28), datetime.date(2017, 7, 5), 1.094229627718285, 'SW'), (datetime.date(2017, 6, 28), datetime.date(2017, 7, 28), 1.1144529731479595, '1M'), (datetime.date(2017, 6, 28), datetime.date(2017, 9, 28), 1.1303086630777746, '3M'), (datetime.date(2017, 6, 28), datetime.date(2017, 12, 28), 1.1649147520133778, '6M'), (datetime.date(2017, 6, 28), datetime.date(2018, 6, 28), 1.2211175850080658, '1Y')]\n",
      "[(datetime.date(2017, 6, 26), datetime.date(2017, 6, 28), -0.014878025882949118, 'ONTN'), (datetime.date(2017, 6, 27), datetime.date(2017, 6, 28), -0.014562812242805952, 'TN'), (datetime.date(2017, 6, 28), datetime.date(2017, 6, 29), 1.1272128568668816, 'SN'), (datetime.date(2017, 6, 28), datetime.date(2017, 7, 5), 1.0976037534751029, 'SW'), (datetime.date(2017, 6, 28), datetime.date(2017, 7, 28), 1.1189566674788505, '1M'), (datetime.date(2017, 6, 28), datetime.date(2017, 9, 28), 1.13503652404778, '3M'), (datetime.date(2017, 6, 28), datetime.date(2017, 12, 28), 1.1693228236153448, '6M'), (datetime.date(2017, 6, 28), datetime.date(2018, 6, 28), 1.224376137125734, '1Y')]\n",
      "[(datetime.date(2017, 6, 26), datetime.date(2017, 6, 28), -0.01125697249402657, 'ONTN'), (datetime.date(2017, 6, 27), datetime.date(2017, 6, 28), -0.011440410898458028, 'TN'), (datetime.date(2017, 6, 28), datetime.date(2017, 6, 29), 1.1302635358430626, 'SN'), (datetime.date(2017, 6, 28), datetime.date(2017, 7, 5), 1.1093313209317339, 'SW'), (datetime.date(2017, 6, 28), datetime.date(2017, 7, 28), 1.1252258249123268, '1M'), (datetime.date(2017, 6, 28), datetime.date(2017, 9, 28), 1.1419527444223387, '3M'), (datetime.date(2017, 6, 28), datetime.date(2017, 12, 28), 1.177478663933798, '6M'), (datetime.date(2017, 6, 28), datetime.date(2018, 6, 28), 1.2344830769810782, '1Y')]\n",
      "[(datetime.date(2017, 6, 26), datetime.date(2017, 6, 28), -0.017439123253441189, 'ONTN'), (datetime.date(2017, 6, 27), datetime.date(2017, 6, 28), -0.017519065492592873, 'TN'), (datetime.date(2017, 6, 28), datetime.date(2017, 6, 29), 1.1297455435566506, 'SN'), (datetime.date(2017, 6, 28), datetime.date(2017, 7, 5), 1.0997351029985125, 'SW'), (datetime.date(2017, 6, 28), datetime.date(2017, 7, 28), 1.1194053105633137, '1M'), (datetime.date(2017, 6, 28), datetime.date(2017, 9, 28), 1.1303086630777746, '3M'), (datetime.date(2017, 6, 28), datetime.date(2017, 12, 28), 1.1564652616938944, '6M'), (datetime.date(2017, 6, 28), datetime.date(2018, 6, 28), 1.2211175850080658, '1Y')]\n",
      "[(datetime.date(2017, 6, 26), datetime.date(2017, 6, 28), -0.014878025882949118, 'ONTN'), (datetime.date(2017, 6, 27), datetime.date(2017, 6, 28), -0.014562812242805952, 'TN'), (datetime.date(2017, 6, 28), datetime.date(2017, 6, 29), 1.1327486797869459, 'SN'), (datetime.date(2017, 6, 28), datetime.date(2017, 7, 5), 1.1031092287553346, 'SW'), (datetime.date(2017, 6, 28), datetime.date(2017, 7, 28), 1.1239090048942051, '1M'), (datetime.date(2017, 6, 28), datetime.date(2017, 9, 28), 1.13503652404778, '3M'), (datetime.date(2017, 6, 28), datetime.date(2017, 12, 28), 1.1608733332958614, '6M'), (datetime.date(2017, 6, 28), datetime.date(2018, 6, 28), 1.224376137125734, '1Y')]\n",
      "[(datetime.date(2017, 6, 26), datetime.date(2017, 6, 28), -0.01125697249402657, 'ONTN'), (datetime.date(2017, 6, 27), datetime.date(2017, 6, 28), -0.011440410898458028, 'TN'), (datetime.date(2017, 6, 28), datetime.date(2017, 6, 29), 1.1357993587631634, 'SN'), (datetime.date(2017, 6, 28), datetime.date(2017, 7, 5), 1.1148367962119745, 'SW'), (datetime.date(2017, 6, 28), datetime.date(2017, 7, 28), 1.1301781623276803, '1M'), (datetime.date(2017, 6, 28), datetime.date(2017, 9, 28), 1.1419527444223387, '3M'), (datetime.date(2017, 6, 28), datetime.date(2017, 12, 28), 1.1690291736143152, '6M'), (datetime.date(2017, 6, 28), datetime.date(2018, 6, 28), 1.2344830769810782, '1Y')]\n",
      "[(datetime.date(2017, 6, 26), datetime.date(2017, 6, 28), -0.017439123253441189, 'ONTN'), (datetime.date(2017, 6, 27), datetime.date(2017, 6, 28), -0.017519065492592873, 'TN'), (datetime.date(2017, 6, 28), datetime.date(2017, 6, 29), 1.13257537722803, 'SN'), (datetime.date(2017, 6, 28), datetime.date(2017, 7, 5), 1.1025325620788984, 'SW'), (datetime.date(2017, 6, 28), datetime.date(2017, 7, 28), 1.1216208152821958, '1M'), (datetime.date(2017, 6, 28), datetime.date(2017, 9, 28), 1.1303086630849866, '3M'), (datetime.date(2017, 6, 28), datetime.date(2017, 12, 28), 1.1564652616939377, '6M'), (datetime.date(2017, 6, 28), datetime.date(2018, 6, 28), 1.2211175850080658, '1Y')]\n",
      "[(datetime.date(2017, 6, 26), datetime.date(2017, 6, 28), -0.014878025882949118, 'ONTN'), (datetime.date(2017, 6, 27), datetime.date(2017, 6, 28), -0.014562812242805952, 'TN'), (datetime.date(2017, 6, 28), datetime.date(2017, 6, 29), 1.1355785134583531, 'SN'), (datetime.date(2017, 6, 28), datetime.date(2017, 7, 5), 1.1059066878357215, 'SW'), (datetime.date(2017, 6, 28), datetime.date(2017, 7, 28), 1.1261245096130867, '1M'), (datetime.date(2017, 6, 28), datetime.date(2017, 9, 28), 1.1350365240549911, '3M'), (datetime.date(2017, 6, 28), datetime.date(2017, 12, 28), 1.1608733332959054, '6M'), (datetime.date(2017, 6, 28), datetime.date(2018, 6, 28), 1.224376137125734, '1Y')]\n",
      "[(datetime.date(2017, 6, 26), datetime.date(2017, 6, 28), -0.01125697249402657, 'ONTN'), (datetime.date(2017, 6, 27), datetime.date(2017, 6, 28), -0.011440410898458028, 'TN'), (datetime.date(2017, 6, 28), datetime.date(2017, 6, 29), 1.138629192434558, 'SN'), (datetime.date(2017, 6, 28), datetime.date(2017, 7, 5), 1.1176342552923595, 'SW'), (datetime.date(2017, 6, 28), datetime.date(2017, 7, 28), 1.1323936670465635, '1M'), (datetime.date(2017, 6, 28), datetime.date(2017, 9, 28), 1.1419527444295503, '3M'), (datetime.date(2017, 6, 28), datetime.date(2017, 12, 28), 1.169029173614359, '6M'), (datetime.date(2017, 6, 28), datetime.date(2018, 6, 28), 1.2344830769810782, '1Y')]\n"
     ]
    },
    {
     "data": {
      "text/plain": [
       "{'EUR': {datetime.date(2017, 6, 26): (0.892983515970787, 'ONTN'),\n",
       "  datetime.date(2017, 6, 27): (0.8929404573908906, 'TN'),\n",
       "  datetime.date(2017, 6, 29): (0.8928534757803674, 'SN'),\n",
       "  datetime.date(2017, 7, 5): (0.8924236799268926, 'SW'),\n",
       "  datetime.date(2017, 7, 28): (0.891368080643853, '1M'),\n",
       "  datetime.date(2017, 9, 28): (0.888512159733162, '3M'),\n",
       "  datetime.date(2017, 12, 28): (0.8840939562011013, '6M'),\n",
       "  datetime.date(2018, 6, 28): (0.8747911436144621, '1Y')},\n",
       " 'GBP': {datetime.date(2017, 6, 26): (0.7847012756025467, 'ONTN'),\n",
       "  datetime.date(2017, 6, 27): (0.7846771387062009, 'TN'),\n",
       "  datetime.date(2017, 6, 29): (0.7846271455727375, 'SN'),\n",
       "  datetime.date(2017, 7, 5): (0.7843678622524536, 'SW'),\n",
       "  datetime.date(2017, 7, 28): (0.7838010274063868, '1M'),\n",
       "  datetime.date(2017, 9, 28): (0.7824169014569385, '3M'),\n",
       "  datetime.date(2017, 12, 28): (0.780313014762742, '6M'),\n",
       "  datetime.date(2018, 6, 28): (0.7759384587689582, '1Y')},\n",
       " 'JPY': {datetime.date(2017, 6, 26): (111.24919500000001, 'ONTN'),\n",
       "  datetime.date(2017, 6, 27): (111.2445, 'TN'),\n",
       "  datetime.date(2017, 6, 29): (111.235505, 'SN'),\n",
       "  datetime.date(2017, 7, 5): (111.18520000000001, 'SW'),\n",
       "  datetime.date(2017, 7, 28): (111.07870000000001, '1M'),\n",
       "  datetime.date(2017, 9, 28): (110.78680000000001, '3M'),\n",
       "  datetime.date(2017, 12, 28): (110.31200000000001, '6M'),\n",
       "  datetime.date(2018, 6, 28): (109.2322, '1Y')}}"
      ]
     },
     "execution_count": 12,
     "metadata": {},
     "output_type": "execute_result"
    }
   ],
   "source": [
    "\n",
    "with open('../resources/fx/data.pickle', 'rb') as f:\n",
    "        tiny_quote_dict = pickle.load(f)\n",
    "\n",
    "        \n",
    "tiny_quotes_list = [quotes for key, quotes in tiny_quote_dict.items()]\n",
    "print([q[0].instrument.sym for q in tiny_quotes_list])\n",
    "stream = op.merge_sorted(tiny_quotes_list, lambda x: x.timestamp) |\\\n",
    "            op.flat_map(FXPricingContextGenerator()) > []\n",
    "run(stream)\n",
    "pc = stream.sink[-1]\n",
    "pc.extra\n"
   ]
  },
  {
   "cell_type": "code",
   "execution_count": 13,
   "metadata": {},
   "outputs": [
    {
     "name": "stdout",
     "output_type": "stream",
     "text": [
      "[(datetime.date(2017, 6, 26), datetime.date(2017, 6, 28), -0.017439123253441189, 'ONTN'), (datetime.date(2017, 6, 27), datetime.date(2017, 6, 28), -0.017519065492592873, 'TN'), (datetime.date(2017, 6, 28), datetime.date(2017, 6, 29), 1.13257537722803, 'SN'), (datetime.date(2017, 6, 28), datetime.date(2017, 7, 5), 1.1025325620788984, 'SW'), (datetime.date(2017, 6, 28), datetime.date(2017, 7, 28), 1.1216208152821958, '1M'), (datetime.date(2017, 6, 28), datetime.date(2017, 9, 28), 1.1303086630849866, '3M'), (datetime.date(2017, 6, 28), datetime.date(2017, 12, 28), 1.1564652616939377, '6M'), (datetime.date(2017, 6, 28), datetime.date(2018, 6, 28), 1.2211175850080658, '1Y')]\n"
     ]
    },
    {
     "ename": "TypeError",
     "evalue": "list indices must be integers or slices, not tuple",
     "output_type": "error",
     "traceback": [
      "\u001b[1;31m---------------------------------------------------------------------------\u001b[0m",
      "\u001b[1;31mTypeError\u001b[0m                                 Traceback (most recent call last)",
      "\u001b[1;32m<ipython-input-13-ca7710dcb649>\u001b[0m in \u001b[0;36m<module>\u001b[1;34m()\u001b[0m\n\u001b[0;32m      6\u001b[0m \u001b[0mprint\u001b[0m\u001b[1;33m(\u001b[0m\u001b[0mEUR_df\u001b[0m\u001b[1;33m)\u001b[0m\u001b[1;33m\u001b[0m\u001b[0m\n\u001b[0;32m      7\u001b[0m \u001b[1;33m\u001b[0m\u001b[0m\n\u001b[1;32m----> 8\u001b[1;33m \u001b[0meur_curve\u001b[0m \u001b[1;33m=\u001b[0m  \u001b[0mconstruct_OIS_curve\u001b[0m\u001b[1;33m(\u001b[0m\u001b[0mEUR_df\u001b[0m\u001b[1;33m)\u001b[0m\u001b[1;33m\u001b[0m\u001b[0m\n\u001b[0m\u001b[0;32m      9\u001b[0m \u001b[0mdf\u001b[0m \u001b[1;33m=\u001b[0m \u001b[0mdiscounting_factor\u001b[0m\u001b[1;33m(\u001b[0m\u001b[0meur_curve\u001b[0m\u001b[1;33m,\u001b[0m\u001b[0ma\u001b[0m\u001b[1;33m,\u001b[0m\u001b[0mb\u001b[0m\u001b[1;33m)\u001b[0m\u001b[1;33m\u001b[0m\u001b[0m\n",
      "\u001b[1;32mC:\\Users\\egork\\Dropbox\\GitHub\\Mosaic\\msq-domain\\src\\mosaicsmartdata\\core\\curve_utils.py\u001b[0m in \u001b[0;36mconstruct_OIS_curve\u001b[1;34m(usd_ois_quotes)\u001b[0m\n\u001b[0;32m    139\u001b[0m                      us_calendar)  # Pass in the Trade date- not the settle_date\n\u001b[0;32m    140\u001b[0m     \u001b[0mois_rates\u001b[0m \u001b[1;33m=\u001b[0m \u001b[0musd_ois_quotes\u001b[0m\u001b[1;33m\u001b[0m\u001b[0m\n\u001b[1;32m--> 141\u001b[1;33m     \u001b[0musd_ois\u001b[0m\u001b[1;33m.\u001b[0m\u001b[0mcreate_ois_swaps\u001b[0m\u001b[1;33m(\u001b[0m\u001b[0mois_rates\u001b[0m\u001b[1;33m)\u001b[0m\u001b[1;33m\u001b[0m\u001b[0m\n\u001b[0m\u001b[0;32m    142\u001b[0m     \u001b[1;32mreturn\u001b[0m \u001b[0musd_ois\u001b[0m\u001b[1;33m\u001b[0m\u001b[0m\n\u001b[0;32m    143\u001b[0m \u001b[1;33m\u001b[0m\u001b[0m\n",
      "\u001b[1;32mC:\\Users\\egork\\Dropbox\\GitHub\\Mosaic\\msq-domain\\src\\mosaicsmartdata\\common\\quantlib\\curve\\usdois.py\u001b[0m in \u001b[0;36mcreate_ois_swaps\u001b[1;34m(self, ois_swap_rates)\u001b[0m\n\u001b[0;32m     30\u001b[0m                                                              \u001b[0mfixed_bond\u001b[0m\u001b[1;33m.\u001b[0m\u001b[0mpydate_to_qldate\u001b[0m\u001b[1;33m(\u001b[0m\u001b[0mkey\u001b[0m\u001b[1;33m[\u001b[0m\u001b[1;36m1\u001b[0m\u001b[1;33m]\u001b[0m\u001b[1;33m)\u001b[0m\u001b[1;33m,\u001b[0m\u001b[1;33m\u001b[0m\u001b[0m\n\u001b[0;32m     31\u001b[0m                                                              ois_swap_rates[key])) for key\n\u001b[1;32m---> 32\u001b[1;33m                                                       in ois_swap_rates]]\n\u001b[0m\u001b[0;32m     33\u001b[0m         \u001b[1;31m# for start_date, end_date, rate in ois_swap_rates]\u001b[0m\u001b[1;33m\u001b[0m\u001b[1;33m\u001b[0m\u001b[0m\n\u001b[0;32m     34\u001b[0m         \u001b[0mself\u001b[0m\u001b[1;33m.\u001b[0m\u001b[0mois_curve_c\u001b[0m \u001b[1;33m=\u001b[0m \u001b[0mPiecewiseLogCubicDiscount\u001b[0m\u001b[1;33m(\u001b[0m\u001b[1;36m0\u001b[0m\u001b[1;33m,\u001b[0m \u001b[0mself\u001b[0m\u001b[1;33m.\u001b[0m\u001b[0mcalendar\u001b[0m\u001b[1;33m,\u001b[0m \u001b[0mhelpers\u001b[0m\u001b[1;33m,\u001b[0m \u001b[0mActual365Fixed\u001b[0m\u001b[1;33m(\u001b[0m\u001b[1;33m)\u001b[0m\u001b[1;33m)\u001b[0m\u001b[1;33m\u001b[0m\u001b[0m\n",
      "\u001b[1;32mC:\\Users\\egork\\Dropbox\\GitHub\\Mosaic\\msq-domain\\src\\mosaicsmartdata\\common\\quantlib\\curve\\usdois.py\u001b[0m in \u001b[0;36m<listcomp>\u001b[1;34m(.0)\u001b[0m\n\u001b[0;32m     29\u001b[0m                    for start_date, end_date, rate in [tuple((fixed_bond.pydate_to_qldate(key[0]),\n\u001b[0;32m     30\u001b[0m                                                              \u001b[0mfixed_bond\u001b[0m\u001b[1;33m.\u001b[0m\u001b[0mpydate_to_qldate\u001b[0m\u001b[1;33m(\u001b[0m\u001b[0mkey\u001b[0m\u001b[1;33m[\u001b[0m\u001b[1;36m1\u001b[0m\u001b[1;33m]\u001b[0m\u001b[1;33m)\u001b[0m\u001b[1;33m,\u001b[0m\u001b[1;33m\u001b[0m\u001b[0m\n\u001b[1;32m---> 31\u001b[1;33m                                                              ois_swap_rates[key])) for key\n\u001b[0m\u001b[0;32m     32\u001b[0m                                                       in ois_swap_rates]]\n\u001b[0;32m     33\u001b[0m         \u001b[1;31m# for start_date, end_date, rate in ois_swap_rates]\u001b[0m\u001b[1;33m\u001b[0m\u001b[1;33m\u001b[0m\u001b[0m\n",
      "\u001b[1;31mTypeError\u001b[0m: list indices must be integers or slices, not tuple"
     ]
    }
   ],
   "source": [
    "from mosaicsmartdata.core.curve_utils import construct_OIS_curve, discounting_factor\n",
    "import datetime\n",
    "\n",
    "with open('EUR_curve.pickle', 'rb') as f:\n",
    "        EUR_df = pickle.load(f)\n",
    "print(EUR_df)\n",
    "        \n",
    "eur_curve =  construct_OIS_curve(EUR_df)\n",
    "df = discounting_factor(eur_curve,a,b)"
   ]
  },
  {
   "cell_type": "code",
   "execution_count": 14,
   "metadata": {},
   "outputs": [
    {
     "name": "stdout",
     "output_type": "stream",
     "text": [
      "GBP1Y=\n",
      "143.12 143.12\n",
      "GBP3M=\n",
      "36.41 36.41\n",
      "EUR6M=\n",
      "111.515 111.515000016\n",
      "JPY=\n",
      "111.24000000000001 111.24000000000001\n",
      "EURSN=\n",
      "0.546 0.546000000037\n",
      "JPY1M=\n",
      "-16.13 -16.1299999999\n",
      "JPYSW=\n",
      "-5.48 -5.47999999992\n",
      "JPY6M=\n",
      "-92.8 -92.8000000144\n",
      "GBPTN=\n"
     ]
    },
    {
     "ename": "RuntimeError",
     "evalue": "negative time (-0.00273973) given",
     "output_type": "error",
     "traceback": [
      "\u001b[1;31m---------------------------------------------------------------------------\u001b[0m",
      "\u001b[1;31mRuntimeError\u001b[0m                              Traceback (most recent call last)",
      "\u001b[1;32m<ipython-input-14-7bfb9df62fa4>\u001b[0m in \u001b[0;36m<module>\u001b[1;34m()\u001b[0m\n\u001b[0;32m      2\u001b[0m     \u001b[1;32mif\u001b[0m \u001b[1;34m'OIS'\u001b[0m \u001b[1;32mnot\u001b[0m \u001b[1;32min\u001b[0m \u001b[0msym\u001b[0m \u001b[1;32mand\u001b[0m \u001b[1;34m'ON'\u001b[0m \u001b[1;32mnot\u001b[0m \u001b[1;32min\u001b[0m \u001b[0msym\u001b[0m\u001b[1;33m:\u001b[0m \u001b[1;31m#and 'TN' not in sym:\u001b[0m\u001b[1;33m\u001b[0m\u001b[0m\n\u001b[0;32m      3\u001b[0m             \u001b[0mprint\u001b[0m\u001b[1;33m(\u001b[0m\u001b[0msym\u001b[0m\u001b[1;33m)\u001b[0m\u001b[1;33m\u001b[0m\u001b[0m\n\u001b[1;32m----> 4\u001b[1;33m             \u001b[0mprint\u001b[0m\u001b[1;33m(\u001b[0m\u001b[0mquote\u001b[0m\u001b[1;33m[\u001b[0m\u001b[1;36m0\u001b[0m\u001b[1;33m]\u001b[0m\u001b[1;33m.\u001b[0m\u001b[0mmid\u001b[0m\u001b[1;33m,\u001b[0m \u001b[0mquote\u001b[0m\u001b[1;33m[\u001b[0m\u001b[1;36m0\u001b[0m\u001b[1;33m]\u001b[0m\u001b[1;33m.\u001b[0m\u001b[0minstrument\u001b[0m\u001b[1;33m.\u001b[0m\u001b[0mprice\u001b[0m\u001b[1;33m(\u001b[0m\u001b[0mpc\u001b[0m\u001b[1;33m)\u001b[0m\u001b[1;33m)\u001b[0m\u001b[1;33m\u001b[0m\u001b[0m\n\u001b[0m",
      "\u001b[1;32mC:\\Users\\egork\\Dropbox\\GitHub\\Mosaic\\msq-domain\\src\\mosaicsmartdata\\core\\instrument.py\u001b[0m in \u001b[0;36mprice\u001b[1;34m(self, pc)\u001b[0m\n\u001b[0;32m    154\u001b[0m \u001b[1;33m\u001b[0m\u001b[0m\n\u001b[0;32m    155\u001b[0m     \u001b[1;32mdef\u001b[0m \u001b[0mprice\u001b[0m\u001b[1;33m(\u001b[0m\u001b[0mself\u001b[0m\u001b[1;33m,\u001b[0m \u001b[0mpc\u001b[0m\u001b[1;33m:\u001b[0m \u001b[0mPricingContext\u001b[0m \u001b[1;33m)\u001b[0m\u001b[1;33m:\u001b[0m\u001b[1;33m\u001b[0m\u001b[0m\n\u001b[1;32m--> 156\u001b[1;33m         \u001b[1;32mreturn\u001b[0m \u001b[0mpc\u001b[0m\u001b[1;33m.\u001b[0m\u001b[0mfair_fwd_points\u001b[0m\u001b[1;33m(\u001b[0m\u001b[0mself\u001b[0m\u001b[1;33m.\u001b[0m\u001b[0mccy\u001b[0m\u001b[1;33m,\u001b[0m \u001b[0mself\u001b[0m\u001b[1;33m.\u001b[0m\u001b[0mlegs\u001b[0m\u001b[1;33m[\u001b[0m\u001b[1;36m0\u001b[0m\u001b[1;33m]\u001b[0m\u001b[1;33m.\u001b[0m\u001b[0msettle_date\u001b[0m\u001b[1;33m,\u001b[0m \u001b[0mself\u001b[0m\u001b[1;33m.\u001b[0m\u001b[0mlegs\u001b[0m\u001b[1;33m[\u001b[0m\u001b[1;36m1\u001b[0m\u001b[1;33m]\u001b[0m\u001b[1;33m.\u001b[0m\u001b[0msettle_date\u001b[0m\u001b[1;33m)\u001b[0m\u001b[1;33m\u001b[0m\u001b[0m\n\u001b[0m\u001b[0;32m    157\u001b[0m \u001b[1;33m\u001b[0m\u001b[0m\n\u001b[0;32m    158\u001b[0m     \u001b[1;32mdef\u001b[0m \u001b[0m__getattr__\u001b[0m\u001b[1;33m(\u001b[0m\u001b[0mself\u001b[0m\u001b[1;33m,\u001b[0m \u001b[0mitem\u001b[0m\u001b[1;33m)\u001b[0m\u001b[1;33m:\u001b[0m\u001b[1;33m\u001b[0m\u001b[0m\n",
      "\u001b[1;32mC:\\Users\\egork\\Dropbox\\GitHub\\Mosaic\\msq-domain\\src\\mosaicsmartdata\\core\\instrument.py\u001b[0m in \u001b[0;36mfair_fwd_points\u001b[1;34m(self, ccypair, start_date, end_date)\u001b[0m\n\u001b[0;32m     59\u001b[0m     \u001b[1;32mdef\u001b[0m \u001b[0mfair_fwd_points\u001b[0m\u001b[1;33m(\u001b[0m\u001b[0mself\u001b[0m\u001b[1;33m,\u001b[0m \u001b[0mccypair\u001b[0m\u001b[1;33m,\u001b[0m \u001b[0mstart_date\u001b[0m\u001b[1;33m,\u001b[0m \u001b[0mend_date\u001b[0m\u001b[1;33m)\u001b[0m\u001b[1;33m:\u001b[0m\u001b[1;33m\u001b[0m\u001b[0m\n\u001b[0;32m     60\u001b[0m         \u001b[0mpip_size\u001b[0m \u001b[1;33m=\u001b[0m \u001b[0mstatic\u001b[0m\u001b[1;33m.\u001b[0m\u001b[0mpip_size\u001b[0m\u001b[1;33m(\u001b[0m\u001b[0mccypair\u001b[0m\u001b[1;33m)\u001b[0m\u001b[1;33m\u001b[0m\u001b[0m\n\u001b[1;32m---> 61\u001b[1;33m         \u001b[0mfwd_diff\u001b[0m \u001b[1;33m=\u001b[0m \u001b[0mself\u001b[0m\u001b[1;33m.\u001b[0m\u001b[0mfair_forward\u001b[0m\u001b[1;33m(\u001b[0m\u001b[0mccypair\u001b[0m\u001b[1;33m,\u001b[0m \u001b[0mend_date\u001b[0m\u001b[1;33m)\u001b[0m \u001b[1;33m-\u001b[0m \u001b[0mself\u001b[0m\u001b[1;33m.\u001b[0m\u001b[0mfair_forward\u001b[0m\u001b[1;33m(\u001b[0m\u001b[0mccypair\u001b[0m\u001b[1;33m,\u001b[0m \u001b[0mstart_date\u001b[0m\u001b[1;33m)\u001b[0m\u001b[1;33m\u001b[0m\u001b[0m\n\u001b[0m\u001b[0;32m     62\u001b[0m         \u001b[1;32mreturn\u001b[0m \u001b[0mfwd_diff\u001b[0m \u001b[1;33m/\u001b[0m \u001b[0mpip_size\u001b[0m\u001b[1;33m\u001b[0m\u001b[0m\n\u001b[0;32m     63\u001b[0m \u001b[1;33m\u001b[0m\u001b[0m\n",
      "\u001b[1;32mC:\\Users\\egork\\Dropbox\\GitHub\\Mosaic\\msq-domain\\src\\mosaicsmartdata\\core\\instrument.py\u001b[0m in \u001b[0;36mfair_forward\u001b[1;34m(self, ccypair, date)\u001b[0m\n\u001b[0;32m     47\u001b[0m                                 \u001b[0mspot_date\u001b[0m\u001b[1;33m,\u001b[0m\u001b[1;33m\u001b[0m\u001b[0m\n\u001b[0;32m     48\u001b[0m                                 \u001b[0mdate\u001b[0m\u001b[1;33m,\u001b[0m\u001b[1;33m\u001b[0m\u001b[0m\n\u001b[1;32m---> 49\u001b[1;33m                                 \u001b[0mone_pre_spot\u001b[0m \u001b[1;33m=\u001b[0m \u001b[1;32mTrue\u001b[0m \u001b[1;32mif\u001b[0m \u001b[0mccypair\u001b[0m\u001b[1;33m[\u001b[0m\u001b[1;36m0\u001b[0m\u001b[1;33m]\u001b[0m\u001b[1;33m==\u001b[0m\u001b[1;34m'USD'\u001b[0m \u001b[1;32melse\u001b[0m \u001b[1;32mFalse\u001b[0m\u001b[1;33m\u001b[0m\u001b[0m\n\u001b[0m\u001b[0;32m     50\u001b[0m                                 )\n\u001b[0;32m     51\u001b[0m         d2 = discounting_factor(self.curve[ccypair[1]],\n",
      "\u001b[1;32mC:\\Users\\egork\\Dropbox\\GitHub\\Mosaic\\msq-domain\\src\\mosaicsmartdata\\core\\curve_utils.py\u001b[0m in \u001b[0;36mdiscounting_factor\u001b[1;34m(ois_curve, date_1, date_2, one_pre_spot)\u001b[0m\n\u001b[0;32m    188\u001b[0m         \u001b[1;32mpass\u001b[0m\u001b[1;33m\u001b[0m\u001b[0m\n\u001b[0;32m    189\u001b[0m     \u001b[1;31m#print(valuation_date,end_date)\u001b[0m\u001b[1;33m\u001b[0m\u001b[1;33m\u001b[0m\u001b[0m\n\u001b[1;32m--> 190\u001b[1;33m     \u001b[0mdr\u001b[0m \u001b[1;33m=\u001b[0m \u001b[0mget_rate\u001b[0m\u001b[1;33m(\u001b[0m\u001b[0mois_curve\u001b[0m\u001b[1;33m,\u001b[0m \u001b[0mvaluation_date\u001b[0m\u001b[1;33m,\u001b[0m \u001b[0mend_date\u001b[0m\u001b[1;33m)\u001b[0m\u001b[1;33m\u001b[0m\u001b[0m\n\u001b[0m\u001b[0;32m    191\u001b[0m     \u001b[1;31m#print('*** success!!! ***')\u001b[0m\u001b[1;33m\u001b[0m\u001b[1;33m\u001b[0m\u001b[0m\n\u001b[0;32m    192\u001b[0m     \u001b[0mdf\u001b[0m \u001b[1;33m=\u001b[0m  \u001b[0mnp\u001b[0m\u001b[1;33m.\u001b[0m\u001b[0mexp\u001b[0m\u001b[1;33m(\u001b[0m\u001b[1;33m-\u001b[0m \u001b[0mdr\u001b[0m \u001b[1;33m*\u001b[0m \u001b[0mdt\u001b[0m\u001b[1;33m)\u001b[0m\u001b[1;33m\u001b[0m\u001b[0m\n",
      "\u001b[1;32mC:\\Users\\egork\\Dropbox\\GitHub\\Mosaic\\msq-domain\\src\\mosaicsmartdata\\core\\curve_utils.py\u001b[0m in \u001b[0;36mget_rate\u001b[1;34m(ois_curve, start_date, end_date, daycount)\u001b[0m\n\u001b[0;32m    153\u001b[0m     return ois_curve.ois_curve_c.forwardRate(pydate_to_qldate(start_date),\n\u001b[0;32m    154\u001b[0m                          \u001b[0mpydate_to_qldate\u001b[0m\u001b[1;33m(\u001b[0m\u001b[0mend_date\u001b[0m\u001b[1;33m)\u001b[0m\u001b[1;33m,\u001b[0m\u001b[1;33m\u001b[0m\u001b[0m\n\u001b[1;32m--> 155\u001b[1;33m                          daycount, Simple).rate()*100\n\u001b[0m\u001b[0;32m    156\u001b[0m \u001b[1;33m\u001b[0m\u001b[0m\n\u001b[0;32m    157\u001b[0m \u001b[1;32mdef\u001b[0m \u001b[0mdiscounting_factor\u001b[0m\u001b[1;33m(\u001b[0m\u001b[0mois_curve\u001b[0m\u001b[1;33m,\u001b[0m \u001b[0mdate_1\u001b[0m\u001b[1;33m,\u001b[0m \u001b[0mdate_2\u001b[0m \u001b[1;33m=\u001b[0m \u001b[1;32mNone\u001b[0m\u001b[1;33m,\u001b[0m \u001b[0mone_pre_spot\u001b[0m \u001b[1;33m=\u001b[0m \u001b[1;32mFalse\u001b[0m\u001b[1;33m)\u001b[0m\u001b[1;33m:\u001b[0m\u001b[1;33m\u001b[0m\u001b[0m\n",
      "\u001b[1;32mC:\\Users\\egork\\Anaconda3\\envs\\py35\\lib\\site-packages\\QuantLib\\QuantLib.py\u001b[0m in \u001b[0;36mforwardRate\u001b[1;34m(self, *args)\u001b[0m\n\u001b[0;32m   5476\u001b[0m \u001b[1;33m\u001b[0m\u001b[0m\n\u001b[0;32m   5477\u001b[0m     \u001b[1;32mdef\u001b[0m \u001b[0mforwardRate\u001b[0m\u001b[1;33m(\u001b[0m\u001b[0mself\u001b[0m\u001b[1;33m,\u001b[0m \u001b[1;33m*\u001b[0m\u001b[0margs\u001b[0m\u001b[1;33m)\u001b[0m\u001b[1;33m:\u001b[0m\u001b[1;33m\u001b[0m\u001b[0m\n\u001b[1;32m-> 5478\u001b[1;33m         \u001b[1;32mreturn\u001b[0m \u001b[0m_QuantLib\u001b[0m\u001b[1;33m.\u001b[0m\u001b[0mYieldTermStructure_forwardRate\u001b[0m\u001b[1;33m(\u001b[0m\u001b[0mself\u001b[0m\u001b[1;33m,\u001b[0m \u001b[1;33m*\u001b[0m\u001b[0margs\u001b[0m\u001b[1;33m)\u001b[0m\u001b[1;33m\u001b[0m\u001b[0m\n\u001b[0m\u001b[0;32m   5479\u001b[0m \u001b[1;33m\u001b[0m\u001b[0m\n\u001b[0;32m   5480\u001b[0m     \u001b[1;32mdef\u001b[0m \u001b[0menableExtrapolation\u001b[0m\u001b[1;33m(\u001b[0m\u001b[0mself\u001b[0m\u001b[1;33m)\u001b[0m\u001b[1;33m:\u001b[0m\u001b[1;33m\u001b[0m\u001b[0m\n",
      "\u001b[1;31mRuntimeError\u001b[0m: negative time (-0.00273973) given"
     ]
    }
   ],
   "source": [
    "for sym, quote in tiny_quote_dict.items():\n",
    "    if 'OIS' not in sym and 'ON' not in sym: #and 'TN' not in sym:\n",
    "            print(sym)\n",
    "            print(quote[0].mid, quote[0].instrument.price(pc))\n"
   ]
  },
  {
   "cell_type": "code",
   "execution_count": 15,
   "metadata": {},
   "outputs": [
    {
     "name": "stdout",
     "output_type": "stream",
     "text": [
      "111.515 6M EUR6M=\n",
      "0.546 1b EURSN=\n",
      "19.21 1M EUR1M=\n",
      "0.54 ON EURON=\n",
      "231.8 1Y EUR1Y=\n",
      "55.269999999999996 3M EUR3M=\n",
      "1.11995 SPOT EUR=\n",
      "5.9399999999999995 1w EURSW=\n",
      "0.5449999999999999 TN EURTN=\n",
      "{datetime.date(2017, 9, 28): 0.7824169014569385, datetime.date(2018, 6, 28): 0.7759384587689582, datetime.date(2017, 7, 28): 0.7838010274063868, datetime.date(2017, 7, 5): 0.7843678622524536, datetime.date(2017, 6, 29): 0.7846271455727375, datetime.date(2017, 12, 28): 0.780313014762742, datetime.date(2017, 6, 27): 0.7846771387062009}\n"
     ]
    }
   ],
   "source": [
    "pc.extra['EUR']\n",
    "for sym, quote in tiny_quote_dict.items():\n",
    "    if 'EUR' in sym:\n",
    "        print(quote[0].mid, quote[0].instrument.tenor, quote[0].instrument.sym)\n",
    "print(pc.extra['GBP'])"
   ]
  },
  {
   "cell_type": "code",
   "execution_count": null,
   "metadata": {
    "collapsed": true
   },
   "outputs": [],
   "source": []
  }
 ],
 "metadata": {
  "anaconda-cloud": {},
  "kernelspec": {
   "display_name": "Python [conda env:py35]",
   "language": "python",
   "name": "conda-env-py35-py"
  },
  "language_info": {
   "codemirror_mode": {
    "name": "ipython",
    "version": 3
   },
   "file_extension": ".py",
   "mimetype": "text/x-python",
   "name": "python",
   "nbconvert_exporter": "python",
   "pygments_lexer": "ipython3",
   "version": "3.5.3"
  }
 },
 "nbformat": 4,
 "nbformat_minor": 1
}
