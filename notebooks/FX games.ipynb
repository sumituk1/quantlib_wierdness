{
 "cells": [
  {
   "cell_type": "code",
   "execution_count": 1,
   "metadata": {
    "collapsed": false
   },
   "outputs": [
    {
     "name": "stdout",
     "output_type": "stream",
     "text": [
      "C:\\Users\\Egor\\Dropbox\\GitHub\\Mosaic\\msq-domain\\notebooks\n"
     ]
    }
   ],
   "source": [
    "# require at least Python 3.5 for async/await to work\n",
    "import sys\n",
    "ver=sys.version_info\n",
    "!pwd\n",
    "assert (ver[0]>=3 and ver[1]>=5)\n",
    "sys.path.append('../../quant_container/src')\n",
    "sys.path.append('../src')\n",
    "# %load_ext autoreload\n",
    "# %autoreload 2\n",
    "\n",
    "\n",
    "from mosaicsmartdata.common import qc_csv_helper\n",
    "from mosaicsmartdata.core.quote import Quote\n",
    "import csv"
   ]
  },
  {
   "cell_type": "code",
   "execution_count": 2,
   "metadata": {
    "collapsed": false,
    "scrolled": false
   },
   "outputs": [],
   "source": [
    "import pickle\n",
    "\n",
    "try:\n",
    "    with open('data.pickle', 'rb') as f:\n",
    "        # Pickle the 'data' dictionary using the highest protocol available.\n",
    "        quote_dict = pickle.load(f)\n",
    "except:\n",
    "    filename = '../resources/fx/EUR_JPY_GBP_till_SN.csv'\n",
    "    quote_dict = qc_csv_helper.get_fx_quotes(filename)\n",
    "    with open('data.pickle', 'wb') as f:\\\n",
    "        pickle.dump(quote_dict, f)"
   ]
  },
  {
   "cell_type": "code",
   "execution_count": 4,
   "metadata": {
    "collapsed": false
   },
   "outputs": [
    {
     "name": "stdout",
     "output_type": "stream",
     "text": [
      "<class 'mosaicsmartdata.core.instrument.FXForward'> :  static = Instrument static singleton facade, sym = EUR=, ccy = ('EUR', 'USD'), isDeliverable = True, tenor = SPOT, venue = None, settle_date = 2017-06-26, notionals = (100, -111.97999999999999), holidayCities = None, date_calc = <mosaicsmartdata.core.date_calculator.DateCalculator object at 0x000001D2FEC40DA0>\n",
      "EUR=\n"
     ]
    }
   ],
   "source": [
    "# create a trade\n",
    "from mosaicsmartdata.core.instrument_utils import sym_to_fx_instrument\n",
    "from mosaicsmartdata.core.trade import Trade, FXForwardTrade\n",
    "\n",
    "spot_quotes = [quotes for sym, quotes in quote_dict.items() if len(sym)==4]\n",
    "my_quote = quote_dict['EUR='][100]\n",
    "my_instr = sym_to_fx_instrument()(my_quote.sym, my_quote.timestamp.date())\n",
    "my_instr.notionals = (100, -100*my_quote.bid)\n",
    "print(my_instr)\n",
    "\n",
    "my_trade = FXForwardTrade(my_instr, \n",
    "                          trade_id = '12345',\n",
    "                        timestamp = my_quote.timestamp,\n",
    "                         sym = my_quote.sym)\n",
    "print(my_trade.sym)"
   ]
  },
  {
   "cell_type": "code",
   "execution_count": 5,
   "metadata": {
    "collapsed": true
   },
   "outputs": [],
   "source": [
    "from aiostreams import run\n",
    "import aiostreams.operators as op\n",
    "from mosaicsmartdata.core.markout import MarkoutCalculator\n",
    "import logging"
   ]
  },
  {
   "cell_type": "code",
   "execution_count": 6,
   "metadata": {
    "collapsed": false
   },
   "outputs": [
    {
     "name": "stderr",
     "output_type": "stream",
     "text": [
      "INFO:root:staring command line test...\n",
      "INFO:aiostreams.runner:Creating a runnable graph with source <aiostreams.operators.flatten.Flatten object at 0x000001D2FFDA6898> and sink <built-in function print>\n",
      "INFO:aiostreams.runner:Attempting to run the graphs [\"{'source': <aiostreams.operators.flatten.Flatten object at 0x000001D2FFDA6898>, 'sink': <built-in function print>, 'id': 'pipe_52714', 'logger': <logging.Logger object at 0x000001D2FFDA6BE0>, 'ignore_heartbeats': True, 'message_count': 0, 'persister_factory': <class 'aiostreams.persist.KafkaPersister'>, 'persistence_policy': None, 'log_level': 10, 'persister': None}; \"]\n",
      "INFO:aiostreams.runner:Graph pipe_52714 creating a coroutine for the event loop\n",
      "INFO:aiostreams.runner:Finished running graphs [\"{'source': <aiostreams.operators.flatten.Flatten object at 0x000001D2FFDA6898>, 'sink': <built-in function print>, 'id': 'pipe_52714', 'logger': <logging.Logger object at 0x000001D2FFDA6BE0>, 'ignore_heartbeats': True, 'message_count': 0, 'persister_factory': <class 'aiostreams.persist.KafkaPersister'>, 'persistence_policy': None, 'log_level': 10, 'persister': None} producing 0 messages; \"]\n"
     ]
    }
   ],
   "source": [
    "logging.getLogger().setLevel('INFO')\n",
    "logging.info('staring command line test...')\n",
    "\n",
    "# run the markout calc\n",
    "trades = [my_trade]\n",
    "quotes = quote_dict['EUR=']\n",
    "stream = op.merge_sorted([quotes, trades], lambda x: x.timestamp) \\\n",
    "            | op.flat_map_by_group(lambda x: x.sym, MarkoutCalculator([0, 10, 100]))\\\n",
    "            > print\n",
    "        \n",
    "run(stream)\n",
    "\n"
   ]
  }
 ],
 "metadata": {
  "anaconda-cloud": {},
  "kernelspec": {
   "display_name": "Python [default]",
   "language": "python",
   "name": "python3"
  },
  "language_info": {
   "codemirror_mode": {
    "name": "ipython",
    "version": 3
   },
   "file_extension": ".py",
   "mimetype": "text/x-python",
   "name": "python",
   "nbconvert_exporter": "python",
   "pygments_lexer": "ipython3",
   "version": "3.5.2"
  }
 },
 "nbformat": 4,
 "nbformat_minor": 0
}
