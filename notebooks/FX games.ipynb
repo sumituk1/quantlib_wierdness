{
 "cells": [
  {
   "cell_type": "code",
   "execution_count": 1,
   "metadata": {},
   "outputs": [
    {
     "name": "stderr",
     "output_type": "stream",
     "text": [
      "'pwd' is not recognized as an internal or external command,\n",
      "operable program or batch file.\n"
     ]
    }
   ],
   "source": [
    "# require at least Python 3.5 for async/await to work\n",
    "import sys\n",
    "ver=sys.version_info\n",
    "!pwd\n",
    "assert (ver[0]>=3 and ver[1]>=5)\n",
    "sys.path.append('../../quant_container/src')\n",
    "sys.path.append('../src')\n",
    "\n",
    "\n",
    "\n",
    "from mosaicsmartdata.common import qc_csv_helper\n",
    "from mosaicsmartdata.core.quote import Quote\n",
    "import csv, copy"
   ]
  },
  {
   "cell_type": "code",
   "execution_count": 2,
   "metadata": {
    "scrolled": true
   },
   "outputs": [],
   "source": [
    "import pickle\n",
    "\n",
    "try:\n",
    "    with open('data.pickle', 'rb') as f:\n",
    "        # Pickle the 'data' dictionary using the highest protocol available.\n",
    "        quote_dict = pickle.load(f)\n",
    "except:\n",
    "#if True:\n",
    "    file_path ='../resources/fx/'\n",
    "    filenames = ['OIS-N156898469.csv','EUR_JPY_GBP_till_SN.csv','EUR_JPY_GBP_from_SW_till_1Y.csv']\n",
    "    quote_dict_0 = qc_csv_helper.get_ric_quotes(file_path+filenames[0])\n",
    "    print(len(quote_dict_0), quote_dict_0.keys())\n",
    "    quote_dict_1 = qc_csv_helper.get_ric_quotes(file_path+filenames[1])\n",
    "    print(len(quote_dict_1), quote_dict_1.keys())\n",
    "    quote_dict_2 = qc_csv_helper.get_ric_quotes(file_path+filenames[2])\n",
    "    print(len(quote_dict_2), quote_dict_2.keys())\n",
    "    quote_dict = dict(quote_dict_0,**quote_dict_1)\n",
    "    quote_dict = dict(quote_dict,**quote_dict_2)\n",
    "    with open('data.pickle', 'wb') as f:\n",
    "        pickle.dump(quote_dict, f)"
   ]
  },
  {
   "cell_type": "code",
   "execution_count": 3,
   "metadata": {},
   "outputs": [
    {
     "name": "stdout",
     "output_type": "stream",
     "text": [
      "['EUR1M=', 'EUR1Y=', 'EUR3M=', 'EUR6M=', 'EUR=', 'EURON=', 'EURTN=', 'GBP1M=', 'GBP1Y=', 'GBP3M=', 'GBP6M=', 'GBP=', 'GBPON=', 'GBPTN=', 'JPY1M=', 'JPY1Y=', 'JPY3M=', 'JPY6M=', 'JPY=', 'JPYON=', 'JPYTN=', 'USD1MOIS=', 'USD1YOIS=', 'USD3MOIS=', 'USD6MOIS=', 'USDSWOIS=']\n"
     ]
    }
   ],
   "source": [
    "x = list(quote_dict.keys())\n",
    "x.sort()\n",
    "print(x)"
   ]
  },
  {
   "cell_type": "code",
   "execution_count": 4,
   "metadata": {},
   "outputs": [
    {
     "name": "stdout",
     "output_type": "stream",
     "text": [
      "<class 'mosaicsmartdata.core.instrument.FXForward'> :  static = Instrument static singleton facade, notionals = (100, -111.97999999999999), sym = EUR=, venue = None, settle_date = 2017-06-28, maturity_date = 2017-06-28, isDeliverable = True, pip_size = 0.0001, holidayCities = None, date_calc = <mosaicsmartdata.core.date_calculator.DateCalculator object at 0x00000176C585D358>, ccy = ('EUR', 'USD'), tenor = SPOT\n",
      "*****\n",
      "<class 'mosaicsmartdata.core.trade.FXForwardTrade'> :  trade_id = 12345, timestamp = 2017-06-26 00:02:26.995000, leg_no = None, delta = 1.0, sales = None, instrument = <class 'mosaicsmartdata.core.instrument.FXForward'> :  static = Instrument static singleton facade, notionals = (100, -111.97999999999999), sym = EUR=, venue = None, settle_date = 2017-06-28, maturity_date = 2017-06-28, isDeliverable = True, pip_size = 0.0001, holidayCities = None, date_calc = <mosaicsmartdata.core.date_calculator.DateCalculator object at 0x00000176C585D358>, ccy = ('EUR', 'USD'), tenor = SPOT, orig_package_size = None, side = None, trader = None, trade_settle_date = None, notional = None, client_sys_key = None, factor_risk = None, trade_date = None, adj_traded_px = None, paper_trade = False, traded_px = 1.1198, trade_rc = None, package_id = 12345, package = None, source_trade_id = None\n",
      "*******\n",
      "<class 'mosaicsmartdata.core.quote.Quote'> :  timestamp = 2017-06-26 00:02:26.995000, instrument = <class 'mosaicsmartdata.core.instrument.FXForward'> :  pip_size = 0.0001, notionals = None, sym = EUR=, venue = None, settle_date = 2017-06-28, isDeliverable = True, holidayCities = None, date_calc = <mosaicsmartdata.core.date_calculator.DateCalculator object at 0x00000176C898D630>, ccy = ('EUR', 'USD'), static = Instrument static singleton facade, tenor = SPOT, units = outright, duration = None, ask = 1.1199, sym = EUR=, bid = 1.1198\n"
     ]
    }
   ],
   "source": [
    "# create a trade\n",
    "from mosaicsmartdata.core.instrument_utils import sym_to_instrument\n",
    "from mosaicsmartdata.core.trade import Trade, FXForwardTrade\n",
    "\n",
    "#spot_quotes = [quotes for sym, quotes in quote_dict.items() if len(sym)==4]\n",
    "my_quote = quote_dict['EUR='][100]\n",
    "my_instr = sym_to_instrument()(my_quote.sym, my_quote.timestamp.date())\n",
    "my_instr.notionals = (100, -100*my_quote.bid)\n",
    "print(my_instr)\n",
    "print('*****')\n",
    "my_trade = FXForwardTrade(my_instr, \n",
    "                          trade_id = '12345',\n",
    "                        timestamp = my_quote.timestamp)\n",
    "print(my_trade)\n",
    "print('*******')\n",
    "print(my_quote)"
   ]
  },
  {
   "cell_type": "code",
   "execution_count": 5,
   "metadata": {
    "collapsed": true
   },
   "outputs": [],
   "source": [
    "from aiostreams import run\n",
    "import aiostreams.operators as op\n",
    "from mosaicsmartdata.core.markout import MarkoutCalculator\n",
    "import logging"
   ]
  },
  {
   "cell_type": "code",
   "execution_count": 6,
   "metadata": {
    "scrolled": false
   },
   "outputs": [
    {
     "name": "stdout",
     "output_type": "stream",
     "text": [
      " dt:-10 final_price:1.1199 hedged_bps:None hedged_cents:None hedged_price:None initial_price:1.1198 next_timestamp:2017-06-26 00:02:16.995000 package:None PV:9.999999999998899e-05 price:9.999999999998899e-05 timestamp:2017-06-26 00:02:26.995000 package_id:12345 trade_id:12345 sym:EUR= timestamp:26/06/2017 00:02:26 delta:1.0 paper_trade:False client_sys_key:None notional:None trade_maturity_date:28/06/2017 traded_px:1.1198 ccy:('EUR', 'USD')\n",
      " dt:0 final_price:1.11985 hedged_bps:None hedged_cents:None hedged_price:None initial_price:1.1198 next_timestamp:2017-06-26 00:02:26.995000 package:None PV:5.0000000000105516e-05 price:5.0000000000105516e-05 timestamp:2017-06-26 00:02:27.165000 package_id:12345 trade_id:12345 sym:EUR= timestamp:26/06/2017 00:02:26 delta:1.0 paper_trade:False client_sys_key:None notional:None trade_maturity_date:28/06/2017 traded_px:1.1198 ccy:('EUR', 'USD')\n",
      " dt:10 final_price:1.11985 hedged_bps:None hedged_cents:None hedged_price:None initial_price:1.1198 next_timestamp:2017-06-26 00:02:36.995000 package:None PV:5.0000000000105516e-05 price:5.0000000000105516e-05 timestamp:2017-06-26 00:02:37.244000 package_id:12345 trade_id:12345 sym:EUR= timestamp:26/06/2017 00:02:26 delta:1.0 paper_trade:False client_sys_key:None notional:None trade_maturity_date:28/06/2017 traded_px:1.1198 ccy:('EUR', 'USD')\n",
      " dt:100 final_price:1.12 hedged_bps:None hedged_cents:None hedged_price:None initial_price:1.1198 next_timestamp:2017-06-26 00:04:06.995000 package:None PV:0.00020000000000020002 price:0.00020000000000020002 timestamp:2017-06-26 00:04:07.082000 package_id:12345 trade_id:12345 sym:EUR= timestamp:26/06/2017 00:02:26 delta:1.0 paper_trade:False client_sys_key:None notional:None trade_maturity_date:28/06/2017 traded_px:1.1198 ccy:('EUR', 'USD')\n"
     ]
    }
   ],
   "source": [
    "# run markouts based on simple instrument ID, with no pricing context\n",
    "# logging.getLogger().setLevel('INFO')\n",
    "# logging.info('starting command line test...')\n",
    "\n",
    "# run the markout calc\n",
    "trades = [my_trade]\n",
    "quotes = quote_dict['EUR=']\n",
    "stream = op.merge_sorted([quotes[:1000], trades], lambda x: x.timestamp) \\\n",
    "            | op.flat_map_by_group(lambda x: x.sym, MarkoutCalculator([-10, 0, 10, 100]))\\\n",
    "            > print\n",
    "        \n",
    "run(stream)"
   ]
  },
  {
   "cell_type": "code",
   "execution_count": 7,
   "metadata": {},
   "outputs": [
    {
     "name": "stdout",
     "output_type": "stream",
     "text": [
      "553108 591602\n",
      "<class 'mosaicsmartdata.core.instrument.FXForward'> :  static = Instrument static singleton facade, notionals = (100, -12459.4511), sym = EURJPY=, venue = None, settle_date = 2017-06-28, maturity_date = 2017-06-28, isDeliverable = True, pip_size = 0.0001, holidayCities = None, date_calc = <mosaicsmartdata.core.date_calculator.DateCalculator object at 0x00000176C8AF5D30>, ccy = ('EUR', 'JPY'), tenor = SPOT\n",
      "*****\n",
      "2017-06-26 00:00:53.188000\n"
     ]
    }
   ],
   "source": [
    "# run markouts using PricingContext\n",
    "# run the markout calc\n",
    "%load_ext autoreload\n",
    "%autoreload 2\n",
    "from mosaicsmartdata.core.fx import FXPricingContextGenerator\n",
    "quotes_eur = quote_dict['EUR=']\n",
    "quotes_jpy = quote_dict['JPY=']\n",
    "print(len(quotes_jpy),len(quotes_eur))\n",
    "quotes_all = op.merge_sorted([quotes_eur[:1000],quotes_jpy[:1000]], lambda x: x.timestamp) > []\n",
    "             #|\\op.map(lambda x: (x.sym, x.timestamp)) > \n",
    "run(quotes_all)\n",
    "\n",
    "my_quote = quotes_all.sink[100]\n",
    "my_instr_2 = sym_to_instrument()('EURJPY=', my_quote.timestamp.date())\n",
    "my_instr_2.notionals = (100, -100*124.594511) # just picked a random quote\n",
    "print(my_instr_2) \n",
    "print('*****')\n",
    "my_trade_2 = FXForwardTrade(my_instr_2, \n",
    "                          trade_id = '12346',\n",
    "                        timestamp = my_quote.timestamp)\n",
    "print(my_trade_2.timestamp)\n"
   ]
  },
  {
   "cell_type": "code",
   "execution_count": 8,
   "metadata": {},
   "outputs": [
    {
     "name": "stdout",
     "output_type": "stream",
     "text": [
      "{'EUR': 0.8928970043305505} {'EUR': {}} {}\n",
      "{'EUR': 0.8928970043305505, 'JPY': 111.24000000000001} {'EUR': {}, 'JPY': {}} {}\n"
     ]
    },
    {
     "data": {
      "text/plain": [
       "[\" dt:-10 final_price:nan hedged_bps:None hedged_cents:None hedged_price:None initial_price:1.1198 next_timestamp:2017-06-26 00:02:16.995000 package:None PV:nan price:nan timestamp:2017-06-26 00:02:26.995000 package_id:12345 trade_id:12345 sym:EUR= timestamp:26/06/2017 00:02:26 delta:1.0 paper_trade:False client_sys_key:None notional:None trade_maturity_date:28/06/2017 traded_px:1.1198 ccy:('EUR', 'USD')\"]"
      ]
     },
     "execution_count": 8,
     "metadata": {},
     "output_type": "execute_result"
    }
   ],
   "source": [
    "# forward-looking markouts using PricingContext\n",
    "trades = [my_trade]\n",
    "quotes_2 = quotes_all.sink\n",
    "#print([quote.sym for quote in quotes_2][:100])\n",
    "\n",
    "prices =  quotes_2 | op.map(FXPricingContextGenerator()) \n",
    "#stream = prices | op.map(lambda x: x.timestamp) > print\n",
    "stream = op.merge_sorted([trades,prices], lambda x:x.timestamp)\\\n",
    "        | op.flat_map(MarkoutCalculator([-10,0, 10, 100])) | op.map(lambda x:str(x))\\\n",
    "        > []\n",
    "run(stream)       \n",
    "\n",
    "stream.sink"
   ]
  },
  {
   "cell_type": "code",
   "execution_count": 9,
   "metadata": {},
   "outputs": [
    {
     "ename": "AttributeError",
     "evalue": "'OIS' object has no attribute 'sp'",
     "output_type": "error",
     "traceback": [
      "\u001b[1;31m---------------------------------------------------------------------------\u001b[0m",
      "\u001b[1;31mAttributeError\u001b[0m                            Traceback (most recent call last)",
      "\u001b[1;32m<ipython-input-9-c0c07262c868>\u001b[0m in \u001b[0;36m<module>\u001b[1;34m()\u001b[0m\n\u001b[0;32m      1\u001b[0m \u001b[1;31m# extract just the first quote from every stream\u001b[0m\u001b[1;33m\u001b[0m\u001b[1;33m\u001b[0m\u001b[0m\n\u001b[0;32m      2\u001b[0m \u001b[0mtiny_quote_dict\u001b[0m \u001b[1;33m=\u001b[0m \u001b[1;33m{\u001b[0m\u001b[0mkey\u001b[0m\u001b[1;33m:\u001b[0m\u001b[1;33m[\u001b[0m\u001b[0mquotes\u001b[0m\u001b[1;33m[\u001b[0m\u001b[1;36m0\u001b[0m\u001b[1;33m]\u001b[0m\u001b[1;33m]\u001b[0m \u001b[1;32mfor\u001b[0m \u001b[0mkey\u001b[0m\u001b[1;33m,\u001b[0m \u001b[0mquotes\u001b[0m \u001b[1;32min\u001b[0m \u001b[0mquote_dict\u001b[0m\u001b[1;33m.\u001b[0m\u001b[0mitems\u001b[0m\u001b[1;33m(\u001b[0m\u001b[1;33m)\u001b[0m\u001b[1;33m}\u001b[0m\u001b[1;33m\u001b[0m\u001b[0m\n\u001b[1;32m----> 3\u001b[1;33m \u001b[0mprint\u001b[0m\u001b[1;33m(\u001b[0m\u001b[1;33m[\u001b[0m\u001b[1;33m(\u001b[0m\u001b[0mkey\u001b[0m\u001b[1;33m,\u001b[0m\u001b[0mquotes\u001b[0m\u001b[1;33m[\u001b[0m\u001b[1;36m0\u001b[0m\u001b[1;33m]\u001b[0m\u001b[1;33m.\u001b[0m\u001b[0mbid\u001b[0m\u001b[1;33m,\u001b[0m \u001b[0mquotes\u001b[0m\u001b[1;33m[\u001b[0m\u001b[1;36m0\u001b[0m\u001b[1;33m]\u001b[0m\u001b[1;33m.\u001b[0m\u001b[0minstrument\u001b[0m\u001b[1;33m.\u001b[0m\u001b[0mccy\u001b[0m\u001b[1;33m,\u001b[0m \u001b[0mquotes\u001b[0m\u001b[1;33m[\u001b[0m\u001b[1;36m0\u001b[0m\u001b[1;33m]\u001b[0m\u001b[1;33m.\u001b[0m\u001b[0minstrument\u001b[0m\u001b[1;33m.\u001b[0m\u001b[0msp\u001b[0m\u001b[1;33m)\u001b[0m \u001b[1;32mfor\u001b[0m \u001b[0mkey\u001b[0m\u001b[1;33m,\u001b[0m \u001b[0mquotes\u001b[0m \u001b[1;32min\u001b[0m \u001b[0mtiny_quote_dict\u001b[0m\u001b[1;33m.\u001b[0m\u001b[0mitems\u001b[0m\u001b[1;33m(\u001b[0m\u001b[1;33m)\u001b[0m\u001b[1;33m]\u001b[0m\u001b[1;33m)\u001b[0m\u001b[1;33m\u001b[0m\u001b[0m\n\u001b[0m\u001b[0;32m      4\u001b[0m \u001b[1;32mwith\u001b[0m \u001b[0mopen\u001b[0m\u001b[1;33m(\u001b[0m\u001b[1;34m'../resources/fx/data.pickle'\u001b[0m\u001b[1;33m,\u001b[0m \u001b[1;34m'wb'\u001b[0m\u001b[1;33m)\u001b[0m \u001b[1;32mas\u001b[0m \u001b[0mf\u001b[0m\u001b[1;33m:\u001b[0m\u001b[1;33m\u001b[0m\u001b[0m\n\u001b[0;32m      5\u001b[0m         \u001b[0mpickle\u001b[0m\u001b[1;33m.\u001b[0m\u001b[0mdump\u001b[0m\u001b[1;33m(\u001b[0m\u001b[0mtiny_quote_dict\u001b[0m\u001b[1;33m,\u001b[0m \u001b[0mf\u001b[0m\u001b[1;33m)\u001b[0m\u001b[1;33m\u001b[0m\u001b[0m\n",
      "\u001b[1;32m<ipython-input-9-c0c07262c868>\u001b[0m in \u001b[0;36m<listcomp>\u001b[1;34m(.0)\u001b[0m\n\u001b[0;32m      1\u001b[0m \u001b[1;31m# extract just the first quote from every stream\u001b[0m\u001b[1;33m\u001b[0m\u001b[1;33m\u001b[0m\u001b[0m\n\u001b[0;32m      2\u001b[0m \u001b[0mtiny_quote_dict\u001b[0m \u001b[1;33m=\u001b[0m \u001b[1;33m{\u001b[0m\u001b[0mkey\u001b[0m\u001b[1;33m:\u001b[0m\u001b[1;33m[\u001b[0m\u001b[0mquotes\u001b[0m\u001b[1;33m[\u001b[0m\u001b[1;36m0\u001b[0m\u001b[1;33m]\u001b[0m\u001b[1;33m]\u001b[0m \u001b[1;32mfor\u001b[0m \u001b[0mkey\u001b[0m\u001b[1;33m,\u001b[0m \u001b[0mquotes\u001b[0m \u001b[1;32min\u001b[0m \u001b[0mquote_dict\u001b[0m\u001b[1;33m.\u001b[0m\u001b[0mitems\u001b[0m\u001b[1;33m(\u001b[0m\u001b[1;33m)\u001b[0m\u001b[1;33m}\u001b[0m\u001b[1;33m\u001b[0m\u001b[0m\n\u001b[1;32m----> 3\u001b[1;33m \u001b[0mprint\u001b[0m\u001b[1;33m(\u001b[0m\u001b[1;33m[\u001b[0m\u001b[1;33m(\u001b[0m\u001b[0mkey\u001b[0m\u001b[1;33m,\u001b[0m\u001b[0mquotes\u001b[0m\u001b[1;33m[\u001b[0m\u001b[1;36m0\u001b[0m\u001b[1;33m]\u001b[0m\u001b[1;33m.\u001b[0m\u001b[0mbid\u001b[0m\u001b[1;33m,\u001b[0m \u001b[0mquotes\u001b[0m\u001b[1;33m[\u001b[0m\u001b[1;36m0\u001b[0m\u001b[1;33m]\u001b[0m\u001b[1;33m.\u001b[0m\u001b[0minstrument\u001b[0m\u001b[1;33m.\u001b[0m\u001b[0mccy\u001b[0m\u001b[1;33m,\u001b[0m \u001b[0mquotes\u001b[0m\u001b[1;33m[\u001b[0m\u001b[1;36m0\u001b[0m\u001b[1;33m]\u001b[0m\u001b[1;33m.\u001b[0m\u001b[0minstrument\u001b[0m\u001b[1;33m.\u001b[0m\u001b[0msp\u001b[0m\u001b[1;33m)\u001b[0m \u001b[1;32mfor\u001b[0m \u001b[0mkey\u001b[0m\u001b[1;33m,\u001b[0m \u001b[0mquotes\u001b[0m \u001b[1;32min\u001b[0m \u001b[0mtiny_quote_dict\u001b[0m\u001b[1;33m.\u001b[0m\u001b[0mitems\u001b[0m\u001b[1;33m(\u001b[0m\u001b[1;33m)\u001b[0m\u001b[1;33m]\u001b[0m\u001b[1;33m)\u001b[0m\u001b[1;33m\u001b[0m\u001b[0m\n\u001b[0m\u001b[0;32m      4\u001b[0m \u001b[1;32mwith\u001b[0m \u001b[0mopen\u001b[0m\u001b[1;33m(\u001b[0m\u001b[1;34m'../resources/fx/data.pickle'\u001b[0m\u001b[1;33m,\u001b[0m \u001b[1;34m'wb'\u001b[0m\u001b[1;33m)\u001b[0m \u001b[1;32mas\u001b[0m \u001b[0mf\u001b[0m\u001b[1;33m:\u001b[0m\u001b[1;33m\u001b[0m\u001b[0m\n\u001b[0;32m      5\u001b[0m         \u001b[0mpickle\u001b[0m\u001b[1;33m.\u001b[0m\u001b[0mdump\u001b[0m\u001b[1;33m(\u001b[0m\u001b[0mtiny_quote_dict\u001b[0m\u001b[1;33m,\u001b[0m \u001b[0mf\u001b[0m\u001b[1;33m)\u001b[0m\u001b[1;33m\u001b[0m\u001b[0m\n",
      "\u001b[1;31mAttributeError\u001b[0m: 'OIS' object has no attribute 'sp'"
     ]
    }
   ],
   "source": [
    "# extract just the first quote from every stream\n",
    "tiny_quote_dict = {key:[quotes[0]] for key, quotes in quote_dict.items()}\n",
    "print([(key,quotes[0].bid, quotes[0].instrument.ccy, quotes[0].instrument.sp) for key, quotes in tiny_quote_dict.items()])\n",
    "with open('../resources/fx/data.pickle', 'wb') as f:\n",
    "        pickle.dump(tiny_quote_dict, f)\n"
   ]
  },
  {
   "cell_type": "code",
   "execution_count": null,
   "metadata": {},
   "outputs": [],
   "source": [
    "with open('../resources/fx/data.pickle', 'rb') as f:\n",
    "        tiny_quote_dict = pickle.load(f)\n",
    "        \n",
    "tiny_quotes_list = [quotes for key, quotes in tiny_quote_dict.items()]\n",
    "stream = op.merge_sorted(tiny_quotes_list, lambda x: x.timestamp) |\\\n",
    "            op.map(FXPricingContextGenerator()) > print\n",
    "run(stream)"
   ]
  },
  {
   "cell_type": "code",
   "execution_count": null,
   "metadata": {},
   "outputs": [],
   "source": [
    "a = '0B'\n",
    "a[-1].lower() =='b'\n"
   ]
  }
 ],
 "metadata": {
  "anaconda-cloud": {},
  "kernelspec": {
   "display_name": "Python 3",
   "language": "python",
   "name": "python3"
  },
  "language_info": {
   "codemirror_mode": {
    "name": "ipython",
    "version": 3
   },
   "file_extension": ".py",
   "mimetype": "text/x-python",
   "name": "python",
   "nbconvert_exporter": "python",
   "pygments_lexer": "ipython3",
   "version": "3.5.3"
  }
 },
 "nbformat": 4,
 "nbformat_minor": 1
}
