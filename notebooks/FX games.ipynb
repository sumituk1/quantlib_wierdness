{
 "cells": [
  {
   "cell_type": "code",
   "execution_count": 1,
   "metadata": {},
   "outputs": [],
   "source": [
    "# require at least Python 3.5 for async/await to work\n",
    "import sys\n",
    "ver=sys.version_info\n",
    "assert (ver[0]>=3 and ver[1]>=5)\n",
    "sys.path.append('../../quant_container/src')\n",
    "sys.path.append('../src')\n",
    "%load_ext autoreload\n",
    "%autoreload 2\n",
    "from mosaicsmartdata.core.fx import FXPricingContextGenerator\n",
    "from mosaicsmartdata.common import qc_csv_helper\n",
    "from mosaicsmartdata.core.quote import Quote\n",
    "import csv, copy\n",
    "import pickle"
   ]
  },
  {
   "cell_type": "code",
   "execution_count": 2,
   "metadata": {
    "scrolled": true
   },
   "outputs": [
    {
     "name": "stdout",
     "output_type": "stream",
     "text": [
      "6410 <class 'mosaicsmartdata.core.quote.Quote'> :  duration = None, sym = USD1YOIS=, ask = 1.296, bid = 1.276, timestamp = 2017-06-30 20:50:34.174000, units = percent, instrument = <class 'mosaicsmartdata.core.instrument.OIS'> :  ccy = USD, sym = USD1YOIS=, tenor = None, maturity_date = 2018-07-05, spot_settle_date = 2017-07-05, par_value = 100, holidayCities = None, coupon = None, float_coupon_frequency = None, duration = None, issue_date = None, venue = None, price_type = None, country_of_risk = (236,), day_count = None, coupon_frequency = None\n",
      "5 dict_keys(['USD1MOIS=', 'USD6MOIS=', 'USD1YOIS=', 'USD3MOIS=', 'USDSWOIS='])\n",
      "100000 <class 'mosaicsmartdata.core.quote.Quote'> :  duration = None, sym = EUR=, ask = 1.119, bid = 1.1189, timestamp = 2017-06-27 03:11:19.399000, units = outright, instrument = <class 'mosaicsmartdata.core.instrument.FXForward'> :  isDeliverable = True, static = Instrument static singleton facade, sym = EUR=, ccy = ('EUR', 'USD'), notionals = None, date_calc = <mosaicsmartdata.core.date_calculator.DateCalculator object at 0x00000238A32B4CF8>, settle_date = 2017-06-29, pip_size = 0.0001, venue = None, holidayCities = None, tenor = SPOT, maturity_date = 2017-06-29\n",
      "200000 <class 'mosaicsmartdata.core.quote.Quote'> :  duration = None, sym = EUR=, ask = 1.1348, bid = 1.1345, timestamp = 2017-06-27 20:16:40.312000, units = outright, instrument = <class 'mosaicsmartdata.core.instrument.FXForward'> :  isDeliverable = True, static = Instrument static singleton facade, sym = EUR=, ccy = ('EUR', 'USD'), notionals = None, date_calc = <mosaicsmartdata.core.date_calculator.DateCalculator object at 0x00000238A32B4CF8>, settle_date = 2017-06-29, pip_size = 0.0001, venue = None, holidayCities = None, tenor = SPOT, maturity_date = 2017-06-29\n",
      "300000 <class 'mosaicsmartdata.core.quote.Quote'> :  duration = None, sym = EUR=, ask = 1.1365, bid = 1.1364, timestamp = 2017-06-28 13:55:12.249000, units = outright, instrument = <class 'mosaicsmartdata.core.instrument.FXForward'> :  isDeliverable = True, static = Instrument static singleton facade, sym = EUR=, ccy = ('EUR', 'USD'), notionals = None, date_calc = <mosaicsmartdata.core.date_calculator.DateCalculator object at 0x00000238A645A4A8>, settle_date = 2017-06-30, pip_size = 0.0001, venue = None, holidayCities = None, tenor = SPOT, maturity_date = 2017-06-30\n",
      "400000 <class 'mosaicsmartdata.core.quote.Quote'> :  duration = None, sym = EUR=, ask = 1.1419, bid = 1.1418, timestamp = 2017-06-29 09:25:46.442000, units = outright, instrument = <class 'mosaicsmartdata.core.instrument.FXForward'> :  isDeliverable = True, static = Instrument static singleton facade, sym = EUR=, ccy = ('EUR', 'USD'), notionals = None, date_calc = <mosaicsmartdata.core.date_calculator.DateCalculator object at 0x00000238A9849668>, settle_date = 2017-07-03, pip_size = 0.0001, venue = None, holidayCities = None, tenor = SPOT, maturity_date = 2017-07-03\n",
      "500000 <class 'mosaicsmartdata.core.quote.Quote'> :  duration = None, sym = EUR=, ask = 1.1434, bid = 1.143, timestamp = 2017-06-30 05:46:53.843000, units = outright, instrument = <class 'mosaicsmartdata.core.instrument.FXForward'> :  isDeliverable = True, static = Instrument static singleton facade, sym = EUR=, ccy = ('EUR', 'USD'), notionals = None, date_calc = <mosaicsmartdata.core.date_calculator.DateCalculator object at 0x00000238ABC4D358>, settle_date = 2017-07-05, pip_size = 0.0001, venue = None, holidayCities = None, tenor = SPOT, maturity_date = 2017-07-05\n",
      "600000 <class 'mosaicsmartdata.core.quote.Quote'> :  duration = None, sym = EURON=, ask = 0.567, bid = 0.505, timestamp = 2017-06-28 12:37:05.004000, units = pips, instrument = <class 'mosaicsmartdata.core.instrument.FXSwap'> :  sym = EURON=, ccy = ('EUR', 'USD'), legs = [<mosaicsmartdata.core.instrument.FXForward object at 0x00000238AF8A7BE0>, <mosaicsmartdata.core.instrument.FXForward object at 0x00000238AF987E80>], venue = None, holidayCities = None, tenor = ON, settle_date = 2017-06-28, maturity_date = 2017-06-29\n",
      "700000 <class 'mosaicsmartdata.core.quote.Quote'> :  duration = None, sym = JPY=, ask = 111.7, bid = 111.68, timestamp = 2017-06-26 12:02:02.949000, units = outright, instrument = <class 'mosaicsmartdata.core.instrument.FXForward'> :  isDeliverable = True, static = Instrument static singleton facade, sym = JPY=, ccy = ('USD', 'JPY'), notionals = None, date_calc = <mosaicsmartdata.core.date_calculator.DateCalculator object at 0x00000238B186FD68>, settle_date = 2017-06-28, pip_size = 0.01, venue = None, holidayCities = None, tenor = SPOT, maturity_date = 2017-06-28\n",
      "800000 <class 'mosaicsmartdata.core.quote.Quote'> :  duration = None, sym = JPY=, ask = 111.87, bid = 111.83, timestamp = 2017-06-27 11:23:45.884000, units = outright, instrument = <class 'mosaicsmartdata.core.instrument.FXForward'> :  isDeliverable = True, static = Instrument static singleton facade, sym = JPY=, ccy = ('USD', 'JPY'), notionals = None, date_calc = <mosaicsmartdata.core.date_calculator.DateCalculator object at 0x00000238B3F092E8>, settle_date = 2017-06-29, pip_size = 0.01, venue = None, holidayCities = None, tenor = SPOT, maturity_date = 2017-06-29\n",
      "900000 <class 'mosaicsmartdata.core.quote.Quote'> :  duration = None, sym = JPY=, ask = 111.94, bid = 111.9, timestamp = 2017-06-28 08:13:30.674000, units = outright, instrument = <class 'mosaicsmartdata.core.instrument.FXForward'> :  isDeliverable = True, static = Instrument static singleton facade, sym = JPY=, ccy = ('USD', 'JPY'), notionals = None, date_calc = <mosaicsmartdata.core.date_calculator.DateCalculator object at 0x00000238B6E82160>, settle_date = 2017-06-30, pip_size = 0.01, venue = None, holidayCities = None, tenor = SPOT, maturity_date = 2017-06-30\n",
      "1000000 <class 'mosaicsmartdata.core.quote.Quote'> :  duration = None, sym = JPY=, ask = 112.21, bid = 112.2, timestamp = 2017-06-29 06:00:09.262000, units = outright, instrument = <class 'mosaicsmartdata.core.instrument.FXForward'> :  isDeliverable = True, static = Instrument static singleton facade, sym = JPY=, ccy = ('USD', 'JPY'), notionals = None, date_calc = <mosaicsmartdata.core.date_calculator.DateCalculator object at 0x00000238B9D2FF60>, settle_date = 2017-07-03, pip_size = 0.01, venue = None, holidayCities = None, tenor = SPOT, maturity_date = 2017-07-03\n",
      "1100000 <class 'mosaicsmartdata.core.quote.Quote'> :  duration = None, sym = JPY=, ask = 112.02, bid = 111.97, timestamp = 2017-06-29 23:57:06.763000, units = outright, instrument = <class 'mosaicsmartdata.core.instrument.FXForward'> :  isDeliverable = True, static = Instrument static singleton facade, sym = JPY=, ccy = ('USD', 'JPY'), notionals = None, date_calc = <mosaicsmartdata.core.date_calculator.DateCalculator object at 0x00000238B9D2FF60>, settle_date = 2017-07-03, pip_size = 0.01, venue = None, holidayCities = None, tenor = SPOT, maturity_date = 2017-07-03\n",
      "1200000 <class 'mosaicsmartdata.core.quote.Quote'> :  duration = None, sym = JPY=, ask = 112.56, bid = 112.51, timestamp = 2017-06-30 18:51:20.792000, units = outright, instrument = <class 'mosaicsmartdata.core.instrument.FXForward'> :  isDeliverable = True, static = Instrument static singleton facade, sym = JPY=, ccy = ('USD', 'JPY'), notionals = None, date_calc = <mosaicsmartdata.core.date_calculator.DateCalculator object at 0x00000238BCDAFA58>, settle_date = 2017-07-05, pip_size = 0.01, venue = None, holidayCities = None, tenor = SPOT, maturity_date = 2017-07-05\n",
      "1300000 <class 'mosaicsmartdata.core.quote.Quote'> :  duration = None, sym = GBP=, ask = 1.2739, bid = 1.2735, timestamp = 2017-06-26 11:54:30.316000, units = outright, instrument = <class 'mosaicsmartdata.core.instrument.FXForward'> :  isDeliverable = True, static = Instrument static singleton facade, sym = GBP=, ccy = ('GBP', 'USD'), notionals = None, date_calc = <mosaicsmartdata.core.date_calculator.DateCalculator object at 0x00000238C06AC2E8>, settle_date = 2017-06-28, pip_size = 0.0001, venue = None, holidayCities = None, tenor = SPOT, maturity_date = 2017-06-28\n",
      "1400000 <class 'mosaicsmartdata.core.quote.Quote'> :  duration = None, sym = GBP=, ask = 1.2745, bid = 1.2742, timestamp = 2017-06-27 10:49:00.947000, units = outright, instrument = <class 'mosaicsmartdata.core.instrument.FXForward'> :  isDeliverable = True, static = Instrument static singleton facade, sym = GBP=, ccy = ('GBP', 'USD'), notionals = None, date_calc = <mosaicsmartdata.core.date_calculator.DateCalculator object at 0x00000238C2F2A588>, settle_date = 2017-06-29, pip_size = 0.0001, venue = None, holidayCities = None, tenor = SPOT, maturity_date = 2017-06-29\n"
     ]
    },
    {
     "name": "stdout",
     "output_type": "stream",
     "text": [
      "1500000 <class 'mosaicsmartdata.core.quote.Quote'> :  duration = None, sym = GBP=, ask = 1.2813, bid = 1.2812, timestamp = 2017-06-28 06:01:26.157000, units = outright, instrument = <class 'mosaicsmartdata.core.instrument.FXForward'> :  isDeliverable = True, static = Instrument static singleton facade, sym = GBP=, ccy = ('GBP', 'USD'), notionals = None, date_calc = <mosaicsmartdata.core.date_calculator.DateCalculator object at 0x00000238C7032BA8>, settle_date = 2017-06-30, pip_size = 0.0001, venue = None, holidayCities = None, tenor = SPOT, maturity_date = 2017-06-30\n",
      "1600000 <class 'mosaicsmartdata.core.quote.Quote'> :  duration = None, sym = GBP=, ask = 1.2931, bid = 1.2928, timestamp = 2017-06-28 22:13:11.734000, units = outright, instrument = <class 'mosaicsmartdata.core.instrument.FXForward'> :  isDeliverable = True, static = Instrument static singleton facade, sym = GBP=, ccy = ('GBP', 'USD'), notionals = None, date_calc = <mosaicsmartdata.core.date_calculator.DateCalculator object at 0x00000238C7032BA8>, settle_date = 2017-06-30, pip_size = 0.0001, venue = None, holidayCities = None, tenor = SPOT, maturity_date = 2017-06-30\n",
      "1700000 <class 'mosaicsmartdata.core.quote.Quote'> :  duration = None, sym = GBP=, ask = 1.2982, bid = 1.2981, timestamp = 2017-06-29 16:10:33.461000, units = outright, instrument = <class 'mosaicsmartdata.core.instrument.FXForward'> :  isDeliverable = True, static = Instrument static singleton facade, sym = GBP=, ccy = ('GBP', 'USD'), notionals = None, date_calc = <mosaicsmartdata.core.date_calculator.DateCalculator object at 0x00000238CA324550>, settle_date = 2017-07-03, pip_size = 0.0001, venue = None, holidayCities = None, tenor = SPOT, maturity_date = 2017-07-03\n",
      "1800000 <class 'mosaicsmartdata.core.quote.Quote'> :  duration = None, sym = GBP=, ask = 1.2966, bid = 1.2965, timestamp = 2017-06-30 12:52:01.030000, units = outright, instrument = <class 'mosaicsmartdata.core.instrument.FXForward'> :  isDeliverable = True, static = Instrument static singleton facade, sym = GBP=, ccy = ('GBP', 'USD'), notionals = None, date_calc = <mosaicsmartdata.core.date_calculator.DateCalculator object at 0x00000238CB686F98>, settle_date = 2017-07-05, pip_size = 0.0001, venue = None, holidayCities = None, tenor = SPOT, maturity_date = 2017-07-05\n",
      "1900000 <class 'mosaicsmartdata.core.quote.Quote'> :  duration = None, sym = GBPSN=, ask = 0.982, bid = 0.834, timestamp = 2017-06-29 01:18:56.969000, units = pips, instrument = <class 'mosaicsmartdata.core.instrument.FXSwap'> :  sym = GBPSN=, ccy = ('GBP', 'USD'), legs = [<mosaicsmartdata.core.instrument.FXForward object at 0x00000238D10CC2B0>, <mosaicsmartdata.core.instrument.FXForward object at 0x00000238D10CC550>], venue = None, holidayCities = None, tenor = 1b, settle_date = 2017-07-03, maturity_date = 2017-07-05\n",
      "1907554 <class 'mosaicsmartdata.core.quote.Quote'> :  duration = None, sym = GBPSN=, ask = 0.427, bid = 0.397, timestamp = 2017-06-30 23:59:02.787000, units = pips, instrument = <class 'mosaicsmartdata.core.instrument.FXSwap'> :  sym = GBPSN=, ccy = ('GBP', 'USD'), legs = [<mosaicsmartdata.core.instrument.FXForward object at 0x00000238D1239D68>, <mosaicsmartdata.core.instrument.FXForward object at 0x00000238D1239FD0>], venue = None, holidayCities = None, tenor = 1b, settle_date = 2017-07-05, maturity_date = 2017-07-06\n",
      "12 dict_keys(['JPY=', 'EURON=', 'GBPTN=', 'GBPON=', 'EURSN=', 'GBPSN=', 'GBP=', 'JPYON=', 'EURTN=', 'JPYSN=', 'EUR=', 'JPYTN='])\n",
      "100000 <class 'mosaicsmartdata.core.quote.Quote'> :  duration = None, sym = EUR3M=, ask = 55.39, bid = 55.01, timestamp = 2017-06-26 01:19:58.016000, units = pips, instrument = <class 'mosaicsmartdata.core.instrument.FXSwap'> :  sym = EUR3M=, ccy = ('EUR', 'USD'), legs = [<mosaicsmartdata.core.instrument.FXForward object at 0x00000238D4C77F28>, <mosaicsmartdata.core.instrument.FXForward object at 0x00000238D4C77198>], venue = None, holidayCities = None, tenor = 3M, settle_date = 2017-06-28, maturity_date = 2017-09-28\n",
      "200000 <class 'mosaicsmartdata.core.quote.Quote'> :  duration = None, sym = EUR3M=, ask = 56.3, bid = 56.16, timestamp = 2017-06-29 10:42:35.922000, units = pips, instrument = <class 'mosaicsmartdata.core.instrument.FXSwap'> :  sym = EUR3M=, ccy = ('EUR', 'USD'), legs = [<mosaicsmartdata.core.instrument.FXForward object at 0x00000238D62FE550>, <mosaicsmartdata.core.instrument.FXForward object at 0x00000238D62FE7B8>], venue = None, holidayCities = None, tenor = 3M, settle_date = 2017-07-03, maturity_date = 2017-10-03\n",
      "300000 <class 'mosaicsmartdata.core.quote.Quote'> :  duration = None, sym = EUR6M=, ask = 113.25, bid = 111.72, timestamp = 2017-06-27 09:34:57.386000, units = pips, instrument = <class 'mosaicsmartdata.core.instrument.FXSwap'> :  sym = EUR6M=, ccy = ('EUR', 'USD'), legs = [<mosaicsmartdata.core.instrument.FXForward object at 0x00000238D8C7B5C0>, <mosaicsmartdata.core.instrument.FXForward object at 0x00000238D8C7B828>], venue = None, holidayCities = None, tenor = 6M, settle_date = 2017-06-29, maturity_date = 2017-12-29\n",
      "400000 <class 'mosaicsmartdata.core.quote.Quote'> :  duration = None, sym = EUR6M=, ask = 116.58, bid = 115.28, timestamp = 2017-06-29 01:53:21.730000, units = pips, instrument = <class 'mosaicsmartdata.core.instrument.FXSwap'> :  sym = EUR6M=, ccy = ('EUR', 'USD'), legs = [<mosaicsmartdata.core.instrument.FXForward object at 0x00000238D24907B8>, <mosaicsmartdata.core.instrument.FXForward object at 0x00000238D2490940>], venue = None, holidayCities = None, tenor = 6M, settle_date = 2017-07-03, maturity_date = 2018-01-03\n",
      "500000 <class 'mosaicsmartdata.core.quote.Quote'> :  duration = None, sym = EUR1Y=, ask = 233.8, bid = 229.3, timestamp = 2017-06-26 03:21:58.963000, units = pips, instrument = <class 'mosaicsmartdata.core.instrument.FXSwap'> :  sym = EUR1Y=, ccy = ('EUR', 'USD'), legs = [<mosaicsmartdata.core.instrument.FXForward object at 0x00000238DE3AEA90>, <mosaicsmartdata.core.instrument.FXForward object at 0x00000238DE3AECF8>], venue = None, holidayCities = None, tenor = 1Y, settle_date = 2017-06-28, maturity_date = 2018-06-28\n",
      "600000 <class 'mosaicsmartdata.core.quote.Quote'> :  duration = None, sym = EUR1Y=, ask = 234.72, bid = 231.61, timestamp = 2017-06-28 08:51:44.163000, units = pips, instrument = <class 'mosaicsmartdata.core.instrument.FXSwap'> :  sym = EUR1Y=, ccy = ('EUR', 'USD'), legs = [<mosaicsmartdata.core.instrument.FXForward object at 0x00000238E08AE860>, <mosaicsmartdata.core.instrument.FXForward object at 0x00000238E08AEAC8>], venue = None, holidayCities = None, tenor = 1Y, settle_date = 2017-06-30, maturity_date = 2018-07-02\n",
      "700000 <class 'mosaicsmartdata.core.quote.Quote'> :  duration = None, sym = EUR1Y=, ask = 236.03, bid = 233.78, timestamp = 2017-06-29 16:16:32.503000, units = pips, instrument = <class 'mosaicsmartdata.core.instrument.FXSwap'> :  sym = EUR1Y=, ccy = ('EUR', 'USD'), legs = [<mosaicsmartdata.core.instrument.FXForward object at 0x00000238E2A2F400>, <mosaicsmartdata.core.instrument.FXForward object at 0x00000238E2A2F668>], venue = None, holidayCities = None, tenor = 1Y, settle_date = 2017-07-03, maturity_date = 2018-07-03\n",
      "800000 <class 'mosaicsmartdata.core.quote.Quote'> :  duration = None, sym = JPYSW=, ask = -4.15, bid = -4.55, timestamp = 2017-06-28 05:47:40.134000, units = pips, instrument = <class 'mosaicsmartdata.core.instrument.FXSwap'> :  sym = JPYSW=, ccy = ('USD', 'JPY'), legs = [<mosaicsmartdata.core.instrument.FXForward object at 0x00000238E63F46A0>, <mosaicsmartdata.core.instrument.FXForward object at 0x00000238E63F4940>], venue = None, holidayCities = None, tenor = 1w, settle_date = 2017-06-30, maturity_date = 2017-07-07\n",
      "900000 <class 'mosaicsmartdata.core.quote.Quote'> :  duration = None, sym = JPY3M=, ask = -44.16, bid = -45.67, timestamp = 2017-06-27 13:01:28.407000, units = pips, instrument = <class 'mosaicsmartdata.core.instrument.FXSwap'> :  sym = JPY3M=, ccy = ('USD', 'JPY'), legs = [<mosaicsmartdata.core.instrument.FXForward object at 0x00000238E8BC9C88>, <mosaicsmartdata.core.instrument.FXForward object at 0x00000238E8BC9EF0>], venue = None, holidayCities = None, tenor = 3M, settle_date = 2017-06-29, maturity_date = 2017-09-29\n",
      "1000000 <class 'mosaicsmartdata.core.quote.Quote'> :  duration = None, sym = JPY6M=, ask = -92.1, bid = -93.7, timestamp = 2017-06-27 23:00:27.324000, units = pips, instrument = <class 'mosaicsmartdata.core.instrument.FXSwap'> :  sym = JPY6M=, ccy = ('USD', 'JPY'), legs = [<mosaicsmartdata.core.instrument.FXForward object at 0x00000238E65F3E80>, <mosaicsmartdata.core.instrument.FXForward object at 0x00000238E65F36D8>], venue = None, holidayCities = None, tenor = 6M, settle_date = 2017-06-29, maturity_date = 2017-12-29\n"
     ]
    },
    {
     "name": "stdout",
     "output_type": "stream",
     "text": [
      "1100000 <class 'mosaicsmartdata.core.quote.Quote'> :  duration = None, sym = JPY1Y=, ask = -199.23, bid = -203.85, timestamp = 2017-06-26 16:21:37.741000, units = pips, instrument = <class 'mosaicsmartdata.core.instrument.FXSwap'> :  sym = JPY1Y=, ccy = ('USD', 'JPY'), legs = [<mosaicsmartdata.core.instrument.FXForward object at 0x00000238ED91B3C8>, <mosaicsmartdata.core.instrument.FXForward object at 0x00000238ED91B630>], venue = None, holidayCities = None, tenor = 1Y, settle_date = 2017-06-28, maturity_date = 2018-06-28\n",
      "1200000 <class 'mosaicsmartdata.core.quote.Quote'> :  duration = None, sym = JPY1Y=, ask = -202.75, bid = -206.26, timestamp = 2017-06-29 14:42:54.747000, units = pips, instrument = <class 'mosaicsmartdata.core.instrument.FXSwap'> :  sym = JPY1Y=, ccy = ('USD', 'JPY'), legs = [<mosaicsmartdata.core.instrument.FXForward object at 0x00000238F0375EB8>, <mosaicsmartdata.core.instrument.FXForward object at 0x00000238F0375048>], venue = None, holidayCities = None, tenor = 1Y, settle_date = 2017-07-03, maturity_date = 2018-07-03\n",
      "1300000 <class 'mosaicsmartdata.core.quote.Quote'> :  duration = None, sym = GBP1M=, ask = 14.15, bid = 13.77, timestamp = 2017-06-28 14:46:21.799000, units = pips, instrument = <class 'mosaicsmartdata.core.instrument.FXSwap'> :  sym = GBP1M=, ccy = ('GBP', 'USD'), legs = [<mosaicsmartdata.core.instrument.FXForward object at 0x00000238F32D81D0>, <mosaicsmartdata.core.instrument.FXForward object at 0x00000238F32D8438>], venue = None, holidayCities = None, tenor = 1M, settle_date = 2017-06-30, maturity_date = 2017-07-31\n",
      "1400000 <class 'mosaicsmartdata.core.quote.Quote'> :  duration = None, sym = GBP3M=, ask = 37.2, bid = 36.26, timestamp = 2017-06-30 03:00:31.498000, units = pips, instrument = <class 'mosaicsmartdata.core.instrument.FXSwap'> :  sym = GBP3M=, ccy = ('GBP', 'USD'), legs = [<mosaicsmartdata.core.instrument.FXForward object at 0x00000238F5E905C0>, <mosaicsmartdata.core.instrument.FXForward object at 0x00000238F5E90828>], venue = None, holidayCities = None, tenor = 3M, settle_date = 2017-07-05, maturity_date = 2017-10-05\n",
      "1500000 <class 'mosaicsmartdata.core.quote.Quote'> :  duration = None, sym = GBP6M=, ask = 72.13, bid = 69.73, timestamp = 2017-06-28 14:12:30.200000, units = pips, instrument = <class 'mosaicsmartdata.core.instrument.FXSwap'> :  sym = GBP6M=, ccy = ('GBP', 'USD'), legs = [<mosaicsmartdata.core.instrument.FXForward object at 0x00000238F82A27F0>, <mosaicsmartdata.core.instrument.FXForward object at 0x00000238F82A2A58>], venue = None, holidayCities = None, tenor = 6M, settle_date = 2017-06-30, maturity_date = 2018-01-02\n",
      "1600000 <class 'mosaicsmartdata.core.quote.Quote'> :  duration = None, sym = GBP1Y=, ask = 146.35, bid = 142.85, timestamp = 2017-06-26 14:29:19.699000, units = pips, instrument = <class 'mosaicsmartdata.core.instrument.FXSwap'> :  sym = GBP1Y=, ccy = ('GBP', 'USD'), legs = [<mosaicsmartdata.core.instrument.FXForward object at 0x00000238FAFE9B00>, <mosaicsmartdata.core.instrument.FXForward object at 0x00000238FAFE9D68>], venue = None, holidayCities = None, tenor = 1Y, settle_date = 2017-06-28, maturity_date = 2018-06-28\n",
      "1700000 <class 'mosaicsmartdata.core.quote.Quote'> :  duration = None, sym = GBP1Y=, ask = 143.3, bid = 140.3, timestamp = 2017-06-29 10:10:03.550000, units = pips, instrument = <class 'mosaicsmartdata.core.instrument.FXSwap'> :  sym = GBP1Y=, ccy = ('GBP', 'USD'), legs = [<mosaicsmartdata.core.instrument.FXForward object at 0x00000238FD830710>, <mosaicsmartdata.core.instrument.FXForward object at 0x00000238FD830978>], venue = None, holidayCities = None, tenor = 1Y, settle_date = 2017-07-03, maturity_date = 2018-07-03\n",
      "1764704 <class 'mosaicsmartdata.core.quote.Quote'> :  duration = None, sym = GBP1Y=, ask = 143.85, bid = 141.98, timestamp = 2017-06-30 23:56:25.002000, units = pips, instrument = <class 'mosaicsmartdata.core.instrument.FXSwap'> :  sym = GBP1Y=, ccy = ('GBP', 'USD'), legs = [<mosaicsmartdata.core.instrument.FXForward object at 0x00000238FE25F2B0>, <mosaicsmartdata.core.instrument.FXForward object at 0x00000238FE25F5F8>], venue = None, holidayCities = None, tenor = 1Y, settle_date = 2017-07-05, maturity_date = 2018-07-05\n",
      "15 dict_keys(['EUR6M=', 'EUR3M=', 'JPY1M=', 'EUR1Y=', 'GBP6M=', 'EUR1M=', 'GBP3M=', 'GBP1M=', 'JPY1Y=', 'JPYSW=', 'GBP1Y=', 'JPY3M=', 'EURSW=', 'GBPSW=', 'JPY6M='])\n"
     ]
    }
   ],
   "source": [
    "# try:\n",
    "#     with open('data.pickle', 'rb') as f:\n",
    "#         # Pickle the 'data' dictionary using the highest protocol available.\n",
    "#         quote_dict = pickle.load(f)\n",
    "# except:\n",
    "if True:\n",
    "    file_path ='../resources/fx/'\n",
    "    filenames = ['OIS-N156898469.csv','EUR_JPY_GBP_till_SN.csv','EUR_JPY_GBP_from_SW_till_1Y.csv']\n",
    "    quote_dict_0 = qc_csv_helper.get_ric_quotes(file_path+filenames[0])\n",
    "    print(len(quote_dict_0), quote_dict_0.keys())\n",
    "    quote_dict_1 = qc_csv_helper.get_ric_quotes(file_path+filenames[1])\n",
    "    print(len(quote_dict_1), quote_dict_1.keys())\n",
    "    quote_dict_2 = qc_csv_helper.get_ric_quotes(file_path+filenames[2])\n",
    "    print(len(quote_dict_2), quote_dict_2.keys())\n",
    "    quote_dict = dict(quote_dict_0,**quote_dict_1)\n",
    "    quote_dict = dict(quote_dict,**quote_dict_2)\n",
    "    with open('data.pickle', 'wb') as f:\n",
    "        pickle.dump(quote_dict, f)"
   ]
  },
  {
   "cell_type": "code",
   "execution_count": 3,
   "metadata": {},
   "outputs": [
    {
     "data": {
      "text/plain": [
       "datetime.date(2017, 6, 28)"
      ]
     },
     "execution_count": 3,
     "metadata": {},
     "output_type": "execute_result"
    }
   ],
   "source": [
    "quote_dict['EURSN='][0].instrument.settle_date"
   ]
  },
  {
   "cell_type": "code",
   "execution_count": 4,
   "metadata": {},
   "outputs": [
    {
     "name": "stdout",
     "output_type": "stream",
     "text": [
      "<class 'mosaicsmartdata.core.instrument.FXForward'> :  isDeliverable = True, static = Instrument static singleton facade, sym = EUR=, ccy = ('EUR', 'USD'), notionals = (100, -111.97999999999999), date_calc = <mosaicsmartdata.core.date_calculator.DateCalculator object at 0x00000238A08E59B0>, settle_date = 2017-06-28, pip_size = 0.0001, venue = None, holidayCities = None, tenor = SPOT, maturity_date = 2017-06-28\n",
      "*****\n",
      "<class 'mosaicsmartdata.core.trade.FXForwardTrade'> :  orig_package_size = None, trader = None, notional = None, factor_risk = None, paper_trade = False, delta = 1.0, timestamp = 2017-06-26 00:02:26.995000, trade_rc = None, sales = None, traded_px = 1.1198, package = None, adj_traded_px = None, trade_id = 12345, instrument = <class 'mosaicsmartdata.core.instrument.FXForward'> :  isDeliverable = True, static = Instrument static singleton facade, sym = EUR=, ccy = ('EUR', 'USD'), notionals = (100, -111.97999999999999), date_calc = <mosaicsmartdata.core.date_calculator.DateCalculator object at 0x00000238A08E59B0>, settle_date = 2017-06-28, pip_size = 0.0001, venue = None, holidayCities = None, tenor = SPOT, maturity_date = 2017-06-28, trade_date = None, leg_no = None, package_id = 12345, trade_settle_date = None, side = None, source_trade_id = None, client_sys_key = None\n",
      "*******\n",
      "<class 'mosaicsmartdata.core.quote.Quote'> :  duration = None, sym = EUR=, ask = 1.1199, bid = 1.1198, timestamp = 2017-06-26 00:02:26.995000, units = outright, instrument = <class 'mosaicsmartdata.core.instrument.FXForward'> :  isDeliverable = True, static = Instrument static singleton facade, sym = EUR=, ccy = ('EUR', 'USD'), notionals = None, date_calc = <mosaicsmartdata.core.date_calculator.DateCalculator object at 0x00000238A0AC8EF0>, settle_date = 2017-06-28, pip_size = 0.0001, venue = None, holidayCities = None, tenor = SPOT, maturity_date = 2017-06-28\n"
     ]
    }
   ],
   "source": [
    "# create a trade\n",
    "from mosaicsmartdata.core.instrument_utils import sym_to_instrument\n",
    "from mosaicsmartdata.core.trade import Trade, FXForwardTrade\n",
    "\n",
    "#spot_quotes = [quotes for sym, quotes in quote_dict.items() if len(sym)==4]\n",
    "my_quote = quote_dict['EUR='][100]\n",
    "my_instr = sym_to_instrument()(my_quote.sym, my_quote.timestamp.date())\n",
    "my_instr.notionals = (100, -100*my_quote.bid)\n",
    "print(my_instr)\n",
    "print('*****')\n",
    "my_trade = FXForwardTrade(my_instr, \n",
    "                          trade_id = '12345',\n",
    "                        timestamp = my_quote.timestamp)\n",
    "print(my_trade)\n",
    "print('*******')\n",
    "print(my_quote)"
   ]
  },
  {
   "cell_type": "code",
   "execution_count": 5,
   "metadata": {
    "collapsed": true
   },
   "outputs": [],
   "source": [
    "from aiostreams import run\n",
    "import aiostreams.operators as op\n",
    "from mosaicsmartdata.core.markout import MarkoutCalculator\n",
    "import logging"
   ]
  },
  {
   "cell_type": "code",
   "execution_count": 6,
   "metadata": {
    "scrolled": false
   },
   "outputs": [
    {
     "name": "stdout",
     "output_type": "stream",
     "text": [
      " dt:-10 final_price:1.1199 hedged_bps:None hedged_cents:None hedged_price:None initial_price:1.1198 next_timestamp:2017-06-26 00:02:16.995000 package:None PV:9.999999999998899e-05 price:9.999999999998899e-05 timestamp:2017-06-26 00:02:26.995000 package_id:12345 trade_id:12345 sym:EUR= timestamp:26/06/2017 00:02:26 delta:1.0 paper_trade:False client_sys_key:None notional:None trade_maturity_date:28/06/2017 traded_px:1.1198 ccy:('EUR', 'USD')\n",
      " dt:0 final_price:1.11985 hedged_bps:None hedged_cents:None hedged_price:None initial_price:1.1198 next_timestamp:2017-06-26 00:02:26.995000 package:None PV:5.0000000000105516e-05 price:5.0000000000105516e-05 timestamp:2017-06-26 00:02:27.165000 package_id:12345 trade_id:12345 sym:EUR= timestamp:26/06/2017 00:02:26 delta:1.0 paper_trade:False client_sys_key:None notional:None trade_maturity_date:28/06/2017 traded_px:1.1198 ccy:('EUR', 'USD')\n",
      " dt:10 final_price:1.11985 hedged_bps:None hedged_cents:None hedged_price:None initial_price:1.1198 next_timestamp:2017-06-26 00:02:36.995000 package:None PV:5.0000000000105516e-05 price:5.0000000000105516e-05 timestamp:2017-06-26 00:02:37.244000 package_id:12345 trade_id:12345 sym:EUR= timestamp:26/06/2017 00:02:26 delta:1.0 paper_trade:False client_sys_key:None notional:None trade_maturity_date:28/06/2017 traded_px:1.1198 ccy:('EUR', 'USD')\n",
      " dt:100 final_price:1.12 hedged_bps:None hedged_cents:None hedged_price:None initial_price:1.1198 next_timestamp:2017-06-26 00:04:06.995000 package:None PV:0.00020000000000020002 price:0.00020000000000020002 timestamp:2017-06-26 00:04:07.082000 package_id:12345 trade_id:12345 sym:EUR= timestamp:26/06/2017 00:02:26 delta:1.0 paper_trade:False client_sys_key:None notional:None trade_maturity_date:28/06/2017 traded_px:1.1198 ccy:('EUR', 'USD')\n"
     ]
    }
   ],
   "source": [
    "# run markouts based on simple instrument ID, with no pricing context\n",
    "# logging.getLogger().setLevel('INFO')\n",
    "# logging.info('starting command line test...')\n",
    "\n",
    "# run the markout calc\n",
    "trades = [my_trade]\n",
    "quotes = quote_dict['EUR=']\n",
    "stream = op.merge_sorted([quotes[:1000], trades], lambda x: x.timestamp) \\\n",
    "            | op.flat_map_by_group(lambda x: x.sym, MarkoutCalculator([-10, 0, 10, 100]))\\\n",
    "            > print\n",
    "        \n",
    "run(stream)"
   ]
  },
  {
   "cell_type": "code",
   "execution_count": 7,
   "metadata": {},
   "outputs": [
    {
     "name": "stdout",
     "output_type": "stream",
     "text": [
      "553108 591602\n",
      "<class 'mosaicsmartdata.core.instrument.FXForward'> :  isDeliverable = True, static = Instrument static singleton facade, sym = EURJPY=, ccy = ('EUR', 'JPY'), notionals = (100, -12459.4511), date_calc = <mosaicsmartdata.core.date_calculator.DateCalculator object at 0x0000023905555E80>, settle_date = 2017-06-28, pip_size = 0.0001, venue = None, holidayCities = None, tenor = SPOT, maturity_date = 2017-06-28\n",
      "*****\n",
      "2017-06-26 00:00:53.188000\n"
     ]
    }
   ],
   "source": [
    "# run markouts using PricingContext\n",
    "# run the markout calc\n",
    "\n",
    "quotes_eur = quote_dict['EUR=']\n",
    "quotes_jpy = quote_dict['JPY=']\n",
    "print(len(quotes_jpy),len(quotes_eur))\n",
    "quotes_all = op.merge_sorted([quotes_eur[:1000],quotes_jpy[:1000]], lambda x: x.timestamp) > []\n",
    "             #|\\op.map(lambda x: (x.sym, x.timestamp)) > \n",
    "run(quotes_all)\n",
    "\n",
    "my_quote = quotes_all.sink[100]\n",
    "my_instr_2 = sym_to_instrument()('EURJPY=', my_quote.timestamp.date())\n",
    "my_instr_2.notionals = (100, -100*124.594511) # just picked a random quote\n",
    "print(my_instr_2) \n",
    "print('*****')\n",
    "my_trade_2 = FXForwardTrade(my_instr_2, \n",
    "                          trade_id = '12346',\n",
    "                        timestamp = my_quote.timestamp)\n",
    "print(my_trade_2.timestamp)\n"
   ]
  },
  {
   "cell_type": "code",
   "execution_count": 8,
   "metadata": {},
   "outputs": [
    {
     "name": "stderr",
     "output_type": "stream",
     "text": [
      "'list' object has no attribute 'timestamp'\n",
      "Traceback (most recent call last):\n",
      "  File \"../../quant_container/src\\aiostreams\\runner.py\", line 161, in check_tasks\n",
      "    t.result()\n",
      "  File \"C:\\Users\\egork\\Anaconda3\\envs\\py35\\lib\\asyncio\\futures.py\", line 293, in result\n",
      "    raise self._exception\n",
      "  File \"C:\\Users\\egork\\Anaconda3\\envs\\py35\\lib\\asyncio\\tasks.py\", line 239, in _step\n",
      "    result = coro.send(None)\n",
      "  File \"../../quant_container/src\\aiostreams\\runner.py\", line 58, in coro\n",
      "    async for msg in self.source:\n",
      "  File \"../../quant_container/src\\aiostreams\\operators\\map.py\", line 12, in __anext__\n",
      "    val = await self.aiter.__anext__()\n",
      "  File \"../../quant_container/src\\aiostreams\\operators\\flatten.py\", line 18, in __anext__\n",
      "    self.latest = await self.aiter.__anext__()\n",
      "  File \"../../quant_container/src\\aiostreams\\operators\\map.py\", line 12, in __anext__\n",
      "    val = await self.aiter.__anext__()\n",
      "  File \"../../quant_container/src\\aiostreams\\operators\\merge_sorted.py\", line 56, in __anext__\n",
      "    testval = self.sort_by(self.lastvals[ind])\n",
      "  File \"<ipython-input-8-3fbe8a154896>\", line 8, in <lambda>\n",
      "    stream = op.merge_sorted([trades,prices], lambda x:x.timestamp)        | op.flat_map(MarkoutCalculator([-10,0, 10, 100])) | op.map(lambda x:str(x))        > []\n",
      "AttributeError: 'list' object has no attribute 'timestamp'\n"
     ]
    },
    {
     "data": {
      "text/plain": [
       "[]"
      ]
     },
     "execution_count": 8,
     "metadata": {},
     "output_type": "execute_result"
    }
   ],
   "source": [
    "#markouts using PricingContext\n",
    "trades = [my_trade]\n",
    "quotes_2 = quotes_all.sink\n",
    "#print([quote.sym for quote in quotes_2][:100])\n",
    "\n",
    "prices =  quotes_2 | op.map(FXPricingContextGenerator()) \n",
    "#stream = prices | op.map(lambda x: x.timestamp) > print\n",
    "stream = op.merge_sorted([trades,prices], lambda x:x.timestamp)\\\n",
    "        | op.flat_map(MarkoutCalculator([-10,0, 10, 100])) | op.map(lambda x:str(x))\\\n",
    "        > []\n",
    "run(stream)       \n",
    "\n",
    "stream.sink"
   ]
  },
  {
   "cell_type": "code",
   "execution_count": 9,
   "metadata": {},
   "outputs": [
    {
     "name": "stdout",
     "output_type": "stream",
     "text": [
      "[('EUR6M=', 110.79, ('EUR', 'USD')), ('EUR3M=', 54.91, ('EUR', 'USD')), ('JPY=', 111.22, ('USD', 'JPY')), ('EURON=', 0.525, ('EUR', 'USD')), ('GBPTN=', 0.385, ('GBP', 'USD')), ('GBPON=', 0.352, ('GBP', 'USD')), ('GBP=', 1.2744, ('GBP', 'USD')), ('JPYON=', -0.47, ('USD', 'JPY')), ('JPY1Y=', -202.86, ('USD', 'JPY')), ('EURTN=', 0.51, ('EUR', 'USD')), ('GBP1Y=', 141.19, ('GBP', 'USD')), ('EUR=', 1.1198, ('EUR', 'USD')), ('USD3MOIS=', 1.148, 'USD'), ('JPYTN=', -0.481, ('USD', 'JPY')), ('JPYSW=', -5.7, ('USD', 'JPY')), ('GBPSW=', 4.53, ('GBP', 'USD')), ('EUR1Y=', 230.8, ('EUR', 'USD')), ('USD1MOIS=', 1.141, 'USD'), ('GBP6M=', 70.3, ('GBP', 'USD')), ('USD6MOIS=', 1.175, 'USD'), ('JPYSN=', -0.466, ('USD', 'JPY')), ('JPY1M=', -16.39, ('USD', 'JPY')), ('USDSWOIS=', 1.11, 'USD'), ('GBPSN=', 0.387, ('GBP', 'USD')), ('EURSN=', 0.54, ('EUR', 'USD')), ('EUR1M=', 19.11, ('EUR', 'USD')), ('JPY6M=', -93.41, ('USD', 'JPY')), ('USD1YOIS=', 1.24, 'USD'), ('EURSW=', 5.84, ('EUR', 'USD')), ('GBP3M=', 36.12, ('GBP', 'USD')), ('GBP1M=', 13.74, ('GBP', 'USD')), ('JPY3M=', -45.71, ('USD', 'JPY'))]\n"
     ]
    }
   ],
   "source": [
    "# extract just the first quote from every stream\n",
    "tiny_quote_dict = {key:[quotes[0]] for key, quotes in quote_dict.items()}\n",
    "print([(key,quotes[0].bid, quotes[0].instrument.ccy) for key, quotes in tiny_quote_dict.items()])\n",
    "with open('../resources/fx/data.pickle', 'wb') as f:\n",
    "        pickle.dump(tiny_quote_dict, f)\n"
   ]
  },
  {
   "cell_type": "code",
   "execution_count": 10,
   "metadata": {},
   "outputs": [
    {
     "data": {
      "text/plain": [
       "False"
      ]
     },
     "execution_count": 10,
     "metadata": {},
     "output_type": "execute_result"
    }
   ],
   "source": [
    "import datetime\n",
    "a = datetime.date(2107,1,1)\n",
    "b = datetime.date(2107,1,2)\n",
    "from mosaicsmartdata.common.quantlib.bond.fixed_bond import pydate_to_qldate\n",
    "pydate_to_qldate(b)< pydate_to_qldate(a)\n"
   ]
  },
  {
   "cell_type": "code",
   "execution_count": 15,
   "metadata": {
    "scrolled": true
   },
   "outputs": [
    {
     "name": "stdout",
     "output_type": "stream",
     "text": [
      "['EUR6M=', 'EUR3M=', 'JPY=', 'EURON=', 'GBPTN=', 'GBPON=', 'GBP=', 'JPYON=', 'JPY1Y=', 'EURTN=', 'GBP1Y=', 'EUR=', 'JPY3M=', 'JPY1M=', 'JPYTN=', 'GBPSW=', 'EUR1Y=', 'USD1MOIS=', 'GBP6M=', 'USD6MOIS=', 'JPYSN=', 'USD3MOIS=', 'USDSWOIS=', 'GBPSN=', 'EURSN=', 'EUR1M=', 'JPY6M=', 'USD1YOIS=', 'EURSW=', 'GBP3M=', 'GBP1M=', 'JPYSW=']\n"
     ]
    },
    {
     "data": {
      "text/plain": [
       "{'EUR': <mosaicsmartdata.common.quantlib.curve.usdois.USDOIS at 0x23916a5a358>,\n",
       " 'GBP': <mosaicsmartdata.common.quantlib.curve.usdois.USDOIS at 0x23929d2beb8>,\n",
       " 'JPY': <mosaicsmartdata.common.quantlib.curve.usdois.USDOIS at 0x23916a5af28>,\n",
       " 'USD': <mosaicsmartdata.common.quantlib.curve.usdois.USDOIS at 0x23892ff7e10>}"
      ]
     },
     "execution_count": 15,
     "metadata": {},
     "output_type": "execute_result"
    }
   ],
   "source": [
    "with open('../resources/fx/data.pickle', 'rb') as f:\n",
    "        tiny_quote_dict = pickle.load(f)\n",
    "\n",
    "        \n",
    "tiny_quotes_list = [quotes for key, quotes in tiny_quote_dict.items()]\n",
    "print([q[0].instrument.sym for q in tiny_quotes_list])\n",
    "stream = op.merge_sorted(tiny_quotes_list, lambda x: x.timestamp) |\\\n",
    "            op.flat_map(FXPricingContextGenerator()) > []\n",
    "run(stream)\n",
    "c = stream.sink[-1]\n",
    "c.curve"
   ]
  },
  {
   "cell_type": "code",
   "execution_count": 12,
   "metadata": {},
   "outputs": [
    {
     "data": {
      "text/plain": [
       "3"
      ]
     },
     "execution_count": 12,
     "metadata": {},
     "output_type": "execute_result"
    }
   ],
   "source": [
    "\n",
    "a = 2\n",
    "b = 3\n",
    "a,b = b,a\n",
    "a"
   ]
  }
 ],
 "metadata": {
  "anaconda-cloud": {},
  "kernelspec": {
   "display_name": "Python [conda env:py35]",
   "language": "python",
   "name": "conda-env-py35-py"
  },
  "language_info": {
   "codemirror_mode": {
    "name": "ipython",
    "version": 3
   },
   "file_extension": ".py",
   "mimetype": "text/x-python",
   "name": "python",
   "nbconvert_exporter": "python",
   "pygments_lexer": "ipython3",
   "version": "3.5.3"
  }
 },
 "nbformat": 4,
 "nbformat_minor": 1
}
