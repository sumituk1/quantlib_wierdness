{
 "cells": [
  {
   "cell_type": "code",
   "execution_count": null,
   "metadata": {
    "collapsed": true
   },
   "outputs": [],
   "source": [
    "# require at least Python 3.5 for async/await to work\n",
    "import sys\n",
    "ver=sys.version_info\n",
    "assert (ver[0]>=3 and ver[1]>=5)\n",
    "sys.path.append('../aiostreams')\n",
    "sys.path.append('../../msq-domain')\n",
    "\n",
    "import aiostreams.operators.operators as op\n",
    "from aiostreams.base import to_async_iterable"
   ]
  },
  {
   "cell_type": "code",
   "execution_count": 2,
   "metadata": {
    "collapsed": true
   },
   "outputs": [],
   "source": [
    "import copy\n",
    "\n",
    "class Hedger :\n",
    "    '''\n",
    "    A basic hedge trade generator\n",
    "    After each trade, returns a list containing the trade plus the hedge trades, \n",
    "    if any; after each quote returns an empty list\n",
    "    so should be followed by a flattener.\n",
    "    The hedge trades returned should have hedge.parent_id = trade.trade_id\n",
    "    and hedge.paper_trade = True.\n",
    "    It assumes all messages arrrive in strict timestamp order\n",
    "    '''\n",
    "    def __init__(self, hedge_calculator):\n",
    "        self.hedge_calculator = hedge_calculator\n",
    "        self.last_quotes = {}\n",
    "\n",
    "    def __call__(self, msg):\n",
    "        if isinstance(msg, Quote):\n",
    "            # store the latest quote for each instrument; \n",
    "            # make a copy just in case the msg object gets modififed downstream\n",
    "            self.last_quotes[msg.sym] = copy.deepcopy(msg)\n",
    "            \n",
    "            return []\n",
    "\n",
    "        elif isinstance(msg, Trade):\n",
    "            hedges = self.hedge_calculator(msg, self.last_quotes)\n",
    "            \n",
    "            return hedges + [msg]\n",
    "        \n",
    "        else:\n",
    "            raise ValueError('Message must be a subclass of either Quote or Trade!')\n"
   ]
  },
  {
   "cell_type": "code",
   "execution_count": 3,
   "metadata": {
    "collapsed": false
   },
   "outputs": [
    {
     "ename": "SyntaxError",
     "evalue": "invalid syntax (<ipython-input-3-58c6880be26f>, line 10)",
     "output_type": "error",
     "traceback": [
      "\u001b[0;36m  File \u001b[0;32m\"<ipython-input-3-58c6880be26f>\"\u001b[0;36m, line \u001b[0;32m10\u001b[0m\n\u001b[0;31m    def my_hedge_calculator(msg, lastquotes)\u001b[0m\n\u001b[0m                                            ^\u001b[0m\n\u001b[0;31mSyntaxError\u001b[0m\u001b[0;31m:\u001b[0m invalid syntax\n"
     ]
    }
   ],
   "source": [
    "#example use\n",
    "topic1 = 'bund_trades'\n",
    "topic2 = 'bund_quotes'\n",
    "topic3 = 'hedge_quotes'   \n",
    "    \n",
    "src1= AsyncKafkaSource(topic1, kafka_host)\n",
    "\n",
    "src=merge_sorted([src1, src2, src3])\n",
    "\n",
    "def my_hedge_calculator(msg, lastquotes):\n",
    "    return []\n",
    "\n",
    "a = []\n",
    "src | op.map(Hedger(my_hedge_calculator)) | op.flatten > a\n",
    "print a"
   ]
  },
  {
   "cell_type": "code",
   "execution_count": null,
   "metadata": {
    "collapsed": true
   },
   "outputs": [],
   "source": []
  }
 ],
 "metadata": {
  "kernelspec": {
   "display_name": "Python [conda env:py35]",
   "language": "python",
   "name": "conda-env-py35-py"
  },
  "language_info": {
   "codemirror_mode": {
    "name": "ipython",
    "version": 3
   },
   "file_extension": ".py",
   "mimetype": "text/x-python",
   "name": "python",
   "nbconvert_exporter": "python",
   "pygments_lexer": "ipython3",
   "version": "3.5.2"
  }
 },
 "nbformat": 4,
 "nbformat_minor": 1
}
