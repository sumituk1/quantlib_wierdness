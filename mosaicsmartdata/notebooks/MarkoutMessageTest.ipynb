{
 "cells": [
  {
   "cell_type": "code",
   "execution_count": 1,
   "metadata": {
    "collapsed": false
   },
   "outputs": [
    {
     "name": "stdout",
     "output_type": "stream",
     "text": [
      "Didn't find Quantlib, so can't define Frequency.getQLFrequency\n"
     ]
    }
   ],
   "source": [
    "# require at least Python 3.5 for async/await to work\n",
    "import sys\n",
    "ver=sys.version_info\n",
    "assert (ver[0]>=3 and ver[1]>=5)\n",
    "sys.path.append('../aiostreams')\n",
    "sys.path.append('../../')\n",
    "\n",
    "#import aiostreams.operators.operators as op\n",
    "#from aiostreams.base import to_async_iterable\n",
    "#import csv\n",
    "from mosaicsmartdata.core.trade import Quote, Trade, FixedIncomeTrade\n",
    "from mosaicsmartdata.core.markout_msg import MarkoutMessage2"
   ]
  },
  {
   "cell_type": "code",
   "execution_count": 2,
   "metadata": {
    "collapsed": false
   },
   "outputs": [
    {
     "data": {
      "text/plain": [
       "1.5"
      ]
     },
     "execution_count": 2,
     "metadata": {},
     "output_type": "execute_result"
    }
   ],
   "source": [
    "q=Quote(bid=1, ask = 2)\n",
    "q.mid"
   ]
  },
  {
   "cell_type": "code",
   "execution_count": 6,
   "metadata": {
    "collapsed": false
   },
   "outputs": [
    {
     "name": "stdout",
     "output_type": "stream",
     "text": [
      "5.0 100.0 0.01\n"
     ]
    }
   ],
   "source": [
    "t = FixedIncomeTrade(trade_id =1, duration = 20, notional = 5)\n",
    "msg = MarkoutMessage2(trade = t, price_markout = 1)\n",
    "\n",
    "print(msg.bps_markout, msg.cents_markout, msg.PV_markout)"
   ]
  }
 ],
 "metadata": {
  "anaconda-cloud": {},
  "kernelspec": {
   "display_name": "Python [conda env:py35]",
   "language": "python",
   "name": "conda-env-py35-py"
  },
  "language_info": {
   "codemirror_mode": {
    "name": "ipython",
    "version": 3
   },
   "file_extension": ".py",
   "mimetype": "text/x-python",
   "name": "python",
   "nbconvert_exporter": "python",
   "pygments_lexer": "ipython3",
   "version": "3.5.2"
  }
 },
 "nbformat": 4,
 "nbformat_minor": 1
}
