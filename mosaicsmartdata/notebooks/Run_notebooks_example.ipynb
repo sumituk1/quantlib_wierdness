{
 "cells": [
  {
   "cell_type": "markdown",
   "metadata": {},
   "source": [
    "Introduction to nbconvert is at http://tritemio.github.io/smbits/2016/01/02/execute-notebooks/\n",
    "\n",
    "Full docs at https://nbconvert.readthedocs.io/en/latest/\n",
    "\n",
    "To list available kernels, run `jupyter kernelspec list` from command line"
   ]
  },
  {
   "cell_type": "code",
   "execution_count": 4,
   "metadata": {
    "collapsed": false
   },
   "outputs": [],
   "source": [
    "import nbformat\n",
    "from nbconvert.preprocessors import ExecutePreprocessor\n",
    "from nbconvert.preprocessors.execute import CellExecutionError\n",
    "\n",
    "nb = nbformat.read(open('../notebooks/Test_run.ipynb'), as_version=4)\n",
    "ep = ExecutePreprocessor(timeout=600, kernel_name = 'python3')\n",
    "\n",
    "try:\n",
    "    out = ep.preprocess(nb, {'metadata': {'path': '../notebooks'}})\n",
    "except CellExecutionError:\n",
    "    msg = 'Error executing the notebook \"%s\".\\n\\n'\n",
    "    msg += 'See notebook \"%s\" for the traceback.'\n",
    "    print(msg)\n",
    "    raise\n",
    "finally:\n",
    "    nbformat.write(nb, open('../notebooks/Test_run_result.ipynb', mode='wt'))"
   ]
  }
 ],
 "metadata": {
  "anaconda-cloud": {},
  "kernelspec": {
   "display_name": "Python [conda env:py35]",
   "language": "python",
   "name": "conda-env-py35-py"
  },
  "language_info": {
   "codemirror_mode": {
    "name": "ipython",
    "version": 3
   },
   "file_extension": ".py",
   "mimetype": "text/x-python",
   "name": "python",
   "nbconvert_exporter": "python",
   "pygments_lexer": "ipython3",
   "version": "3.5.2"
  }
 },
 "nbformat": 4,
 "nbformat_minor": 1
}
