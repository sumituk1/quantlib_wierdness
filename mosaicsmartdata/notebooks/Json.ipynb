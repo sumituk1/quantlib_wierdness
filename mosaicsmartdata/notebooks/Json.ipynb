{
 "cells": [
  {
   "cell_type": "code",
   "execution_count": 16,
   "metadata": {
    "collapsed": false
   },
   "outputs": [
    {
     "name": "stdout",
     "output_type": "stream",
     "text": [
      "X(marketDataSnapshotFullRefreshList=[X(timestamp=1485941760000, symbol='912810RB6', marketDataEntryList=[X(quoteEntryId='quoteEntryId101', entryType='BID', settlementCurrencyCode='USD', currencyCode='USD', entryPx='1.12445', entrySize='1000000', entryId='entryId101'), X(quoteEntryId='quoteEntryId102', entryType='MID', settlementCurrencyCode='USD', currencyCode='USD', entryPx='1.12345', entrySize='1000000', entryId='entryId102'), X(quoteEntryId='quoteEntryId103', entryType='OFFER', settlementCurrencyCode='USD', currencyCode='USD', entryPx='1.12445', entrySize='1000000', entryId='entryId103'), X(quoteEntryId='quoteEntryId201', entryType='BID', settlementCurrencyCode='USD', currencyCode='USD', entryPx='1.12445', entrySize='1000000', entryId='entryId201'), X(quoteEntryId='quoteEntryId202', entryType='MID', settlementCurrencyCode='USD', currencyCode='USD', entryPx='1.12345', entrySize='1000000', entryId='entryId202'), X(quoteEntryId='quoteEntryId203', entryType='OFFER', settlementCurrencyCode='USD', currencyCode='USD', entryPx='1.12445', entrySize='1000000', entryId='entryId203')], securityId='CUSIP')])\n",
      "*****\n",
      "quoteEntryId101\n",
      "*****\n",
      "X(negotiationBundleFactItem=X(dealerEntityDimensionItem=X(countryDimensionItem=X(isoCode='UK', subRegion='Europe', name='United Kingdom', region='EMEA'), lei='ABC', legalName='ABC Industries', industryDimensionItem=X(activity='dummyActivity', industryGroup='dummyIndustryGroup', economicSector='dummyEconomicSector', hierarchicalCode='dummyHierarchicalCode', industry='dummyIndustry', businessSector='dummyBusinessSector', description='dummyDescription'), effectiveDateEpoch=123456), negotiationOutcomeDimensionItem=X(negotiationOutcome='Traded', description='whatever'), venueDimensionItem=X(status='ACTIVE', segmentMic='seg', name='BBGUST', countryDimensionItem=X(isoCode='UK', subRegion='Europe', name='United Kingdom', region='EMEA'), operatingMic='op'), negotiationId='8479e937-f600-4f9b-bb20-71860607f631', negotiationOutcomeDetailDimensionItem=X(negotiationOutcomeDetail='No Quote', description='no quote'), dateDimensionItem=X(localDate='2016-09-02', dateTimeEpochUTC=17046), zoneDimensionItem=X(countryDimensionItem=X(isoCode='UK', subRegion='Europe', name='United Kingdom', region='EMEA'), zoneId='Europe/London', description='Europe/London'), negotiationModelTypeDimensionItem=X(negotiationModelType='Request Dealer Last Look', description='rfq'), timeDimensionItem=X(hour=13, minute=14, second=15), clientPricingGroupDimensionItem=X(name='Tier1', group='GROUP_1', effectiveDateEpoch=123456), timestamp=1490698946950, dealerTraderDimensionItem=X(name='John Smith', id='trader1', effectiveDateEpoch=123456), timeToQuote=50, negotiationBundleFactItemLegs=[X(dealerPrice=1.35, dealerYield=2.46, modifiedDuration=12.34, coverPrice=9.87, tenor=123, dv01=30000, cashflowDirectionDimensionItem=X(cashflowDirection='+', description='description'), baseCurrencyDimensionItem=X(isoCode='USD', name='US Dollar'), coverYield=6.54, quantity=20000, tradePrice=1.23, quantityDv01=40000, tradeYield=4.56, currencyDimensionItem=X(isoCode='USD', name='US Dollar'), negotiationBundleFactItemLegMarkouts=[X(markoutPeriodDimensionItem=X(markoutPeriod=X(timeUnit='HOURS', value=2)), markoutPrice=X(priceType=X(priceType='UNHEDGED_INITIAL_EDGE'), value=0.12), evaluatedPricingSourceDimensionItem=X(evaluatedPricingSource='Internal', description='some source')), X(markoutPeriodDimensionItem=X(markoutPeriod=X(timeUnit='HOURS', value=1)), markoutPrice=X(priceType=X(priceType='UNHEDGED_INITIAL_EDGE'), value=0.13), evaluatedPricingSourceDimensionItem=X(evaluatedPricingSource='Internal', description='some source')), X(markoutPeriodDimensionItem=X(markoutPeriod=X(timeUnit='SECONDS', value=0)), markoutPrice=X(priceType=X(priceType='UNHEDGED_INITIAL_EDGE'), value=0.14), evaluatedPricingSourceDimensionItem=X(evaluatedPricingSource='Internal', description='some source')), X(markoutPeriodDimensionItem=X(markoutPeriod=X(timeUnit='HOURS', value=1)), markoutPrice=X(priceType=X(priceType='UNHEDGED_INITIAL_EDGE'), value=0.13), evaluatedPricingSourceDimensionItem=X(evaluatedPricingSource='Internal', description='some source'))], baseQuantity=10000, macaulayDuration=56.78, baseQuantityDv01=50000, instrumentDimensionItem=X(monthYear='01/12', issueDate='10/01/2001', primaryIdType='ISIN', maturityTime='00:00', issuer='Bank', name='TBILL', maturityDate='10/01/2020', couponUnit='unit', industryDimensionItem=X(activity='dummyActivity', industryGroup='dummyIndustryGroup', economicSector='dummyEconomicSector', hierarchicalCode='dummyHierarchicalCode', industry='dummyIndustry', businessSector='dummyBusinessSector', description='dummyDescription'), couponPeriod=1, currencyDimensionItem=X(isoCode='USD', name='US Dollar'), primaryId='TWEB-12345', issuerCountryDimensionItem=X(isoCode='UK', subRegion='Europe', name='United Kingdom', region='EMEA'), couponDayCount='1', productDimensionItem=X(fourthAttributeDescription='Fourth attribute', thirdAttributeDescription='Third attribute', fourthAttributeShortName='4th short', firstAttributeShortName='1st short', cfiCode='cfi', categoryCode='cat1', firstAttributeCode='fa1', fourthAttributeCode='fa4', groupCode='grp1', thirdAttributeShortName='3rd short', firstAttributeDescription='First attribute', secondAttributeLongName='2nd long', thirdAttributeCode='fa3', groupName='Group 1', firstAttributeLongName='1st long', secondAttributeShortName='2nd short', secondAttributeCode='fa2', secondAttributeDescription='Second attribute', categoryName='Category 1', thirdAttributeLongName='3rd long', fourthAttributeLongName='4th long'), couponRate=2.5, effectiveDateEpoch=16936))], clientEntityDimensionItem=X(countryDimensionItem=X(isoCode='UK', subRegion='Europe', name='United Kingdom', region='EMEA'), lei='XYZ', legalName='XYZ Industries', industryDimensionItem=X(activity='dummyActivity', industryGroup='dummyIndustryGroup', economicSector='dummyEconomicSector', hierarchicalCode='dummyHierarchicalCode', industry='dummyIndustry', businessSector='dummyBusinessSector', description='dummyDescription'), effectiveDateEpoch=123456), numberOfDealers=1, clientTraderDimensionItem=X(name='James Simpson', id='trader2', effectiveDateEpoch=123456), dealerSalespersonDimensionItem=X(name='Jack Jones', id='salesperson1', effectiveDateEpoch=123456), timeToTrade=45, quoteTypeDimensionItem=X(quoteType='One-Way', description='one way')))\n"
     ]
    }
   ],
   "source": [
    "# require at least Python 3.5 for async/await to work\n",
    "import sys\n",
    "ver=sys.version_info\n",
    "assert (ver[0]>=3 and ver[1]>=5)\n",
    "import json\n",
    "from collections import namedtuple\n",
    "\n",
    "sys.path.append('../../')\n",
    "\n",
    "\n",
    "\n",
    "with open('../resources/quote_message.json') as data_file:    \n",
    "    quote = json.load(data_file,object_hook=lambda d: namedtuple('X', d.keys())(*d.values()))\n",
    "\n",
    "print(quote)\n",
    "print('*****')\n",
    "print(quote.marketDataSnapshotFullRefreshList[0].marketDataEntryList[0].quoteEntryId)\n",
    "\n",
    "with open('../resources/trade_message.json') as data_file:    \n",
    "    trade = json.load(data_file,object_hook=lambda d: namedtuple('X', d.keys())(*d.values()))\n",
    "print('*****')\n",
    "print(trade)\n"
   ]
  }
 ],
 "metadata": {
  "kernelspec": {
   "display_name": "Python [conda env:py35]",
   "language": "python",
   "name": "conda-env-py35-py"
  },
  "language_info": {
   "codemirror_mode": {
    "name": "ipython",
    "version": 3
   },
   "file_extension": ".py",
   "mimetype": "text/x-python",
   "name": "python",
   "nbconvert_exporter": "python",
   "pygments_lexer": "ipython3",
   "version": "3.5.2"
  }
 },
 "nbformat": 4,
 "nbformat_minor": 1
}
